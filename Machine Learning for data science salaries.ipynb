{
 "cells": [
  {
   "cell_type": "markdown",
   "id": "65abb13a",
   "metadata": {},
   "source": [
    "## Machhine Learning for data science salaries"
   ]
  },
  {
   "cell_type": "markdown",
   "id": "666ec3f9",
   "metadata": {},
   "source": [
    "> With a good amount of EDA and data wrangling that have gone ahead of this  dataset, we will proceed to the ML stage and given that we do not a have a numerical feature in the independent Features for predicting the dependent Feature, we will be using a DecisionTreeRegressor or an ensemble model.\n",
    "\n",
    "> Let us go ahead with importing certain important libraries that would be used"
   ]
  },
  {
   "cell_type": "code",
   "execution_count": 189,
   "id": "0029a2b8",
   "metadata": {},
   "outputs": [],
   "source": [
    "from IPython.display import display"
   ]
  },
  {
   "cell_type": "code",
   "execution_count": 178,
   "id": "dc9952fb",
   "metadata": {},
   "outputs": [],
   "source": [
    "#Import libraries\n",
    "\n",
    "import pandas as pd\n",
    "import numpy as np\n",
    "\n",
    "import matplotlib.pyplot\n",
    "\n",
    "from sklearn.tree import DecisionTreeRegressor\n",
    "from sklearn.metrics import mean_absolute_error, r2_score\n",
    "from category_encoders import OrdinalEncoder\n",
    "from sklearn.pipeline import make_pipeline\n",
    "from sklearn.model_selection import GridSearchCV, train_test_split, cross_val_score\n",
    "\n",
    "from ipywidgets import interact, Dropdown, FloatSlider, IntSlider"
   ]
  },
  {
   "cell_type": "code",
   "execution_count": 6,
   "id": "971776cd",
   "metadata": {},
   "outputs": [
    {
     "data": {
      "text/html": [
       "<div>\n",
       "<style scoped>\n",
       "    .dataframe tbody tr th:only-of-type {\n",
       "        vertical-align: middle;\n",
       "    }\n",
       "\n",
       "    .dataframe tbody tr th {\n",
       "        vertical-align: top;\n",
       "    }\n",
       "\n",
       "    .dataframe thead th {\n",
       "        text-align: right;\n",
       "    }\n",
       "</style>\n",
       "<table border=\"1\" class=\"dataframe\">\n",
       "  <thead>\n",
       "    <tr style=\"text-align: right;\">\n",
       "      <th></th>\n",
       "      <th>work_year</th>\n",
       "      <th>experience_level</th>\n",
       "      <th>employment_type</th>\n",
       "      <th>job_title</th>\n",
       "      <th>salary_in_usd</th>\n",
       "      <th>employee_residence</th>\n",
       "      <th>remote_ratio</th>\n",
       "      <th>company_location</th>\n",
       "      <th>company_size</th>\n",
       "      <th>employee_residence_iso</th>\n",
       "      <th>company_location_iso</th>\n",
       "    </tr>\n",
       "  </thead>\n",
       "  <tbody>\n",
       "    <tr>\n",
       "      <th>0</th>\n",
       "      <td>2020-01-01</td>\n",
       "      <td>Mid-level</td>\n",
       "      <td>Full Time</td>\n",
       "      <td>Data Scientist</td>\n",
       "      <td>79833</td>\n",
       "      <td>Germany</td>\n",
       "      <td>&lt;20% Remote</td>\n",
       "      <td>Germany</td>\n",
       "      <td>Large</td>\n",
       "      <td>DEU</td>\n",
       "      <td>DEU</td>\n",
       "    </tr>\n",
       "    <tr>\n",
       "      <th>1</th>\n",
       "      <td>2020-01-01</td>\n",
       "      <td>Senior-level</td>\n",
       "      <td>Full Time</td>\n",
       "      <td>Machine Learning</td>\n",
       "      <td>260000</td>\n",
       "      <td>Japan</td>\n",
       "      <td>&lt;20% Remote</td>\n",
       "      <td>Japan</td>\n",
       "      <td>Small</td>\n",
       "      <td>JPN</td>\n",
       "      <td>JPN</td>\n",
       "    </tr>\n",
       "    <tr>\n",
       "      <th>2</th>\n",
       "      <td>2020-01-01</td>\n",
       "      <td>Senior-level</td>\n",
       "      <td>Full Time</td>\n",
       "      <td>Data Engineer</td>\n",
       "      <td>109024</td>\n",
       "      <td>United Kingdom</td>\n",
       "      <td>Partial Remote</td>\n",
       "      <td>United Kingdom</td>\n",
       "      <td>Medium</td>\n",
       "      <td>GBR</td>\n",
       "      <td>GBR</td>\n",
       "    </tr>\n",
       "    <tr>\n",
       "      <th>3</th>\n",
       "      <td>2020-01-01</td>\n",
       "      <td>Mid-level</td>\n",
       "      <td>Full Time</td>\n",
       "      <td>Data Analyst</td>\n",
       "      <td>20000</td>\n",
       "      <td>Honduras</td>\n",
       "      <td>&lt;20% Remote</td>\n",
       "      <td>Honduras</td>\n",
       "      <td>Small</td>\n",
       "      <td>HND</td>\n",
       "      <td>HND</td>\n",
       "    </tr>\n",
       "    <tr>\n",
       "      <th>4</th>\n",
       "      <td>2020-01-01</td>\n",
       "      <td>Senior-level</td>\n",
       "      <td>Full Time</td>\n",
       "      <td>Machine Learning</td>\n",
       "      <td>150000</td>\n",
       "      <td>United States</td>\n",
       "      <td>Partial Remote</td>\n",
       "      <td>United States</td>\n",
       "      <td>Large</td>\n",
       "      <td>USA</td>\n",
       "      <td>USA</td>\n",
       "    </tr>\n",
       "  </tbody>\n",
       "</table>\n",
       "</div>"
      ],
      "text/plain": [
       "    work_year experience_level employment_type         job_title  \\\n",
       "0  2020-01-01        Mid-level       Full Time    Data Scientist   \n",
       "1  2020-01-01     Senior-level       Full Time  Machine Learning   \n",
       "2  2020-01-01     Senior-level       Full Time     Data Engineer   \n",
       "3  2020-01-01        Mid-level       Full Time      Data Analyst   \n",
       "4  2020-01-01     Senior-level       Full Time  Machine Learning   \n",
       "\n",
       "   salary_in_usd employee_residence    remote_ratio company_location  \\\n",
       "0          79833            Germany     <20% Remote          Germany   \n",
       "1         260000              Japan     <20% Remote            Japan   \n",
       "2         109024     United Kingdom  Partial Remote   United Kingdom   \n",
       "3          20000           Honduras     <20% Remote         Honduras   \n",
       "4         150000      United States  Partial Remote    United States   \n",
       "\n",
       "  company_size employee_residence_iso company_location_iso  \n",
       "0        Large                    DEU                  DEU  \n",
       "1        Small                    JPN                  JPN  \n",
       "2       Medium                    GBR                  GBR  \n",
       "3        Small                    HND                  HND  \n",
       "4        Large                    USA                  USA  "
      ]
     },
     "execution_count": 6,
     "metadata": {},
     "output_type": "execute_result"
    }
   ],
   "source": [
    "#Load dataset\n",
    "\n",
    "df = pd.read_csv(\"ds_clean.csv\")\n",
    "df.head()"
   ]
  },
  {
   "cell_type": "code",
   "execution_count": 7,
   "id": "83c9c0b1",
   "metadata": {},
   "outputs": [
    {
     "name": "stdout",
     "output_type": "stream",
     "text": [
      "<class 'pandas.core.frame.DataFrame'>\n",
      "RangeIndex: 605 entries, 0 to 604\n",
      "Data columns (total 11 columns):\n",
      " #   Column                  Non-Null Count  Dtype \n",
      "---  ------                  --------------  ----- \n",
      " 0   work_year               605 non-null    object\n",
      " 1   experience_level        605 non-null    object\n",
      " 2   employment_type         605 non-null    object\n",
      " 3   job_title               605 non-null    object\n",
      " 4   salary_in_usd           605 non-null    int64 \n",
      " 5   employee_residence      605 non-null    object\n",
      " 6   remote_ratio            605 non-null    object\n",
      " 7   company_location        605 non-null    object\n",
      " 8   company_size            605 non-null    object\n",
      " 9   employee_residence_iso  605 non-null    object\n",
      " 10  company_location_iso    605 non-null    object\n",
      "dtypes: int64(1), object(10)\n",
      "memory usage: 52.1+ KB\n"
     ]
    }
   ],
   "source": [
    "#Do a general data inspection\n",
    "\n",
    "df.info()"
   ]
  },
  {
   "cell_type": "markdown",
   "id": "479ede24",
   "metadata": {},
   "source": [
    "Since we would be using a decision tree or an ensemble model of such, using ordinal encoding would not be a problem regardless of the natural object of such objects."
   ]
  },
  {
   "cell_type": "code",
   "execution_count": 9,
   "id": "4d1d96ab",
   "metadata": {},
   "outputs": [],
   "source": [
    "#Drop duplicate columns that do the same thing (employee_residence_iso and comapny_location_iso)\n",
    "\n",
    "df.drop(columns = [\"employee_residence_iso\", \"company_location_iso\"], inplace = True)"
   ]
  },
  {
   "cell_type": "code",
   "execution_count": 10,
   "id": "200e5cfa",
   "metadata": {},
   "outputs": [
    {
     "data": {
      "text/html": [
       "<div>\n",
       "<style scoped>\n",
       "    .dataframe tbody tr th:only-of-type {\n",
       "        vertical-align: middle;\n",
       "    }\n",
       "\n",
       "    .dataframe tbody tr th {\n",
       "        vertical-align: top;\n",
       "    }\n",
       "\n",
       "    .dataframe thead th {\n",
       "        text-align: right;\n",
       "    }\n",
       "</style>\n",
       "<table border=\"1\" class=\"dataframe\">\n",
       "  <thead>\n",
       "    <tr style=\"text-align: right;\">\n",
       "      <th></th>\n",
       "      <th>work_year</th>\n",
       "      <th>experience_level</th>\n",
       "      <th>employment_type</th>\n",
       "      <th>job_title</th>\n",
       "      <th>salary_in_usd</th>\n",
       "      <th>employee_residence</th>\n",
       "      <th>remote_ratio</th>\n",
       "      <th>company_location</th>\n",
       "      <th>company_size</th>\n",
       "    </tr>\n",
       "  </thead>\n",
       "  <tbody>\n",
       "    <tr>\n",
       "      <th>0</th>\n",
       "      <td>2020-01-01</td>\n",
       "      <td>Mid-level</td>\n",
       "      <td>Full Time</td>\n",
       "      <td>Data Scientist</td>\n",
       "      <td>79833</td>\n",
       "      <td>Germany</td>\n",
       "      <td>&lt;20% Remote</td>\n",
       "      <td>Germany</td>\n",
       "      <td>Large</td>\n",
       "    </tr>\n",
       "    <tr>\n",
       "      <th>1</th>\n",
       "      <td>2020-01-01</td>\n",
       "      <td>Senior-level</td>\n",
       "      <td>Full Time</td>\n",
       "      <td>Machine Learning</td>\n",
       "      <td>260000</td>\n",
       "      <td>Japan</td>\n",
       "      <td>&lt;20% Remote</td>\n",
       "      <td>Japan</td>\n",
       "      <td>Small</td>\n",
       "    </tr>\n",
       "    <tr>\n",
       "      <th>2</th>\n",
       "      <td>2020-01-01</td>\n",
       "      <td>Senior-level</td>\n",
       "      <td>Full Time</td>\n",
       "      <td>Data Engineer</td>\n",
       "      <td>109024</td>\n",
       "      <td>United Kingdom</td>\n",
       "      <td>Partial Remote</td>\n",
       "      <td>United Kingdom</td>\n",
       "      <td>Medium</td>\n",
       "    </tr>\n",
       "    <tr>\n",
       "      <th>3</th>\n",
       "      <td>2020-01-01</td>\n",
       "      <td>Mid-level</td>\n",
       "      <td>Full Time</td>\n",
       "      <td>Data Analyst</td>\n",
       "      <td>20000</td>\n",
       "      <td>Honduras</td>\n",
       "      <td>&lt;20% Remote</td>\n",
       "      <td>Honduras</td>\n",
       "      <td>Small</td>\n",
       "    </tr>\n",
       "    <tr>\n",
       "      <th>4</th>\n",
       "      <td>2020-01-01</td>\n",
       "      <td>Senior-level</td>\n",
       "      <td>Full Time</td>\n",
       "      <td>Machine Learning</td>\n",
       "      <td>150000</td>\n",
       "      <td>United States</td>\n",
       "      <td>Partial Remote</td>\n",
       "      <td>United States</td>\n",
       "      <td>Large</td>\n",
       "    </tr>\n",
       "  </tbody>\n",
       "</table>\n",
       "</div>"
      ],
      "text/plain": [
       "    work_year experience_level employment_type         job_title  \\\n",
       "0  2020-01-01        Mid-level       Full Time    Data Scientist   \n",
       "1  2020-01-01     Senior-level       Full Time  Machine Learning   \n",
       "2  2020-01-01     Senior-level       Full Time     Data Engineer   \n",
       "3  2020-01-01        Mid-level       Full Time      Data Analyst   \n",
       "4  2020-01-01     Senior-level       Full Time  Machine Learning   \n",
       "\n",
       "   salary_in_usd employee_residence    remote_ratio company_location  \\\n",
       "0          79833            Germany     <20% Remote          Germany   \n",
       "1         260000              Japan     <20% Remote            Japan   \n",
       "2         109024     United Kingdom  Partial Remote   United Kingdom   \n",
       "3          20000           Honduras     <20% Remote         Honduras   \n",
       "4         150000      United States  Partial Remote    United States   \n",
       "\n",
       "  company_size  \n",
       "0        Large  \n",
       "1        Small  \n",
       "2       Medium  \n",
       "3        Small  \n",
       "4        Large  "
      ]
     },
     "execution_count": 10,
     "metadata": {},
     "output_type": "execute_result"
    }
   ],
   "source": [
    "df.head()"
   ]
  },
  {
   "cell_type": "code",
   "execution_count": 14,
   "id": "96b8c9a7",
   "metadata": {},
   "outputs": [
    {
     "data": {
      "text/plain": [
       "array(['2020-01-01', '2021-01-01', '2022-01-01'], dtype=object)"
      ]
     },
     "execution_count": 14,
     "metadata": {},
     "output_type": "execute_result"
    }
   ],
   "source": [
    "df.work_year.unique()"
   ]
  },
  {
   "cell_type": "code",
   "execution_count": 16,
   "id": "debe70f6",
   "metadata": {},
   "outputs": [
    {
     "data": {
      "text/plain": [
       "0    2020\n",
       "1    2020\n",
       "2    2020\n",
       "3    2020\n",
       "4    2020\n",
       "Name: work_year, dtype: object"
      ]
     },
     "execution_count": 16,
     "metadata": {},
     "output_type": "execute_result"
    }
   ],
   "source": [
    "#Replace the year column for more meaningful labeling\n",
    "df[\"work_year\"] = df.work_year.str[0:4]\n",
    "df[\"work_year\"].head()"
   ]
  },
  {
   "cell_type": "code",
   "execution_count": 18,
   "id": "264f8212",
   "metadata": {},
   "outputs": [
    {
     "data": {
      "text/plain": [
       "work_year              3\n",
       "experience_level       4\n",
       "employment_type        4\n",
       "job_title              7\n",
       "employee_residence    57\n",
       "remote_ratio           3\n",
       "company_location      50\n",
       "company_size           3\n",
       "dtype: int64"
      ]
     },
     "execution_count": 18,
     "metadata": {},
     "output_type": "execute_result"
    }
   ],
   "source": [
    "#Check for high cardinality or low cardinality features\n",
    "\n",
    "df.drop(columns = \"salary_in_usd\").nunique()"
   ]
  },
  {
   "cell_type": "markdown",
   "id": "42c964ef",
   "metadata": {},
   "source": [
    "We should drop the employe_residence, as it might interfere with the model while we know that most of the time an employee residence is usually very related with the company location."
   ]
  },
  {
   "cell_type": "code",
   "execution_count": 21,
   "id": "94a6f636",
   "metadata": {},
   "outputs": [],
   "source": [
    "df.drop(columns = \"employee_residence\", inplace = True)"
   ]
  },
  {
   "cell_type": "code",
   "execution_count": 35,
   "id": "876f0d9d",
   "metadata": {},
   "outputs": [
    {
     "data": {
      "text/plain": [
       "United States     353\n",
       "Others             83\n",
       "United Kingdom     47\n",
       "Canada             30\n",
       "Germany            28\n",
       "India              24\n",
       "France             15\n",
       "Spain              14\n",
       "Greece             11\n",
       "Name: company_location, dtype: int64"
      ]
     },
     "execution_count": 35,
     "metadata": {},
     "output_type": "execute_result"
    }
   ],
   "source": [
    "#Adressing the cardinality of company_location, reduce companies that have less than 11 counts to others\n",
    "company_11 = df[\"company_location\"].value_counts().head(8).index\n",
    "company_11\n",
    "\n",
    "def reduce_cardinality(row):\n",
    "    \n",
    "    \"\"\"Function Reduces\n",
    "    the cardinality of company location\"\"\"\n",
    "    if row in company_11:\n",
    "        return row\n",
    "    else:\n",
    "        return \"Others\"\n",
    "    pass\n",
    "\n",
    "df[\"company_location\"] = df[\"company_location\"].apply(reduce_cardinality)\n",
    "df[\"company_location\"].value_counts()"
   ]
  },
  {
   "cell_type": "code",
   "execution_count": 36,
   "id": "263ff374",
   "metadata": {},
   "outputs": [
    {
     "data": {
      "text/html": [
       "<div>\n",
       "<style scoped>\n",
       "    .dataframe tbody tr th:only-of-type {\n",
       "        vertical-align: middle;\n",
       "    }\n",
       "\n",
       "    .dataframe tbody tr th {\n",
       "        vertical-align: top;\n",
       "    }\n",
       "\n",
       "    .dataframe thead th {\n",
       "        text-align: right;\n",
       "    }\n",
       "</style>\n",
       "<table border=\"1\" class=\"dataframe\">\n",
       "  <thead>\n",
       "    <tr style=\"text-align: right;\">\n",
       "      <th></th>\n",
       "      <th>work_year</th>\n",
       "      <th>experience_level</th>\n",
       "      <th>employment_type</th>\n",
       "      <th>job_title</th>\n",
       "      <th>salary_in_usd</th>\n",
       "      <th>remote_ratio</th>\n",
       "      <th>company_location</th>\n",
       "      <th>company_size</th>\n",
       "    </tr>\n",
       "  </thead>\n",
       "  <tbody>\n",
       "    <tr>\n",
       "      <th>0</th>\n",
       "      <td>2020</td>\n",
       "      <td>Mid-level</td>\n",
       "      <td>Full Time</td>\n",
       "      <td>Data Scientist</td>\n",
       "      <td>79833</td>\n",
       "      <td>&lt;20% Remote</td>\n",
       "      <td>Germany</td>\n",
       "      <td>Large</td>\n",
       "    </tr>\n",
       "    <tr>\n",
       "      <th>1</th>\n",
       "      <td>2020</td>\n",
       "      <td>Senior-level</td>\n",
       "      <td>Full Time</td>\n",
       "      <td>Machine Learning</td>\n",
       "      <td>260000</td>\n",
       "      <td>&lt;20% Remote</td>\n",
       "      <td>Others</td>\n",
       "      <td>Small</td>\n",
       "    </tr>\n",
       "    <tr>\n",
       "      <th>2</th>\n",
       "      <td>2020</td>\n",
       "      <td>Senior-level</td>\n",
       "      <td>Full Time</td>\n",
       "      <td>Data Engineer</td>\n",
       "      <td>109024</td>\n",
       "      <td>Partial Remote</td>\n",
       "      <td>United Kingdom</td>\n",
       "      <td>Medium</td>\n",
       "    </tr>\n",
       "    <tr>\n",
       "      <th>3</th>\n",
       "      <td>2020</td>\n",
       "      <td>Mid-level</td>\n",
       "      <td>Full Time</td>\n",
       "      <td>Data Analyst</td>\n",
       "      <td>20000</td>\n",
       "      <td>&lt;20% Remote</td>\n",
       "      <td>Others</td>\n",
       "      <td>Small</td>\n",
       "    </tr>\n",
       "    <tr>\n",
       "      <th>4</th>\n",
       "      <td>2020</td>\n",
       "      <td>Senior-level</td>\n",
       "      <td>Full Time</td>\n",
       "      <td>Machine Learning</td>\n",
       "      <td>150000</td>\n",
       "      <td>Partial Remote</td>\n",
       "      <td>United States</td>\n",
       "      <td>Large</td>\n",
       "    </tr>\n",
       "  </tbody>\n",
       "</table>\n",
       "</div>"
      ],
      "text/plain": [
       "  work_year experience_level employment_type         job_title  salary_in_usd  \\\n",
       "0      2020        Mid-level       Full Time    Data Scientist          79833   \n",
       "1      2020     Senior-level       Full Time  Machine Learning         260000   \n",
       "2      2020     Senior-level       Full Time     Data Engineer         109024   \n",
       "3      2020        Mid-level       Full Time      Data Analyst          20000   \n",
       "4      2020     Senior-level       Full Time  Machine Learning         150000   \n",
       "\n",
       "     remote_ratio company_location company_size  \n",
       "0     <20% Remote          Germany        Large  \n",
       "1     <20% Remote           Others        Small  \n",
       "2  Partial Remote   United Kingdom       Medium  \n",
       "3     <20% Remote           Others        Small  \n",
       "4  Partial Remote    United States        Large  "
      ]
     },
     "execution_count": 36,
     "metadata": {},
     "output_type": "execute_result"
    }
   ],
   "source": [
    "df.head()"
   ]
  },
  {
   "cell_type": "markdown",
   "id": "aeccc4c7",
   "metadata": {},
   "source": [
    "### Split dataset"
   ]
  },
  {
   "cell_type": "code",
   "execution_count": 37,
   "id": "a9de3546",
   "metadata": {},
   "outputs": [
    {
     "name": "stdout",
     "output_type": "stream",
     "text": [
      "shape of X is (605, 7)\n",
      "shape of y is (605,)\n"
     ]
    }
   ],
   "source": [
    "#Split into Feature and target\n",
    "target = \"salary_in_usd\"\n",
    "y = df[target]\n",
    "X = df.drop(columns = target)\n",
    "\n",
    "print(f\"shape of X is {X.shape}\")\n",
    "print(f\"shape of y is {y.shape}\")"
   ]
  },
  {
   "cell_type": "code",
   "execution_count": 39,
   "id": "917ce2a8",
   "metadata": {},
   "outputs": [
    {
     "name": "stdout",
     "output_type": "stream",
     "text": [
      "shape of X_train is (484, 7)\n",
      "shape of X_test is (121, 7)\n",
      "shape of y_train is (484,)\n",
      "shape of y_test is (121,)\n"
     ]
    }
   ],
   "source": [
    "#Split into train and test samples\n",
    "\n",
    "X_train, X_test, y_train, y_test = train_test_split(\n",
    "    X, y, test_size = 0.2, random_state=42\n",
    ")\n",
    "\n",
    "print(f\"shape of X_train is {X_train.shape}\")\n",
    "print(f\"shape of X_test is {X_test.shape}\")\n",
    "print(f\"shape of y_train is {y_train.shape}\")\n",
    "print(f\"shape of y_test is {y_test.shape}\")"
   ]
  },
  {
   "cell_type": "markdown",
   "id": "6feb2b75",
   "metadata": {},
   "source": [
    "### Define Baseline"
   ]
  },
  {
   "cell_type": "code",
   "execution_count": 63,
   "id": "f8ed1726",
   "metadata": {},
   "outputs": [
    {
     "name": "stdout",
     "output_type": "stream",
     "text": [
      "The baseline mean absolute error for the naive model is 52195.07\n"
     ]
    }
   ],
   "source": [
    "y_mean = y_train.mean()\n",
    "y_pred_baseline = [y_mean] * len(y_train)\n",
    "y_pred_mae = mean_absolute_error(y_train, y_pred_baseline)\n",
    "print(f\"The baseline mean absolute error for the naive model is {y_pred_mae.round(2)}\")"
   ]
  },
  {
   "cell_type": "markdown",
   "id": "4ef63bbb",
   "metadata": {},
   "source": [
    "### Iterate and Build model"
   ]
  },
  {
   "cell_type": "code",
   "execution_count": 58,
   "id": "425b34a0",
   "metadata": {},
   "outputs": [],
   "source": [
    "#Define model pipeline\n",
    "\n",
    "pipeline = make_pipeline(OrdinalEncoder(),\n",
    "                        DecisionTreeRegressor(criterion = \"squared_error\"))"
   ]
  },
  {
   "cell_type": "code",
   "execution_count": 78,
   "id": "54a8594a",
   "metadata": {},
   "outputs": [
    {
     "name": "stdout",
     "output_type": "stream",
     "text": [
      "Fitting 5 folds for each of 203 candidates, totalling 1015 fits\n"
     ]
    },
    {
     "data": {
      "text/plain": [
       "GridSearchCV(cv=5,\n",
       "             estimator=Pipeline(steps=[('ordinalencoder', OrdinalEncoder()),\n",
       "                                       ('decisiontreeregressor',\n",
       "                                        DecisionTreeRegressor())]),\n",
       "             n_jobs=-1,\n",
       "             param_grid={'decisiontreeregressor__max_depth': range(50, 150, 15),\n",
       "                         'decisiontreeregressor__min_samples_split': range(2, 60, 2)},\n",
       "             verbose=1)"
      ]
     },
     "execution_count": 78,
     "metadata": {},
     "output_type": "execute_result"
    }
   ],
   "source": [
    "#Use hyperparameter tuning\n",
    "params = {\"decisiontreeregressor__max_depth\": range(50, 150, 15),\n",
    "         \"decisiontreeregressor__min_samples_split\": range(2, 60, 2) }\n",
    "\n",
    "model = GridSearchCV(pipeline,\n",
    "                     param_grid=params,\n",
    "                     n_jobs = -1,\n",
    "                     cv = 5,\n",
    "                     verbose = 1)\n",
    "\n",
    "model.fit(X_train, y_train)"
   ]
  },
  {
   "cell_type": "code",
   "execution_count": 83,
   "id": "7461b05e",
   "metadata": {},
   "outputs": [
    {
     "data": {
      "text/html": [
       "<div>\n",
       "<style scoped>\n",
       "    .dataframe tbody tr th:only-of-type {\n",
       "        vertical-align: middle;\n",
       "    }\n",
       "\n",
       "    .dataframe tbody tr th {\n",
       "        vertical-align: top;\n",
       "    }\n",
       "\n",
       "    .dataframe thead th {\n",
       "        text-align: right;\n",
       "    }\n",
       "</style>\n",
       "<table border=\"1\" class=\"dataframe\">\n",
       "  <thead>\n",
       "    <tr style=\"text-align: right;\">\n",
       "      <th></th>\n",
       "      <th>mean_fit_time</th>\n",
       "      <th>std_fit_time</th>\n",
       "      <th>mean_score_time</th>\n",
       "      <th>std_score_time</th>\n",
       "      <th>param_decisiontreeregressor__max_depth</th>\n",
       "      <th>param_decisiontreeregressor__min_samples_split</th>\n",
       "      <th>params</th>\n",
       "      <th>split0_test_score</th>\n",
       "      <th>split1_test_score</th>\n",
       "      <th>split2_test_score</th>\n",
       "      <th>split3_test_score</th>\n",
       "      <th>split4_test_score</th>\n",
       "      <th>mean_test_score</th>\n",
       "      <th>std_test_score</th>\n",
       "      <th>rank_test_score</th>\n",
       "    </tr>\n",
       "  </thead>\n",
       "  <tbody>\n",
       "    <tr>\n",
       "      <th>165</th>\n",
       "      <td>0.081024</td>\n",
       "      <td>0.004710</td>\n",
       "      <td>0.026658</td>\n",
       "      <td>0.001666</td>\n",
       "      <td>125</td>\n",
       "      <td>42</td>\n",
       "      <td>{'decisiontreeregressor__max_depth': 125, 'dec...</td>\n",
       "      <td>0.400514</td>\n",
       "      <td>0.53371</td>\n",
       "      <td>0.225568</td>\n",
       "      <td>0.523926</td>\n",
       "      <td>0.320381</td>\n",
       "      <td>0.40082</td>\n",
       "      <td>0.11832</td>\n",
       "      <td>1</td>\n",
       "    </tr>\n",
       "    <tr>\n",
       "      <th>136</th>\n",
       "      <td>0.082749</td>\n",
       "      <td>0.005266</td>\n",
       "      <td>0.030381</td>\n",
       "      <td>0.003260</td>\n",
       "      <td>110</td>\n",
       "      <td>42</td>\n",
       "      <td>{'decisiontreeregressor__max_depth': 110, 'dec...</td>\n",
       "      <td>0.400514</td>\n",
       "      <td>0.53371</td>\n",
       "      <td>0.225568</td>\n",
       "      <td>0.523926</td>\n",
       "      <td>0.320381</td>\n",
       "      <td>0.40082</td>\n",
       "      <td>0.11832</td>\n",
       "      <td>1</td>\n",
       "    </tr>\n",
       "    <tr>\n",
       "      <th>107</th>\n",
       "      <td>0.086376</td>\n",
       "      <td>0.008168</td>\n",
       "      <td>0.027935</td>\n",
       "      <td>0.002159</td>\n",
       "      <td>95</td>\n",
       "      <td>42</td>\n",
       "      <td>{'decisiontreeregressor__max_depth': 95, 'deci...</td>\n",
       "      <td>0.400514</td>\n",
       "      <td>0.53371</td>\n",
       "      <td>0.225568</td>\n",
       "      <td>0.523926</td>\n",
       "      <td>0.320381</td>\n",
       "      <td>0.40082</td>\n",
       "      <td>0.11832</td>\n",
       "      <td>1</td>\n",
       "    </tr>\n",
       "    <tr>\n",
       "      <th>49</th>\n",
       "      <td>0.078725</td>\n",
       "      <td>0.007141</td>\n",
       "      <td>0.029353</td>\n",
       "      <td>0.004266</td>\n",
       "      <td>65</td>\n",
       "      <td>42</td>\n",
       "      <td>{'decisiontreeregressor__max_depth': 65, 'deci...</td>\n",
       "      <td>0.400514</td>\n",
       "      <td>0.53371</td>\n",
       "      <td>0.225568</td>\n",
       "      <td>0.523926</td>\n",
       "      <td>0.320381</td>\n",
       "      <td>0.40082</td>\n",
       "      <td>0.11832</td>\n",
       "      <td>1</td>\n",
       "    </tr>\n",
       "    <tr>\n",
       "      <th>20</th>\n",
       "      <td>0.091071</td>\n",
       "      <td>0.008737</td>\n",
       "      <td>0.028255</td>\n",
       "      <td>0.004539</td>\n",
       "      <td>50</td>\n",
       "      <td>42</td>\n",
       "      <td>{'decisiontreeregressor__max_depth': 50, 'deci...</td>\n",
       "      <td>0.400514</td>\n",
       "      <td>0.53371</td>\n",
       "      <td>0.225568</td>\n",
       "      <td>0.523926</td>\n",
       "      <td>0.320381</td>\n",
       "      <td>0.40082</td>\n",
       "      <td>0.11832</td>\n",
       "      <td>1</td>\n",
       "    </tr>\n",
       "  </tbody>\n",
       "</table>\n",
       "</div>"
      ],
      "text/plain": [
       "     mean_fit_time  std_fit_time  mean_score_time  std_score_time  \\\n",
       "165       0.081024      0.004710         0.026658        0.001666   \n",
       "136       0.082749      0.005266         0.030381        0.003260   \n",
       "107       0.086376      0.008168         0.027935        0.002159   \n",
       "49        0.078725      0.007141         0.029353        0.004266   \n",
       "20        0.091071      0.008737         0.028255        0.004539   \n",
       "\n",
       "    param_decisiontreeregressor__max_depth  \\\n",
       "165                                    125   \n",
       "136                                    110   \n",
       "107                                     95   \n",
       "49                                      65   \n",
       "20                                      50   \n",
       "\n",
       "    param_decisiontreeregressor__min_samples_split  \\\n",
       "165                                             42   \n",
       "136                                             42   \n",
       "107                                             42   \n",
       "49                                              42   \n",
       "20                                              42   \n",
       "\n",
       "                                                params  split0_test_score  \\\n",
       "165  {'decisiontreeregressor__max_depth': 125, 'dec...           0.400514   \n",
       "136  {'decisiontreeregressor__max_depth': 110, 'dec...           0.400514   \n",
       "107  {'decisiontreeregressor__max_depth': 95, 'deci...           0.400514   \n",
       "49   {'decisiontreeregressor__max_depth': 65, 'deci...           0.400514   \n",
       "20   {'decisiontreeregressor__max_depth': 50, 'deci...           0.400514   \n",
       "\n",
       "     split1_test_score  split2_test_score  split3_test_score  \\\n",
       "165            0.53371           0.225568           0.523926   \n",
       "136            0.53371           0.225568           0.523926   \n",
       "107            0.53371           0.225568           0.523926   \n",
       "49             0.53371           0.225568           0.523926   \n",
       "20             0.53371           0.225568           0.523926   \n",
       "\n",
       "     split4_test_score  mean_test_score  std_test_score  rank_test_score  \n",
       "165           0.320381          0.40082         0.11832                1  \n",
       "136           0.320381          0.40082         0.11832                1  \n",
       "107           0.320381          0.40082         0.11832                1  \n",
       "49            0.320381          0.40082         0.11832                1  \n",
       "20            0.320381          0.40082         0.11832                1  "
      ]
     },
     "execution_count": 83,
     "metadata": {},
     "output_type": "execute_result"
    }
   ],
   "source": [
    "pd.DataFrame(model.cv_results_).sort_values(\"rank_test_score\").head()"
   ]
  },
  {
   "cell_type": "markdown",
   "id": "165d9218",
   "metadata": {},
   "source": [
    "We beat the baseline score. Let us check the best parameters and check the mean absolute error of the model."
   ]
  },
  {
   "cell_type": "code",
   "execution_count": 84,
   "id": "522baffb",
   "metadata": {},
   "outputs": [
    {
     "data": {
      "text/plain": [
       "{'decisiontreeregressor__max_depth': 50,\n",
       " 'decisiontreeregressor__min_samples_split': 42}"
      ]
     },
     "execution_count": 84,
     "metadata": {},
     "output_type": "execute_result"
    }
   ],
   "source": [
    "model.best_params_"
   ]
  },
  {
   "cell_type": "code",
   "execution_count": 91,
   "id": "4158a32f",
   "metadata": {},
   "outputs": [
    {
     "name": "stdout",
     "output_type": "stream",
     "text": [
      "The mean absolut error of model obtained is 33283.06\n"
     ]
    }
   ],
   "source": [
    "y_pred = model.predict(X_train)\n",
    "print(f\"The mean absolut error of model obtained is {mean_absolute_error(y_train, y_pred).round(2)}\")"
   ]
  },
  {
   "cell_type": "markdown",
   "id": "51e4bc73",
   "metadata": {},
   "source": [
    "The model can be iterated further and using ensemble models like `RandomForestRegressors` or `GradientBoostinRegressors`."
   ]
  },
  {
   "cell_type": "code",
   "execution_count": 94,
   "id": "9a034d2a",
   "metadata": {},
   "outputs": [
    {
     "data": {
      "text/plain": [
       "36227.740037876196"
      ]
     },
     "execution_count": 94,
     "metadata": {},
     "output_type": "execute_result"
    }
   ],
   "source": [
    "#Iterate with Test set.\n",
    "mean_absolute_error(y_test, model.predict(X_test))"
   ]
  },
  {
   "cell_type": "markdown",
   "id": "25d073b7",
   "metadata": {},
   "source": [
    "### Communicating the result"
   ]
  },
  {
   "cell_type": "code",
   "execution_count": 101,
   "id": "e1063bd5",
   "metadata": {},
   "outputs": [
    {
     "data": {
      "image/png": "[encoded data removed]",
      "text/plain": [
       "<Figure size 432x288 with 1 Axes>"
      ]
     },
     "metadata": {
      "needs_background": "light"
     },
     "output_type": "display_data"
    }
   ],
   "source": [
    "#Feature Importance\n",
    "importances = model.best_estimator_.named_steps[\"decisiontreeregressor\"].feature_importances_\n",
    "features = X_train.columns\n",
    "feat_imp = pd.Series(importances, index = features).sort_values()\n",
    "feat_imp.plot(kind = \"barh\",\n",
    "             ylabel = \"Importance\",\n",
    "             xlabel = \"Features\");"
   ]
  },
  {
   "cell_type": "markdown",
   "id": "72e6bcc1",
   "metadata": {},
   "source": [
    "From the above plot, we do see that company location and experience level play a hige role in splitting of the decision tree."
   ]
  },
  {
   "cell_type": "markdown",
   "id": "f35cdd7b",
   "metadata": {},
   "source": [
    "A quick EDA on how the company location can affect the salary of a data scientist."
   ]
  },
  {
   "cell_type": "code",
   "execution_count": 103,
   "id": "d4931707",
   "metadata": {},
   "outputs": [],
   "source": [
    "import matplotlib.pyplot as plt\n",
    "import seaborn as sns"
   ]
  },
  {
   "cell_type": "code",
   "execution_count": 118,
   "id": "17603b0f",
   "metadata": {},
   "outputs": [
    {
     "data": {
      "image/png": "[encoded data removed]",
      "text/plain": [
       "<Figure size 1152x1296 with 2 Axes>"
      ]
     },
     "metadata": {
      "needs_background": "light"
     },
     "output_type": "display_data"
    }
   ],
   "source": [
    "order = df.groupby(\"company_location\")[\"salary_in_usd\"].median().sort_values().index\n",
    "\n",
    "plt.figure(figsize = [16, 18])\n",
    "plt.subplot(2, 1, 1)\n",
    "sns.boxplot(data = df, x = \"company_location\", y = \"salary_in_usd\", color = \"r\", order = order)\n",
    "y_ticks = np.arange(0, 600000, 50000)\n",
    "plt.yticks(y_ticks, y_ticks)\n",
    "plt.xticks(rotation = 15)\n",
    "plt.grid(axis = \"y\", alpha = 0.2)\n",
    "\n",
    "plt.subplot(2, 1, 2)\n",
    "sns.violinplot(data = df, x = \"company_location\", y = \"salary_in_usd\", color = \"r\", order = order)\n",
    "y_ticks = np.arange(0, 600000, 50000)\n",
    "plt.yticks(y_ticks, y_ticks)\n",
    "plt.xticks(rotation = 15)\n",
    "plt.grid(axis = \"y\", alpha = 0.2);"
   ]
  },
  {
   "cell_type": "markdown",
   "id": "dc575c87",
   "metadata": {},
   "source": [
    "From the plot above, it is apparent that the top 5 companies that have highly paid data science jobs are in the United States, Canada, United Kingdom, Germany and France."
   ]
  },
  {
   "cell_type": "code",
   "execution_count": 141,
   "id": "f6abfcf9",
   "metadata": {},
   "outputs": [
    {
     "data": {
      "text/html": [
       "<style type=\"text/css\">\n",
       "#T_81d43_row0_col0 {\n",
       "  background-color: #fff5f0;\n",
       "  color: #000000;\n",
       "}\n",
       "#T_81d43_row1_col0 {\n",
       "  background-color: #fdc9b3;\n",
       "  color: #000000;\n",
       "}\n",
       "#T_81d43_row2_col0 {\n",
       "  background-color: #fdc6b0;\n",
       "  color: #000000;\n",
       "}\n",
       "#T_81d43_row3_col0 {\n",
       "  background-color: #fcb69b;\n",
       "  color: #000000;\n",
       "}\n",
       "#T_81d43_row4_col0 {\n",
       "  background-color: #fca98c;\n",
       "  color: #000000;\n",
       "}\n",
       "#T_81d43_row5_col0, #T_81d43_row6_col0 {\n",
       "  background-color: #fb7656;\n",
       "  color: #f1f1f1;\n",
       "}\n",
       "#T_81d43_row7_col0 {\n",
       "  background-color: #f03d2d;\n",
       "  color: #f1f1f1;\n",
       "}\n",
       "#T_81d43_row8_col0 {\n",
       "  background-color: #67000d;\n",
       "  color: #f1f1f1;\n",
       "}\n",
       "</style>\n",
       "<table id=\"T_81d43_\">\n",
       "  <thead>\n",
       "    <tr>\n",
       "      <th class=\"blank level0\" >&nbsp;</th>\n",
       "      <th class=\"col_heading level0 col0\" >Mean salary[USD]</th>\n",
       "    </tr>\n",
       "    <tr>\n",
       "      <th class=\"index_name level0\" >company_location</th>\n",
       "      <th class=\"blank col0\" >&nbsp;</th>\n",
       "    </tr>\n",
       "  </thead>\n",
       "  <tbody>\n",
       "    <tr>\n",
       "      <th id=\"T_81d43_level0_row0\" class=\"row_heading level0 row0\" >India</th>\n",
       "      <td id=\"T_81d43_row0_col0\" class=\"data row0 col0\" >28581.750000</td>\n",
       "    </tr>\n",
       "    <tr>\n",
       "      <th id=\"T_81d43_level0_row1\" class=\"row_heading level0 row1\" >Greece</th>\n",
       "      <td id=\"T_81d43_row1_col0\" class=\"data row1 col0\" >52293.090909</td>\n",
       "    </tr>\n",
       "    <tr>\n",
       "      <th id=\"T_81d43_level0_row2\" class=\"row_heading level0 row2\" >Spain</th>\n",
       "      <td id=\"T_81d43_row2_col0\" class=\"data row2 col0\" >53060.142857</td>\n",
       "    </tr>\n",
       "    <tr>\n",
       "      <th id=\"T_81d43_level0_row3\" class=\"row_heading level0 row3\" >Others</th>\n",
       "      <td id=\"T_81d43_row3_col0\" class=\"data row3 col0\" >59513.783133</td>\n",
       "    </tr>\n",
       "    <tr>\n",
       "      <th id=\"T_81d43_level0_row4\" class=\"row_heading level0 row4\" >France</th>\n",
       "      <td id=\"T_81d43_row4_col0\" class=\"data row4 col0\" >63970.666667</td>\n",
       "    </tr>\n",
       "    <tr>\n",
       "      <th id=\"T_81d43_level0_row5\" class=\"row_heading level0 row5\" >United Kingdom</th>\n",
       "      <td id=\"T_81d43_row5_col0\" class=\"data row5 col0\" >81583.042553</td>\n",
       "    </tr>\n",
       "    <tr>\n",
       "      <th id=\"T_81d43_level0_row6\" class=\"row_heading level0 row6\" >Germany</th>\n",
       "      <td id=\"T_81d43_row6_col0\" class=\"data row6 col0\" >81887.214286</td>\n",
       "    </tr>\n",
       "    <tr>\n",
       "      <th id=\"T_81d43_level0_row7\" class=\"row_heading level0 row7\" >Canada</th>\n",
       "      <td id=\"T_81d43_row7_col0\" class=\"data row7 col0\" >99823.733333</td>\n",
       "    </tr>\n",
       "    <tr>\n",
       "      <th id=\"T_81d43_level0_row8\" class=\"row_heading level0 row8\" >United States</th>\n",
       "      <td id=\"T_81d43_row8_col0\" class=\"data row8 col0\" >143525.830028</td>\n",
       "    </tr>\n",
       "  </tbody>\n",
       "</table>\n"
      ],
      "text/plain": [
       "<pandas.io.formats.style.Styler at 0x2b648a50880>"
      ]
     },
     "execution_count": 141,
     "metadata": {},
     "output_type": "execute_result"
    }
   ],
   "source": [
    "country_df =df.groupby(\"company_location\")[\"salary_in_usd\"].mean().sort_values().to_frame()\n",
    "country_df.rename(columns = {\"salary_in_usd\": \"Mean salary[USD]\"}).style.background_gradient(cmap = \"Reds\")"
   ]
  },
  {
   "cell_type": "markdown",
   "id": "e26dfe32",
   "metadata": {},
   "source": [
    "The United States with a mean salary for data scientist of `143,525` USD takes the lead"
   ]
  },
  {
   "cell_type": "markdown",
   "id": "0f40b1ae",
   "metadata": {},
   "source": [
    "### Define Function and make Interactive widgets. "
   ]
  },
  {
   "cell_type": "code",
   "execution_count": null,
   "id": "ae06c386",
   "metadata": {},
   "outputs": [],
   "source": [
    "less than 50 employees (small)\n",
    "M = 50 to 250 employees (medium)\n",
    "L = more than 250 employees (large)"
   ]
  },
  {
   "cell_type": "code",
   "execution_count": 155,
   "id": "e1e57074",
   "metadata": {},
   "outputs": [
    {
     "data": {
      "text/plain": [
       "235     46809\n",
       "9      125000\n",
       "Name: salary_in_usd, dtype: int64"
      ]
     },
     "execution_count": 155,
     "metadata": {},
     "output_type": "execute_result"
    }
   ],
   "source": [
    "y_train.head(2)"
   ]
  },
  {
   "cell_type": "code",
   "execution_count": 142,
   "id": "74280dd4",
   "metadata": {},
   "outputs": [
    {
     "data": {
      "text/plain": [
       "Index(['work_year', 'experience_level', 'employment_type', 'job_title',\n",
       "       'remote_ratio', 'company_location', 'company_size'],\n",
       "      dtype='object')"
      ]
     },
     "execution_count": 142,
     "metadata": {},
     "output_type": "execute_result"
    }
   ],
   "source": [
    "X_train.columns"
   ]
  },
  {
   "cell_type": "code",
   "execution_count": 162,
   "id": "5d3b2c4d",
   "metadata": {},
   "outputs": [],
   "source": [
    "def make_prediction(year, experience, employment_type, job_title, remote_ratio, \n",
    "                    company_location, company_size_upper_bound):\n",
    "    \n",
    "    \"\"\"Function that takes in values of Features\n",
    "    and return the model predicted value of salary\"\"\"\n",
    "    \n",
    "    if company_size_upper_bound <  50:\n",
    "        company_size = \"Small\"\n",
    "        pass\n",
    "    elif company_size_upper_bound < 250:\n",
    "        company_size = \"Medium\"\n",
    "        pass\n",
    "    else:\n",
    "        company_size = \"Large\"\n",
    "        pass\n",
    "    pd_dict = {\"work_year\": year,\n",
    "              \"experience_level\": experience,\n",
    "              \"employment_type\": employment_type,\n",
    "              \"job_title\": job_title,\n",
    "              \"remote_ratio\": remote_ratio,\n",
    "              \"company_location\": company_location,\n",
    "              \"company_size\": company_size}\n",
    "    X_t = pd.DataFrame(pd_dict, index = [0])\n",
    "    return model.predict(X_t)[0].round(2)"
   ]
  },
  {
   "cell_type": "code",
   "execution_count": 154,
   "id": "4d7a9ba9",
   "metadata": {},
   "outputs": [
    {
     "data": {
      "text/plain": [
       "51727.73"
      ]
     },
     "execution_count": 154,
     "metadata": {},
     "output_type": "execute_result"
    }
   ],
   "source": [
    "make_prediction(\"2020\", \"Mid-level\", \"Full Time\", \"Data Scientist\", \">80% Remote\", \"Spain\", 220)"
   ]
  },
  {
   "cell_type": "code",
   "execution_count": 171,
   "id": "489486e4",
   "metadata": {},
   "outputs": [
    {
     "data": {
      "text/plain": [
       "array(['2021', '2020', '2022'], dtype=object)"
      ]
     },
     "execution_count": 171,
     "metadata": {},
     "output_type": "execute_result"
    }
   ],
   "source": [
    "X_train[\"work_year\"].unique()"
   ]
  },
  {
   "cell_type": "code",
   "execution_count": 191,
   "id": "7705b73d",
   "metadata": {},
   "outputs": [
    {
     "data": {
      "text/plain": [
       "92041.2"
      ]
     },
     "metadata": {},
     "output_type": "display_data"
    }
   ],
   "source": [
    "#Create Interactive plot\n",
    "\n",
    "interact = interact(\n",
    "    make_prediction,\n",
    "    company_size_upper_bound = IntSlider(min = 10, max = 100_000, step = 5),\n",
    "    year = Dropdown(options = sorted(X_train[\"work_year\"].unique())),\n",
    "    experience = Dropdown(options = sorted(X_train[\"experience_level\"].unique())),\n",
    "    employment_type = Dropdown(options = sorted(X_train[\"employment_type\"].unique())),\n",
    "    job_title = Dropdown(options = sorted(X_train[\"job_title\"].unique())),\n",
    "    remote_ratio = Dropdown(options = sorted(X_train[\"remote_ratio\"].unique())),\n",
    "    company_location = Dropdown(options = sorted(X_train[\"company_location\"].unique())),\n",
    "\n",
    ");"
   ]
  },
  {
   "cell_type": "code",
   "execution_count": 192,
   "id": "44743463",
   "metadata": {},
   "outputs": [
    {
     "data": {
      "text/plain": [
       "<function __main__.make_prediction(year, experience, employment_type, job_title, remote_ratio, company_location, company_size_upper_bound)>"
      ]
     },
     "metadata": {},
     "output_type": "display_data"
    }
   ],
   "source": [
    "display(interact)"
   ]
  },
  {
   "cell_type": "code",
   "execution_count": 168,
   "id": "d3c01d1b",
   "metadata": {},
   "outputs": [
    {
     "data": {
      "text/plain": [
       "<ipywidgets.widgets.interaction._InteractFactory at 0x2b64251f6d0>"
      ]
     },
     "execution_count": 168,
     "metadata": {},
     "output_type": "execute_result"
    }
   ],
   "source": [
    "interact(\n",
    "    make_prediction,\n",
    "    area=IntSlider(\n",
    "        min=X_train[\"surface_covered_in_m2\"].min(),\n",
    "        max=X_train[\"surface_covered_in_m2\"].max(),\n",
    "        value=X_train[\"surface_covered_in_m2\"].mean(),\n",
    "    ),\n",
    "    lat=FloatSlider(\n",
    "        min=X_train[\"lat\"].min(),\n",
    "        max=X_train[\"lat\"].max(),\n",
    "        step=0.01,\n",
    "        value=X_train[\"lat\"].mean(),\n",
    "    ),\n",
    "    lon=FloatSlider(\n",
    "        min=X_train[\"lon\"].min(),\n",
    "        max=X_train[\"lon\"].max(),\n",
    "        step=0.01,\n",
    "        value=X_train[\"lon\"].mean(),\n",
    "    ),\n",
    "    neighborhood=Dropdown(options=sorted(X_train[\"neighborhood\"].unique())),\n",
    ");"
   ]
  },
  {
   "cell_type": "code",
   "execution_count": null,
   "id": "4b920c74",
   "metadata": {},
   "outputs": [],
   "source": []
  }
 ],
 "metadata": {
  "kernelspec": {
   "display_name": "Python 3",
   "language": "python",
   "name": "python3"
  },
  "language_info": {
   "codemirror_mode": {
    "name": "ipython",
    "version": 3
   },
   "file_extension": ".py",
   "mimetype": "text/x-python",
   "name": "python",
   "nbconvert_exporter": "python",
   "pygments_lexer": "ipython3",
   "version": "3.8.5"
  }
 },
 "nbformat": 4,
 "nbformat_minor": 5
}
