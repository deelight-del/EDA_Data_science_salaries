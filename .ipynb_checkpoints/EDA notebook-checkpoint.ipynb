{
 "cells": [
  {
   "cell_type": "markdown",
   "id": "c9bb313f",
   "metadata": {},
   "source": [
    "# AKINGBENI - Wrangling and EDA of data science salaries."
   ]
  },
  {
   "cell_type": "code",
   "execution_count": 1,
   "id": "f85c7cf9",
   "metadata": {},
   "outputs": [],
   "source": [
    "#Import libraries\n",
    "\n",
    "#data wrangling libraries\n",
    "import pandas as pd\n",
    "import numpy as np\n",
    "\n",
    "#visualization libraries\n",
    "import matplotlib.pyplot as plt\n",
    "import seaborn as sns\n",
    "\n",
    "#import misc libraries\n",
    "import warnings\n",
    "\n",
    "#Import pycountry for converting countries name\n",
    "import pycountry"
   ]
  },
  {
   "cell_type": "code",
   "execution_count": 2,
   "id": "35fe538e",
   "metadata": {},
   "outputs": [
    {
     "data": {
      "text/html": [
       "<div>\n",
       "<style scoped>\n",
       "    .dataframe tbody tr th:only-of-type {\n",
       "        vertical-align: middle;\n",
       "    }\n",
       "\n",
       "    .dataframe tbody tr th {\n",
       "        vertical-align: top;\n",
       "    }\n",
       "\n",
       "    .dataframe thead th {\n",
       "        text-align: right;\n",
       "    }\n",
       "</style>\n",
       "<table border=\"1\" class=\"dataframe\">\n",
       "  <thead>\n",
       "    <tr style=\"text-align: right;\">\n",
       "      <th></th>\n",
       "      <th>Unnamed: 0</th>\n",
       "      <th>work_year</th>\n",
       "      <th>experience_level</th>\n",
       "      <th>employment_type</th>\n",
       "      <th>job_title</th>\n",
       "      <th>salary</th>\n",
       "      <th>salary_currency</th>\n",
       "      <th>salary_in_usd</th>\n",
       "      <th>employee_residence</th>\n",
       "      <th>remote_ratio</th>\n",
       "      <th>company_location</th>\n",
       "      <th>company_size</th>\n",
       "    </tr>\n",
       "  </thead>\n",
       "  <tbody>\n",
       "    <tr>\n",
       "      <th>0</th>\n",
       "      <td>0</td>\n",
       "      <td>2020</td>\n",
       "      <td>MI</td>\n",
       "      <td>FT</td>\n",
       "      <td>Data Scientist</td>\n",
       "      <td>70000</td>\n",
       "      <td>EUR</td>\n",
       "      <td>79833</td>\n",
       "      <td>DE</td>\n",
       "      <td>0</td>\n",
       "      <td>DE</td>\n",
       "      <td>L</td>\n",
       "    </tr>\n",
       "    <tr>\n",
       "      <th>1</th>\n",
       "      <td>1</td>\n",
       "      <td>2020</td>\n",
       "      <td>SE</td>\n",
       "      <td>FT</td>\n",
       "      <td>Machine Learning Scientist</td>\n",
       "      <td>260000</td>\n",
       "      <td>USD</td>\n",
       "      <td>260000</td>\n",
       "      <td>JP</td>\n",
       "      <td>0</td>\n",
       "      <td>JP</td>\n",
       "      <td>S</td>\n",
       "    </tr>\n",
       "    <tr>\n",
       "      <th>2</th>\n",
       "      <td>2</td>\n",
       "      <td>2020</td>\n",
       "      <td>SE</td>\n",
       "      <td>FT</td>\n",
       "      <td>Big Data Engineer</td>\n",
       "      <td>85000</td>\n",
       "      <td>GBP</td>\n",
       "      <td>109024</td>\n",
       "      <td>GB</td>\n",
       "      <td>50</td>\n",
       "      <td>GB</td>\n",
       "      <td>M</td>\n",
       "    </tr>\n",
       "    <tr>\n",
       "      <th>3</th>\n",
       "      <td>3</td>\n",
       "      <td>2020</td>\n",
       "      <td>MI</td>\n",
       "      <td>FT</td>\n",
       "      <td>Product Data Analyst</td>\n",
       "      <td>20000</td>\n",
       "      <td>USD</td>\n",
       "      <td>20000</td>\n",
       "      <td>HN</td>\n",
       "      <td>0</td>\n",
       "      <td>HN</td>\n",
       "      <td>S</td>\n",
       "    </tr>\n",
       "    <tr>\n",
       "      <th>4</th>\n",
       "      <td>4</td>\n",
       "      <td>2020</td>\n",
       "      <td>SE</td>\n",
       "      <td>FT</td>\n",
       "      <td>Machine Learning Engineer</td>\n",
       "      <td>150000</td>\n",
       "      <td>USD</td>\n",
       "      <td>150000</td>\n",
       "      <td>US</td>\n",
       "      <td>50</td>\n",
       "      <td>US</td>\n",
       "      <td>L</td>\n",
       "    </tr>\n",
       "  </tbody>\n",
       "</table>\n",
       "</div>"
      ],
      "text/plain": [
       "   Unnamed: 0  work_year experience_level employment_type  \\\n",
       "0           0       2020               MI              FT   \n",
       "1           1       2020               SE              FT   \n",
       "2           2       2020               SE              FT   \n",
       "3           3       2020               MI              FT   \n",
       "4           4       2020               SE              FT   \n",
       "\n",
       "                    job_title  salary salary_currency  salary_in_usd  \\\n",
       "0              Data Scientist   70000             EUR          79833   \n",
       "1  Machine Learning Scientist  260000             USD         260000   \n",
       "2           Big Data Engineer   85000             GBP         109024   \n",
       "3        Product Data Analyst   20000             USD          20000   \n",
       "4   Machine Learning Engineer  150000             USD         150000   \n",
       "\n",
       "  employee_residence  remote_ratio company_location company_size  \n",
       "0                 DE             0               DE            L  \n",
       "1                 JP             0               JP            S  \n",
       "2                 GB            50               GB            M  \n",
       "3                 HN             0               HN            S  \n",
       "4                 US            50               US            L  "
      ]
     },
     "execution_count": 2,
     "metadata": {},
     "output_type": "execute_result"
    }
   ],
   "source": [
    "#Read in the dataset\n",
    "filepath = \"./data/ds_salaries (1).csv\"\n",
    "df = pd.read_csv(filepath)\n",
    "df.head()"
   ]
  },
  {
   "cell_type": "markdown",
   "id": "3521bc3a",
   "metadata": {},
   "source": [
    "## Information and introduction about dataset\n",
    "\n",
    "> Data science was described in 2012 as the sexiest job of the century by [Havard Business Review](https://hbr.org/2012/10/data-scientist-the-sexiest-job-of-the-21st-century). At the heart of data science is traditional statistics, computer science and computational power, and business domains. The blend of these three fields in different proportions and perspectives has given rise to varying form of data scientists.\n",
    "\n",
    "> Some, I am among some, argue that roles like data engineers do fit into the term data scientists, perhaps a full stack data scientists. Popular roles that are common under data science are Data Analytics, Data Scientits, Machine Learning Scientists/Researcher, Machine Learning Engineer and more specific roles like data vizualization experts.\n",
    "\n",
    "> However, while passion is a great deal in whatever one does. Subjects like salaries and opportunities should not be overlooked when in search of a career path. I personally struggled with these. I still have my reservations, but I will be focusing my story on the data in front of us.\n",
    "\n",
    "\n",
    "### Introduction about dataset\n",
    "> The dataset contains salary information of over 600 people of different job levels and seniority levels. It contains years between 2020 - 2022 to capture post covid data science information and salaries.\n",
    "\n",
    "**Features**\n",
    ">- work_year: The year the salary was paid.\n",
    ">- experience_level: The experience level in the job during the year with the following possible values: `EN ---> Entry-level / Junior`, `MI ---> Mid-level / Intermediate`, `SE ---> Senior-level / Expert`, `EX ---> Executive-level / Director`\n",
    ">- employment_type: The type of employement for the role: `PT ---> Part-time`, `FT ---> Full-time`, `CT ---> Contract`, `FL ---> Freelance`\n",
    ">- job_title: The role worked in during the year.\n",
    ">- salary: The total gross salary amount paid.\n",
    ">- salary_currency: The currency of the salary paid as an ISO 4217 currency code.\n",
    ">- salaryinusd: The salary in USD (FX rate divided by avg. USD rate for the respective year via [Fx](fxdata.foorilla.com).\n",
    ">- employee_residence: Employee's primary country of residence in during the work year as an ISO 3166 country code.\n",
    ">- remote_ratio: The overall amount of work done remotely, possible values are as follows: 0 = No remote work (less than 20%), 50 = Partially remote, 100 = Fully remote (more than 80%)\n",
    ">- company_location: The country of the employer's main office or contracting branch as an ISO 3166 country code.\n",
    ">- company_size: The average number of people that worked for the company during the year: `S ---> less than 50 employees(small)`, `M ---> 50 to 250 employees (medium)`, `L ---> more than 250 employees (large)`\n",
    "\n",
    "[Direct info about dataset on kaggle](https://www.kaggle.com/datasets/ruchi798/data-science-job-salaries)\n",
    "\n",
    "### Personal Motivation aboout the project\n",
    "- I decided to jump on the project first out of curiousity, second to practise and third to learn to use some new libraries like word cloud..."
   ]
  },
  {
   "cell_type": "markdown",
   "id": "6db753bb",
   "metadata": {},
   "source": [
    "## Data Wrangling"
   ]
  },
  {
   "cell_type": "code",
   "execution_count": 3,
   "id": "0729c854",
   "metadata": {},
   "outputs": [
    {
     "data": {
      "text/html": [
       "<div>\n",
       "<style scoped>\n",
       "    .dataframe tbody tr th:only-of-type {\n",
       "        vertical-align: middle;\n",
       "    }\n",
       "\n",
       "    .dataframe tbody tr th {\n",
       "        vertical-align: top;\n",
       "    }\n",
       "\n",
       "    .dataframe thead th {\n",
       "        text-align: right;\n",
       "    }\n",
       "</style>\n",
       "<table border=\"1\" class=\"dataframe\">\n",
       "  <thead>\n",
       "    <tr style=\"text-align: right;\">\n",
       "      <th></th>\n",
       "      <th>Unnamed: 0</th>\n",
       "      <th>work_year</th>\n",
       "      <th>experience_level</th>\n",
       "      <th>employment_type</th>\n",
       "      <th>job_title</th>\n",
       "      <th>salary</th>\n",
       "      <th>salary_currency</th>\n",
       "      <th>salary_in_usd</th>\n",
       "      <th>employee_residence</th>\n",
       "      <th>remote_ratio</th>\n",
       "      <th>company_location</th>\n",
       "      <th>company_size</th>\n",
       "    </tr>\n",
       "  </thead>\n",
       "  <tbody>\n",
       "    <tr>\n",
       "      <th>0</th>\n",
       "      <td>0</td>\n",
       "      <td>2020</td>\n",
       "      <td>MI</td>\n",
       "      <td>FT</td>\n",
       "      <td>Data Scientist</td>\n",
       "      <td>70000</td>\n",
       "      <td>EUR</td>\n",
       "      <td>79833</td>\n",
       "      <td>DE</td>\n",
       "      <td>0</td>\n",
       "      <td>DE</td>\n",
       "      <td>L</td>\n",
       "    </tr>\n",
       "    <tr>\n",
       "      <th>1</th>\n",
       "      <td>1</td>\n",
       "      <td>2020</td>\n",
       "      <td>SE</td>\n",
       "      <td>FT</td>\n",
       "      <td>Machine Learning Scientist</td>\n",
       "      <td>260000</td>\n",
       "      <td>USD</td>\n",
       "      <td>260000</td>\n",
       "      <td>JP</td>\n",
       "      <td>0</td>\n",
       "      <td>JP</td>\n",
       "      <td>S</td>\n",
       "    </tr>\n",
       "    <tr>\n",
       "      <th>2</th>\n",
       "      <td>2</td>\n",
       "      <td>2020</td>\n",
       "      <td>SE</td>\n",
       "      <td>FT</td>\n",
       "      <td>Big Data Engineer</td>\n",
       "      <td>85000</td>\n",
       "      <td>GBP</td>\n",
       "      <td>109024</td>\n",
       "      <td>GB</td>\n",
       "      <td>50</td>\n",
       "      <td>GB</td>\n",
       "      <td>M</td>\n",
       "    </tr>\n",
       "    <tr>\n",
       "      <th>3</th>\n",
       "      <td>3</td>\n",
       "      <td>2020</td>\n",
       "      <td>MI</td>\n",
       "      <td>FT</td>\n",
       "      <td>Product Data Analyst</td>\n",
       "      <td>20000</td>\n",
       "      <td>USD</td>\n",
       "      <td>20000</td>\n",
       "      <td>HN</td>\n",
       "      <td>0</td>\n",
       "      <td>HN</td>\n",
       "      <td>S</td>\n",
       "    </tr>\n",
       "    <tr>\n",
       "      <th>4</th>\n",
       "      <td>4</td>\n",
       "      <td>2020</td>\n",
       "      <td>SE</td>\n",
       "      <td>FT</td>\n",
       "      <td>Machine Learning Engineer</td>\n",
       "      <td>150000</td>\n",
       "      <td>USD</td>\n",
       "      <td>150000</td>\n",
       "      <td>US</td>\n",
       "      <td>50</td>\n",
       "      <td>US</td>\n",
       "      <td>L</td>\n",
       "    </tr>\n",
       "  </tbody>\n",
       "</table>\n",
       "</div>"
      ],
      "text/plain": [
       "   Unnamed: 0  work_year experience_level employment_type  \\\n",
       "0           0       2020               MI              FT   \n",
       "1           1       2020               SE              FT   \n",
       "2           2       2020               SE              FT   \n",
       "3           3       2020               MI              FT   \n",
       "4           4       2020               SE              FT   \n",
       "\n",
       "                    job_title  salary salary_currency  salary_in_usd  \\\n",
       "0              Data Scientist   70000             EUR          79833   \n",
       "1  Machine Learning Scientist  260000             USD         260000   \n",
       "2           Big Data Engineer   85000             GBP         109024   \n",
       "3        Product Data Analyst   20000             USD          20000   \n",
       "4   Machine Learning Engineer  150000             USD         150000   \n",
       "\n",
       "  employee_residence  remote_ratio company_location company_size  \n",
       "0                 DE             0               DE            L  \n",
       "1                 JP             0               JP            S  \n",
       "2                 GB            50               GB            M  \n",
       "3                 HN             0               HN            S  \n",
       "4                 US            50               US            L  "
      ]
     },
     "execution_count": 3,
     "metadata": {},
     "output_type": "execute_result"
    }
   ],
   "source": [
    "#Check general head information\n",
    "df.head()"
   ]
  },
  {
   "cell_type": "code",
   "execution_count": 4,
   "id": "c7ff2045",
   "metadata": {},
   "outputs": [
    {
     "data": {
      "text/html": [
       "<div>\n",
       "<style scoped>\n",
       "    .dataframe tbody tr th:only-of-type {\n",
       "        vertical-align: middle;\n",
       "    }\n",
       "\n",
       "    .dataframe tbody tr th {\n",
       "        vertical-align: top;\n",
       "    }\n",
       "\n",
       "    .dataframe thead th {\n",
       "        text-align: right;\n",
       "    }\n",
       "</style>\n",
       "<table border=\"1\" class=\"dataframe\">\n",
       "  <thead>\n",
       "    <tr style=\"text-align: right;\">\n",
       "      <th></th>\n",
       "      <th>Unnamed: 0</th>\n",
       "      <th>work_year</th>\n",
       "      <th>experience_level</th>\n",
       "      <th>employment_type</th>\n",
       "      <th>job_title</th>\n",
       "      <th>salary</th>\n",
       "      <th>salary_currency</th>\n",
       "      <th>salary_in_usd</th>\n",
       "      <th>employee_residence</th>\n",
       "      <th>remote_ratio</th>\n",
       "      <th>company_location</th>\n",
       "      <th>company_size</th>\n",
       "    </tr>\n",
       "  </thead>\n",
       "  <tbody>\n",
       "    <tr>\n",
       "      <th>366</th>\n",
       "      <td>366</td>\n",
       "      <td>2022</td>\n",
       "      <td>SE</td>\n",
       "      <td>FT</td>\n",
       "      <td>Data Engineer</td>\n",
       "      <td>136000</td>\n",
       "      <td>USD</td>\n",
       "      <td>136000</td>\n",
       "      <td>US</td>\n",
       "      <td>0</td>\n",
       "      <td>US</td>\n",
       "      <td>M</td>\n",
       "    </tr>\n",
       "    <tr>\n",
       "      <th>288</th>\n",
       "      <td>288</td>\n",
       "      <td>2021</td>\n",
       "      <td>MI</td>\n",
       "      <td>FT</td>\n",
       "      <td>Machine Learning Engineer</td>\n",
       "      <td>43200</td>\n",
       "      <td>EUR</td>\n",
       "      <td>51064</td>\n",
       "      <td>IT</td>\n",
       "      <td>50</td>\n",
       "      <td>IT</td>\n",
       "      <td>L</td>\n",
       "    </tr>\n",
       "    <tr>\n",
       "      <th>580</th>\n",
       "      <td>580</td>\n",
       "      <td>2022</td>\n",
       "      <td>SE</td>\n",
       "      <td>FT</td>\n",
       "      <td>Data Analyst</td>\n",
       "      <td>126500</td>\n",
       "      <td>USD</td>\n",
       "      <td>126500</td>\n",
       "      <td>US</td>\n",
       "      <td>100</td>\n",
       "      <td>US</td>\n",
       "      <td>M</td>\n",
       "    </tr>\n",
       "    <tr>\n",
       "      <th>268</th>\n",
       "      <td>268</td>\n",
       "      <td>2021</td>\n",
       "      <td>MI</td>\n",
       "      <td>FT</td>\n",
       "      <td>Data Engineer</td>\n",
       "      <td>250000</td>\n",
       "      <td>TRY</td>\n",
       "      <td>28016</td>\n",
       "      <td>TR</td>\n",
       "      <td>100</td>\n",
       "      <td>TR</td>\n",
       "      <td>M</td>\n",
       "    </tr>\n",
       "    <tr>\n",
       "      <th>355</th>\n",
       "      <td>355</td>\n",
       "      <td>2022</td>\n",
       "      <td>SE</td>\n",
       "      <td>FT</td>\n",
       "      <td>Data Engineer</td>\n",
       "      <td>50000</td>\n",
       "      <td>GBP</td>\n",
       "      <td>65438</td>\n",
       "      <td>GB</td>\n",
       "      <td>0</td>\n",
       "      <td>GB</td>\n",
       "      <td>M</td>\n",
       "    </tr>\n",
       "    <tr>\n",
       "      <th>329</th>\n",
       "      <td>329</td>\n",
       "      <td>2022</td>\n",
       "      <td>MI</td>\n",
       "      <td>FT</td>\n",
       "      <td>Data Analyst</td>\n",
       "      <td>115500</td>\n",
       "      <td>USD</td>\n",
       "      <td>115500</td>\n",
       "      <td>US</td>\n",
       "      <td>100</td>\n",
       "      <td>US</td>\n",
       "      <td>M</td>\n",
       "    </tr>\n",
       "  </tbody>\n",
       "</table>\n",
       "</div>"
      ],
      "text/plain": [
       "     Unnamed: 0  work_year experience_level employment_type  \\\n",
       "366         366       2022               SE              FT   \n",
       "288         288       2021               MI              FT   \n",
       "580         580       2022               SE              FT   \n",
       "268         268       2021               MI              FT   \n",
       "355         355       2022               SE              FT   \n",
       "329         329       2022               MI              FT   \n",
       "\n",
       "                     job_title  salary salary_currency  salary_in_usd  \\\n",
       "366              Data Engineer  136000             USD         136000   \n",
       "288  Machine Learning Engineer   43200             EUR          51064   \n",
       "580               Data Analyst  126500             USD         126500   \n",
       "268              Data Engineer  250000             TRY          28016   \n",
       "355              Data Engineer   50000             GBP          65438   \n",
       "329               Data Analyst  115500             USD         115500   \n",
       "\n",
       "    employee_residence  remote_ratio company_location company_size  \n",
       "366                 US             0               US            M  \n",
       "288                 IT            50               IT            L  \n",
       "580                 US           100               US            M  \n",
       "268                 TR           100               TR            M  \n",
       "355                 GB             0               GB            M  \n",
       "329                 US           100               US            M  "
      ]
     },
     "execution_count": 4,
     "metadata": {},
     "output_type": "execute_result"
    }
   ],
   "source": [
    "#Visual Assessment\n",
    "df.sample(6)"
   ]
  },
  {
   "cell_type": "code",
   "execution_count": 5,
   "id": "3087e8bd",
   "metadata": {},
   "outputs": [
    {
     "name": "stdout",
     "output_type": "stream",
     "text": [
      "<class 'pandas.core.frame.DataFrame'>\n",
      "RangeIndex: 607 entries, 0 to 606\n",
      "Data columns (total 12 columns):\n",
      " #   Column              Non-Null Count  Dtype \n",
      "---  ------              --------------  ----- \n",
      " 0   Unnamed: 0          607 non-null    int64 \n",
      " 1   work_year           607 non-null    int64 \n",
      " 2   experience_level    607 non-null    object\n",
      " 3   employment_type     607 non-null    object\n",
      " 4   job_title           607 non-null    object\n",
      " 5   salary              607 non-null    int64 \n",
      " 6   salary_currency     607 non-null    object\n",
      " 7   salary_in_usd       607 non-null    int64 \n",
      " 8   employee_residence  607 non-null    object\n",
      " 9   remote_ratio        607 non-null    int64 \n",
      " 10  company_location    607 non-null    object\n",
      " 11  company_size        607 non-null    object\n",
      "dtypes: int64(5), object(7)\n",
      "memory usage: 57.0+ KB\n"
     ]
    }
   ],
   "source": [
    "df.info()"
   ]
  },
  {
   "cell_type": "code",
   "execution_count": 6,
   "id": "f07cb56f",
   "metadata": {},
   "outputs": [
    {
     "data": {
      "text/plain": [
       "2022    318\n",
       "2021    217\n",
       "2020     72\n",
       "Name: work_year, dtype: int64"
      ]
     },
     "execution_count": 6,
     "metadata": {},
     "output_type": "execute_result"
    }
   ],
   "source": [
    "#check the unique values in the work_year columns\n",
    "df.work_year.value_counts()"
   ]
  },
  {
   "cell_type": "code",
   "execution_count": 7,
   "id": "dfbe87dd",
   "metadata": {},
   "outputs": [
    {
     "data": {
      "text/plain": [
       "array(['MI', 'SE', 'EN', 'EX'], dtype=object)"
      ]
     },
     "execution_count": 7,
     "metadata": {},
     "output_type": "execute_result"
    }
   ],
   "source": [
    "#Check unique values of experience_level is as expeected\n",
    "\n",
    "df.experience_level.unique()"
   ]
  },
  {
   "cell_type": "code",
   "execution_count": 8,
   "id": "18dec4cf",
   "metadata": {},
   "outputs": [
    {
     "data": {
      "text/plain": [
       "array(['FT', 'CT', 'PT', 'FL'], dtype=object)"
      ]
     },
     "execution_count": 8,
     "metadata": {},
     "output_type": "execute_result"
    }
   ],
   "source": [
    "#Check unique values of employment types\n",
    "df.employment_type.unique()"
   ]
  },
  {
   "cell_type": "code",
   "execution_count": 9,
   "id": "ac261ccb",
   "metadata": {},
   "outputs": [
    {
     "data": {
      "text/plain": [
       "Data Scientist                              143\n",
       "Data Engineer                               132\n",
       "Data Analyst                                 97\n",
       "Machine Learning Engineer                    41\n",
       "Research Scientist                           16\n",
       "Data Science Manager                         12\n",
       "Data Architect                               11\n",
       "Big Data Engineer                             8\n",
       "Machine Learning Scientist                    8\n",
       "Principal Data Scientist                      7\n",
       "AI Scientist                                  7\n",
       "Data Science Consultant                       7\n",
       "Director of Data Science                      7\n",
       "Data Analytics Manager                        7\n",
       "ML Engineer                                   6\n",
       "Computer Vision Engineer                      6\n",
       "BI Data Analyst                               6\n",
       "Lead Data Engineer                            6\n",
       "Data Engineering Manager                      5\n",
       "Business Data Analyst                         5\n",
       "Head of Data                                  5\n",
       "Applied Data Scientist                        5\n",
       "Applied Machine Learning Scientist            4\n",
       "Head of Data Science                          4\n",
       "Analytics Engineer                            4\n",
       "Data Analytics Engineer                       4\n",
       "Machine Learning Developer                    3\n",
       "Machine Learning Infrastructure Engineer      3\n",
       "Lead Data Scientist                           3\n",
       "Computer Vision Software Engineer             3\n",
       "Lead Data Analyst                             3\n",
       "Data Science Engineer                         3\n",
       "Principal Data Engineer                       3\n",
       "Principal Data Analyst                        2\n",
       "ETL Developer                                 2\n",
       "Product Data Analyst                          2\n",
       "Director of Data Engineering                  2\n",
       "Financial Data Analyst                        2\n",
       "Cloud Data Engineer                           2\n",
       "Lead Machine Learning Engineer                1\n",
       "NLP Engineer                                  1\n",
       "Head of Machine Learning                      1\n",
       "3D Computer Vision Researcher                 1\n",
       "Data Specialist                               1\n",
       "Staff Data Scientist                          1\n",
       "Big Data Architect                            1\n",
       "Finance Data Analyst                          1\n",
       "Marketing Data Analyst                        1\n",
       "Machine Learning Manager                      1\n",
       "Data Analytics Lead                           1\n",
       "Name: job_title, dtype: int64"
      ]
     },
     "execution_count": 9,
     "metadata": {},
     "output_type": "execute_result"
    }
   ],
   "source": [
    "#Chech value counts of different job titles\n",
    "df.job_title.value_counts()"
   ]
  },
  {
   "cell_type": "code",
   "execution_count": 10,
   "id": "1178a8fb",
   "metadata": {},
   "outputs": [
    {
     "data": {
      "text/plain": [
       "array(['DE', 'JP', 'GB', 'HN', 'US', 'HU', 'NZ', 'FR', 'IN', 'PK', 'PL',\n",
       "       'PT', 'CN', 'GR', 'AE', 'NL', 'MX', 'CA', 'AT', 'NG', 'PH', 'ES',\n",
       "       'DK', 'RU', 'IT', 'HR', 'BG', 'SG', 'BR', 'IQ', 'VN', 'BE', 'UA',\n",
       "       'MT', 'CL', 'RO', 'IR', 'CO', 'MD', 'KE', 'SI', 'HK', 'TR', 'RS',\n",
       "       'PR', 'LU', 'JE', 'CZ', 'AR', 'DZ', 'TN', 'MY', 'EE', 'AU', 'BO',\n",
       "       'IE', 'CH'], dtype=object)"
      ]
     },
     "execution_count": 10,
     "metadata": {},
     "output_type": "execute_result"
    }
   ],
   "source": [
    "df.employee_residence.unique()"
   ]
  },
  {
   "cell_type": "code",
   "execution_count": 11,
   "id": "467e2a9c",
   "metadata": {},
   "outputs": [
    {
     "data": {
      "text/plain": [
       "array(['L', 'S', 'M'], dtype=object)"
      ]
     },
     "execution_count": 11,
     "metadata": {},
     "output_type": "execute_result"
    }
   ],
   "source": [
    "#Check unique values in company size\n",
    "df.company_size.unique()"
   ]
  },
  {
   "cell_type": "markdown",
   "id": "b7d1a6bd",
   "metadata": {},
   "source": [
    "### Data Assessments\n",
    "\n",
    "- Redundant columns ---> salary, salary_currency, Unnamed column irrelevant, a product of not ignoring the index when it was saved\n",
    "- work year column should be datetime datatype\n",
    "- Infromation shorthand entry in experience level is ambigous\n",
    "- Experience level should be an ordered category type\n",
    "- Columns of employment type contains ambigous values\n",
    "- There are varying form of job description in the job title column of the same job. (#Define function that uses str.contains to replace certain job types.)\n",
    "- Employe Residence and company loaction is ambigous.\n",
    "- Remote Ratio values can be misleading and data type ought to be string or object\n",
    "- Company size is an ordinal datatype and should be ordered from small to medium and to large. (Also needs renaming)"
   ]
  },
  {
   "cell_type": "markdown",
   "id": "d3c65876",
   "metadata": {},
   "source": [
    "### Data Cleaning"
   ]
  },
  {
   "cell_type": "code",
   "execution_count": 12,
   "id": "b526a9fd",
   "metadata": {},
   "outputs": [],
   "source": [
    "#make copy of original dataframe\n",
    "df_clean = df.copy()"
   ]
  },
  {
   "cell_type": "code",
   "execution_count": 13,
   "id": "4fee2f2a",
   "metadata": {},
   "outputs": [
    {
     "data": {
      "text/plain": [
       "(607, 12)"
      ]
     },
     "execution_count": 13,
     "metadata": {},
     "output_type": "execute_result"
    }
   ],
   "source": [
    "#Check shape of original df before cleaning\n",
    "df_clean.shape"
   ]
  },
  {
   "cell_type": "markdown",
   "id": "e3bb9fae",
   "metadata": {},
   "source": [
    "### At this stage, cleaning proper begins using the define, code and test framework."
   ]
  },
  {
   "cell_type": "markdown",
   "id": "5db022a1",
   "metadata": {},
   "source": [
    "#### Redundant columns ---> salary, salary_currency, Unnamed column irrelevant, a product of not ignoring the index when it was saved\n",
    "\n",
    "> #### Define\n",
    ">- drop redundant columns (unnamed, salary, salary_currency)\n",
    "\n",
    "#### Code"
   ]
  },
  {
   "cell_type": "code",
   "execution_count": 14,
   "id": "5aae0cb6",
   "metadata": {},
   "outputs": [],
   "source": [
    "#Drop redundant columns\n",
    "df_clean.drop(columns = [\"Unnamed: 0\", \"salary\", \"salary_currency\"], inplace = True)"
   ]
  },
  {
   "cell_type": "markdown",
   "id": "aa5b3c46",
   "metadata": {},
   "source": [
    "#### Test"
   ]
  },
  {
   "cell_type": "code",
   "execution_count": 15,
   "id": "f7646394",
   "metadata": {},
   "outputs": [
    {
     "data": {
      "text/plain": [
       "[False, False, False]"
      ]
     },
     "execution_count": 15,
     "metadata": {},
     "output_type": "execute_result"
    }
   ],
   "source": [
    "cols = [\"Unnamed: 0\", \"salary\", \"salary_currency\"]\n",
    "[col in df_clean.columns for col in cols] #Check if each dropped column is in df_clean"
   ]
  },
  {
   "cell_type": "markdown",
   "id": "e2afe0bb",
   "metadata": {},
   "source": [
    "#### Work year column should be datetime datatype\n",
    "\n",
    "> #### Define\n",
    "> - Convert work year column to datetime object\n",
    "\n",
    "#### Code"
   ]
  },
  {
   "cell_type": "code",
   "execution_count": 16,
   "id": "0bf2540e",
   "metadata": {},
   "outputs": [],
   "source": [
    "#Use pd datetime to convert to dataetime object\n",
    "\n",
    "df_clean[\"work_year\"] = pd.to_datetime(df.work_year, format = \"%Y\")"
   ]
  },
  {
   "cell_type": "markdown",
   "id": "8a5baf32",
   "metadata": {},
   "source": [
    "#### Test"
   ]
  },
  {
   "cell_type": "code",
   "execution_count": 17,
   "id": "327a5aaf",
   "metadata": {},
   "outputs": [
    {
     "data": {
      "text/plain": [
       "dtype('<M8[ns]')"
      ]
     },
     "execution_count": 17,
     "metadata": {},
     "output_type": "execute_result"
    }
   ],
   "source": [
    "df_clean.work_year.dtype"
   ]
  },
  {
   "cell_type": "markdown",
   "id": "d6823ea9",
   "metadata": {},
   "source": [
    "#### Infromation shorthand entry in experience level is ambigous and no category ordering\n",
    "\n",
    "> #### Define\n",
    ">- Use the series.map to replace the values\n",
    ">- Use pd.api to convert to category datatype with order\n",
    "\n",
    "#### Code"
   ]
  },
  {
   "cell_type": "code",
   "execution_count": 18,
   "id": "fd0d4bf7",
   "metadata": {},
   "outputs": [
    {
     "data": {
      "text/plain": [
       "Index(['work_year', 'experience_level', 'employment_type', 'job_title',\n",
       "       'salary_in_usd', 'employee_residence', 'remote_ratio',\n",
       "       'company_location', 'company_size'],\n",
       "      dtype='object')"
      ]
     },
     "execution_count": 18,
     "metadata": {},
     "output_type": "execute_result"
    }
   ],
   "source": [
    "df_clean.columns"
   ]
  },
  {
   "cell_type": "code",
   "execution_count": 19,
   "id": "130134df",
   "metadata": {},
   "outputs": [
    {
     "data": {
      "text/plain": [
       "{'MI': 'Mid-level',\n",
       " 'SE': 'Senior-level',\n",
       " 'EN': 'Entry-level',\n",
       " 'EX': 'Executive-level'}"
      ]
     },
     "execution_count": 19,
     "metadata": {},
     "output_type": "execute_result"
    }
   ],
   "source": [
    "#Construct dictionary to replace specific values\n",
    "sh_exp = list(df_clean.experience_level.unique())\n",
    "full_exp = [\"Mid-level\", \"Senior-level\", \"Entry-level\", \"Executive-level\"]\n",
    "experience_dict = dict(zip(sh_exp, full_exp))\n",
    "experience_dict"
   ]
  },
  {
   "cell_type": "code",
   "execution_count": 20,
   "id": "3da01d32",
   "metadata": {},
   "outputs": [],
   "source": [
    "#Replace values of experience level\n",
    "df_clean[\"experience_level\"] = df_clean.experience_level.map(experience_dict)"
   ]
  },
  {
   "cell_type": "code",
   "execution_count": 21,
   "id": "62f4ec60",
   "metadata": {},
   "outputs": [],
   "source": [
    "#Converting experience level to ordered category type\n",
    "ordered_experience = [\"Entry-level\", \"Mid-level\", \"Senior-level\", \"Executive-level\"]\n",
    "experience_dtype = pd.api.types.CategoricalDtype(categories = ordered_experience, ordered=True)\n",
    "df_clean[\"experience_level\"] = df_clean.experience_level.astype(experience_dtype)"
   ]
  },
  {
   "cell_type": "markdown",
   "id": "a1bf8b10",
   "metadata": {},
   "source": [
    "#### Test"
   ]
  },
  {
   "cell_type": "code",
   "execution_count": 22,
   "id": "0d86fba8",
   "metadata": {},
   "outputs": [
    {
     "data": {
      "text/plain": [
       "['Mid-level', 'Senior-level', 'Entry-level', 'Executive-level']\n",
       "Categories (4, object): ['Entry-level' < 'Mid-level' < 'Senior-level' < 'Executive-level']"
      ]
     },
     "execution_count": 22,
     "metadata": {},
     "output_type": "execute_result"
    }
   ],
   "source": [
    "df_clean[\"experience_level\"].unique()"
   ]
  },
  {
   "cell_type": "markdown",
   "id": "f3c844bc",
   "metadata": {},
   "source": [
    "#### Columns of employment type contains ambigous values\n",
    "\n",
    "> #### Define\n",
    "> - Use pd series.map to replace values\n",
    "\n",
    "#### Code"
   ]
  },
  {
   "cell_type": "code",
   "execution_count": 23,
   "id": "f558ef84",
   "metadata": {},
   "outputs": [],
   "source": [
    "#Creating dictionary for mapping\n",
    "sh_emp_type = list(df_clean.employment_type.unique())\n",
    "emp_type_full = [\"Full Time\", \"Contract\", \"Part Time\", \"Freelance\"]\n",
    "emp_type_dict = dict(zip(sh_emp_type, emp_type_full))"
   ]
  },
  {
   "cell_type": "code",
   "execution_count": 24,
   "id": "a1a2a202",
   "metadata": {},
   "outputs": [],
   "source": [
    "#Renaming values using the series.map method\n",
    "\n",
    "df_clean[\"employment_type\"] = df_clean.employment_type.map(emp_type_dict)"
   ]
  },
  {
   "cell_type": "markdown",
   "id": "bf0282b0",
   "metadata": {},
   "source": [
    "#### Test"
   ]
  },
  {
   "cell_type": "code",
   "execution_count": 25,
   "id": "4402768a",
   "metadata": {
    "scrolled": true
   },
   "outputs": [
    {
     "data": {
      "text/plain": [
       "array(['Full Time', 'Contract', 'Part Time', 'Freelance'], dtype=object)"
      ]
     },
     "execution_count": 25,
     "metadata": {},
     "output_type": "execute_result"
    }
   ],
   "source": [
    "df_clean.employment_type.unique()"
   ]
  },
  {
   "cell_type": "markdown",
   "id": "212d22cf",
   "metadata": {},
   "source": [
    "#### There are varying form of job description in the job title column of the same job.\n",
    "\n",
    "> #### Define\n",
    ">- Convert job description column to lower case character\n",
    "> - Define function that replaces the chaarcters based on certain conditions\n",
    "\n",
    "#### Code"
   ]
  },
  {
   "cell_type": "code",
   "execution_count": 26,
   "id": "02bf5bf8",
   "metadata": {},
   "outputs": [],
   "source": [
    "#Convert job_title to lower character\n",
    "\n",
    "df_clean[\"job_title\"] = df_clean.job_title.str.lower()"
   ]
  },
  {
   "cell_type": "code",
   "execution_count": 27,
   "id": "278b727c",
   "metadata": {},
   "outputs": [],
   "source": [
    "#Define function for converting strings in job title column\n",
    "def str_replace(row):\n",
    "    \n",
    "    \"\"\"Function replaces the values \n",
    "    with appropriate data science roles. E.g \n",
    "    ML with machine learning\"\"\"\n",
    "    \n",
    "    if \"data sci\" in row:\n",
    "        return \"Data Scientist\"\n",
    "    elif \"data engineer\" in row:\n",
    "        return \"Data Engineer\"\n",
    "    elif \"data analy\" in row:\n",
    "        return \"Data Analyst\"\n",
    "    elif \"machine learning\" in row:\n",
    "        return \"Machine Learning\"\n",
    "    elif row in [\"ml engineer\", \"computer vision engineer\", \n",
    "                 \"computer vision software engineer\", \"nlp engineer\", \n",
    "                 \"3d computer vision researcher\", \"ai scientist\"]:\n",
    "        return \"Machine Learning\"\n",
    "    elif \"data architect\" in row:\n",
    "        return \"Data Architect\"\n",
    "    elif row == \"etl developer\":\n",
    "        return \"Data Engineer\"\n",
    "    elif row in [\"data specialist\", \"head of data\"]:\n",
    "        return \"Data Scientist\"\n",
    "    else:\n",
    "        return row"
   ]
  },
  {
   "cell_type": "code",
   "execution_count": 28,
   "id": "9aea90dd",
   "metadata": {},
   "outputs": [],
   "source": [
    "#Apply function defined above\n",
    "\n",
    "df_clean[\"job_title\"] = df_clean[\"job_title\"].apply(str_replace)\n",
    "\n",
    "#capitalize each word to have uniformity\n",
    "\n",
    "df[\"job_title\"] = df_clean[\"job_title\"].str.capitalize()"
   ]
  },
  {
   "cell_type": "markdown",
   "id": "93b835dc",
   "metadata": {},
   "source": [
    "#### Test"
   ]
  },
  {
   "cell_type": "code",
   "execution_count": 29,
   "id": "124b0dbd",
   "metadata": {},
   "outputs": [
    {
     "data": {
      "text/plain": [
       "Data scientist        198\n",
       "Data engineer         160\n",
       "Data analyst          131\n",
       "Machine learning       86\n",
       "Research scientist     16\n",
       "Data architect         12\n",
       "Analytics engineer      4\n",
       "Name: job_title, dtype: int64"
      ]
     },
     "execution_count": 29,
     "metadata": {},
     "output_type": "execute_result"
    }
   ],
   "source": [
    "df[\"job_title\"].value_counts()"
   ]
  },
  {
   "cell_type": "markdown",
   "id": "8e5fa5d0",
   "metadata": {},
   "source": [
    "#### Employe Residence and Company loaction is ambigous.\n",
    "\n",
    "> #### Define\n",
    "> - Use pyconutry library to replace short hand names\n",
    "\n",
    "#### Code"
   ]
  },
  {
   "cell_type": "code",
   "execution_count": 30,
   "id": "8b70d302",
   "metadata": {},
   "outputs": [],
   "source": [
    "#Use pycountry to extarct country names\n",
    "df_clean[\"employee_residence_iso\"] = [pycountry.countries.get(alpha_2 = country).alpha_3 for country in df_clean.employee_residence]\n",
    "df_clean[\"company_location_iso\"] = [pycountry.countries.get(alpha_2 = country).alpha_3 for country in df_clean.company_location]\n",
    "\n",
    "df_clean[\"employee_residence\"] = [pycountry.countries.get(alpha_2 = country).name for country in df_clean.employee_residence]\n",
    "df_clean[\"company_location\"] = [pycountry.countries.get(alpha_2 = country).name for country in df_clean.company_location]"
   ]
  },
  {
   "cell_type": "markdown",
   "id": "e6433377",
   "metadata": {},
   "source": [
    "#### Test"
   ]
  },
  {
   "cell_type": "code",
   "execution_count": 31,
   "id": "9b079574",
   "metadata": {},
   "outputs": [
    {
     "data": {
      "text/plain": [
       "array(['Germany', 'Japan', 'United Kingdom', 'Honduras', 'United States',\n",
       "       'Hungary', 'New Zealand', 'France', 'India', 'Pakistan'],\n",
       "      dtype=object)"
      ]
     },
     "execution_count": 31,
     "metadata": {},
     "output_type": "execute_result"
    }
   ],
   "source": [
    "df_clean[\"employee_residence\"].unique()[:10]"
   ]
  },
  {
   "cell_type": "code",
   "execution_count": 32,
   "id": "bc71ae31",
   "metadata": {
    "scrolled": true
   },
   "outputs": [
    {
     "data": {
      "text/plain": [
       "array(['Germany', 'Japan', 'United Kingdom', 'Honduras', 'United States',\n",
       "       'Hungary', 'New Zealand', 'France', 'India', 'Pakistan'],\n",
       "      dtype=object)"
      ]
     },
     "execution_count": 32,
     "metadata": {},
     "output_type": "execute_result"
    }
   ],
   "source": [
    "df_clean[\"company_location\"].unique()[:10]"
   ]
  },
  {
   "cell_type": "markdown",
   "id": "bcafeb7c",
   "metadata": {},
   "source": [
    "#### Remote Ratio values can be misleading and data type ought to be string or object\n",
    "\n",
    "> #### Define\n",
    "> - Convert values to appropriate names\n",
    ">- Ensure the datatype is object\n",
    "\n",
    "#### Code"
   ]
  },
  {
   "cell_type": "code",
   "execution_count": 33,
   "id": "4b6736eb",
   "metadata": {},
   "outputs": [],
   "source": [
    "#Create map dictionary for mapping with remote_ratio\n",
    "\n",
    "remote_map = {0: \"<20% Remote\",\n",
    "             50: \"Partial Remote\",\n",
    "             100: \">80% Remote\"}"
   ]
  },
  {
   "cell_type": "code",
   "execution_count": 34,
   "id": "c8c030de",
   "metadata": {},
   "outputs": [],
   "source": [
    "#Assign new mapping to the column\n",
    "\n",
    "df_clean[\"remote_ratio\"] = df_clean.remote_ratio.map(remote_map)"
   ]
  },
  {
   "cell_type": "markdown",
   "id": "7a0cb05e",
   "metadata": {},
   "source": [
    "#### Test"
   ]
  },
  {
   "cell_type": "code",
   "execution_count": 35,
   "id": "e93e4080",
   "metadata": {},
   "outputs": [
    {
     "data": {
      "text/plain": [
       "array(['<20% Remote', 'Partial Remote', '>80% Remote'], dtype=object)"
      ]
     },
     "execution_count": 35,
     "metadata": {},
     "output_type": "execute_result"
    }
   ],
   "source": [
    "df_clean.remote_ratio.unique()"
   ]
  },
  {
   "cell_type": "markdown",
   "id": "a9b73716",
   "metadata": {},
   "source": [
    "#### Company size is an ordinal datatype and should be ordered from small to medium and to large. (Also needs renaming)\n",
    "\n",
    "> #### Define\n",
    "> - Rename values and convert data to an ordered category\n",
    "\n",
    "#### Code"
   ]
  },
  {
   "cell_type": "code",
   "execution_count": 36,
   "id": "bd5957e9",
   "metadata": {},
   "outputs": [],
   "source": [
    "#make map dictionary for renameing\n",
    "\n",
    "size_map = {\"L\": \"Large\",\n",
    "           \"S\": \"Small\",\n",
    "           \"M\": \"Medium\"}\n",
    "\n",
    "#Rename values in the comapny size column\n",
    "df_clean[\"company_size\"] = df_clean.company_size.map(size_map)"
   ]
  },
  {
   "cell_type": "code",
   "execution_count": 37,
   "id": "29d6bee8",
   "metadata": {},
   "outputs": [],
   "source": [
    "#Create ordered category\n",
    "size_list = [\"Small\", \"Medium\", \"Large\"]\n",
    "size_cat = pd.api.types.CategoricalDtype(categories=size_list, ordered=True)\n",
    "\n",
    "#Change category to ordered category\n",
    "df_clean[\"company_size\"] = df_clean[\"company_size\"].astype(size_cat)"
   ]
  },
  {
   "cell_type": "markdown",
   "id": "af9fef61",
   "metadata": {},
   "source": [
    "#### Test"
   ]
  },
  {
   "cell_type": "code",
   "execution_count": 38,
   "id": "414e35ac",
   "metadata": {},
   "outputs": [
    {
     "data": {
      "text/plain": [
       "['Large', 'Small', 'Medium']\n",
       "Categories (3, object): ['Small' < 'Medium' < 'Large']"
      ]
     },
     "execution_count": 38,
     "metadata": {},
     "output_type": "execute_result"
    }
   ],
   "source": [
    "df_clean.company_size.unique()"
   ]
  },
  {
   "cell_type": "markdown",
   "id": "dd3ba5e2",
   "metadata": {},
   "source": [
    "## Exploratory Data Analysis\n",
    "\n",
    "> *We will be using the question-vizulaization-observation framework in this section. And the sections will be split into investigating univariate plots, bivariate plots and multivariate plots*"
   ]
  },
  {
   "cell_type": "markdown",
   "id": "19209937",
   "metadata": {},
   "source": [
    "### General data description"
   ]
  },
  {
   "cell_type": "code",
   "execution_count": 39,
   "id": "b1480c4d",
   "metadata": {},
   "outputs": [
    {
     "name": "stdout",
     "output_type": "stream",
     "text": [
      "<class 'pandas.core.frame.DataFrame'>\n",
      "RangeIndex: 607 entries, 0 to 606\n",
      "Data columns (total 11 columns):\n",
      " #   Column                  Non-Null Count  Dtype         \n",
      "---  ------                  --------------  -----         \n",
      " 0   work_year               607 non-null    datetime64[ns]\n",
      " 1   experience_level        607 non-null    category      \n",
      " 2   employment_type         607 non-null    object        \n",
      " 3   job_title               607 non-null    object        \n",
      " 4   salary_in_usd           607 non-null    int64         \n",
      " 5   employee_residence      607 non-null    object        \n",
      " 6   remote_ratio            607 non-null    object        \n",
      " 7   company_location        607 non-null    object        \n",
      " 8   company_size            607 non-null    category      \n",
      " 9   employee_residence_iso  607 non-null    object        \n",
      " 10  company_location_iso    607 non-null    object        \n",
      "dtypes: category(2), datetime64[ns](1), int64(1), object(7)\n",
      "memory usage: 44.3+ KB\n"
     ]
    }
   ],
   "source": [
    "df_clean.info()"
   ]
  },
  {
   "cell_type": "code",
   "execution_count": 40,
   "id": "85d64879",
   "metadata": {},
   "outputs": [
    {
     "data": {
      "text/html": [
       "<div>\n",
       "<style scoped>\n",
       "    .dataframe tbody tr th:only-of-type {\n",
       "        vertical-align: middle;\n",
       "    }\n",
       "\n",
       "    .dataframe tbody tr th {\n",
       "        vertical-align: top;\n",
       "    }\n",
       "\n",
       "    .dataframe thead th {\n",
       "        text-align: right;\n",
       "    }\n",
       "</style>\n",
       "<table border=\"1\" class=\"dataframe\">\n",
       "  <thead>\n",
       "    <tr style=\"text-align: right;\">\n",
       "      <th></th>\n",
       "      <th>work_year</th>\n",
       "      <th>experience_level</th>\n",
       "      <th>employment_type</th>\n",
       "      <th>job_title</th>\n",
       "      <th>salary_in_usd</th>\n",
       "      <th>employee_residence</th>\n",
       "      <th>remote_ratio</th>\n",
       "      <th>company_location</th>\n",
       "      <th>company_size</th>\n",
       "      <th>employee_residence_iso</th>\n",
       "      <th>company_location_iso</th>\n",
       "    </tr>\n",
       "  </thead>\n",
       "  <tbody>\n",
       "    <tr>\n",
       "      <th>0</th>\n",
       "      <td>2020-01-01</td>\n",
       "      <td>Mid-level</td>\n",
       "      <td>Full Time</td>\n",
       "      <td>Data Scientist</td>\n",
       "      <td>79833</td>\n",
       "      <td>Germany</td>\n",
       "      <td>&lt;20% Remote</td>\n",
       "      <td>Germany</td>\n",
       "      <td>Large</td>\n",
       "      <td>DEU</td>\n",
       "      <td>DEU</td>\n",
       "    </tr>\n",
       "    <tr>\n",
       "      <th>1</th>\n",
       "      <td>2020-01-01</td>\n",
       "      <td>Senior-level</td>\n",
       "      <td>Full Time</td>\n",
       "      <td>Machine Learning</td>\n",
       "      <td>260000</td>\n",
       "      <td>Japan</td>\n",
       "      <td>&lt;20% Remote</td>\n",
       "      <td>Japan</td>\n",
       "      <td>Small</td>\n",
       "      <td>JPN</td>\n",
       "      <td>JPN</td>\n",
       "    </tr>\n",
       "    <tr>\n",
       "      <th>2</th>\n",
       "      <td>2020-01-01</td>\n",
       "      <td>Senior-level</td>\n",
       "      <td>Full Time</td>\n",
       "      <td>Data Engineer</td>\n",
       "      <td>109024</td>\n",
       "      <td>United Kingdom</td>\n",
       "      <td>Partial Remote</td>\n",
       "      <td>United Kingdom</td>\n",
       "      <td>Medium</td>\n",
       "      <td>GBR</td>\n",
       "      <td>GBR</td>\n",
       "    </tr>\n",
       "    <tr>\n",
       "      <th>3</th>\n",
       "      <td>2020-01-01</td>\n",
       "      <td>Mid-level</td>\n",
       "      <td>Full Time</td>\n",
       "      <td>Data Analyst</td>\n",
       "      <td>20000</td>\n",
       "      <td>Honduras</td>\n",
       "      <td>&lt;20% Remote</td>\n",
       "      <td>Honduras</td>\n",
       "      <td>Small</td>\n",
       "      <td>HND</td>\n",
       "      <td>HND</td>\n",
       "    </tr>\n",
       "    <tr>\n",
       "      <th>4</th>\n",
       "      <td>2020-01-01</td>\n",
       "      <td>Senior-level</td>\n",
       "      <td>Full Time</td>\n",
       "      <td>Machine Learning</td>\n",
       "      <td>150000</td>\n",
       "      <td>United States</td>\n",
       "      <td>Partial Remote</td>\n",
       "      <td>United States</td>\n",
       "      <td>Large</td>\n",
       "      <td>USA</td>\n",
       "      <td>USA</td>\n",
       "    </tr>\n",
       "  </tbody>\n",
       "</table>\n",
       "</div>"
      ],
      "text/plain": [
       "   work_year experience_level employment_type         job_title  \\\n",
       "0 2020-01-01        Mid-level       Full Time    Data Scientist   \n",
       "1 2020-01-01     Senior-level       Full Time  Machine Learning   \n",
       "2 2020-01-01     Senior-level       Full Time     Data Engineer   \n",
       "3 2020-01-01        Mid-level       Full Time      Data Analyst   \n",
       "4 2020-01-01     Senior-level       Full Time  Machine Learning   \n",
       "\n",
       "   salary_in_usd employee_residence    remote_ratio company_location  \\\n",
       "0          79833            Germany     <20% Remote          Germany   \n",
       "1         260000              Japan     <20% Remote            Japan   \n",
       "2         109024     United Kingdom  Partial Remote   United Kingdom   \n",
       "3          20000           Honduras     <20% Remote         Honduras   \n",
       "4         150000      United States  Partial Remote    United States   \n",
       "\n",
       "  company_size employee_residence_iso company_location_iso  \n",
       "0        Large                    DEU                  DEU  \n",
       "1        Small                    JPN                  JPN  \n",
       "2       Medium                    GBR                  GBR  \n",
       "3        Small                    HND                  HND  \n",
       "4        Large                    USA                  USA  "
      ]
     },
     "execution_count": 40,
     "metadata": {},
     "output_type": "execute_result"
    }
   ],
   "source": [
    "df_clean.head()"
   ]
  },
  {
   "cell_type": "code",
   "execution_count": 41,
   "id": "b2b57ab1",
   "metadata": {},
   "outputs": [
    {
     "data": {
      "text/html": [
       "<div>\n",
       "<style scoped>\n",
       "    .dataframe tbody tr th:only-of-type {\n",
       "        vertical-align: middle;\n",
       "    }\n",
       "\n",
       "    .dataframe tbody tr th {\n",
       "        vertical-align: top;\n",
       "    }\n",
       "\n",
       "    .dataframe thead th {\n",
       "        text-align: right;\n",
       "    }\n",
       "</style>\n",
       "<table border=\"1\" class=\"dataframe\">\n",
       "  <thead>\n",
       "    <tr style=\"text-align: right;\">\n",
       "      <th></th>\n",
       "      <th>employment_type</th>\n",
       "      <th>job_title</th>\n",
       "      <th>employee_residence</th>\n",
       "      <th>remote_ratio</th>\n",
       "      <th>company_location</th>\n",
       "      <th>employee_residence_iso</th>\n",
       "      <th>company_location_iso</th>\n",
       "    </tr>\n",
       "  </thead>\n",
       "  <tbody>\n",
       "    <tr>\n",
       "      <th>count</th>\n",
       "      <td>607</td>\n",
       "      <td>607</td>\n",
       "      <td>607</td>\n",
       "      <td>607</td>\n",
       "      <td>607</td>\n",
       "      <td>607</td>\n",
       "      <td>607</td>\n",
       "    </tr>\n",
       "    <tr>\n",
       "      <th>unique</th>\n",
       "      <td>4</td>\n",
       "      <td>7</td>\n",
       "      <td>57</td>\n",
       "      <td>3</td>\n",
       "      <td>50</td>\n",
       "      <td>57</td>\n",
       "      <td>50</td>\n",
       "    </tr>\n",
       "    <tr>\n",
       "      <th>top</th>\n",
       "      <td>Full Time</td>\n",
       "      <td>Data Scientist</td>\n",
       "      <td>United States</td>\n",
       "      <td>&gt;80% Remote</td>\n",
       "      <td>United States</td>\n",
       "      <td>USA</td>\n",
       "      <td>USA</td>\n",
       "    </tr>\n",
       "    <tr>\n",
       "      <th>freq</th>\n",
       "      <td>588</td>\n",
       "      <td>198</td>\n",
       "      <td>332</td>\n",
       "      <td>381</td>\n",
       "      <td>355</td>\n",
       "      <td>332</td>\n",
       "      <td>355</td>\n",
       "    </tr>\n",
       "  </tbody>\n",
       "</table>\n",
       "</div>"
      ],
      "text/plain": [
       "       employment_type       job_title employee_residence remote_ratio  \\\n",
       "count              607             607                607          607   \n",
       "unique               4               7                 57            3   \n",
       "top          Full Time  Data Scientist      United States  >80% Remote   \n",
       "freq               588             198                332          381   \n",
       "\n",
       "       company_location employee_residence_iso company_location_iso  \n",
       "count               607                    607                  607  \n",
       "unique               50                     57                   50  \n",
       "top       United States                    USA                  USA  \n",
       "freq                355                    332                  355  "
      ]
     },
     "execution_count": 41,
     "metadata": {},
     "output_type": "execute_result"
    }
   ],
   "source": [
    "df_clean.select_dtypes(\"object\").describe()"
   ]
  },
  {
   "cell_type": "code",
   "execution_count": 42,
   "id": "2417cc1a",
   "metadata": {},
   "outputs": [
    {
     "data": {
      "text/html": [
       "<div>\n",
       "<style scoped>\n",
       "    .dataframe tbody tr th:only-of-type {\n",
       "        vertical-align: middle;\n",
       "    }\n",
       "\n",
       "    .dataframe tbody tr th {\n",
       "        vertical-align: top;\n",
       "    }\n",
       "\n",
       "    .dataframe thead th {\n",
       "        text-align: right;\n",
       "    }\n",
       "</style>\n",
       "<table border=\"1\" class=\"dataframe\">\n",
       "  <thead>\n",
       "    <tr style=\"text-align: right;\">\n",
       "      <th></th>\n",
       "      <th>salary_in_usd</th>\n",
       "    </tr>\n",
       "  </thead>\n",
       "  <tbody>\n",
       "    <tr>\n",
       "      <th>count</th>\n",
       "      <td>607.000000</td>\n",
       "    </tr>\n",
       "    <tr>\n",
       "      <th>mean</th>\n",
       "      <td>112297.869852</td>\n",
       "    </tr>\n",
       "    <tr>\n",
       "      <th>std</th>\n",
       "      <td>70957.259411</td>\n",
       "    </tr>\n",
       "    <tr>\n",
       "      <th>min</th>\n",
       "      <td>2859.000000</td>\n",
       "    </tr>\n",
       "    <tr>\n",
       "      <th>25%</th>\n",
       "      <td>62726.000000</td>\n",
       "    </tr>\n",
       "    <tr>\n",
       "      <th>50%</th>\n",
       "      <td>101570.000000</td>\n",
       "    </tr>\n",
       "    <tr>\n",
       "      <th>75%</th>\n",
       "      <td>150000.000000</td>\n",
       "    </tr>\n",
       "    <tr>\n",
       "      <th>max</th>\n",
       "      <td>600000.000000</td>\n",
       "    </tr>\n",
       "  </tbody>\n",
       "</table>\n",
       "</div>"
      ],
      "text/plain": [
       "       salary_in_usd\n",
       "count     607.000000\n",
       "mean   112297.869852\n",
       "std     70957.259411\n",
       "min      2859.000000\n",
       "25%     62726.000000\n",
       "50%    101570.000000\n",
       "75%    150000.000000\n",
       "max    600000.000000"
      ]
     },
     "execution_count": 42,
     "metadata": {},
     "output_type": "execute_result"
    }
   ],
   "source": [
    "df_clean.select_dtypes(\"number\").describe()"
   ]
  },
  {
   "cell_type": "code",
   "execution_count": 43,
   "id": "5f7ba470",
   "metadata": {},
   "outputs": [
    {
     "data": {
      "text/html": [
       "<div>\n",
       "<style scoped>\n",
       "    .dataframe tbody tr th:only-of-type {\n",
       "        vertical-align: middle;\n",
       "    }\n",
       "\n",
       "    .dataframe tbody tr th {\n",
       "        vertical-align: top;\n",
       "    }\n",
       "\n",
       "    .dataframe thead th {\n",
       "        text-align: right;\n",
       "    }\n",
       "</style>\n",
       "<table border=\"1\" class=\"dataframe\">\n",
       "  <thead>\n",
       "    <tr style=\"text-align: right;\">\n",
       "      <th></th>\n",
       "      <th>experience_level</th>\n",
       "      <th>company_size</th>\n",
       "    </tr>\n",
       "  </thead>\n",
       "  <tbody>\n",
       "    <tr>\n",
       "      <th>count</th>\n",
       "      <td>607</td>\n",
       "      <td>607</td>\n",
       "    </tr>\n",
       "    <tr>\n",
       "      <th>unique</th>\n",
       "      <td>4</td>\n",
       "      <td>3</td>\n",
       "    </tr>\n",
       "    <tr>\n",
       "      <th>top</th>\n",
       "      <td>Senior-level</td>\n",
       "      <td>Medium</td>\n",
       "    </tr>\n",
       "    <tr>\n",
       "      <th>freq</th>\n",
       "      <td>280</td>\n",
       "      <td>326</td>\n",
       "    </tr>\n",
       "  </tbody>\n",
       "</table>\n",
       "</div>"
      ],
      "text/plain": [
       "       experience_level company_size\n",
       "count               607          607\n",
       "unique                4            3\n",
       "top        Senior-level       Medium\n",
       "freq                280          326"
      ]
     },
     "execution_count": 43,
     "metadata": {},
     "output_type": "execute_result"
    }
   ],
   "source": [
    "df_clean.select_dtypes(\"category\").describe()"
   ]
  },
  {
   "cell_type": "markdown",
   "id": "16ae4796",
   "metadata": {},
   "source": [
    "From the above summary statistics, we know the following:\n",
    "- Most of the employment type is Full time\n",
    "- The highest frequency ocunts of job_title is data scientist\n",
    "- The employee residence and company location have United States as their highest frequency count.\n",
    "- The highest frequency count of the experience_level is the senir level\n",
    "- The mean salary for data science job is $112,672"
   ]
  },
  {
   "cell_type": "markdown",
   "id": "2a1a6e62",
   "metadata": {},
   "source": [
    "### Univariate Analysis"
   ]
  },
  {
   "cell_type": "markdown",
   "id": "d0fb4967",
   "metadata": {},
   "source": [
    "#### What is the distribution of the experience_level?"
   ]
  },
  {
   "cell_type": "code",
   "execution_count": 44,
   "id": "a6cd6ab1",
   "metadata": {},
   "outputs": [],
   "source": [
    "#Generate base color\n",
    "base_color = sns.color_palette()[0]"
   ]
  },
  {
   "cell_type": "code",
   "execution_count": 45,
   "id": "ef5599f2",
   "metadata": {},
   "outputs": [
    {
     "data": {
      "image/png": "[encoded data removed]",
      "text/plain": [
       "<Figure size 432x288 with 1 Axes>"
      ]
     },
     "metadata": {
      "needs_background": "light"
     },
     "output_type": "display_data"
    }
   ],
   "source": [
    "#distribution of experience level\n",
    "\n",
    "sns.countplot(data= df_clean, x = \"experience_level\", color = \"b\");"
   ]
  },
  {
   "cell_type": "code",
   "execution_count": 46,
   "id": "a0e0c4da",
   "metadata": {},
   "outputs": [
    {
     "data": {
      "image/png": "[encoded data removed]",
      "text/plain": [
       "<Figure size 432x288 with 1 Axes>"
      ]
     },
     "metadata": {
      "needs_background": "light"
     },
     "output_type": "display_data"
    }
   ],
   "source": [
    "#Make plot relative\n",
    "df_clean[\"experience_level\"].value_counts(normalize = True).sort_index().plot(kind = \"bar\", color = \"b\")\n",
    "plt.xlabel(\"Experience Level\")\n",
    "plt.ylabel(\"Ratio\\n (All adds up to 1)\");"
   ]
  },
  {
   "cell_type": "markdown",
   "id": "9b70cf49",
   "metadata": {},
   "source": [
    "**Observation:** The data consists mostly of Mid-level roles and Senior-level roles with a little over 10% as entry roles and less than 10% Executive roles."
   ]
  },
  {
   "cell_type": "markdown",
   "id": "bbe81366",
   "metadata": {},
   "source": [
    "#### Question: What is the distribution of employment type?"
   ]
  },
  {
   "cell_type": "code",
   "execution_count": 47,
   "id": "ef9637b3",
   "metadata": {},
   "outputs": [
    {
     "data": {
      "text/plain": [
       "<AxesSubplot:xlabel='employment_type', ylabel='count'>"
      ]
     },
     "execution_count": 47,
     "metadata": {},
     "output_type": "execute_result"
    },
    {
     "data": {
      "image/png": "[encoded data removed]",
      "text/plain": [
       "<Figure size 432x288 with 1 Axes>"
      ]
     },
     "metadata": {
      "needs_background": "light"
     },
     "output_type": "display_data"
    }
   ],
   "source": [
    "sns.countplot(data = df_clean, x = \"employment_type\", color = \"b\")"
   ]
  },
  {
   "cell_type": "markdown",
   "id": "7cf483b6",
   "metadata": {},
   "source": [
    "**Observation:** Most of the jobs in the dataset are `full time` with very inconsequential amount attributed to other `employment type`"
   ]
  },
  {
   "cell_type": "markdown",
   "id": "be24f88f",
   "metadata": {},
   "source": [
    "#### Question: Distribution of salary?"
   ]
  },
  {
   "cell_type": "code",
   "execution_count": 48,
   "id": "0f570a51",
   "metadata": {},
   "outputs": [
    {
     "data": {
      "text/plain": [
       "count       607.000000\n",
       "mean     112297.869852\n",
       "std       70957.259411\n",
       "min        2859.000000\n",
       "25%       62726.000000\n",
       "50%      101570.000000\n",
       "75%      150000.000000\n",
       "max      600000.000000\n",
       "Name: salary_in_usd, dtype: float64"
      ]
     },
     "execution_count": 48,
     "metadata": {},
     "output_type": "execute_result"
    }
   ],
   "source": [
    "df_clean.salary_in_usd.describe()"
   ]
  },
  {
   "cell_type": "code",
   "execution_count": 49,
   "id": "0a7be9fb",
   "metadata": {},
   "outputs": [
    {
     "data": {
      "image/png": "[encoded data removed]",
      "text/plain": [
       "<Figure size 432x288 with 1 Axes>"
      ]
     },
     "metadata": {
      "needs_background": "light"
     },
     "output_type": "display_data"
    }
   ],
   "source": [
    "bins = np.arange(0, 600000, 10000)\n",
    "plt.hist(data = df_clean, x = \"salary_in_usd\", bins = bins)\n",
    "plt.xscale(\"log\")\n",
    "ticks = [1000, 10000, 20000, 50000, 100000, 200000, 500000]\n",
    "tick_label = [\"1K\", \"10K\", \"20K\", \"50K\", \"100K\", \"200K\", \"500K\"]\n",
    "plt.xticks(ticks, tick_label)\n",
    "plt.xlim(3000, 600000)\n",
    "plt.grid(axis = \"x\", alpha = 0.6, color = \"grey\")\n",
    "plt.xlabel(\"Salary Earned [USD]\\n (Log Trasnformed)\")\n",
    "plt.ylabel(\"Frequency\")\n",
    "plt.title(\"The distribution of Salary for data science earners\");"
   ]
  },
  {
   "cell_type": "markdown",
   "id": "d8734c70",
   "metadata": {},
   "source": [
    "**Observation:** \n",
    "- The distribution of Data Science Salaries mainly between 50K to above 100K but less than 200K\n",
    "- We also observe a general gradual increase in the different income groups which peaks at area between 50K - 100K and then begin to suffer decline.\n",
    "- There are extreme outliers at above 200K.\n",
    "- This dataset can point to the distribution of work experience that we have in the dataset, an information we would get to know better on a  bivariate plot."
   ]
  },
  {
   "cell_type": "code",
   "execution_count": 50,
   "id": "134c9f90",
   "metadata": {},
   "outputs": [
    {
     "data": {
      "text/html": [
       "<div>\n",
       "<style scoped>\n",
       "    .dataframe tbody tr th:only-of-type {\n",
       "        vertical-align: middle;\n",
       "    }\n",
       "\n",
       "    .dataframe tbody tr th {\n",
       "        vertical-align: top;\n",
       "    }\n",
       "\n",
       "    .dataframe thead th {\n",
       "        text-align: right;\n",
       "    }\n",
       "</style>\n",
       "<table border=\"1\" class=\"dataframe\">\n",
       "  <thead>\n",
       "    <tr style=\"text-align: right;\">\n",
       "      <th></th>\n",
       "      <th>work_year</th>\n",
       "      <th>experience_level</th>\n",
       "      <th>employment_type</th>\n",
       "      <th>job_title</th>\n",
       "      <th>salary_in_usd</th>\n",
       "      <th>employee_residence</th>\n",
       "      <th>remote_ratio</th>\n",
       "      <th>company_location</th>\n",
       "      <th>company_size</th>\n",
       "      <th>employee_residence_iso</th>\n",
       "      <th>company_location_iso</th>\n",
       "    </tr>\n",
       "  </thead>\n",
       "  <tbody>\n",
       "    <tr>\n",
       "      <th>1</th>\n",
       "      <td>2020-01-01</td>\n",
       "      <td>Senior-level</td>\n",
       "      <td>Full Time</td>\n",
       "      <td>Machine Learning</td>\n",
       "      <td>260000</td>\n",
       "      <td>Japan</td>\n",
       "      <td>&lt;20% Remote</td>\n",
       "      <td>Japan</td>\n",
       "      <td>Small</td>\n",
       "      <td>JPN</td>\n",
       "      <td>JPN</td>\n",
       "    </tr>\n",
       "    <tr>\n",
       "      <th>25</th>\n",
       "      <td>2020-01-01</td>\n",
       "      <td>Executive-level</td>\n",
       "      <td>Full Time</td>\n",
       "      <td>Data Scientist</td>\n",
       "      <td>325000</td>\n",
       "      <td>United States</td>\n",
       "      <td>&gt;80% Remote</td>\n",
       "      <td>United States</td>\n",
       "      <td>Large</td>\n",
       "      <td>USA</td>\n",
       "      <td>USA</td>\n",
       "    </tr>\n",
       "    <tr>\n",
       "      <th>33</th>\n",
       "      <td>2020-01-01</td>\n",
       "      <td>Mid-level</td>\n",
       "      <td>Full Time</td>\n",
       "      <td>research scientist</td>\n",
       "      <td>450000</td>\n",
       "      <td>United States</td>\n",
       "      <td>&lt;20% Remote</td>\n",
       "      <td>United States</td>\n",
       "      <td>Medium</td>\n",
       "      <td>USA</td>\n",
       "      <td>USA</td>\n",
       "    </tr>\n",
       "    <tr>\n",
       "      <th>37</th>\n",
       "      <td>2020-01-01</td>\n",
       "      <td>Entry-level</td>\n",
       "      <td>Full Time</td>\n",
       "      <td>Machine Learning</td>\n",
       "      <td>250000</td>\n",
       "      <td>United States</td>\n",
       "      <td>Partial Remote</td>\n",
       "      <td>United States</td>\n",
       "      <td>Large</td>\n",
       "      <td>USA</td>\n",
       "      <td>USA</td>\n",
       "    </tr>\n",
       "    <tr>\n",
       "      <th>63</th>\n",
       "      <td>2020-01-01</td>\n",
       "      <td>Senior-level</td>\n",
       "      <td>Full Time</td>\n",
       "      <td>Data Scientist</td>\n",
       "      <td>412000</td>\n",
       "      <td>United States</td>\n",
       "      <td>&gt;80% Remote</td>\n",
       "      <td>United States</td>\n",
       "      <td>Large</td>\n",
       "      <td>USA</td>\n",
       "      <td>USA</td>\n",
       "    </tr>\n",
       "    <tr>\n",
       "      <th>74</th>\n",
       "      <td>2021-01-01</td>\n",
       "      <td>Executive-level</td>\n",
       "      <td>Full Time</td>\n",
       "      <td>Data Scientist</td>\n",
       "      <td>235000</td>\n",
       "      <td>United States</td>\n",
       "      <td>&gt;80% Remote</td>\n",
       "      <td>United States</td>\n",
       "      <td>Large</td>\n",
       "      <td>USA</td>\n",
       "      <td>USA</td>\n",
       "    </tr>\n",
       "    <tr>\n",
       "      <th>78</th>\n",
       "      <td>2021-01-01</td>\n",
       "      <td>Mid-level</td>\n",
       "      <td>Contract</td>\n",
       "      <td>Machine Learning</td>\n",
       "      <td>270000</td>\n",
       "      <td>United States</td>\n",
       "      <td>&gt;80% Remote</td>\n",
       "      <td>United States</td>\n",
       "      <td>Large</td>\n",
       "      <td>USA</td>\n",
       "      <td>USA</td>\n",
       "    </tr>\n",
       "    <tr>\n",
       "      <th>93</th>\n",
       "      <td>2021-01-01</td>\n",
       "      <td>Senior-level</td>\n",
       "      <td>Full Time</td>\n",
       "      <td>Data Engineer</td>\n",
       "      <td>276000</td>\n",
       "      <td>United States</td>\n",
       "      <td>&lt;20% Remote</td>\n",
       "      <td>United States</td>\n",
       "      <td>Large</td>\n",
       "      <td>USA</td>\n",
       "      <td>USA</td>\n",
       "    </tr>\n",
       "    <tr>\n",
       "      <th>97</th>\n",
       "      <td>2021-01-01</td>\n",
       "      <td>Mid-level</td>\n",
       "      <td>Full Time</td>\n",
       "      <td>Data Analyst</td>\n",
       "      <td>450000</td>\n",
       "      <td>United States</td>\n",
       "      <td>&gt;80% Remote</td>\n",
       "      <td>United States</td>\n",
       "      <td>Large</td>\n",
       "      <td>USA</td>\n",
       "      <td>USA</td>\n",
       "    </tr>\n",
       "    <tr>\n",
       "      <th>115</th>\n",
       "      <td>2021-01-01</td>\n",
       "      <td>Entry-level</td>\n",
       "      <td>Full Time</td>\n",
       "      <td>Machine Learning</td>\n",
       "      <td>225000</td>\n",
       "      <td>United States</td>\n",
       "      <td>&gt;80% Remote</td>\n",
       "      <td>United States</td>\n",
       "      <td>Large</td>\n",
       "      <td>USA</td>\n",
       "      <td>USA</td>\n",
       "    </tr>\n",
       "    <tr>\n",
       "      <th>138</th>\n",
       "      <td>2021-01-01</td>\n",
       "      <td>Senior-level</td>\n",
       "      <td>Full Time</td>\n",
       "      <td>Data Scientist</td>\n",
       "      <td>220000</td>\n",
       "      <td>United States</td>\n",
       "      <td>&lt;20% Remote</td>\n",
       "      <td>United States</td>\n",
       "      <td>Large</td>\n",
       "      <td>USA</td>\n",
       "      <td>USA</td>\n",
       "    </tr>\n",
       "    <tr>\n",
       "      <th>141</th>\n",
       "      <td>2021-01-01</td>\n",
       "      <td>Senior-level</td>\n",
       "      <td>Full Time</td>\n",
       "      <td>Data Scientist</td>\n",
       "      <td>240000</td>\n",
       "      <td>United States</td>\n",
       "      <td>&lt;20% Remote</td>\n",
       "      <td>United States</td>\n",
       "      <td>Large</td>\n",
       "      <td>USA</td>\n",
       "      <td>USA</td>\n",
       "    </tr>\n",
       "    <tr>\n",
       "      <th>157</th>\n",
       "      <td>2021-01-01</td>\n",
       "      <td>Mid-level</td>\n",
       "      <td>Full Time</td>\n",
       "      <td>Machine Learning</td>\n",
       "      <td>423000</td>\n",
       "      <td>United States</td>\n",
       "      <td>Partial Remote</td>\n",
       "      <td>United States</td>\n",
       "      <td>Large</td>\n",
       "      <td>USA</td>\n",
       "      <td>USA</td>\n",
       "    </tr>\n",
       "    <tr>\n",
       "      <th>160</th>\n",
       "      <td>2021-01-01</td>\n",
       "      <td>Executive-level</td>\n",
       "      <td>Full Time</td>\n",
       "      <td>Data Scientist</td>\n",
       "      <td>230000</td>\n",
       "      <td>Russian Federation</td>\n",
       "      <td>Partial Remote</td>\n",
       "      <td>Russian Federation</td>\n",
       "      <td>Large</td>\n",
       "      <td>RUS</td>\n",
       "      <td>RUS</td>\n",
       "    </tr>\n",
       "    <tr>\n",
       "      <th>167</th>\n",
       "      <td>2021-01-01</td>\n",
       "      <td>Executive-level</td>\n",
       "      <td>Full Time</td>\n",
       "      <td>Data Scientist</td>\n",
       "      <td>250000</td>\n",
       "      <td>United States</td>\n",
       "      <td>&lt;20% Remote</td>\n",
       "      <td>United States</td>\n",
       "      <td>Large</td>\n",
       "      <td>USA</td>\n",
       "      <td>USA</td>\n",
       "    </tr>\n",
       "    <tr>\n",
       "      <th>173</th>\n",
       "      <td>2021-01-01</td>\n",
       "      <td>Senior-level</td>\n",
       "      <td>Full Time</td>\n",
       "      <td>Data Scientist</td>\n",
       "      <td>235000</td>\n",
       "      <td>United States</td>\n",
       "      <td>&gt;80% Remote</td>\n",
       "      <td>United States</td>\n",
       "      <td>Large</td>\n",
       "      <td>USA</td>\n",
       "      <td>USA</td>\n",
       "    </tr>\n",
       "    <tr>\n",
       "      <th>224</th>\n",
       "      <td>2021-01-01</td>\n",
       "      <td>Senior-level</td>\n",
       "      <td>Full Time</td>\n",
       "      <td>Machine Learning</td>\n",
       "      <td>225000</td>\n",
       "      <td>United States</td>\n",
       "      <td>&gt;80% Remote</td>\n",
       "      <td>Canada</td>\n",
       "      <td>Large</td>\n",
       "      <td>USA</td>\n",
       "      <td>CAN</td>\n",
       "    </tr>\n",
       "    <tr>\n",
       "      <th>225</th>\n",
       "      <td>2021-01-01</td>\n",
       "      <td>Executive-level</td>\n",
       "      <td>Contract</td>\n",
       "      <td>Data Scientist</td>\n",
       "      <td>416000</td>\n",
       "      <td>United States</td>\n",
       "      <td>&gt;80% Remote</td>\n",
       "      <td>United States</td>\n",
       "      <td>Small</td>\n",
       "      <td>USA</td>\n",
       "      <td>USA</td>\n",
       "    </tr>\n",
       "    <tr>\n",
       "      <th>231</th>\n",
       "      <td>2021-01-01</td>\n",
       "      <td>Senior-level</td>\n",
       "      <td>Full Time</td>\n",
       "      <td>Machine Learning</td>\n",
       "      <td>256000</td>\n",
       "      <td>United States</td>\n",
       "      <td>&gt;80% Remote</td>\n",
       "      <td>United States</td>\n",
       "      <td>Small</td>\n",
       "      <td>USA</td>\n",
       "      <td>USA</td>\n",
       "    </tr>\n",
       "    <tr>\n",
       "      <th>252</th>\n",
       "      <td>2021-01-01</td>\n",
       "      <td>Executive-level</td>\n",
       "      <td>Full Time</td>\n",
       "      <td>Data Engineer</td>\n",
       "      <td>600000</td>\n",
       "      <td>United States</td>\n",
       "      <td>&gt;80% Remote</td>\n",
       "      <td>United States</td>\n",
       "      <td>Large</td>\n",
       "      <td>USA</td>\n",
       "      <td>USA</td>\n",
       "    </tr>\n",
       "    <tr>\n",
       "      <th>309</th>\n",
       "      <td>2022-01-01</td>\n",
       "      <td>Executive-level</td>\n",
       "      <td>Full Time</td>\n",
       "      <td>Data Engineer</td>\n",
       "      <td>242000</td>\n",
       "      <td>United States</td>\n",
       "      <td>&gt;80% Remote</td>\n",
       "      <td>United States</td>\n",
       "      <td>Medium</td>\n",
       "      <td>USA</td>\n",
       "      <td>USA</td>\n",
       "    </tr>\n",
       "    <tr>\n",
       "      <th>321</th>\n",
       "      <td>2022-01-01</td>\n",
       "      <td>Senior-level</td>\n",
       "      <td>Full Time</td>\n",
       "      <td>Data Engineer</td>\n",
       "      <td>220110</td>\n",
       "      <td>United States</td>\n",
       "      <td>&lt;20% Remote</td>\n",
       "      <td>United States</td>\n",
       "      <td>Medium</td>\n",
       "      <td>USA</td>\n",
       "      <td>USA</td>\n",
       "    </tr>\n",
       "    <tr>\n",
       "      <th>337</th>\n",
       "      <td>2022-01-01</td>\n",
       "      <td>Senior-level</td>\n",
       "      <td>Full Time</td>\n",
       "      <td>Data Engineer</td>\n",
       "      <td>243900</td>\n",
       "      <td>United States</td>\n",
       "      <td>&gt;80% Remote</td>\n",
       "      <td>United States</td>\n",
       "      <td>Medium</td>\n",
       "      <td>USA</td>\n",
       "      <td>USA</td>\n",
       "    </tr>\n",
       "    <tr>\n",
       "      <th>342</th>\n",
       "      <td>2022-01-01</td>\n",
       "      <td>Executive-level</td>\n",
       "      <td>Full Time</td>\n",
       "      <td>Data Scientist</td>\n",
       "      <td>224000</td>\n",
       "      <td>United States</td>\n",
       "      <td>&gt;80% Remote</td>\n",
       "      <td>United States</td>\n",
       "      <td>Medium</td>\n",
       "      <td>USA</td>\n",
       "      <td>USA</td>\n",
       "    </tr>\n",
       "    <tr>\n",
       "      <th>357</th>\n",
       "      <td>2022-01-01</td>\n",
       "      <td>Senior-level</td>\n",
       "      <td>Full Time</td>\n",
       "      <td>Data Scientist</td>\n",
       "      <td>211500</td>\n",
       "      <td>United States</td>\n",
       "      <td>&gt;80% Remote</td>\n",
       "      <td>United States</td>\n",
       "      <td>Medium</td>\n",
       "      <td>USA</td>\n",
       "      <td>USA</td>\n",
       "    </tr>\n",
       "    <tr>\n",
       "      <th>378</th>\n",
       "      <td>2022-01-01</td>\n",
       "      <td>Senior-level</td>\n",
       "      <td>Full Time</td>\n",
       "      <td>Data Architect</td>\n",
       "      <td>208775</td>\n",
       "      <td>United States</td>\n",
       "      <td>&gt;80% Remote</td>\n",
       "      <td>United States</td>\n",
       "      <td>Medium</td>\n",
       "      <td>USA</td>\n",
       "      <td>USA</td>\n",
       "    </tr>\n",
       "    <tr>\n",
       "      <th>398</th>\n",
       "      <td>2022-01-01</td>\n",
       "      <td>Senior-level</td>\n",
       "      <td>Full Time</td>\n",
       "      <td>Data Scientist</td>\n",
       "      <td>215300</td>\n",
       "      <td>United States</td>\n",
       "      <td>&gt;80% Remote</td>\n",
       "      <td>United States</td>\n",
       "      <td>Large</td>\n",
       "      <td>USA</td>\n",
       "      <td>USA</td>\n",
       "    </tr>\n",
       "    <tr>\n",
       "      <th>400</th>\n",
       "      <td>2022-01-01</td>\n",
       "      <td>Senior-level</td>\n",
       "      <td>Full Time</td>\n",
       "      <td>Data Engineer</td>\n",
       "      <td>209100</td>\n",
       "      <td>United States</td>\n",
       "      <td>&gt;80% Remote</td>\n",
       "      <td>United States</td>\n",
       "      <td>Large</td>\n",
       "      <td>USA</td>\n",
       "      <td>USA</td>\n",
       "    </tr>\n",
       "    <tr>\n",
       "      <th>416</th>\n",
       "      <td>2022-01-01</td>\n",
       "      <td>Senior-level</td>\n",
       "      <td>Full Time</td>\n",
       "      <td>Data Scientist</td>\n",
       "      <td>260000</td>\n",
       "      <td>United States</td>\n",
       "      <td>&gt;80% Remote</td>\n",
       "      <td>United States</td>\n",
       "      <td>Medium</td>\n",
       "      <td>USA</td>\n",
       "      <td>USA</td>\n",
       "    </tr>\n",
       "    <tr>\n",
       "      <th>421</th>\n",
       "      <td>2022-01-01</td>\n",
       "      <td>Mid-level</td>\n",
       "      <td>Full Time</td>\n",
       "      <td>Data Scientist</td>\n",
       "      <td>241000</td>\n",
       "      <td>United States</td>\n",
       "      <td>&gt;80% Remote</td>\n",
       "      <td>United States</td>\n",
       "      <td>Medium</td>\n",
       "      <td>USA</td>\n",
       "      <td>USA</td>\n",
       "    </tr>\n",
       "    <tr>\n",
       "      <th>444</th>\n",
       "      <td>2022-01-01</td>\n",
       "      <td>Senior-level</td>\n",
       "      <td>Full Time</td>\n",
       "      <td>Data Scientist</td>\n",
       "      <td>215300</td>\n",
       "      <td>United States</td>\n",
       "      <td>&lt;20% Remote</td>\n",
       "      <td>United States</td>\n",
       "      <td>Large</td>\n",
       "      <td>USA</td>\n",
       "      <td>USA</td>\n",
       "    </tr>\n",
       "    <tr>\n",
       "      <th>446</th>\n",
       "      <td>2022-01-01</td>\n",
       "      <td>Senior-level</td>\n",
       "      <td>Full Time</td>\n",
       "      <td>Data Engineer</td>\n",
       "      <td>209100</td>\n",
       "      <td>United States</td>\n",
       "      <td>&gt;80% Remote</td>\n",
       "      <td>United States</td>\n",
       "      <td>Large</td>\n",
       "      <td>USA</td>\n",
       "      <td>USA</td>\n",
       "    </tr>\n",
       "    <tr>\n",
       "      <th>472</th>\n",
       "      <td>2022-01-01</td>\n",
       "      <td>Senior-level</td>\n",
       "      <td>Full Time</td>\n",
       "      <td>Data Scientist</td>\n",
       "      <td>220000</td>\n",
       "      <td>United States</td>\n",
       "      <td>&gt;80% Remote</td>\n",
       "      <td>United States</td>\n",
       "      <td>Medium</td>\n",
       "      <td>USA</td>\n",
       "      <td>USA</td>\n",
       "    </tr>\n",
       "    <tr>\n",
       "      <th>477</th>\n",
       "      <td>2022-01-01</td>\n",
       "      <td>Senior-level</td>\n",
       "      <td>Full Time</td>\n",
       "      <td>Machine Learning</td>\n",
       "      <td>220000</td>\n",
       "      <td>United States</td>\n",
       "      <td>&gt;80% Remote</td>\n",
       "      <td>United States</td>\n",
       "      <td>Medium</td>\n",
       "      <td>USA</td>\n",
       "      <td>USA</td>\n",
       "    </tr>\n",
       "    <tr>\n",
       "      <th>482</th>\n",
       "      <td>2022-01-01</td>\n",
       "      <td>Executive-level</td>\n",
       "      <td>Full Time</td>\n",
       "      <td>Data Engineer</td>\n",
       "      <td>324000</td>\n",
       "      <td>United States</td>\n",
       "      <td>&gt;80% Remote</td>\n",
       "      <td>United States</td>\n",
       "      <td>Medium</td>\n",
       "      <td>USA</td>\n",
       "      <td>USA</td>\n",
       "    </tr>\n",
       "    <tr>\n",
       "      <th>483</th>\n",
       "      <td>2022-01-01</td>\n",
       "      <td>Executive-level</td>\n",
       "      <td>Full Time</td>\n",
       "      <td>Data Engineer</td>\n",
       "      <td>216000</td>\n",
       "      <td>United States</td>\n",
       "      <td>&gt;80% Remote</td>\n",
       "      <td>United States</td>\n",
       "      <td>Medium</td>\n",
       "      <td>USA</td>\n",
       "      <td>USA</td>\n",
       "    </tr>\n",
       "    <tr>\n",
       "      <th>484</th>\n",
       "      <td>2022-01-01</td>\n",
       "      <td>Senior-level</td>\n",
       "      <td>Full Time</td>\n",
       "      <td>Data Engineer</td>\n",
       "      <td>210000</td>\n",
       "      <td>United States</td>\n",
       "      <td>&gt;80% Remote</td>\n",
       "      <td>United States</td>\n",
       "      <td>Medium</td>\n",
       "      <td>USA</td>\n",
       "      <td>USA</td>\n",
       "    </tr>\n",
       "    <tr>\n",
       "      <th>486</th>\n",
       "      <td>2022-01-01</td>\n",
       "      <td>Senior-level</td>\n",
       "      <td>Full Time</td>\n",
       "      <td>Data Scientist</td>\n",
       "      <td>230000</td>\n",
       "      <td>United States</td>\n",
       "      <td>&gt;80% Remote</td>\n",
       "      <td>United States</td>\n",
       "      <td>Medium</td>\n",
       "      <td>USA</td>\n",
       "      <td>USA</td>\n",
       "    </tr>\n",
       "    <tr>\n",
       "      <th>519</th>\n",
       "      <td>2022-01-01</td>\n",
       "      <td>Senior-level</td>\n",
       "      <td>Full Time</td>\n",
       "      <td>Data Scientist</td>\n",
       "      <td>380000</td>\n",
       "      <td>United States</td>\n",
       "      <td>&gt;80% Remote</td>\n",
       "      <td>United States</td>\n",
       "      <td>Large</td>\n",
       "      <td>USA</td>\n",
       "      <td>USA</td>\n",
       "    </tr>\n",
       "    <tr>\n",
       "      <th>523</th>\n",
       "      <td>2022-01-01</td>\n",
       "      <td>Senior-level</td>\n",
       "      <td>Full Time</td>\n",
       "      <td>Data Analyst</td>\n",
       "      <td>405000</td>\n",
       "      <td>United States</td>\n",
       "      <td>&gt;80% Remote</td>\n",
       "      <td>United States</td>\n",
       "      <td>Large</td>\n",
       "      <td>USA</td>\n",
       "      <td>USA</td>\n",
       "    </tr>\n",
       "    <tr>\n",
       "      <th>532</th>\n",
       "      <td>2022-01-01</td>\n",
       "      <td>Senior-level</td>\n",
       "      <td>Full Time</td>\n",
       "      <td>Machine Learning</td>\n",
       "      <td>214000</td>\n",
       "      <td>United States</td>\n",
       "      <td>&gt;80% Remote</td>\n",
       "      <td>United States</td>\n",
       "      <td>Medium</td>\n",
       "      <td>USA</td>\n",
       "      <td>USA</td>\n",
       "    </tr>\n",
       "    <tr>\n",
       "      <th>534</th>\n",
       "      <td>2022-01-01</td>\n",
       "      <td>Senior-level</td>\n",
       "      <td>Full Time</td>\n",
       "      <td>Data Architect</td>\n",
       "      <td>266400</td>\n",
       "      <td>United States</td>\n",
       "      <td>&gt;80% Remote</td>\n",
       "      <td>United States</td>\n",
       "      <td>Medium</td>\n",
       "      <td>USA</td>\n",
       "      <td>USA</td>\n",
       "    </tr>\n",
       "    <tr>\n",
       "      <th>535</th>\n",
       "      <td>2022-01-01</td>\n",
       "      <td>Senior-level</td>\n",
       "      <td>Full Time</td>\n",
       "      <td>Data Architect</td>\n",
       "      <td>213120</td>\n",
       "      <td>United States</td>\n",
       "      <td>&gt;80% Remote</td>\n",
       "      <td>United States</td>\n",
       "      <td>Medium</td>\n",
       "      <td>USA</td>\n",
       "      <td>USA</td>\n",
       "    </tr>\n",
       "    <tr>\n",
       "      <th>542</th>\n",
       "      <td>2022-01-01</td>\n",
       "      <td>Mid-level</td>\n",
       "      <td>Full Time</td>\n",
       "      <td>Data Engineer</td>\n",
       "      <td>206699</td>\n",
       "      <td>United States</td>\n",
       "      <td>&lt;20% Remote</td>\n",
       "      <td>United States</td>\n",
       "      <td>Medium</td>\n",
       "      <td>USA</td>\n",
       "      <td>USA</td>\n",
       "    </tr>\n",
       "    <tr>\n",
       "      <th>550</th>\n",
       "      <td>2022-01-01</td>\n",
       "      <td>Senior-level</td>\n",
       "      <td>Full Time</td>\n",
       "      <td>Data Scientist</td>\n",
       "      <td>205300</td>\n",
       "      <td>United States</td>\n",
       "      <td>&lt;20% Remote</td>\n",
       "      <td>United States</td>\n",
       "      <td>Large</td>\n",
       "      <td>USA</td>\n",
       "      <td>USA</td>\n",
       "    </tr>\n",
       "    <tr>\n",
       "      <th>554</th>\n",
       "      <td>2022-01-01</td>\n",
       "      <td>Senior-level</td>\n",
       "      <td>Full Time</td>\n",
       "      <td>Data Engineer</td>\n",
       "      <td>200100</td>\n",
       "      <td>United States</td>\n",
       "      <td>&gt;80% Remote</td>\n",
       "      <td>United States</td>\n",
       "      <td>Medium</td>\n",
       "      <td>USA</td>\n",
       "      <td>USA</td>\n",
       "    </tr>\n",
       "    <tr>\n",
       "      <th>558</th>\n",
       "      <td>2022-01-01</td>\n",
       "      <td>Senior-level</td>\n",
       "      <td>Full Time</td>\n",
       "      <td>Data Scientist</td>\n",
       "      <td>205300</td>\n",
       "      <td>United States</td>\n",
       "      <td>&lt;20% Remote</td>\n",
       "      <td>United States</td>\n",
       "      <td>Medium</td>\n",
       "      <td>USA</td>\n",
       "      <td>USA</td>\n",
       "    </tr>\n",
       "    <tr>\n",
       "      <th>560</th>\n",
       "      <td>2022-01-01</td>\n",
       "      <td>Senior-level</td>\n",
       "      <td>Full Time</td>\n",
       "      <td>analytics engineer</td>\n",
       "      <td>205300</td>\n",
       "      <td>United States</td>\n",
       "      <td>&lt;20% Remote</td>\n",
       "      <td>United States</td>\n",
       "      <td>Medium</td>\n",
       "      <td>USA</td>\n",
       "      <td>USA</td>\n",
       "    </tr>\n",
       "    <tr>\n",
       "      <th>570</th>\n",
       "      <td>2022-01-01</td>\n",
       "      <td>Senior-level</td>\n",
       "      <td>Full Time</td>\n",
       "      <td>Data Scientist</td>\n",
       "      <td>210000</td>\n",
       "      <td>United States</td>\n",
       "      <td>&gt;80% Remote</td>\n",
       "      <td>United States</td>\n",
       "      <td>Medium</td>\n",
       "      <td>USA</td>\n",
       "      <td>USA</td>\n",
       "    </tr>\n",
       "    <tr>\n",
       "      <th>574</th>\n",
       "      <td>2022-01-01</td>\n",
       "      <td>Senior-level</td>\n",
       "      <td>Full Time</td>\n",
       "      <td>Data Scientist</td>\n",
       "      <td>210000</td>\n",
       "      <td>United States</td>\n",
       "      <td>&gt;80% Remote</td>\n",
       "      <td>United States</td>\n",
       "      <td>Medium</td>\n",
       "      <td>USA</td>\n",
       "      <td>USA</td>\n",
       "    </tr>\n",
       "    <tr>\n",
       "      <th>576</th>\n",
       "      <td>2022-01-01</td>\n",
       "      <td>Senior-level</td>\n",
       "      <td>Full Time</td>\n",
       "      <td>Data Scientist</td>\n",
       "      <td>210000</td>\n",
       "      <td>United States</td>\n",
       "      <td>&gt;80% Remote</td>\n",
       "      <td>United States</td>\n",
       "      <td>Medium</td>\n",
       "      <td>USA</td>\n",
       "      <td>USA</td>\n",
       "    </tr>\n",
       "    <tr>\n",
       "      <th>582</th>\n",
       "      <td>2022-01-01</td>\n",
       "      <td>Senior-level</td>\n",
       "      <td>Full Time</td>\n",
       "      <td>Data Engineer</td>\n",
       "      <td>220110</td>\n",
       "      <td>United States</td>\n",
       "      <td>&gt;80% Remote</td>\n",
       "      <td>United States</td>\n",
       "      <td>Medium</td>\n",
       "      <td>USA</td>\n",
       "      <td>USA</td>\n",
       "    </tr>\n",
       "    <tr>\n",
       "      <th>592</th>\n",
       "      <td>2022-01-01</td>\n",
       "      <td>Senior-level</td>\n",
       "      <td>Full Time</td>\n",
       "      <td>Data Scientist</td>\n",
       "      <td>230000</td>\n",
       "      <td>United States</td>\n",
       "      <td>&gt;80% Remote</td>\n",
       "      <td>United States</td>\n",
       "      <td>Medium</td>\n",
       "      <td>USA</td>\n",
       "      <td>USA</td>\n",
       "    </tr>\n",
       "    <tr>\n",
       "      <th>596</th>\n",
       "      <td>2022-01-01</td>\n",
       "      <td>Senior-level</td>\n",
       "      <td>Full Time</td>\n",
       "      <td>Data Scientist</td>\n",
       "      <td>210000</td>\n",
       "      <td>United States</td>\n",
       "      <td>&gt;80% Remote</td>\n",
       "      <td>United States</td>\n",
       "      <td>Medium</td>\n",
       "      <td>USA</td>\n",
       "      <td>USA</td>\n",
       "    </tr>\n",
       "  </tbody>\n",
       "</table>\n",
       "</div>"
      ],
      "text/plain": [
       "     work_year experience_level employment_type           job_title  \\\n",
       "1   2020-01-01     Senior-level       Full Time    Machine Learning   \n",
       "25  2020-01-01  Executive-level       Full Time      Data Scientist   \n",
       "33  2020-01-01        Mid-level       Full Time  research scientist   \n",
       "37  2020-01-01      Entry-level       Full Time    Machine Learning   \n",
       "63  2020-01-01     Senior-level       Full Time      Data Scientist   \n",
       "74  2021-01-01  Executive-level       Full Time      Data Scientist   \n",
       "78  2021-01-01        Mid-level        Contract    Machine Learning   \n",
       "93  2021-01-01     Senior-level       Full Time       Data Engineer   \n",
       "97  2021-01-01        Mid-level       Full Time        Data Analyst   \n",
       "115 2021-01-01      Entry-level       Full Time    Machine Learning   \n",
       "138 2021-01-01     Senior-level       Full Time      Data Scientist   \n",
       "141 2021-01-01     Senior-level       Full Time      Data Scientist   \n",
       "157 2021-01-01        Mid-level       Full Time    Machine Learning   \n",
       "160 2021-01-01  Executive-level       Full Time      Data Scientist   \n",
       "167 2021-01-01  Executive-level       Full Time      Data Scientist   \n",
       "173 2021-01-01     Senior-level       Full Time      Data Scientist   \n",
       "224 2021-01-01     Senior-level       Full Time    Machine Learning   \n",
       "225 2021-01-01  Executive-level        Contract      Data Scientist   \n",
       "231 2021-01-01     Senior-level       Full Time    Machine Learning   \n",
       "252 2021-01-01  Executive-level       Full Time       Data Engineer   \n",
       "309 2022-01-01  Executive-level       Full Time       Data Engineer   \n",
       "321 2022-01-01     Senior-level       Full Time       Data Engineer   \n",
       "337 2022-01-01     Senior-level       Full Time       Data Engineer   \n",
       "342 2022-01-01  Executive-level       Full Time      Data Scientist   \n",
       "357 2022-01-01     Senior-level       Full Time      Data Scientist   \n",
       "378 2022-01-01     Senior-level       Full Time      Data Architect   \n",
       "398 2022-01-01     Senior-level       Full Time      Data Scientist   \n",
       "400 2022-01-01     Senior-level       Full Time       Data Engineer   \n",
       "416 2022-01-01     Senior-level       Full Time      Data Scientist   \n",
       "421 2022-01-01        Mid-level       Full Time      Data Scientist   \n",
       "444 2022-01-01     Senior-level       Full Time      Data Scientist   \n",
       "446 2022-01-01     Senior-level       Full Time       Data Engineer   \n",
       "472 2022-01-01     Senior-level       Full Time      Data Scientist   \n",
       "477 2022-01-01     Senior-level       Full Time    Machine Learning   \n",
       "482 2022-01-01  Executive-level       Full Time       Data Engineer   \n",
       "483 2022-01-01  Executive-level       Full Time       Data Engineer   \n",
       "484 2022-01-01     Senior-level       Full Time       Data Engineer   \n",
       "486 2022-01-01     Senior-level       Full Time      Data Scientist   \n",
       "519 2022-01-01     Senior-level       Full Time      Data Scientist   \n",
       "523 2022-01-01     Senior-level       Full Time        Data Analyst   \n",
       "532 2022-01-01     Senior-level       Full Time    Machine Learning   \n",
       "534 2022-01-01     Senior-level       Full Time      Data Architect   \n",
       "535 2022-01-01     Senior-level       Full Time      Data Architect   \n",
       "542 2022-01-01        Mid-level       Full Time       Data Engineer   \n",
       "550 2022-01-01     Senior-level       Full Time      Data Scientist   \n",
       "554 2022-01-01     Senior-level       Full Time       Data Engineer   \n",
       "558 2022-01-01     Senior-level       Full Time      Data Scientist   \n",
       "560 2022-01-01     Senior-level       Full Time  analytics engineer   \n",
       "570 2022-01-01     Senior-level       Full Time      Data Scientist   \n",
       "574 2022-01-01     Senior-level       Full Time      Data Scientist   \n",
       "576 2022-01-01     Senior-level       Full Time      Data Scientist   \n",
       "582 2022-01-01     Senior-level       Full Time       Data Engineer   \n",
       "592 2022-01-01     Senior-level       Full Time      Data Scientist   \n",
       "596 2022-01-01     Senior-level       Full Time      Data Scientist   \n",
       "\n",
       "     salary_in_usd  employee_residence    remote_ratio    company_location  \\\n",
       "1           260000               Japan     <20% Remote               Japan   \n",
       "25          325000       United States     >80% Remote       United States   \n",
       "33          450000       United States     <20% Remote       United States   \n",
       "37          250000       United States  Partial Remote       United States   \n",
       "63          412000       United States     >80% Remote       United States   \n",
       "74          235000       United States     >80% Remote       United States   \n",
       "78          270000       United States     >80% Remote       United States   \n",
       "93          276000       United States     <20% Remote       United States   \n",
       "97          450000       United States     >80% Remote       United States   \n",
       "115         225000       United States     >80% Remote       United States   \n",
       "138         220000       United States     <20% Remote       United States   \n",
       "141         240000       United States     <20% Remote       United States   \n",
       "157         423000       United States  Partial Remote       United States   \n",
       "160         230000  Russian Federation  Partial Remote  Russian Federation   \n",
       "167         250000       United States     <20% Remote       United States   \n",
       "173         235000       United States     >80% Remote       United States   \n",
       "224         225000       United States     >80% Remote              Canada   \n",
       "225         416000       United States     >80% Remote       United States   \n",
       "231         256000       United States     >80% Remote       United States   \n",
       "252         600000       United States     >80% Remote       United States   \n",
       "309         242000       United States     >80% Remote       United States   \n",
       "321         220110       United States     <20% Remote       United States   \n",
       "337         243900       United States     >80% Remote       United States   \n",
       "342         224000       United States     >80% Remote       United States   \n",
       "357         211500       United States     >80% Remote       United States   \n",
       "378         208775       United States     >80% Remote       United States   \n",
       "398         215300       United States     >80% Remote       United States   \n",
       "400         209100       United States     >80% Remote       United States   \n",
       "416         260000       United States     >80% Remote       United States   \n",
       "421         241000       United States     >80% Remote       United States   \n",
       "444         215300       United States     <20% Remote       United States   \n",
       "446         209100       United States     >80% Remote       United States   \n",
       "472         220000       United States     >80% Remote       United States   \n",
       "477         220000       United States     >80% Remote       United States   \n",
       "482         324000       United States     >80% Remote       United States   \n",
       "483         216000       United States     >80% Remote       United States   \n",
       "484         210000       United States     >80% Remote       United States   \n",
       "486         230000       United States     >80% Remote       United States   \n",
       "519         380000       United States     >80% Remote       United States   \n",
       "523         405000       United States     >80% Remote       United States   \n",
       "532         214000       United States     >80% Remote       United States   \n",
       "534         266400       United States     >80% Remote       United States   \n",
       "535         213120       United States     >80% Remote       United States   \n",
       "542         206699       United States     <20% Remote       United States   \n",
       "550         205300       United States     <20% Remote       United States   \n",
       "554         200100       United States     >80% Remote       United States   \n",
       "558         205300       United States     <20% Remote       United States   \n",
       "560         205300       United States     <20% Remote       United States   \n",
       "570         210000       United States     >80% Remote       United States   \n",
       "574         210000       United States     >80% Remote       United States   \n",
       "576         210000       United States     >80% Remote       United States   \n",
       "582         220110       United States     >80% Remote       United States   \n",
       "592         230000       United States     >80% Remote       United States   \n",
       "596         210000       United States     >80% Remote       United States   \n",
       "\n",
       "    company_size employee_residence_iso company_location_iso  \n",
       "1          Small                    JPN                  JPN  \n",
       "25         Large                    USA                  USA  \n",
       "33        Medium                    USA                  USA  \n",
       "37         Large                    USA                  USA  \n",
       "63         Large                    USA                  USA  \n",
       "74         Large                    USA                  USA  \n",
       "78         Large                    USA                  USA  \n",
       "93         Large                    USA                  USA  \n",
       "97         Large                    USA                  USA  \n",
       "115        Large                    USA                  USA  \n",
       "138        Large                    USA                  USA  \n",
       "141        Large                    USA                  USA  \n",
       "157        Large                    USA                  USA  \n",
       "160        Large                    RUS                  RUS  \n",
       "167        Large                    USA                  USA  \n",
       "173        Large                    USA                  USA  \n",
       "224        Large                    USA                  CAN  \n",
       "225        Small                    USA                  USA  \n",
       "231        Small                    USA                  USA  \n",
       "252        Large                    USA                  USA  \n",
       "309       Medium                    USA                  USA  \n",
       "321       Medium                    USA                  USA  \n",
       "337       Medium                    USA                  USA  \n",
       "342       Medium                    USA                  USA  \n",
       "357       Medium                    USA                  USA  \n",
       "378       Medium                    USA                  USA  \n",
       "398        Large                    USA                  USA  \n",
       "400        Large                    USA                  USA  \n",
       "416       Medium                    USA                  USA  \n",
       "421       Medium                    USA                  USA  \n",
       "444        Large                    USA                  USA  \n",
       "446        Large                    USA                  USA  \n",
       "472       Medium                    USA                  USA  \n",
       "477       Medium                    USA                  USA  \n",
       "482       Medium                    USA                  USA  \n",
       "483       Medium                    USA                  USA  \n",
       "484       Medium                    USA                  USA  \n",
       "486       Medium                    USA                  USA  \n",
       "519        Large                    USA                  USA  \n",
       "523        Large                    USA                  USA  \n",
       "532       Medium                    USA                  USA  \n",
       "534       Medium                    USA                  USA  \n",
       "535       Medium                    USA                  USA  \n",
       "542       Medium                    USA                  USA  \n",
       "550        Large                    USA                  USA  \n",
       "554       Medium                    USA                  USA  \n",
       "558       Medium                    USA                  USA  \n",
       "560       Medium                    USA                  USA  \n",
       "570       Medium                    USA                  USA  \n",
       "574       Medium                    USA                  USA  \n",
       "576       Medium                    USA                  USA  \n",
       "582       Medium                    USA                  USA  \n",
       "592       Medium                    USA                  USA  \n",
       "596       Medium                    USA                  USA  "
      ]
     },
     "execution_count": 50,
     "metadata": {},
     "output_type": "execute_result"
    }
   ],
   "source": [
    "#Trying to see the outliers of above 200K\n",
    "df_clean[df_clean[\"salary_in_usd\"] > 200000]"
   ]
  },
  {
   "cell_type": "markdown",
   "id": "3e2fbfb2",
   "metadata": {},
   "source": [
    "**Observation**\n",
    "- Dominated by the country: United States, most earners above 200K are Senior Level, Executive with few Mid levels and two entry level which both have job title as Machine Learning (Remember, I combined many sub fields, Ml engineer, Ml Scientist, AI scientist, e.t.c.). I do however consider both entry level in this situation as an outrageous outlier and needs to dropped from the dataset to avoid skewness of analysis"
   ]
  },
  {
   "cell_type": "code",
   "execution_count": 51,
   "id": "53123b4f",
   "metadata": {},
   "outputs": [],
   "source": [
    "#Create logical mask series for subsetting the data and dropping them\n",
    "mask_entry = df_clean[\"experience_level\"] == \"Entry-level\"\n",
    "mask_200K = df_clean[\"salary_in_usd\"] > 200000\n",
    "\n",
    "df_clean.drop(df_clean[mask_entry & mask_200K].index, inplace = True)"
   ]
  },
  {
   "cell_type": "code",
   "execution_count": 52,
   "id": "469b34fe",
   "metadata": {},
   "outputs": [
    {
     "data": {
      "text/html": [
       "<div>\n",
       "<style scoped>\n",
       "    .dataframe tbody tr th:only-of-type {\n",
       "        vertical-align: middle;\n",
       "    }\n",
       "\n",
       "    .dataframe tbody tr th {\n",
       "        vertical-align: top;\n",
       "    }\n",
       "\n",
       "    .dataframe thead th {\n",
       "        text-align: right;\n",
       "    }\n",
       "</style>\n",
       "<table border=\"1\" class=\"dataframe\">\n",
       "  <thead>\n",
       "    <tr style=\"text-align: right;\">\n",
       "      <th></th>\n",
       "      <th>work_year</th>\n",
       "      <th>experience_level</th>\n",
       "      <th>employment_type</th>\n",
       "      <th>job_title</th>\n",
       "      <th>salary_in_usd</th>\n",
       "      <th>employee_residence</th>\n",
       "      <th>remote_ratio</th>\n",
       "      <th>company_location</th>\n",
       "      <th>company_size</th>\n",
       "      <th>employee_residence_iso</th>\n",
       "      <th>company_location_iso</th>\n",
       "    </tr>\n",
       "  </thead>\n",
       "  <tbody>\n",
       "    <tr>\n",
       "      <th>38</th>\n",
       "      <td>2020-01-01</td>\n",
       "      <td>Entry-level</td>\n",
       "      <td>Full Time</td>\n",
       "      <td>Data Analyst</td>\n",
       "      <td>10000</td>\n",
       "      <td>Nigeria</td>\n",
       "      <td>&gt;80% Remote</td>\n",
       "      <td>Nigeria</td>\n",
       "      <td>Small</td>\n",
       "      <td>NGA</td>\n",
       "      <td>NGA</td>\n",
       "    </tr>\n",
       "    <tr>\n",
       "      <th>117</th>\n",
       "      <td>2021-01-01</td>\n",
       "      <td>Mid-level</td>\n",
       "      <td>Full Time</td>\n",
       "      <td>Data Scientist</td>\n",
       "      <td>40189</td>\n",
       "      <td>Greece</td>\n",
       "      <td>&gt;80% Remote</td>\n",
       "      <td>Greece</td>\n",
       "      <td>Medium</td>\n",
       "      <td>GRC</td>\n",
       "      <td>GRC</td>\n",
       "    </tr>\n",
       "  </tbody>\n",
       "</table>\n",
       "</div>"
      ],
      "text/plain": [
       "     work_year experience_level employment_type       job_title  \\\n",
       "38  2020-01-01      Entry-level       Full Time    Data Analyst   \n",
       "117 2021-01-01        Mid-level       Full Time  Data Scientist   \n",
       "\n",
       "     salary_in_usd employee_residence remote_ratio company_location  \\\n",
       "38           10000            Nigeria  >80% Remote          Nigeria   \n",
       "117          40189             Greece  >80% Remote           Greece   \n",
       "\n",
       "    company_size employee_residence_iso company_location_iso  \n",
       "38         Small                    NGA                  NGA  \n",
       "117       Medium                    GRC                  GRC  "
      ]
     },
     "execution_count": 52,
     "metadata": {},
     "output_type": "execute_result"
    }
   ],
   "source": [
    "#Test -- check index 37 and index 115\n",
    "\n",
    "df_clean.iloc[[37, 115], :]"
   ]
  },
  {
   "cell_type": "markdown",
   "id": "7a1f69ec",
   "metadata": {},
   "source": [
    "**How does the adoption of remote work look like in Data Science Roles?**"
   ]
  },
  {
   "cell_type": "code",
   "execution_count": 208,
   "id": "23aa0f71",
   "metadata": {},
   "outputs": [
    {
     "data": {
      "image/png": "[encoded data removed]",
      "text/plain": [
       "<Figure size 432x288 with 1 Axes>"
      ]
     },
     "metadata": {
      "needs_background": "light"
     },
     "output_type": "display_data"
    }
   ],
   "source": [
    "sns.countplot(data = df_clean, x = \"remote_ratio\", color = \"b\")\n",
    "plt.xlabel(\"Remote Ratio\")\n",
    "plt.ylabel(\"Frequency\")\n",
    "plt.title(\"Distribution of Remote Ratio\");"
   ]
  },
  {
   "cell_type": "code",
   "execution_count": 209,
   "id": "80e9dee5",
   "metadata": {},
   "outputs": [
    {
     "data": {
      "image/png": "[encoded data removed]",
      "text/plain": [
       "<Figure size 432x288 with 1 Axes>"
      ]
     },
     "metadata": {
      "needs_background": "light"
     },
     "output_type": "display_data"
    }
   ],
   "source": [
    "#Make above plot into a relative plot\n",
    "df_clean[\"remote_ratio\"].value_counts(normalize = True).plot(kind = \"bar\", color = \"b\")\n",
    "plt.xlabel(\"Remote Ratio\")\n",
    "plt.ylabel(\"Frequency\")\n",
    "plt.title(\"Distribution of Remote Ratio\")\n",
    "plt.xticks(rotation = 0);"
   ]
  },
  {
   "cell_type": "markdown",
   "id": "9e2595e2",
   "metadata": {},
   "source": [
    "**Observation**\n",
    "- More than 60% of work presented in the dataset has high remote culture (>80% Remote)"
   ]
  },
  {
   "cell_type": "code",
   "execution_count": 55,
   "id": "699a68a4",
   "metadata": {},
   "outputs": [
    {
     "data": {
      "text/html": [
       "<div>\n",
       "<style scoped>\n",
       "    .dataframe tbody tr th:only-of-type {\n",
       "        vertical-align: middle;\n",
       "    }\n",
       "\n",
       "    .dataframe tbody tr th {\n",
       "        vertical-align: top;\n",
       "    }\n",
       "\n",
       "    .dataframe thead th {\n",
       "        text-align: right;\n",
       "    }\n",
       "</style>\n",
       "<table border=\"1\" class=\"dataframe\">\n",
       "  <thead>\n",
       "    <tr style=\"text-align: right;\">\n",
       "      <th></th>\n",
       "      <th>work_year</th>\n",
       "      <th>experience_level</th>\n",
       "      <th>employment_type</th>\n",
       "      <th>job_title</th>\n",
       "      <th>salary_in_usd</th>\n",
       "      <th>employee_residence</th>\n",
       "      <th>remote_ratio</th>\n",
       "      <th>company_location</th>\n",
       "      <th>company_size</th>\n",
       "      <th>employee_residence_iso</th>\n",
       "      <th>company_location_iso</th>\n",
       "    </tr>\n",
       "  </thead>\n",
       "  <tbody>\n",
       "    <tr>\n",
       "      <th>0</th>\n",
       "      <td>2020-01-01</td>\n",
       "      <td>Mid-level</td>\n",
       "      <td>Full Time</td>\n",
       "      <td>Data Scientist</td>\n",
       "      <td>79833</td>\n",
       "      <td>Germany</td>\n",
       "      <td>&lt;20% Remote</td>\n",
       "      <td>Germany</td>\n",
       "      <td>Large</td>\n",
       "      <td>DEU</td>\n",
       "      <td>DEU</td>\n",
       "    </tr>\n",
       "    <tr>\n",
       "      <th>1</th>\n",
       "      <td>2020-01-01</td>\n",
       "      <td>Senior-level</td>\n",
       "      <td>Full Time</td>\n",
       "      <td>Machine Learning</td>\n",
       "      <td>260000</td>\n",
       "      <td>Japan</td>\n",
       "      <td>&lt;20% Remote</td>\n",
       "      <td>Japan</td>\n",
       "      <td>Small</td>\n",
       "      <td>JPN</td>\n",
       "      <td>JPN</td>\n",
       "    </tr>\n",
       "    <tr>\n",
       "      <th>2</th>\n",
       "      <td>2020-01-01</td>\n",
       "      <td>Senior-level</td>\n",
       "      <td>Full Time</td>\n",
       "      <td>Data Engineer</td>\n",
       "      <td>109024</td>\n",
       "      <td>United Kingdom</td>\n",
       "      <td>Partial Remote</td>\n",
       "      <td>United Kingdom</td>\n",
       "      <td>Medium</td>\n",
       "      <td>GBR</td>\n",
       "      <td>GBR</td>\n",
       "    </tr>\n",
       "    <tr>\n",
       "      <th>3</th>\n",
       "      <td>2020-01-01</td>\n",
       "      <td>Mid-level</td>\n",
       "      <td>Full Time</td>\n",
       "      <td>Data Analyst</td>\n",
       "      <td>20000</td>\n",
       "      <td>Honduras</td>\n",
       "      <td>&lt;20% Remote</td>\n",
       "      <td>Honduras</td>\n",
       "      <td>Small</td>\n",
       "      <td>HND</td>\n",
       "      <td>HND</td>\n",
       "    </tr>\n",
       "    <tr>\n",
       "      <th>4</th>\n",
       "      <td>2020-01-01</td>\n",
       "      <td>Senior-level</td>\n",
       "      <td>Full Time</td>\n",
       "      <td>Machine Learning</td>\n",
       "      <td>150000</td>\n",
       "      <td>United States</td>\n",
       "      <td>Partial Remote</td>\n",
       "      <td>United States</td>\n",
       "      <td>Large</td>\n",
       "      <td>USA</td>\n",
       "      <td>USA</td>\n",
       "    </tr>\n",
       "  </tbody>\n",
       "</table>\n",
       "</div>"
      ],
      "text/plain": [
       "   work_year experience_level employment_type         job_title  \\\n",
       "0 2020-01-01        Mid-level       Full Time    Data Scientist   \n",
       "1 2020-01-01     Senior-level       Full Time  Machine Learning   \n",
       "2 2020-01-01     Senior-level       Full Time     Data Engineer   \n",
       "3 2020-01-01        Mid-level       Full Time      Data Analyst   \n",
       "4 2020-01-01     Senior-level       Full Time  Machine Learning   \n",
       "\n",
       "   salary_in_usd employee_residence    remote_ratio company_location  \\\n",
       "0          79833            Germany     <20% Remote          Germany   \n",
       "1         260000              Japan     <20% Remote            Japan   \n",
       "2         109024     United Kingdom  Partial Remote   United Kingdom   \n",
       "3          20000           Honduras     <20% Remote         Honduras   \n",
       "4         150000      United States  Partial Remote    United States   \n",
       "\n",
       "  company_size employee_residence_iso company_location_iso  \n",
       "0        Large                    DEU                  DEU  \n",
       "1        Small                    JPN                  JPN  \n",
       "2       Medium                    GBR                  GBR  \n",
       "3        Small                    HND                  HND  \n",
       "4        Large                    USA                  USA  "
      ]
     },
     "execution_count": 55,
     "metadata": {},
     "output_type": "execute_result"
    }
   ],
   "source": [
    "df_clean.head()"
   ]
  },
  {
   "cell_type": "markdown",
   "id": "455409a9",
   "metadata": {},
   "source": [
    "#### What is the company size distribution?"
   ]
  },
  {
   "cell_type": "code",
   "execution_count": 211,
   "id": "c7618438",
   "metadata": {},
   "outputs": [
    {
     "data": {
      "image/png": "[encoded data removed]",
      "text/plain": [
       "<Figure size 432x288 with 1 Axes>"
      ]
     },
     "metadata": {
      "needs_background": "light"
     },
     "output_type": "display_data"
    }
   ],
   "source": [
    "sns.countplot(data = df_clean, x = \"company_size\", color = \"b\")\n",
    "plt.grid(axis = \"y\", color = \"grey\", alpha = 0.3)\n",
    "plt.xlabel(\"Company Size\")\n",
    "plt.ylabel(\"Frequency\")\n",
    "plt.title(\"Distribution of Company Size\");"
   ]
  },
  {
   "cell_type": "markdown",
   "id": "2da0efb5",
   "metadata": {},
   "source": [
    "**Obseravtion**\n",
    "- Medium companies have the highest bar."
   ]
  },
  {
   "cell_type": "markdown",
   "id": "cbe4929b",
   "metadata": {},
   "source": [
    "#### What is the distribution of the job_title?"
   ]
  },
  {
   "cell_type": "code",
   "execution_count": 212,
   "id": "43d48a6d",
   "metadata": {},
   "outputs": [
    {
     "data": {
      "image/png": "[encoded data removed]",
      "text/plain": [
       "<Figure size 432x288 with 1 Axes>"
      ]
     },
     "metadata": {
      "needs_background": "light"
     },
     "output_type": "display_data"
    }
   ],
   "source": [
    "df_clean[\"job_title\"].value_counts().plot(kind = \"bar\", color = \"b\")\n",
    "plt.grid(axis = \"y\", color = \"grey\", alpha = 0.3)\n",
    "plt.xticks(rotation = 15)\n",
    "plt.xlabel(\"Job title\")\n",
    "plt.ylabel(\"Frequency\")\n",
    "plt.title(\"Distribution of Jobs\");"
   ]
  },
  {
   "cell_type": "markdown",
   "id": "a4874496",
   "metadata": {},
   "source": [
    "**Observation**\n",
    "- The role of a data scientist takes the lead followed by the role of a data engineer, then the role of a data analyst, followed by machine learning and the rest..."
   ]
  },
  {
   "cell_type": "markdown",
   "id": "47b86c7e",
   "metadata": {},
   "source": [
    "### Bivariate Analysis"
   ]
  },
  {
   "cell_type": "code",
   "execution_count": 58,
   "id": "14c75d45",
   "metadata": {},
   "outputs": [
    {
     "data": {
      "text/html": [
       "<div>\n",
       "<style scoped>\n",
       "    .dataframe tbody tr th:only-of-type {\n",
       "        vertical-align: middle;\n",
       "    }\n",
       "\n",
       "    .dataframe tbody tr th {\n",
       "        vertical-align: top;\n",
       "    }\n",
       "\n",
       "    .dataframe thead th {\n",
       "        text-align: right;\n",
       "    }\n",
       "</style>\n",
       "<table border=\"1\" class=\"dataframe\">\n",
       "  <thead>\n",
       "    <tr style=\"text-align: right;\">\n",
       "      <th></th>\n",
       "      <th>work_year</th>\n",
       "      <th>experience_level</th>\n",
       "      <th>employment_type</th>\n",
       "      <th>job_title</th>\n",
       "      <th>salary_in_usd</th>\n",
       "      <th>employee_residence</th>\n",
       "      <th>remote_ratio</th>\n",
       "      <th>company_location</th>\n",
       "      <th>company_size</th>\n",
       "      <th>employee_residence_iso</th>\n",
       "      <th>company_location_iso</th>\n",
       "    </tr>\n",
       "  </thead>\n",
       "  <tbody>\n",
       "    <tr>\n",
       "      <th>0</th>\n",
       "      <td>2020-01-01</td>\n",
       "      <td>Mid-level</td>\n",
       "      <td>Full Time</td>\n",
       "      <td>Data Scientist</td>\n",
       "      <td>79833</td>\n",
       "      <td>Germany</td>\n",
       "      <td>&lt;20% Remote</td>\n",
       "      <td>Germany</td>\n",
       "      <td>Large</td>\n",
       "      <td>DEU</td>\n",
       "      <td>DEU</td>\n",
       "    </tr>\n",
       "    <tr>\n",
       "      <th>1</th>\n",
       "      <td>2020-01-01</td>\n",
       "      <td>Senior-level</td>\n",
       "      <td>Full Time</td>\n",
       "      <td>Machine Learning</td>\n",
       "      <td>260000</td>\n",
       "      <td>Japan</td>\n",
       "      <td>&lt;20% Remote</td>\n",
       "      <td>Japan</td>\n",
       "      <td>Small</td>\n",
       "      <td>JPN</td>\n",
       "      <td>JPN</td>\n",
       "    </tr>\n",
       "    <tr>\n",
       "      <th>2</th>\n",
       "      <td>2020-01-01</td>\n",
       "      <td>Senior-level</td>\n",
       "      <td>Full Time</td>\n",
       "      <td>Data Engineer</td>\n",
       "      <td>109024</td>\n",
       "      <td>United Kingdom</td>\n",
       "      <td>Partial Remote</td>\n",
       "      <td>United Kingdom</td>\n",
       "      <td>Medium</td>\n",
       "      <td>GBR</td>\n",
       "      <td>GBR</td>\n",
       "    </tr>\n",
       "    <tr>\n",
       "      <th>3</th>\n",
       "      <td>2020-01-01</td>\n",
       "      <td>Mid-level</td>\n",
       "      <td>Full Time</td>\n",
       "      <td>Data Analyst</td>\n",
       "      <td>20000</td>\n",
       "      <td>Honduras</td>\n",
       "      <td>&lt;20% Remote</td>\n",
       "      <td>Honduras</td>\n",
       "      <td>Small</td>\n",
       "      <td>HND</td>\n",
       "      <td>HND</td>\n",
       "    </tr>\n",
       "    <tr>\n",
       "      <th>4</th>\n",
       "      <td>2020-01-01</td>\n",
       "      <td>Senior-level</td>\n",
       "      <td>Full Time</td>\n",
       "      <td>Machine Learning</td>\n",
       "      <td>150000</td>\n",
       "      <td>United States</td>\n",
       "      <td>Partial Remote</td>\n",
       "      <td>United States</td>\n",
       "      <td>Large</td>\n",
       "      <td>USA</td>\n",
       "      <td>USA</td>\n",
       "    </tr>\n",
       "  </tbody>\n",
       "</table>\n",
       "</div>"
      ],
      "text/plain": [
       "   work_year experience_level employment_type         job_title  \\\n",
       "0 2020-01-01        Mid-level       Full Time    Data Scientist   \n",
       "1 2020-01-01     Senior-level       Full Time  Machine Learning   \n",
       "2 2020-01-01     Senior-level       Full Time     Data Engineer   \n",
       "3 2020-01-01        Mid-level       Full Time      Data Analyst   \n",
       "4 2020-01-01     Senior-level       Full Time  Machine Learning   \n",
       "\n",
       "   salary_in_usd employee_residence    remote_ratio company_location  \\\n",
       "0          79833            Germany     <20% Remote          Germany   \n",
       "1         260000              Japan     <20% Remote            Japan   \n",
       "2         109024     United Kingdom  Partial Remote   United Kingdom   \n",
       "3          20000           Honduras     <20% Remote         Honduras   \n",
       "4         150000      United States  Partial Remote    United States   \n",
       "\n",
       "  company_size employee_residence_iso company_location_iso  \n",
       "0        Large                    DEU                  DEU  \n",
       "1        Small                    JPN                  JPN  \n",
       "2       Medium                    GBR                  GBR  \n",
       "3        Small                    HND                  HND  \n",
       "4        Large                    USA                  USA  "
      ]
     },
     "execution_count": 58,
     "metadata": {},
     "output_type": "execute_result"
    }
   ],
   "source": [
    "df_clean.head()"
   ]
  },
  {
   "cell_type": "markdown",
   "id": "b69a2695",
   "metadata": {},
   "source": [
    "#### The relationship between the experience_level and the salary received"
   ]
  },
  {
   "cell_type": "code",
   "execution_count": 214,
   "id": "eafdb358",
   "metadata": {},
   "outputs": [
    {
     "data": {
      "image/png": "[encoded data removed]",
      "text/plain": [
       "<Figure size 1080x576 with 2 Axes>"
      ]
     },
     "metadata": {
      "needs_background": "light"
     },
     "output_type": "display_data"
    }
   ],
   "source": [
    "#Using the boxplot\n",
    "plt.figure(figsize = [15, 8])\n",
    "plt.subplot(1, 2, 1)\n",
    "sns.boxplot(data = df_clean, x = \"experience_level\", y = \"salary_in_usd\", color = \"b\")\n",
    "y_ticks = np.arange(0, 600000, 50000)\n",
    "plt.yticks(y_ticks, y_ticks)\n",
    "\n",
    "\n",
    "plt.subplot(1, 2, 2)\n",
    "sns.violinplot(data = df_clean, x = \"experience_level\", y = \"salary_in_usd\", color = \"b\")\n",
    "y_ticks = np.arange(0, 600000, 50000)\n",
    "plt.yticks(y_ticks, y_ticks)\n",
    "\n",
    "plt.suptitle(\"Boxplot and Violinplot of salary for different experience level\");"
   ]
  },
  {
   "cell_type": "markdown",
   "id": "69e9f17c",
   "metadata": {},
   "source": [
    "**Observation**\n",
    "- The median income of entry level is around 50,000 USD, and it increases as the seniority increases.\n",
    "- However while the difference between the salary distribution and median income of entry level and mid level is not that much, the difference between the mid level and senior level is notable with senior level median salary being around the double median salary of mid level."
   ]
  },
  {
   "cell_type": "markdown",
   "id": "50663679",
   "metadata": {},
   "source": [
    "#### The title of the job for each salary earned."
   ]
  },
  {
   "cell_type": "code",
   "execution_count": 60,
   "id": "6e746062",
   "metadata": {},
   "outputs": [],
   "source": [
    "order = df_clean.groupby(\"job_title\")[\"salary_in_usd\"].median().sort_values(ascending = True).index"
   ]
  },
  {
   "cell_type": "code",
   "execution_count": 215,
   "id": "301f9726",
   "metadata": {},
   "outputs": [
    {
     "data": {
      "image/png": "[encoded data removed]",
      "text/plain": [
       "<Figure size 864x1008 with 2 Axes>"
      ]
     },
     "metadata": {
      "needs_background": "light"
     },
     "output_type": "display_data"
    }
   ],
   "source": [
    "plt.figure(figsize = [12, 14])\n",
    "plt.subplot(2, 1, 1)\n",
    "sns.boxplot(data = df_clean, x = \"job_title\", y = \"salary_in_usd\", color = \"b\", order=order)\n",
    "y_ticks = np.arange(0, 600000, 50000)\n",
    "plt.yticks(y_ticks, y_ticks)\n",
    "\n",
    "plt.subplot(2, 1, 2)\n",
    "sns.violinplot(data = df_clean, x = \"job_title\", y = \"salary_in_usd\", color = \"b\", order = order)\n",
    "y_ticks = np.arange(0, 600000, 50000)\n",
    "plt.yticks(y_ticks, y_ticks)\n",
    "\n",
    "plt.suptitle(\"Boxplot and Violinplot of salary for different Job Titles\");"
   ]
  },
  {
   "cell_type": "markdown",
   "id": "8aa4685d",
   "metadata": {},
   "source": [
    "**Observation**\n",
    "- The dataset informs that an analytics engineer is the highest median income earner. This can  be due to the very small number of analytics engineer present in the dataset as we saw in a previous bar chart.\n",
    "- Surprisingly is that the median income of Machine Learning(ML) is lower than a data analyst. However as we check the distribution of the violin plot, we observe that there are ML practictioners that earn higher salary than Data Analyst. The higher median can be as result of the count of different job titles or different count of experience level for different job"
   ]
  },
  {
   "cell_type": "markdown",
   "id": "4632a061",
   "metadata": {},
   "source": [
    "#### job_title and experience"
   ]
  },
  {
   "cell_type": "code",
   "execution_count": 217,
   "id": "6b1e6441",
   "metadata": {},
   "outputs": [
    {
     "data": {
      "image/png": "[encoded data removed]",
      "text/plain": [
       "<Figure size 864x288 with 1 Axes>"
      ]
     },
     "metadata": {
      "needs_background": "light"
     },
     "output_type": "display_data"
    }
   ],
   "source": [
    "plt.figure(figsize = [12, 4])\n",
    "\n",
    "sns.countplot(data = df_clean, x = \"job_title\", hue = \"experience_level\")\n",
    "plt.legend(loc = 1, bbox_to_anchor = [1, 0.5], title = \"Experience Level\")\n",
    "\n",
    "plt.xlabel(\"Job title\")\n",
    "plt.ylabel(\"Frequency\")\n",
    "plt.title(\"Comapring the experience levels for different ejob titles\");"
   ]
  },
  {
   "cell_type": "code",
   "execution_count": 219,
   "id": "fd9bedc7",
   "metadata": {},
   "outputs": [
    {
     "data": {
      "image/png": "[encoded data removed]",
      "text/plain": [
       "<Figure size 864x360 with 1 Axes>"
      ]
     },
     "metadata": {
      "needs_background": "light"
     },
     "output_type": "display_data"
    }
   ],
   "source": [
    "#Generate the \n",
    "df_clean.groupby(\"job_title\")[\"experience_level\"].value_counts(normalize = True).unstack().plot(kind = \"bar\", figsize = [12, 5])\n",
    "plt.xticks(rotation = 10)\n",
    "\n",
    "plt.xlabel(\"Job title\")\n",
    "plt.ylabel(\"Relative frequency\")\n",
    "plt.title(\"Comapring the experience levels for different ejob titles\")\n",
    "plt.legend(title = \"Experience Level\");"
   ]
  },
  {
   "cell_type": "markdown",
   "id": "3f65f274",
   "metadata": {},
   "source": [
    "**Observation**\n",
    "- From the above barplot we see that the high salary for the different job titles is due to how the experience level mix diffeere in different job title.\n",
    "- For instance ML have a fair smaller amount of senior entry roles than Data Architect, Data Analyst and most job titles.\n",
    "\n",
    "- A better obseravtion by multivariate analysis would be to check the comparism of salary by job titles for different experience level."
   ]
  },
  {
   "cell_type": "code",
   "execution_count": 66,
   "id": "fc2a8981",
   "metadata": {},
   "outputs": [],
   "source": [
    "import plotly.express as px"
   ]
  },
  {
   "cell_type": "code",
   "execution_count": 64,
   "id": "8385042e",
   "metadata": {},
   "outputs": [],
   "source": [
    "group = df_clean.groupby([\"company_location_iso\", \"company_location\"]).agg({\"salary_in_usd\": np.mean, \n",
    "                                                                    \"job_title\": np.size}).reset_index()"
   ]
  },
  {
   "cell_type": "code",
   "execution_count": 70,
   "id": "48d8bd78",
   "metadata": {},
   "outputs": [],
   "source": [
    "group.rename(columns = {\"job_title\": \"count\"}, inplace=True)"
   ]
  },
  {
   "cell_type": "code",
   "execution_count": 71,
   "id": "93447a75",
   "metadata": {},
   "outputs": [
    {
     "data": {
      "application/vnd.plotly.v1+json": {
       "config": {
        "plotlyServerURL": "https://plotly.com"
       },
       "data": [
        {
         "geo": "geo",
         "hovertemplate": "<b>%{hovertext}</b><br><br>salary_in_usd=%{marker.size}<br>company_location_iso=%{location}<br>count=%{marker.color}<extra></extra>",
         "hovertext": [
          "United Arab Emirates",
          "American Samoa",
          "Australia",
          "Austria",
          "Belgium",
          "Brazil",
          "Canada",
          "Switzerland",
          "Chile",
          "China",
          "Colombia",
          "Czechia",
          "Germany",
          "Denmark",
          "Algeria",
          "Spain",
          "Estonia",
          "France",
          "United Kingdom",
          "Greece",
          "Honduras",
          "Croatia",
          "Hungary",
          "India",
          "Ireland",
          "Iran, Islamic Republic of",
          "Iraq",
          "Israel",
          "Italy",
          "Japan",
          "Kenya",
          "Luxembourg",
          "Moldova, Republic of",
          "Mexico",
          "Malta",
          "Malaysia",
          "Nigeria",
          "Netherlands",
          "New Zealand",
          "Pakistan",
          "Poland",
          "Portugal",
          "Romania",
          "Russian Federation",
          "Singapore",
          "Slovenia",
          "Turkey",
          "Ukraine",
          "United States",
          "Viet Nam"
         ],
         "legendgroup": "",
         "locations": [
          "ARE",
          "ASM",
          "AUS",
          "AUT",
          "BEL",
          "BRA",
          "CAN",
          "CHE",
          "CHL",
          "CHN",
          "COL",
          "CZE",
          "DEU",
          "DNK",
          "DZA",
          "ESP",
          "EST",
          "FRA",
          "GBR",
          "GRC",
          "HND",
          "HRV",
          "HUN",
          "IND",
          "IRL",
          "IRN",
          "IRQ",
          "ISR",
          "ITA",
          "JPN",
          "KEN",
          "LUX",
          "MDA",
          "MEX",
          "MLT",
          "MYS",
          "NGA",
          "NLD",
          "NZL",
          "PAK",
          "POL",
          "PRT",
          "ROU",
          "RUS",
          "SGP",
          "SVN",
          "TUR",
          "UKR",
          "USA",
          "VNM"
         ],
         "marker": {
          "color": [
           3,
           1,
           3,
           4,
           2,
           3,
           30,
           2,
           1,
           2,
           1,
           2,
           28,
           3,
           1,
           14,
           1,
           15,
           47,
           11,
           1,
           1,
           1,
           24,
           1,
           1,
           1,
           1,
           2,
           6,
           1,
           3,
           1,
           3,
           1,
           1,
           2,
           4,
           1,
           3,
           4,
           4,
           1,
           2,
           1,
           2,
           3,
           1,
           353,
           1
          ],
          "coloraxis": "coloraxis",
          "size": [
           100000,
           18053,
           108042.66666666667,
           72920.75,
           85699,
           18602.666666666668,
           99823.73333333334,
           64114,
           40038,
           71665.5,
           21844,
           50937,
           81887.21428571429,
           54386.333333333336,
           100000,
           53060.142857142855,
           32974,
           63970.666666666664,
           81583.0425531915,
           52293.09090909091,
           20000,
           45618,
           35735,
           28581.75,
           71444,
           4000,
           100000,
           119059,
           36366.5,
           114127.33333333333,
           9272,
           43942.666666666664,
           18000,
           32123.333333333332,
           28369,
           40000,
           30000,
           54945.75,
           125000,
           13333.333333333334,
           66082.5,
           47793.75,
           60000,
           157500,
           89294,
           63831,
           20096.666666666668,
           13400,
           143525.8300283286,
           4000
          ],
          "sizemode": "area",
          "sizeref": 393.75,
          "symbol": "circle"
         },
         "mode": "markers",
         "name": "",
         "showlegend": false,
         "type": "scattergeo"
        }
       ],
       "layout": {
        "coloraxis": {
         "colorbar": {
          "title": {
           "text": "count"
          }
         },
         "colorscale": [
          [
           0,
           "#0d0887"
          ],
          [
           0.1111111111111111,
           "#46039f"
          ],
          [
           0.2222222222222222,
           "#7201a8"
          ],
          [
           0.3333333333333333,
           "#9c179e"
          ],
          [
           0.4444444444444444,
           "#bd3786"
          ],
          [
           0.5555555555555556,
           "#d8576b"
          ],
          [
           0.6666666666666666,
           "#ed7953"
          ],
          [
           0.7777777777777778,
           "#fb9f3a"
          ],
          [
           0.8888888888888888,
           "#fdca26"
          ],
          [
           1,
           "#f0f921"
          ]
         ]
        },
        "geo": {
         "center": {},
         "domain": {
          "x": [
           0,
           1
          ],
          "y": [
           0,
           1
          ]
         },
         "projection": {
          "type": "natural earth"
         }
        },
        "legend": {
         "itemsizing": "constant",
         "tracegroupgap": 0
        },
        "margin": {
         "t": 60
        },
        "template": {
         "data": {
          "bar": [
           {
            "error_x": {
             "color": "#2a3f5f"
            },
            "error_y": {
             "color": "#2a3f5f"
            },
            "marker": {
             "line": {
              "color": "#E5ECF6",
              "width": 0.5
             },
             "pattern": {
              "fillmode": "overlay",
              "size": 10,
              "solidity": 0.2
             }
            },
            "type": "bar"
           }
          ],
          "barpolar": [
           {
            "marker": {
             "line": {
              "color": "#E5ECF6",
              "width": 0.5
             },
             "pattern": {
              "fillmode": "overlay",
              "size": 10,
              "solidity": 0.2
             }
            },
            "type": "barpolar"
           }
          ],
          "carpet": [
           {
            "aaxis": {
             "endlinecolor": "#2a3f5f",
             "gridcolor": "white",
             "linecolor": "white",
             "minorgridcolor": "white",
             "startlinecolor": "#2a3f5f"
            },
            "baxis": {
             "endlinecolor": "#2a3f5f",
             "gridcolor": "white",
             "linecolor": "white",
             "minorgridcolor": "white",
             "startlinecolor": "#2a3f5f"
            },
            "type": "carpet"
           }
          ],
          "choropleth": [
           {
            "colorbar": {
             "outlinewidth": 0,
             "ticks": ""
            },
            "type": "choropleth"
           }
          ],
          "contour": [
           {
            "colorbar": {
             "outlinewidth": 0,
             "ticks": ""
            },
            "colorscale": [
             [
              0,
              "#0d0887"
             ],
             [
              0.1111111111111111,
              "#46039f"
             ],
             [
              0.2222222222222222,
              "#7201a8"
             ],
             [
              0.3333333333333333,
              "#9c179e"
             ],
             [
              0.4444444444444444,
              "#bd3786"
             ],
             [
              0.5555555555555556,
              "#d8576b"
             ],
             [
              0.6666666666666666,
              "#ed7953"
             ],
             [
              0.7777777777777778,
              "#fb9f3a"
             ],
             [
              0.8888888888888888,
              "#fdca26"
             ],
             [
              1,
              "#f0f921"
             ]
            ],
            "type": "contour"
           }
          ],
          "contourcarpet": [
           {
            "colorbar": {
             "outlinewidth": 0,
             "ticks": ""
            },
            "type": "contourcarpet"
           }
          ],
          "heatmap": [
           {
            "colorbar": {
             "outlinewidth": 0,
             "ticks": ""
            },
            "colorscale": [
             [
              0,
              "#0d0887"
             ],
             [
              0.1111111111111111,
              "#46039f"
             ],
             [
              0.2222222222222222,
              "#7201a8"
             ],
             [
              0.3333333333333333,
              "#9c179e"
             ],
             [
              0.4444444444444444,
              "#bd3786"
             ],
             [
              0.5555555555555556,
              "#d8576b"
             ],
             [
              0.6666666666666666,
              "#ed7953"
             ],
             [
              0.7777777777777778,
              "#fb9f3a"
             ],
             [
              0.8888888888888888,
              "#fdca26"
             ],
             [
              1,
              "#f0f921"
             ]
            ],
            "type": "heatmap"
           }
          ],
          "heatmapgl": [
           {
            "colorbar": {
             "outlinewidth": 0,
             "ticks": ""
            },
            "colorscale": [
             [
              0,
              "#0d0887"
             ],
             [
              0.1111111111111111,
              "#46039f"
             ],
             [
              0.2222222222222222,
              "#7201a8"
             ],
             [
              0.3333333333333333,
              "#9c179e"
             ],
             [
              0.4444444444444444,
              "#bd3786"
             ],
             [
              0.5555555555555556,
              "#d8576b"
             ],
             [
              0.6666666666666666,
              "#ed7953"
             ],
             [
              0.7777777777777778,
              "#fb9f3a"
             ],
             [
              0.8888888888888888,
              "#fdca26"
             ],
             [
              1,
              "#f0f921"
             ]
            ],
            "type": "heatmapgl"
           }
          ],
          "histogram": [
           {
            "marker": {
             "pattern": {
              "fillmode": "overlay",
              "size": 10,
              "solidity": 0.2
             }
            },
            "type": "histogram"
           }
          ],
          "histogram2d": [
           {
            "colorbar": {
             "outlinewidth": 0,
             "ticks": ""
            },
            "colorscale": [
             [
              0,
              "#0d0887"
             ],
             [
              0.1111111111111111,
              "#46039f"
             ],
             [
              0.2222222222222222,
              "#7201a8"
             ],
             [
              0.3333333333333333,
              "#9c179e"
             ],
             [
              0.4444444444444444,
              "#bd3786"
             ],
             [
              0.5555555555555556,
              "#d8576b"
             ],
             [
              0.6666666666666666,
              "#ed7953"
             ],
             [
              0.7777777777777778,
              "#fb9f3a"
             ],
             [
              0.8888888888888888,
              "#fdca26"
             ],
             [
              1,
              "#f0f921"
             ]
            ],
            "type": "histogram2d"
           }
          ],
          "histogram2dcontour": [
           {
            "colorbar": {
             "outlinewidth": 0,
             "ticks": ""
            },
            "colorscale": [
             [
              0,
              "#0d0887"
             ],
             [
              0.1111111111111111,
              "#46039f"
             ],
             [
              0.2222222222222222,
              "#7201a8"
             ],
             [
              0.3333333333333333,
              "#9c179e"
             ],
             [
              0.4444444444444444,
              "#bd3786"
             ],
             [
              0.5555555555555556,
              "#d8576b"
             ],
             [
              0.6666666666666666,
              "#ed7953"
             ],
             [
              0.7777777777777778,
              "#fb9f3a"
             ],
             [
              0.8888888888888888,
              "#fdca26"
             ],
             [
              1,
              "#f0f921"
             ]
            ],
            "type": "histogram2dcontour"
           }
          ],
          "mesh3d": [
           {
            "colorbar": {
             "outlinewidth": 0,
             "ticks": ""
            },
            "type": "mesh3d"
           }
          ],
          "parcoords": [
           {
            "line": {
             "colorbar": {
              "outlinewidth": 0,
              "ticks": ""
             }
            },
            "type": "parcoords"
           }
          ],
          "pie": [
           {
            "automargin": true,
            "type": "pie"
           }
          ],
          "scatter": [
           {
            "marker": {
             "colorbar": {
              "outlinewidth": 0,
              "ticks": ""
             }
            },
            "type": "scatter"
           }
          ],
          "scatter3d": [
           {
            "line": {
             "colorbar": {
              "outlinewidth": 0,
              "ticks": ""
             }
            },
            "marker": {
             "colorbar": {
              "outlinewidth": 0,
              "ticks": ""
             }
            },
            "type": "scatter3d"
           }
          ],
          "scattercarpet": [
           {
            "marker": {
             "colorbar": {
              "outlinewidth": 0,
              "ticks": ""
             }
            },
            "type": "scattercarpet"
           }
          ],
          "scattergeo": [
           {
            "marker": {
             "colorbar": {
              "outlinewidth": 0,
              "ticks": ""
             }
            },
            "type": "scattergeo"
           }
          ],
          "scattergl": [
           {
            "marker": {
             "colorbar": {
              "outlinewidth": 0,
              "ticks": ""
             }
            },
            "type": "scattergl"
           }
          ],
          "scattermapbox": [
           {
            "marker": {
             "colorbar": {
              "outlinewidth": 0,
              "ticks": ""
             }
            },
            "type": "scattermapbox"
           }
          ],
          "scatterpolar": [
           {
            "marker": {
             "colorbar": {
              "outlinewidth": 0,
              "ticks": ""
             }
            },
            "type": "scatterpolar"
           }
          ],
          "scatterpolargl": [
           {
            "marker": {
             "colorbar": {
              "outlinewidth": 0,
              "ticks": ""
             }
            },
            "type": "scatterpolargl"
           }
          ],
          "scatterternary": [
           {
            "marker": {
             "colorbar": {
              "outlinewidth": 0,
              "ticks": ""
             }
            },
            "type": "scatterternary"
           }
          ],
          "surface": [
           {
            "colorbar": {
             "outlinewidth": 0,
             "ticks": ""
            },
            "colorscale": [
             [
              0,
              "#0d0887"
             ],
             [
              0.1111111111111111,
              "#46039f"
             ],
             [
              0.2222222222222222,
              "#7201a8"
             ],
             [
              0.3333333333333333,
              "#9c179e"
             ],
             [
              0.4444444444444444,
              "#bd3786"
             ],
             [
              0.5555555555555556,
              "#d8576b"
             ],
             [
              0.6666666666666666,
              "#ed7953"
             ],
             [
              0.7777777777777778,
              "#fb9f3a"
             ],
             [
              0.8888888888888888,
              "#fdca26"
             ],
             [
              1,
              "#f0f921"
             ]
            ],
            "type": "surface"
           }
          ],
          "table": [
           {
            "cells": {
             "fill": {
              "color": "#EBF0F8"
             },
             "line": {
              "color": "white"
             }
            },
            "header": {
             "fill": {
              "color": "#C8D4E3"
             },
             "line": {
              "color": "white"
             }
            },
            "type": "table"
           }
          ]
         },
         "layout": {
          "annotationdefaults": {
           "arrowcolor": "#2a3f5f",
           "arrowhead": 0,
           "arrowwidth": 1
          },
          "autotypenumbers": "strict",
          "coloraxis": {
           "colorbar": {
            "outlinewidth": 0,
            "ticks": ""
           }
          },
          "colorscale": {
           "diverging": [
            [
             0,
             "#8e0152"
            ],
            [
             0.1,
             "#c51b7d"
            ],
            [
             0.2,
             "#de77ae"
            ],
            [
             0.3,
             "#f1b6da"
            ],
            [
             0.4,
             "#fde0ef"
            ],
            [
             0.5,
             "#f7f7f7"
            ],
            [
             0.6,
             "#e6f5d0"
            ],
            [
             0.7,
             "#b8e186"
            ],
            [
             0.8,
             "#7fbc41"
            ],
            [
             0.9,
             "#4d9221"
            ],
            [
             1,
             "#276419"
            ]
           ],
           "sequential": [
            [
             0,
             "#0d0887"
            ],
            [
             0.1111111111111111,
             "#46039f"
            ],
            [
             0.2222222222222222,
             "#7201a8"
            ],
            [
             0.3333333333333333,
             "#9c179e"
            ],
            [
             0.4444444444444444,
             "#bd3786"
            ],
            [
             0.5555555555555556,
             "#d8576b"
            ],
            [
             0.6666666666666666,
             "#ed7953"
            ],
            [
             0.7777777777777778,
             "#fb9f3a"
            ],
            [
             0.8888888888888888,
             "#fdca26"
            ],
            [
             1,
             "#f0f921"
            ]
           ],
           "sequentialminus": [
            [
             0,
             "#0d0887"
            ],
            [
             0.1111111111111111,
             "#46039f"
            ],
            [
             0.2222222222222222,
             "#7201a8"
            ],
            [
             0.3333333333333333,
             "#9c179e"
            ],
            [
             0.4444444444444444,
             "#bd3786"
            ],
            [
             0.5555555555555556,
             "#d8576b"
            ],
            [
             0.6666666666666666,
             "#ed7953"
            ],
            [
             0.7777777777777778,
             "#fb9f3a"
            ],
            [
             0.8888888888888888,
             "#fdca26"
            ],
            [
             1,
             "#f0f921"
            ]
           ]
          },
          "colorway": [
           "#636efa",
           "#EF553B",
           "#00cc96",
           "#ab63fa",
           "#FFA15A",
           "#19d3f3",
           "#FF6692",
           "#B6E880",
           "#FF97FF",
           "#FECB52"
          ],
          "font": {
           "color": "#2a3f5f"
          },
          "geo": {
           "bgcolor": "white",
           "lakecolor": "white",
           "landcolor": "#E5ECF6",
           "showlakes": true,
           "showland": true,
           "subunitcolor": "white"
          },
          "hoverlabel": {
           "align": "left"
          },
          "hovermode": "closest",
          "mapbox": {
           "style": "light"
          },
          "paper_bgcolor": "white",
          "plot_bgcolor": "#E5ECF6",
          "polar": {
           "angularaxis": {
            "gridcolor": "white",
            "linecolor": "white",
            "ticks": ""
           },
           "bgcolor": "#E5ECF6",
           "radialaxis": {
            "gridcolor": "white",
            "linecolor": "white",
            "ticks": ""
           }
          },
          "scene": {
           "xaxis": {
            "backgroundcolor": "#E5ECF6",
            "gridcolor": "white",
            "gridwidth": 2,
            "linecolor": "white",
            "showbackground": true,
            "ticks": "",
            "zerolinecolor": "white"
           },
           "yaxis": {
            "backgroundcolor": "#E5ECF6",
            "gridcolor": "white",
            "gridwidth": 2,
            "linecolor": "white",
            "showbackground": true,
            "ticks": "",
            "zerolinecolor": "white"
           },
           "zaxis": {
            "backgroundcolor": "#E5ECF6",
            "gridcolor": "white",
            "gridwidth": 2,
            "linecolor": "white",
            "showbackground": true,
            "ticks": "",
            "zerolinecolor": "white"
           }
          },
          "shapedefaults": {
           "line": {
            "color": "#2a3f5f"
           }
          },
          "ternary": {
           "aaxis": {
            "gridcolor": "white",
            "linecolor": "white",
            "ticks": ""
           },
           "baxis": {
            "gridcolor": "white",
            "linecolor": "white",
            "ticks": ""
           },
           "bgcolor": "#E5ECF6",
           "caxis": {
            "gridcolor": "white",
            "linecolor": "white",
            "ticks": ""
           }
          },
          "title": {
           "x": 0.05
          },
          "xaxis": {
           "automargin": true,
           "gridcolor": "white",
           "linecolor": "white",
           "ticks": "",
           "title": {
            "standoff": 15
           },
           "zerolinecolor": "white",
           "zerolinewidth": 2
          },
          "yaxis": {
           "automargin": true,
           "gridcolor": "white",
           "linecolor": "white",
           "ticks": "",
           "title": {
            "standoff": 15
           },
           "zerolinecolor": "white",
           "zerolinewidth": 2
          }
         }
        }
       }
      },
      "text/html": [
       "<div>                            <div id=\"978f0af5-e0aa-4843-b8a1-68b9b07a44c3\" class=\"plotly-graph-div\" style=\"height:525px; width:100%;\"></div>            <script type=\"text/javascript\">                require([\"plotly\"], function(Plotly) {                    window.PLOTLYENV=window.PLOTLYENV || {};                                    if (document.getElementById(\"978f0af5-e0aa-4843-b8a1-68b9b07a44c3\")) {                    Plotly.newPlot(                        \"978f0af5-e0aa-4843-b8a1-68b9b07a44c3\",                        [{\"geo\":\"geo\",\"hovertemplate\":\"<b>%{hovertext}</b><br><br>salary_in_usd=%{marker.size}<br>company_location_iso=%{location}<br>count=%{marker.color}<extra></extra>\",\"hovertext\":[\"United Arab Emirates\",\"American Samoa\",\"Australia\",\"Austria\",\"Belgium\",\"Brazil\",\"Canada\",\"Switzerland\",\"Chile\",\"China\",\"Colombia\",\"Czechia\",\"Germany\",\"Denmark\",\"Algeria\",\"Spain\",\"Estonia\",\"France\",\"United Kingdom\",\"Greece\",\"Honduras\",\"Croatia\",\"Hungary\",\"India\",\"Ireland\",\"Iran, Islamic Republic of\",\"Iraq\",\"Israel\",\"Italy\",\"Japan\",\"Kenya\",\"Luxembourg\",\"Moldova, Republic of\",\"Mexico\",\"Malta\",\"Malaysia\",\"Nigeria\",\"Netherlands\",\"New Zealand\",\"Pakistan\",\"Poland\",\"Portugal\",\"Romania\",\"Russian Federation\",\"Singapore\",\"Slovenia\",\"Turkey\",\"Ukraine\",\"United States\",\"Viet Nam\"],\"legendgroup\":\"\",\"locations\":[\"ARE\",\"ASM\",\"AUS\",\"AUT\",\"BEL\",\"BRA\",\"CAN\",\"CHE\",\"CHL\",\"CHN\",\"COL\",\"CZE\",\"DEU\",\"DNK\",\"DZA\",\"ESP\",\"EST\",\"FRA\",\"GBR\",\"GRC\",\"HND\",\"HRV\",\"HUN\",\"IND\",\"IRL\",\"IRN\",\"IRQ\",\"ISR\",\"ITA\",\"JPN\",\"KEN\",\"LUX\",\"MDA\",\"MEX\",\"MLT\",\"MYS\",\"NGA\",\"NLD\",\"NZL\",\"PAK\",\"POL\",\"PRT\",\"ROU\",\"RUS\",\"SGP\",\"SVN\",\"TUR\",\"UKR\",\"USA\",\"VNM\"],\"marker\":{\"color\":[3,1,3,4,2,3,30,2,1,2,1,2,28,3,1,14,1,15,47,11,1,1,1,24,1,1,1,1,2,6,1,3,1,3,1,1,2,4,1,3,4,4,1,2,1,2,3,1,353,1],\"coloraxis\":\"coloraxis\",\"size\":[100000.0,18053.0,108042.66666666667,72920.75,85699.0,18602.666666666668,99823.73333333334,64114.0,40038.0,71665.5,21844.0,50937.0,81887.21428571429,54386.333333333336,100000.0,53060.142857142855,32974.0,63970.666666666664,81583.0425531915,52293.09090909091,20000.0,45618.0,35735.0,28581.75,71444.0,4000.0,100000.0,119059.0,36366.5,114127.33333333333,9272.0,43942.666666666664,18000.0,32123.333333333332,28369.0,40000.0,30000.0,54945.75,125000.0,13333.333333333334,66082.5,47793.75,60000.0,157500.0,89294.0,63831.0,20096.666666666668,13400.0,143525.8300283286,4000.0],\"sizemode\":\"area\",\"sizeref\":393.75,\"symbol\":\"circle\"},\"mode\":\"markers\",\"name\":\"\",\"showlegend\":false,\"type\":\"scattergeo\"}],                        {\"template\":{\"data\":{\"bar\":[{\"error_x\":{\"color\":\"#2a3f5f\"},\"error_y\":{\"color\":\"#2a3f5f\"},\"marker\":{\"line\":{\"color\":\"#E5ECF6\",\"width\":0.5},\"pattern\":{\"fillmode\":\"overlay\",\"size\":10,\"solidity\":0.2}},\"type\":\"bar\"}],\"barpolar\":[{\"marker\":{\"line\":{\"color\":\"#E5ECF6\",\"width\":0.5},\"pattern\":{\"fillmode\":\"overlay\",\"size\":10,\"solidity\":0.2}},\"type\":\"barpolar\"}],\"carpet\":[{\"aaxis\":{\"endlinecolor\":\"#2a3f5f\",\"gridcolor\":\"white\",\"linecolor\":\"white\",\"minorgridcolor\":\"white\",\"startlinecolor\":\"#2a3f5f\"},\"baxis\":{\"endlinecolor\":\"#2a3f5f\",\"gridcolor\":\"white\",\"linecolor\":\"white\",\"minorgridcolor\":\"white\",\"startlinecolor\":\"#2a3f5f\"},\"type\":\"carpet\"}],\"choropleth\":[{\"colorbar\":{\"outlinewidth\":0,\"ticks\":\"\"},\"type\":\"choropleth\"}],\"contour\":[{\"colorbar\":{\"outlinewidth\":0,\"ticks\":\"\"},\"colorscale\":[[0.0,\"#0d0887\"],[0.1111111111111111,\"#46039f\"],[0.2222222222222222,\"#7201a8\"],[0.3333333333333333,\"#9c179e\"],[0.4444444444444444,\"#bd3786\"],[0.5555555555555556,\"#d8576b\"],[0.6666666666666666,\"#ed7953\"],[0.7777777777777778,\"#fb9f3a\"],[0.8888888888888888,\"#fdca26\"],[1.0,\"#f0f921\"]],\"type\":\"contour\"}],\"contourcarpet\":[{\"colorbar\":{\"outlinewidth\":0,\"ticks\":\"\"},\"type\":\"contourcarpet\"}],\"heatmap\":[{\"colorbar\":{\"outlinewidth\":0,\"ticks\":\"\"},\"colorscale\":[[0.0,\"#0d0887\"],[0.1111111111111111,\"#46039f\"],[0.2222222222222222,\"#7201a8\"],[0.3333333333333333,\"#9c179e\"],[0.4444444444444444,\"#bd3786\"],[0.5555555555555556,\"#d8576b\"],[0.6666666666666666,\"#ed7953\"],[0.7777777777777778,\"#fb9f3a\"],[0.8888888888888888,\"#fdca26\"],[1.0,\"#f0f921\"]],\"type\":\"heatmap\"}],\"heatmapgl\":[{\"colorbar\":{\"outlinewidth\":0,\"ticks\":\"\"},\"colorscale\":[[0.0,\"#0d0887\"],[0.1111111111111111,\"#46039f\"],[0.2222222222222222,\"#7201a8\"],[0.3333333333333333,\"#9c179e\"],[0.4444444444444444,\"#bd3786\"],[0.5555555555555556,\"#d8576b\"],[0.6666666666666666,\"#ed7953\"],[0.7777777777777778,\"#fb9f3a\"],[0.8888888888888888,\"#fdca26\"],[1.0,\"#f0f921\"]],\"type\":\"heatmapgl\"}],\"histogram\":[{\"marker\":{\"pattern\":{\"fillmode\":\"overlay\",\"size\":10,\"solidity\":0.2}},\"type\":\"histogram\"}],\"histogram2d\":[{\"colorbar\":{\"outlinewidth\":0,\"ticks\":\"\"},\"colorscale\":[[0.0,\"#0d0887\"],[0.1111111111111111,\"#46039f\"],[0.2222222222222222,\"#7201a8\"],[0.3333333333333333,\"#9c179e\"],[0.4444444444444444,\"#bd3786\"],[0.5555555555555556,\"#d8576b\"],[0.6666666666666666,\"#ed7953\"],[0.7777777777777778,\"#fb9f3a\"],[0.8888888888888888,\"#fdca26\"],[1.0,\"#f0f921\"]],\"type\":\"histogram2d\"}],\"histogram2dcontour\":[{\"colorbar\":{\"outlinewidth\":0,\"ticks\":\"\"},\"colorscale\":[[0.0,\"#0d0887\"],[0.1111111111111111,\"#46039f\"],[0.2222222222222222,\"#7201a8\"],[0.3333333333333333,\"#9c179e\"],[0.4444444444444444,\"#bd3786\"],[0.5555555555555556,\"#d8576b\"],[0.6666666666666666,\"#ed7953\"],[0.7777777777777778,\"#fb9f3a\"],[0.8888888888888888,\"#fdca26\"],[1.0,\"#f0f921\"]],\"type\":\"histogram2dcontour\"}],\"mesh3d\":[{\"colorbar\":{\"outlinewidth\":0,\"ticks\":\"\"},\"type\":\"mesh3d\"}],\"parcoords\":[{\"line\":{\"colorbar\":{\"outlinewidth\":0,\"ticks\":\"\"}},\"type\":\"parcoords\"}],\"pie\":[{\"automargin\":true,\"type\":\"pie\"}],\"scatter\":[{\"marker\":{\"colorbar\":{\"outlinewidth\":0,\"ticks\":\"\"}},\"type\":\"scatter\"}],\"scatter3d\":[{\"line\":{\"colorbar\":{\"outlinewidth\":0,\"ticks\":\"\"}},\"marker\":{\"colorbar\":{\"outlinewidth\":0,\"ticks\":\"\"}},\"type\":\"scatter3d\"}],\"scattercarpet\":[{\"marker\":{\"colorbar\":{\"outlinewidth\":0,\"ticks\":\"\"}},\"type\":\"scattercarpet\"}],\"scattergeo\":[{\"marker\":{\"colorbar\":{\"outlinewidth\":0,\"ticks\":\"\"}},\"type\":\"scattergeo\"}],\"scattergl\":[{\"marker\":{\"colorbar\":{\"outlinewidth\":0,\"ticks\":\"\"}},\"type\":\"scattergl\"}],\"scattermapbox\":[{\"marker\":{\"colorbar\":{\"outlinewidth\":0,\"ticks\":\"\"}},\"type\":\"scattermapbox\"}],\"scatterpolar\":[{\"marker\":{\"colorbar\":{\"outlinewidth\":0,\"ticks\":\"\"}},\"type\":\"scatterpolar\"}],\"scatterpolargl\":[{\"marker\":{\"colorbar\":{\"outlinewidth\":0,\"ticks\":\"\"}},\"type\":\"scatterpolargl\"}],\"scatterternary\":[{\"marker\":{\"colorbar\":{\"outlinewidth\":0,\"ticks\":\"\"}},\"type\":\"scatterternary\"}],\"surface\":[{\"colorbar\":{\"outlinewidth\":0,\"ticks\":\"\"},\"colorscale\":[[0.0,\"#0d0887\"],[0.1111111111111111,\"#46039f\"],[0.2222222222222222,\"#7201a8\"],[0.3333333333333333,\"#9c179e\"],[0.4444444444444444,\"#bd3786\"],[0.5555555555555556,\"#d8576b\"],[0.6666666666666666,\"#ed7953\"],[0.7777777777777778,\"#fb9f3a\"],[0.8888888888888888,\"#fdca26\"],[1.0,\"#f0f921\"]],\"type\":\"surface\"}],\"table\":[{\"cells\":{\"fill\":{\"color\":\"#EBF0F8\"},\"line\":{\"color\":\"white\"}},\"header\":{\"fill\":{\"color\":\"#C8D4E3\"},\"line\":{\"color\":\"white\"}},\"type\":\"table\"}]},\"layout\":{\"annotationdefaults\":{\"arrowcolor\":\"#2a3f5f\",\"arrowhead\":0,\"arrowwidth\":1},\"autotypenumbers\":\"strict\",\"coloraxis\":{\"colorbar\":{\"outlinewidth\":0,\"ticks\":\"\"}},\"colorscale\":{\"diverging\":[[0,\"#8e0152\"],[0.1,\"#c51b7d\"],[0.2,\"#de77ae\"],[0.3,\"#f1b6da\"],[0.4,\"#fde0ef\"],[0.5,\"#f7f7f7\"],[0.6,\"#e6f5d0\"],[0.7,\"#b8e186\"],[0.8,\"#7fbc41\"],[0.9,\"#4d9221\"],[1,\"#276419\"]],\"sequential\":[[0.0,\"#0d0887\"],[0.1111111111111111,\"#46039f\"],[0.2222222222222222,\"#7201a8\"],[0.3333333333333333,\"#9c179e\"],[0.4444444444444444,\"#bd3786\"],[0.5555555555555556,\"#d8576b\"],[0.6666666666666666,\"#ed7953\"],[0.7777777777777778,\"#fb9f3a\"],[0.8888888888888888,\"#fdca26\"],[1.0,\"#f0f921\"]],\"sequentialminus\":[[0.0,\"#0d0887\"],[0.1111111111111111,\"#46039f\"],[0.2222222222222222,\"#7201a8\"],[0.3333333333333333,\"#9c179e\"],[0.4444444444444444,\"#bd3786\"],[0.5555555555555556,\"#d8576b\"],[0.6666666666666666,\"#ed7953\"],[0.7777777777777778,\"#fb9f3a\"],[0.8888888888888888,\"#fdca26\"],[1.0,\"#f0f921\"]]},\"colorway\":[\"#636efa\",\"#EF553B\",\"#00cc96\",\"#ab63fa\",\"#FFA15A\",\"#19d3f3\",\"#FF6692\",\"#B6E880\",\"#FF97FF\",\"#FECB52\"],\"font\":{\"color\":\"#2a3f5f\"},\"geo\":{\"bgcolor\":\"white\",\"lakecolor\":\"white\",\"landcolor\":\"#E5ECF6\",\"showlakes\":true,\"showland\":true,\"subunitcolor\":\"white\"},\"hoverlabel\":{\"align\":\"left\"},\"hovermode\":\"closest\",\"mapbox\":{\"style\":\"light\"},\"paper_bgcolor\":\"white\",\"plot_bgcolor\":\"#E5ECF6\",\"polar\":{\"angularaxis\":{\"gridcolor\":\"white\",\"linecolor\":\"white\",\"ticks\":\"\"},\"bgcolor\":\"#E5ECF6\",\"radialaxis\":{\"gridcolor\":\"white\",\"linecolor\":\"white\",\"ticks\":\"\"}},\"scene\":{\"xaxis\":{\"backgroundcolor\":\"#E5ECF6\",\"gridcolor\":\"white\",\"gridwidth\":2,\"linecolor\":\"white\",\"showbackground\":true,\"ticks\":\"\",\"zerolinecolor\":\"white\"},\"yaxis\":{\"backgroundcolor\":\"#E5ECF6\",\"gridcolor\":\"white\",\"gridwidth\":2,\"linecolor\":\"white\",\"showbackground\":true,\"ticks\":\"\",\"zerolinecolor\":\"white\"},\"zaxis\":{\"backgroundcolor\":\"#E5ECF6\",\"gridcolor\":\"white\",\"gridwidth\":2,\"linecolor\":\"white\",\"showbackground\":true,\"ticks\":\"\",\"zerolinecolor\":\"white\"}},\"shapedefaults\":{\"line\":{\"color\":\"#2a3f5f\"}},\"ternary\":{\"aaxis\":{\"gridcolor\":\"white\",\"linecolor\":\"white\",\"ticks\":\"\"},\"baxis\":{\"gridcolor\":\"white\",\"linecolor\":\"white\",\"ticks\":\"\"},\"bgcolor\":\"#E5ECF6\",\"caxis\":{\"gridcolor\":\"white\",\"linecolor\":\"white\",\"ticks\":\"\"}},\"title\":{\"x\":0.05},\"xaxis\":{\"automargin\":true,\"gridcolor\":\"white\",\"linecolor\":\"white\",\"ticks\":\"\",\"title\":{\"standoff\":15},\"zerolinecolor\":\"white\",\"zerolinewidth\":2},\"yaxis\":{\"automargin\":true,\"gridcolor\":\"white\",\"linecolor\":\"white\",\"ticks\":\"\",\"title\":{\"standoff\":15},\"zerolinecolor\":\"white\",\"zerolinewidth\":2}}},\"geo\":{\"domain\":{\"x\":[0.0,1.0],\"y\":[0.0,1.0]},\"projection\":{\"type\":\"natural earth\"},\"center\":{}},\"coloraxis\":{\"colorbar\":{\"title\":{\"text\":\"count\"}},\"colorscale\":[[0.0,\"#0d0887\"],[0.1111111111111111,\"#46039f\"],[0.2222222222222222,\"#7201a8\"],[0.3333333333333333,\"#9c179e\"],[0.4444444444444444,\"#bd3786\"],[0.5555555555555556,\"#d8576b\"],[0.6666666666666666,\"#ed7953\"],[0.7777777777777778,\"#fb9f3a\"],[0.8888888888888888,\"#fdca26\"],[1.0,\"#f0f921\"]]},\"legend\":{\"tracegroupgap\":0,\"itemsizing\":\"constant\"},\"margin\":{\"t\":60}},                        {\"responsive\": true}                    ).then(function(){\n",
       "                            \n",
       "var gd = document.getElementById('978f0af5-e0aa-4843-b8a1-68b9b07a44c3');\n",
       "var x = new MutationObserver(function (mutations, observer) {{\n",
       "        var display = window.getComputedStyle(gd).display;\n",
       "        if (!display || display === 'none') {{\n",
       "            console.log([gd, 'removed!']);\n",
       "            Plotly.purge(gd);\n",
       "            observer.disconnect();\n",
       "        }}\n",
       "}});\n",
       "\n",
       "// Listen for the removal of the full notebook cells\n",
       "var notebookContainer = gd.closest('#notebook-container');\n",
       "if (notebookContainer) {{\n",
       "    x.observe(notebookContainer, {childList: true});\n",
       "}}\n",
       "\n",
       "// Listen for the clearing of the current output cell\n",
       "var outputEl = gd.closest('.output');\n",
       "if (outputEl) {{\n",
       "    x.observe(outputEl, {childList: true});\n",
       "}}\n",
       "\n",
       "                        })                };                });            </script>        </div>"
      ]
     },
     "metadata": {},
     "output_type": "display_data"
    }
   ],
   "source": [
    "px.scatter_geo(group, locations=\"company_location_iso\",\n",
    "                     color=\"count\", # which column to use to set the color of markers\n",
    "                     hover_name=\"company_location\", # column added to hover information\n",
    "                     size=\"salary_in_usd\", \n",
    "               projection= \"natural earth\")"
   ]
  },
  {
   "cell_type": "markdown",
   "id": "e6922bab",
   "metadata": {},
   "source": [
    "From the above loaction plot, we can spot that United States is a spectacular region with highest count of data science jobs and a big dot which indicates a high mean salary in the region. Other contries have a high mean salary like Russia Federation but none records high count in the dataset like USA."
   ]
  },
  {
   "cell_type": "markdown",
   "id": "8f004195",
   "metadata": {},
   "source": [
    "#### Time Series Evaluation of the salary"
   ]
  },
  {
   "cell_type": "code",
   "execution_count": 76,
   "id": "ce2c37f5",
   "metadata": {},
   "outputs": [
    {
     "data": {
      "text/html": [
       "<div>\n",
       "<style scoped>\n",
       "    .dataframe tbody tr th:only-of-type {\n",
       "        vertical-align: middle;\n",
       "    }\n",
       "\n",
       "    .dataframe tbody tr th {\n",
       "        vertical-align: top;\n",
       "    }\n",
       "\n",
       "    .dataframe thead th {\n",
       "        text-align: right;\n",
       "    }\n",
       "</style>\n",
       "<table border=\"1\" class=\"dataframe\">\n",
       "  <thead>\n",
       "    <tr style=\"text-align: right;\">\n",
       "      <th></th>\n",
       "      <th>work_year</th>\n",
       "      <th>salary_in_usd</th>\n",
       "    </tr>\n",
       "  </thead>\n",
       "  <tbody>\n",
       "    <tr>\n",
       "      <th>0</th>\n",
       "      <td>2020-01-01</td>\n",
       "      <td>79833</td>\n",
       "    </tr>\n",
       "    <tr>\n",
       "      <th>1</th>\n",
       "      <td>2020-01-01</td>\n",
       "      <td>260000</td>\n",
       "    </tr>\n",
       "    <tr>\n",
       "      <th>2</th>\n",
       "      <td>2020-01-01</td>\n",
       "      <td>109024</td>\n",
       "    </tr>\n",
       "    <tr>\n",
       "      <th>3</th>\n",
       "      <td>2020-01-01</td>\n",
       "      <td>20000</td>\n",
       "    </tr>\n",
       "    <tr>\n",
       "      <th>4</th>\n",
       "      <td>2020-01-01</td>\n",
       "      <td>150000</td>\n",
       "    </tr>\n",
       "  </tbody>\n",
       "</table>\n",
       "</div>"
      ],
      "text/plain": [
       "   work_year  salary_in_usd\n",
       "0 2020-01-01          79833\n",
       "1 2020-01-01         260000\n",
       "2 2020-01-01         109024\n",
       "3 2020-01-01          20000\n",
       "4 2020-01-01         150000"
      ]
     },
     "execution_count": 76,
     "metadata": {},
     "output_type": "execute_result"
    }
   ],
   "source": [
    "df_ts = df_clean[[\"work_year\", \"salary_in_usd\"]]\n",
    "df_ts.head()"
   ]
  },
  {
   "cell_type": "code",
   "execution_count": 220,
   "id": "d9b4524b",
   "metadata": {},
   "outputs": [
    {
     "data": {
      "image/png": "[encoded data removed]",
      "text/plain": [
       "<Figure size 432x288 with 1 Axes>"
      ]
     },
     "metadata": {
      "needs_background": "light"
     },
     "output_type": "display_data"
    }
   ],
   "source": [
    "df_ts.groupby(\"work_year\").mean().plot()\n",
    "plt.grid(axis = \"y\", alpha = 0.5)\n",
    "plt.yticks(range(0, 130_000, 20_000))\n",
    "plt.xlabel(\"Work Year\")\n",
    "plt.ylabel(\"Salary [USD]\")\n",
    "plt.title(\"Salary Changes in fifferent Years\");"
   ]
  },
  {
   "cell_type": "markdown",
   "id": "dbf83b36",
   "metadata": {},
   "source": [
    "It is noticeable that the mean price for salaries for the data science roles have increased over the years, with an increase in mean salaries that makes the mean salaries above 120K. However this change can be investigated further with the plots below."
   ]
  },
  {
   "cell_type": "code",
   "execution_count": 221,
   "id": "af59debb",
   "metadata": {},
   "outputs": [
    {
     "data": {
      "image/png": "[encoded data removed]",
      "text/plain": [
       "<Figure size 432x288 with 1 Axes>"
      ]
     },
     "metadata": {
      "needs_background": "light"
     },
     "output_type": "display_data"
    }
   ],
   "source": [
    "sns.countplot(data=df_clean, x = \"work_year\", hue = \"experience_level\", palette = \"Reds\")\n",
    "plt.xticks(range(0, 3), [2020, 2021, 2022])\n",
    "\n",
    "plt.xlabel(\"Work Year\")\n",
    "plt.ylabel(\"Frequency\")\n",
    "plt.title(\"Comapring the experience levels for different Work Year\");"
   ]
  },
  {
   "cell_type": "markdown",
   "id": "69e4f4b9",
   "metadata": {},
   "source": [
    "From the countplot above, it seems that the reason for the change in the salaries is the apparent change in the seniority level as shown in 2022 above in comaprism with 2021. To investigate this further, I will make a certain subset and compare the salries of different jobs for different years but consider only the seniority level in a multi variate plot"
   ]
  },
  {
   "cell_type": "code",
   "execution_count": 222,
   "id": "f072ac53",
   "metadata": {},
   "outputs": [
    {
     "data": {
      "image/png": "[encoded data removed]",
      "text/plain": [
       "<Figure size 864x1008 with 2 Axes>"
      ]
     },
     "metadata": {
      "needs_background": "light"
     },
     "output_type": "display_data"
    }
   ],
   "source": [
    "plt.figure(figsize = [12, 14])\n",
    "plt.subplot(2, 1, 1)\n",
    "sns.boxplot(data = df_clean, x = \"remote_ratio\", y = \"salary_in_usd\", color = \"b\")\n",
    "y_ticks = np.arange(0, 600000, 50000)\n",
    "plt.yticks(y_ticks, y_ticks)\n",
    "\n",
    "plt.subplot(2, 1, 2)\n",
    "sns.violinplot(data = df_clean, x = \"remote_ratio\", y = \"salary_in_usd\", color = \"b\")\n",
    "y_ticks = np.arange(0, 600000, 50000)\n",
    "plt.yticks(y_ticks, y_ticks)\n",
    "\n",
    "plt.suptitle(\"Boxplot and violin plot of different remote ratio and theri corresponding salary\");"
   ]
  },
  {
   "cell_type": "code",
   "execution_count": 198,
   "id": "9efd830e",
   "metadata": {},
   "outputs": [
    {
     "data": {
      "image/png": "[encoded data removed]",
      "text/plain": [
       "<Figure size 432x288 with 1 Axes>"
      ]
     },
     "metadata": {
      "needs_background": "light"
     },
     "output_type": "display_data"
    }
   ],
   "source": [
    "sns.countplot(data=df_clean, x = \"remote_ratio\", hue = \"experience_level\", palette = \"Reds\")\n",
    "\n",
    "plt.xlabel(\"Job title\")\n",
    "plt.ylabel(\"Frequency\")\n",
    "plt.title(\"Comapring the experience levels for different ejob titles\");;"
   ]
  },
  {
   "cell_type": "markdown",
   "id": "abb1f248",
   "metadata": {},
   "source": [
    "**Observation:**\n",
    "- From the above we observe that Partial Remote jobs have more ratio of people as entry level and mid level than `<20% remote` and `>80% Remote`\n",
    "- This fact may be reason why the salary is way lesser than the two extremes of <20% remote and >80% remote."
   ]
  },
  {
   "cell_type": "code",
   "execution_count": 189,
   "id": "42eca02b",
   "metadata": {},
   "outputs": [
    {
     "data": {
      "image/png": "[encoded data removed]",
      "text/plain": [
       "<Figure size 864x1008 with 2 Axes>"
      ]
     },
     "metadata": {
      "needs_background": "light"
     },
     "output_type": "display_data"
    }
   ],
   "source": [
    "plt.figure(figsize = [12, 14])\n",
    "plt.subplot(2, 1, 1)\n",
    "sns.boxplot(data = df_clean, x = \"company_size\", y = \"salary_in_usd\", color = \"b\")\n",
    "y_ticks = np.arange(0, 600000, 50000)\n",
    "plt.yticks(y_ticks, y_ticks)\n",
    "\n",
    "plt.subplot(2, 1, 2)\n",
    "sns.violinplot(data = df_clean, x = \"company_size\", y = \"salary_in_usd\", color = \"b\")\n",
    "y_ticks = np.arange(0, 600000, 50000)\n",
    "plt.yticks(y_ticks, y_ticks);"
   ]
  },
  {
   "cell_type": "markdown",
   "id": "b6968642",
   "metadata": {},
   "source": [
    "**Observation:**\n",
    "\n",
    "- The distribution of salary of large companies span all the way up to 55K+\n",
    "- The mode of Medium company earners earn more than small or large companies."
   ]
  },
  {
   "cell_type": "code",
   "execution_count": 223,
   "id": "e590e109",
   "metadata": {},
   "outputs": [
    {
     "data": {
      "image/png": "[encoded data removed]",
      "text/plain": [
       "<Figure size 432x288 with 1 Axes>"
      ]
     },
     "metadata": {
      "needs_background": "light"
     },
     "output_type": "display_data"
    }
   ],
   "source": [
    "sns.countplot(data=df_clean, x = \"company_size\", hue = \"experience_level\", palette = \"Reds\")\n",
    "\n",
    "plt.xlabel(\"Company Size\")\n",
    "plt.ylabel(\"Frequency\")\n",
    "plt.title(\"Comapring the experience levels for different Company Sizes\");"
   ]
  },
  {
   "cell_type": "markdown",
   "id": "6207c125",
   "metadata": {},
   "source": [
    "- Medium companies have more senior roles than other company size."
   ]
  },
  {
   "cell_type": "markdown",
   "id": "19443d9a",
   "metadata": {},
   "source": [
    "### Multivariate Plots"
   ]
  },
  {
   "cell_type": "code",
   "execution_count": 125,
   "id": "38d16b9c",
   "metadata": {
    "scrolled": true
   },
   "outputs": [
    {
     "data": {
      "text/html": [
       "<div>\n",
       "<style scoped>\n",
       "    .dataframe tbody tr th:only-of-type {\n",
       "        vertical-align: middle;\n",
       "    }\n",
       "\n",
       "    .dataframe tbody tr th {\n",
       "        vertical-align: top;\n",
       "    }\n",
       "\n",
       "    .dataframe thead th {\n",
       "        text-align: right;\n",
       "    }\n",
       "</style>\n",
       "<table border=\"1\" class=\"dataframe\">\n",
       "  <thead>\n",
       "    <tr style=\"text-align: right;\">\n",
       "      <th></th>\n",
       "      <th>work_year</th>\n",
       "      <th>experience_level</th>\n",
       "      <th>employment_type</th>\n",
       "      <th>job_title</th>\n",
       "      <th>salary_in_usd</th>\n",
       "      <th>employee_residence</th>\n",
       "      <th>remote_ratio</th>\n",
       "      <th>company_location</th>\n",
       "      <th>company_size</th>\n",
       "      <th>employee_residence_iso</th>\n",
       "      <th>company_location_iso</th>\n",
       "    </tr>\n",
       "  </thead>\n",
       "  <tbody>\n",
       "    <tr>\n",
       "      <th>1</th>\n",
       "      <td>2020-01-01</td>\n",
       "      <td>Senior-level</td>\n",
       "      <td>Full Time</td>\n",
       "      <td>Machine Learning</td>\n",
       "      <td>260000</td>\n",
       "      <td>Japan</td>\n",
       "      <td>&lt;20% Remote</td>\n",
       "      <td>Japan</td>\n",
       "      <td>Small</td>\n",
       "      <td>JPN</td>\n",
       "      <td>JPN</td>\n",
       "    </tr>\n",
       "    <tr>\n",
       "      <th>2</th>\n",
       "      <td>2020-01-01</td>\n",
       "      <td>Senior-level</td>\n",
       "      <td>Full Time</td>\n",
       "      <td>Data Engineer</td>\n",
       "      <td>109024</td>\n",
       "      <td>United Kingdom</td>\n",
       "      <td>Partial Remote</td>\n",
       "      <td>United Kingdom</td>\n",
       "      <td>Medium</td>\n",
       "      <td>GBR</td>\n",
       "      <td>GBR</td>\n",
       "    </tr>\n",
       "    <tr>\n",
       "      <th>4</th>\n",
       "      <td>2020-01-01</td>\n",
       "      <td>Senior-level</td>\n",
       "      <td>Full Time</td>\n",
       "      <td>Machine Learning</td>\n",
       "      <td>150000</td>\n",
       "      <td>United States</td>\n",
       "      <td>Partial Remote</td>\n",
       "      <td>United States</td>\n",
       "      <td>Large</td>\n",
       "      <td>USA</td>\n",
       "      <td>USA</td>\n",
       "    </tr>\n",
       "    <tr>\n",
       "      <th>6</th>\n",
       "      <td>2020-01-01</td>\n",
       "      <td>Senior-level</td>\n",
       "      <td>Full Time</td>\n",
       "      <td>Data Scientist</td>\n",
       "      <td>190000</td>\n",
       "      <td>United States</td>\n",
       "      <td>&gt;80% Remote</td>\n",
       "      <td>United States</td>\n",
       "      <td>Small</td>\n",
       "      <td>USA</td>\n",
       "      <td>USA</td>\n",
       "    </tr>\n",
       "    <tr>\n",
       "      <th>9</th>\n",
       "      <td>2020-01-01</td>\n",
       "      <td>Senior-level</td>\n",
       "      <td>Full Time</td>\n",
       "      <td>Data Engineer</td>\n",
       "      <td>125000</td>\n",
       "      <td>New Zealand</td>\n",
       "      <td>Partial Remote</td>\n",
       "      <td>New Zealand</td>\n",
       "      <td>Small</td>\n",
       "      <td>NZL</td>\n",
       "      <td>NZL</td>\n",
       "    </tr>\n",
       "  </tbody>\n",
       "</table>\n",
       "</div>"
      ],
      "text/plain": [
       "   work_year experience_level employment_type         job_title  \\\n",
       "1 2020-01-01     Senior-level       Full Time  Machine Learning   \n",
       "2 2020-01-01     Senior-level       Full Time     Data Engineer   \n",
       "4 2020-01-01     Senior-level       Full Time  Machine Learning   \n",
       "6 2020-01-01     Senior-level       Full Time    Data Scientist   \n",
       "9 2020-01-01     Senior-level       Full Time     Data Engineer   \n",
       "\n",
       "   salary_in_usd employee_residence    remote_ratio company_location  \\\n",
       "1         260000              Japan     <20% Remote            Japan   \n",
       "2         109024     United Kingdom  Partial Remote   United Kingdom   \n",
       "4         150000      United States  Partial Remote    United States   \n",
       "6         190000      United States     >80% Remote    United States   \n",
       "9         125000        New Zealand  Partial Remote      New Zealand   \n",
       "\n",
       "  company_size employee_residence_iso company_location_iso  \n",
       "1        Small                    JPN                  JPN  \n",
       "2       Medium                    GBR                  GBR  \n",
       "4        Large                    USA                  USA  \n",
       "6        Small                    USA                  USA  \n",
       "9        Small                    NZL                  NZL  "
      ]
     },
     "metadata": {},
     "output_type": "display_data"
    },
    {
     "name": "stdout",
     "output_type": "stream",
     "text": [
      "The shape of senior level data set is 280 rows and 11 columns\n"
     ]
    }
   ],
   "source": [
    "df_seniority = df_clean[df_clean[\"experience_level\"] == \"Senior-level\"]\n",
    "display(df_seniority.head())\n",
    "print(f\"The shape of senior level data set is {df_seniority.shape[0]} rows and {df_seniority.shape[1]} columns\")"
   ]
  },
  {
   "cell_type": "markdown",
   "id": "8ecfbad7",
   "metadata": {},
   "source": [
    "#### Change in salaries of different jobs over the years."
   ]
  },
  {
   "cell_type": "code",
   "execution_count": 224,
   "id": "0abfe850",
   "metadata": {},
   "outputs": [
    {
     "data": {
      "image/png": "[encoded data removed]",
      "text/plain": [
       "<Figure size 864x504 with 1 Axes>"
      ]
     },
     "metadata": {
      "needs_background": "light"
     },
     "output_type": "display_data"
    }
   ],
   "source": [
    "plt.figure(figsize = [12, 7])\n",
    "sns.pointplot(data = df_seniority, x = \"job_title\", y = \"salary_in_usd\", hue = \"work_year\",\n",
    "            palette = \"Blues\", linestyles=\"\", dodge = 0.0, ci = False)\n",
    "\n",
    "plt.title(\"Change in salaries of different jobs for different work years\");"
   ]
  },
  {
   "cell_type": "markdown",
   "id": "b6568cb6",
   "metadata": {},
   "source": [
    "#### Change in salaries of experience level over the years"
   ]
  },
  {
   "cell_type": "code",
   "execution_count": 138,
   "id": "398cbbfc",
   "metadata": {},
   "outputs": [
    {
     "data": {
      "text/html": [
       "<div>\n",
       "<style scoped>\n",
       "    .dataframe tbody tr th:only-of-type {\n",
       "        vertical-align: middle;\n",
       "    }\n",
       "\n",
       "    .dataframe tbody tr th {\n",
       "        vertical-align: top;\n",
       "    }\n",
       "\n",
       "    .dataframe thead th {\n",
       "        text-align: right;\n",
       "    }\n",
       "</style>\n",
       "<table border=\"1\" class=\"dataframe\">\n",
       "  <thead>\n",
       "    <tr style=\"text-align: right;\">\n",
       "      <th></th>\n",
       "      <th>work_year</th>\n",
       "      <th>experience_level</th>\n",
       "      <th>employment_type</th>\n",
       "      <th>job_title</th>\n",
       "      <th>salary_in_usd</th>\n",
       "      <th>employee_residence</th>\n",
       "      <th>remote_ratio</th>\n",
       "      <th>company_location</th>\n",
       "      <th>company_size</th>\n",
       "      <th>employee_residence_iso</th>\n",
       "      <th>company_location_iso</th>\n",
       "    </tr>\n",
       "  </thead>\n",
       "  <tbody>\n",
       "    <tr>\n",
       "      <th>0</th>\n",
       "      <td>2020-01-01</td>\n",
       "      <td>Mid-level</td>\n",
       "      <td>Full Time</td>\n",
       "      <td>Data Scientist</td>\n",
       "      <td>79833</td>\n",
       "      <td>Germany</td>\n",
       "      <td>&lt;20% Remote</td>\n",
       "      <td>Germany</td>\n",
       "      <td>Large</td>\n",
       "      <td>DEU</td>\n",
       "      <td>DEU</td>\n",
       "    </tr>\n",
       "    <tr>\n",
       "      <th>6</th>\n",
       "      <td>2020-01-01</td>\n",
       "      <td>Senior-level</td>\n",
       "      <td>Full Time</td>\n",
       "      <td>Data Scientist</td>\n",
       "      <td>190000</td>\n",
       "      <td>United States</td>\n",
       "      <td>&gt;80% Remote</td>\n",
       "      <td>United States</td>\n",
       "      <td>Small</td>\n",
       "      <td>USA</td>\n",
       "      <td>USA</td>\n",
       "    </tr>\n",
       "    <tr>\n",
       "      <th>7</th>\n",
       "      <td>2020-01-01</td>\n",
       "      <td>Mid-level</td>\n",
       "      <td>Full Time</td>\n",
       "      <td>Data Scientist</td>\n",
       "      <td>35735</td>\n",
       "      <td>Hungary</td>\n",
       "      <td>Partial Remote</td>\n",
       "      <td>Hungary</td>\n",
       "      <td>Large</td>\n",
       "      <td>HUN</td>\n",
       "      <td>HUN</td>\n",
       "    </tr>\n",
       "    <tr>\n",
       "      <th>10</th>\n",
       "      <td>2020-01-01</td>\n",
       "      <td>Entry-level</td>\n",
       "      <td>Full Time</td>\n",
       "      <td>Data Scientist</td>\n",
       "      <td>51321</td>\n",
       "      <td>France</td>\n",
       "      <td>&lt;20% Remote</td>\n",
       "      <td>France</td>\n",
       "      <td>Small</td>\n",
       "      <td>FRA</td>\n",
       "      <td>FRA</td>\n",
       "    </tr>\n",
       "    <tr>\n",
       "      <th>11</th>\n",
       "      <td>2020-01-01</td>\n",
       "      <td>Mid-level</td>\n",
       "      <td>Full Time</td>\n",
       "      <td>Data Scientist</td>\n",
       "      <td>40481</td>\n",
       "      <td>India</td>\n",
       "      <td>&lt;20% Remote</td>\n",
       "      <td>India</td>\n",
       "      <td>Large</td>\n",
       "      <td>IND</td>\n",
       "      <td>IND</td>\n",
       "    </tr>\n",
       "  </tbody>\n",
       "</table>\n",
       "</div>"
      ],
      "text/plain": [
       "    work_year experience_level employment_type       job_title  salary_in_usd  \\\n",
       "0  2020-01-01        Mid-level       Full Time  Data Scientist          79833   \n",
       "6  2020-01-01     Senior-level       Full Time  Data Scientist         190000   \n",
       "7  2020-01-01        Mid-level       Full Time  Data Scientist          35735   \n",
       "10 2020-01-01      Entry-level       Full Time  Data Scientist          51321   \n",
       "11 2020-01-01        Mid-level       Full Time  Data Scientist          40481   \n",
       "\n",
       "   employee_residence    remote_ratio company_location company_size  \\\n",
       "0             Germany     <20% Remote          Germany        Large   \n",
       "6       United States     >80% Remote    United States        Small   \n",
       "7             Hungary  Partial Remote          Hungary        Large   \n",
       "10             France     <20% Remote           France        Small   \n",
       "11              India     <20% Remote            India        Large   \n",
       "\n",
       "   employee_residence_iso company_location_iso  \n",
       "0                     DEU                  DEU  \n",
       "6                     USA                  USA  \n",
       "7                     HUN                  HUN  \n",
       "10                    FRA                  FRA  \n",
       "11                    IND                  IND  "
      ]
     },
     "metadata": {},
     "output_type": "display_data"
    },
    {
     "name": "stdout",
     "output_type": "stream",
     "text": [
      "The shape of data scientist job title data set is 198 rows and 11 columns\n"
     ]
    }
   ],
   "source": [
    "df_ds = df_clean[df_clean[\"job_title\"] == \"Data Scientist\"]\n",
    "display(df_ds.head())\n",
    "print(f\"The shape of data scientist job title data set is {df_ds.shape[0]} rows and {df_ds.shape[1]} columns\")"
   ]
  },
  {
   "cell_type": "code",
   "execution_count": 225,
   "id": "dd62d492",
   "metadata": {},
   "outputs": [
    {
     "data": {
      "image/png": "[encoded data removed]",
      "text/plain": [
       "<Figure size 864x504 with 1 Axes>"
      ]
     },
     "metadata": {
      "needs_background": "light"
     },
     "output_type": "display_data"
    }
   ],
   "source": [
    "plt.figure(figsize = [12, 7])\n",
    "sns.pointplot(data = df_ds, x = \"experience_level\", y = \"salary_in_usd\", hue = \"work_year\",\n",
    "            palette = \"Blues\", linestyles=\"\", dodge = 0.1, ci = True)\n",
    "plt.grid(axis = \"y\")\n",
    "plt.title(\"Change in salaries of different experience level for different work years\");"
   ]
  },
  {
   "cell_type": "markdown",
   "id": "5bd2593e",
   "metadata": {},
   "source": [
    "#### Using four features for multivariate analysis (salary, job title, work_year and experience level)"
   ]
  },
  {
   "cell_type": "code",
   "execution_count": 151,
   "id": "0a3ab239",
   "metadata": {},
   "outputs": [],
   "source": [
    "import warnings\n",
    "warnings.filterwarnings(action = \"ignore\", category = UserWarning)"
   ]
  },
  {
   "cell_type": "code",
   "execution_count": 185,
   "id": "7d189984",
   "metadata": {},
   "outputs": [
    {
     "data": {
      "image/png": "[encoded data removed]",
      "text/plain": [
       "<Figure size 1069.62x864 with 7 Axes>"
      ]
     },
     "metadata": {
      "needs_background": "light"
     },
     "output_type": "display_data"
    }
   ],
   "source": [
    "job_order = df_clean.groupby(\"job_title\")[\"salary_in_usd\"].mean().sort_values().index\n",
    "g = sns.factorplot(x=\"experience_level\", y=\"salary_in_usd\", hue=\"work_year\", data=df_clean,\n",
    "               col=\"job_title\", col_wrap=3, size=4,\n",
    "               dodge=.2, join=False, palette = \"Blues\", ci = True, col_order=job_order)\n",
    "\n",
    "for ax in g.axes:\n",
    "    plt.setp(ax.get_xticklabels(), rotation=45)"
   ]
  },
  {
   "cell_type": "markdown",
   "id": "3c63206b",
   "metadata": {},
   "source": [
    "**Observation:**\n",
    "- From the above multivariate plots, it shows us that much of the yearly increase in salaries of data scientist is affected mainly by the experience level and not much to do with the year as opposed the suggestion we saw in an earlier bivariate plot.\n",
    "- We also observe that job titles at the end of the spectrum of high salary are mainly new generational (2021 and 2022) and they also do not have entry level entries associated with them. (The Facet grid was ordered in order of increasing salary of the different job titles)."
   ]
  },
  {
   "cell_type": "markdown",
   "id": "8e47c5f7",
   "metadata": {},
   "source": [
    "### Save dataset"
   ]
  },
  {
   "cell_type": "code",
   "execution_count": 201,
   "id": "38db8aea",
   "metadata": {},
   "outputs": [],
   "source": [
    "df_clean.to_csv(\"ds_clean.csv\", index = False)"
   ]
  },
  {
   "cell_type": "markdown",
   "id": "7e922cf8",
   "metadata": {},
   "source": [
    "## Limitations\n",
    "\n",
    "- The year is very limited and does not contain before 2020, for proper comparison between pre-covid and post-covid times.\n",
    "- The dataset is not a good representative of the conutries and other possible information"
   ]
  }
 ],
 "metadata": {
  "kernelspec": {
   "display_name": "Python 3",
   "language": "python",
   "name": "python3"
  },
  "language_info": {
   "codemirror_mode": {
    "name": "ipython",
    "version": 3
   },
   "file_extension": ".py",
   "mimetype": "text/x-python",
   "name": "python",
   "nbconvert_exporter": "python",
   "pygments_lexer": "ipython3",
   "version": "3.8.5"
  }
 },
 "nbformat": 4,
 "nbformat_minor": 5
}
