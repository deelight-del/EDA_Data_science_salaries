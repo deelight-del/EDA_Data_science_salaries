{
 "cells": [
  {
   "cell_type": "markdown",
   "id": "445618f8",
   "metadata": {},
   "source": [
    "# AKINGBENI - Wrangling and EDA of data science salaries."
   ]
  },
  {
   "cell_type": "code",
   "execution_count": 2,
   "id": "d734e8fb",
   "metadata": {},
   "outputs": [],
   "source": [
    "#Import libraries\n",
    "\n",
    "#data wrangling libraries\n",
    "import pandas as pd\n",
    "import numpy as np\n",
    "\n",
    "#visualization libraries\n",
    "import matplotlib.pyplot as plt\n",
    "import seaborn as sns\n",
    "\n",
    "#import misc libraries\n",
    "import warnings\n",
    "\n",
    "#Import pycountry for converting countries name\n",
    "import pycountry"
   ]
  },
  {
   "cell_type": "code",
   "execution_count": 3,
   "id": "fa16e1f0",
   "metadata": {},
   "outputs": [
    {
     "data": {
      "text/html": [
       "<div>\n",
       "<style scoped>\n",
       "    .dataframe tbody tr th:only-of-type {\n",
       "        vertical-align: middle;\n",
       "    }\n",
       "\n",
       "    .dataframe tbody tr th {\n",
       "        vertical-align: top;\n",
       "    }\n",
       "\n",
       "    .dataframe thead th {\n",
       "        text-align: right;\n",
       "    }\n",
       "</style>\n",
       "<table border=\"1\" class=\"dataframe\">\n",
       "  <thead>\n",
       "    <tr style=\"text-align: right;\">\n",
       "      <th></th>\n",
       "      <th>Unnamed: 0</th>\n",
       "      <th>work_year</th>\n",
       "      <th>experience_level</th>\n",
       "      <th>employment_type</th>\n",
       "      <th>job_title</th>\n",
       "      <th>salary</th>\n",
       "      <th>salary_currency</th>\n",
       "      <th>salary_in_usd</th>\n",
       "      <th>employee_residence</th>\n",
       "      <th>remote_ratio</th>\n",
       "      <th>company_location</th>\n",
       "      <th>company_size</th>\n",
       "    </tr>\n",
       "  </thead>\n",
       "  <tbody>\n",
       "    <tr>\n",
       "      <th>0</th>\n",
       "      <td>0</td>\n",
       "      <td>2020</td>\n",
       "      <td>MI</td>\n",
       "      <td>FT</td>\n",
       "      <td>Data Scientist</td>\n",
       "      <td>70000</td>\n",
       "      <td>EUR</td>\n",
       "      <td>79833</td>\n",
       "      <td>DE</td>\n",
       "      <td>0</td>\n",
       "      <td>DE</td>\n",
       "      <td>L</td>\n",
       "    </tr>\n",
       "    <tr>\n",
       "      <th>1</th>\n",
       "      <td>1</td>\n",
       "      <td>2020</td>\n",
       "      <td>SE</td>\n",
       "      <td>FT</td>\n",
       "      <td>Machine Learning Scientist</td>\n",
       "      <td>260000</td>\n",
       "      <td>USD</td>\n",
       "      <td>260000</td>\n",
       "      <td>JP</td>\n",
       "      <td>0</td>\n",
       "      <td>JP</td>\n",
       "      <td>S</td>\n",
       "    </tr>\n",
       "    <tr>\n",
       "      <th>2</th>\n",
       "      <td>2</td>\n",
       "      <td>2020</td>\n",
       "      <td>SE</td>\n",
       "      <td>FT</td>\n",
       "      <td>Big Data Engineer</td>\n",
       "      <td>85000</td>\n",
       "      <td>GBP</td>\n",
       "      <td>109024</td>\n",
       "      <td>GB</td>\n",
       "      <td>50</td>\n",
       "      <td>GB</td>\n",
       "      <td>M</td>\n",
       "    </tr>\n",
       "    <tr>\n",
       "      <th>3</th>\n",
       "      <td>3</td>\n",
       "      <td>2020</td>\n",
       "      <td>MI</td>\n",
       "      <td>FT</td>\n",
       "      <td>Product Data Analyst</td>\n",
       "      <td>20000</td>\n",
       "      <td>USD</td>\n",
       "      <td>20000</td>\n",
       "      <td>HN</td>\n",
       "      <td>0</td>\n",
       "      <td>HN</td>\n",
       "      <td>S</td>\n",
       "    </tr>\n",
       "    <tr>\n",
       "      <th>4</th>\n",
       "      <td>4</td>\n",
       "      <td>2020</td>\n",
       "      <td>SE</td>\n",
       "      <td>FT</td>\n",
       "      <td>Machine Learning Engineer</td>\n",
       "      <td>150000</td>\n",
       "      <td>USD</td>\n",
       "      <td>150000</td>\n",
       "      <td>US</td>\n",
       "      <td>50</td>\n",
       "      <td>US</td>\n",
       "      <td>L</td>\n",
       "    </tr>\n",
       "  </tbody>\n",
       "</table>\n",
       "</div>"
      ],
      "text/plain": [
       "   Unnamed: 0  work_year experience_level employment_type  \\\n",
       "0           0       2020               MI              FT   \n",
       "1           1       2020               SE              FT   \n",
       "2           2       2020               SE              FT   \n",
       "3           3       2020               MI              FT   \n",
       "4           4       2020               SE              FT   \n",
       "\n",
       "                    job_title  salary salary_currency  salary_in_usd  \\\n",
       "0              Data Scientist   70000             EUR          79833   \n",
       "1  Machine Learning Scientist  260000             USD         260000   \n",
       "2           Big Data Engineer   85000             GBP         109024   \n",
       "3        Product Data Analyst   20000             USD          20000   \n",
       "4   Machine Learning Engineer  150000             USD         150000   \n",
       "\n",
       "  employee_residence  remote_ratio company_location company_size  \n",
       "0                 DE             0               DE            L  \n",
       "1                 JP             0               JP            S  \n",
       "2                 GB            50               GB            M  \n",
       "3                 HN             0               HN            S  \n",
       "4                 US            50               US            L  "
      ]
     },
     "execution_count": 3,
     "metadata": {},
     "output_type": "execute_result"
    }
   ],
   "source": [
    "#Read in the dataset\n",
    "filepath = \"./data/ds_salaries (1).csv\"\n",
    "df = pd.read_csv(filepath)\n",
    "df.head()"
   ]
  },
  {
   "cell_type": "markdown",
   "id": "4aca97f7",
   "metadata": {},
   "source": [
    "## Information and introduction about dataset\n",
    "\n",
    "> Data science was described in 2012 as the sexiest job of the century by [Havard Business Review](https://hbr.org/2012/10/data-scientist-the-sexiest-job-of-the-21st-century). At the heart of data science is traditional statistics, computer science and computational power, and business domains. The blend of these three fields in different proportions and perspectives has given rise to varying form of data scientists.\n",
    "\n",
    "> Some, I am among some, argue that roles like data engineers do fit into the term data scientists, perhaps a full stack data scientists. Popular roles that are common under data science are Data Analytics, Data Scientits, Machine Learning Scientists/Researcher, Machine Learning Engineer and more specific roles like data vizualization experts.\n",
    "\n",
    "> However, while passion is a great deal in whatever one does. Subjects like salaries and opportunities should not be overlooked when in search of a career path. I personally struggled with these. I still have my reservations, but I will be focusing my story on the data in front of us.\n",
    "\n",
    "\n",
    "### Introduction about dataset\n",
    "> The dataset contains salary information of over 600 people of different job levels and seniority levels. It contains years between 2020 - 2022 to capture post covid data science information and salaries.\n",
    "\n",
    "**Features**\n",
    ">- work_year: The year the salary was paid.\n",
    ">- experience_level: The experience level in the job during the year with the following possible values: `EN ---> Entry-level / Junior`, `MI ---> Mid-level / Intermediate`, `SE ---> Senior-level / Expert`, `EX ---> Executive-level / Director`\n",
    ">- employment_type: The type of employement for the role: `PT ---> Part-time`, `FT ---> Full-time`, `CT ---> Contract`, `FL ---> Freelance`\n",
    ">- job_title: The role worked in during the year.\n",
    ">- salary: The total gross salary amount paid.\n",
    ">- salary_currency: The currency of the salary paid as an ISO 4217 currency code.\n",
    ">- salaryinusd: The salary in USD (FX rate divided by avg. USD rate for the respective year via [Fx](fxdata.foorilla.com).\n",
    ">- employee_residence: Employee's primary country of residence in during the work year as an ISO 3166 country code.\n",
    ">- remote_ratio: The overall amount of work done remotely, possible values are as follows: 0 = No remote work (less than 20%), 50 = Partially remote, 100 = Fully remote (more than 80%)\n",
    ">- company_location: The country of the employer's main office or contracting branch as an ISO 3166 country code.\n",
    ">- company_size: The average number of people that worked for the company during the year: `S ---> less than 50 employees(small)`, `M ---> 50 to 250 employees (medium)`, `L ---> more than 250 employees (large)`\n",
    "\n",
    "[Direct info about dataset on kaggle](https://www.kaggle.com/datasets/ruchi798/data-science-job-salaries)\n",
    "\n",
    "### Personal Motivation aboout the project\n",
    "- I decided to jump on the project first out of curiousity, second to practise and third to learn to use some new libraries like word cloud..."
   ]
  },
  {
   "cell_type": "markdown",
   "id": "6f930c46",
   "metadata": {},
   "source": [
    "## Data Wrangling"
   ]
  },
  {
   "cell_type": "code",
   "execution_count": 4,
   "id": "6b3ef695",
   "metadata": {},
   "outputs": [
    {
     "data": {
      "text/html": [
       "<div>\n",
       "<style scoped>\n",
       "    .dataframe tbody tr th:only-of-type {\n",
       "        vertical-align: middle;\n",
       "    }\n",
       "\n",
       "    .dataframe tbody tr th {\n",
       "        vertical-align: top;\n",
       "    }\n",
       "\n",
       "    .dataframe thead th {\n",
       "        text-align: right;\n",
       "    }\n",
       "</style>\n",
       "<table border=\"1\" class=\"dataframe\">\n",
       "  <thead>\n",
       "    <tr style=\"text-align: right;\">\n",
       "      <th></th>\n",
       "      <th>Unnamed: 0</th>\n",
       "      <th>work_year</th>\n",
       "      <th>experience_level</th>\n",
       "      <th>employment_type</th>\n",
       "      <th>job_title</th>\n",
       "      <th>salary</th>\n",
       "      <th>salary_currency</th>\n",
       "      <th>salary_in_usd</th>\n",
       "      <th>employee_residence</th>\n",
       "      <th>remote_ratio</th>\n",
       "      <th>company_location</th>\n",
       "      <th>company_size</th>\n",
       "    </tr>\n",
       "  </thead>\n",
       "  <tbody>\n",
       "    <tr>\n",
       "      <th>0</th>\n",
       "      <td>0</td>\n",
       "      <td>2020</td>\n",
       "      <td>MI</td>\n",
       "      <td>FT</td>\n",
       "      <td>Data Scientist</td>\n",
       "      <td>70000</td>\n",
       "      <td>EUR</td>\n",
       "      <td>79833</td>\n",
       "      <td>DE</td>\n",
       "      <td>0</td>\n",
       "      <td>DE</td>\n",
       "      <td>L</td>\n",
       "    </tr>\n",
       "    <tr>\n",
       "      <th>1</th>\n",
       "      <td>1</td>\n",
       "      <td>2020</td>\n",
       "      <td>SE</td>\n",
       "      <td>FT</td>\n",
       "      <td>Machine Learning Scientist</td>\n",
       "      <td>260000</td>\n",
       "      <td>USD</td>\n",
       "      <td>260000</td>\n",
       "      <td>JP</td>\n",
       "      <td>0</td>\n",
       "      <td>JP</td>\n",
       "      <td>S</td>\n",
       "    </tr>\n",
       "    <tr>\n",
       "      <th>2</th>\n",
       "      <td>2</td>\n",
       "      <td>2020</td>\n",
       "      <td>SE</td>\n",
       "      <td>FT</td>\n",
       "      <td>Big Data Engineer</td>\n",
       "      <td>85000</td>\n",
       "      <td>GBP</td>\n",
       "      <td>109024</td>\n",
       "      <td>GB</td>\n",
       "      <td>50</td>\n",
       "      <td>GB</td>\n",
       "      <td>M</td>\n",
       "    </tr>\n",
       "    <tr>\n",
       "      <th>3</th>\n",
       "      <td>3</td>\n",
       "      <td>2020</td>\n",
       "      <td>MI</td>\n",
       "      <td>FT</td>\n",
       "      <td>Product Data Analyst</td>\n",
       "      <td>20000</td>\n",
       "      <td>USD</td>\n",
       "      <td>20000</td>\n",
       "      <td>HN</td>\n",
       "      <td>0</td>\n",
       "      <td>HN</td>\n",
       "      <td>S</td>\n",
       "    </tr>\n",
       "    <tr>\n",
       "      <th>4</th>\n",
       "      <td>4</td>\n",
       "      <td>2020</td>\n",
       "      <td>SE</td>\n",
       "      <td>FT</td>\n",
       "      <td>Machine Learning Engineer</td>\n",
       "      <td>150000</td>\n",
       "      <td>USD</td>\n",
       "      <td>150000</td>\n",
       "      <td>US</td>\n",
       "      <td>50</td>\n",
       "      <td>US</td>\n",
       "      <td>L</td>\n",
       "    </tr>\n",
       "  </tbody>\n",
       "</table>\n",
       "</div>"
      ],
      "text/plain": [
       "   Unnamed: 0  work_year experience_level employment_type  \\\n",
       "0           0       2020               MI              FT   \n",
       "1           1       2020               SE              FT   \n",
       "2           2       2020               SE              FT   \n",
       "3           3       2020               MI              FT   \n",
       "4           4       2020               SE              FT   \n",
       "\n",
       "                    job_title  salary salary_currency  salary_in_usd  \\\n",
       "0              Data Scientist   70000             EUR          79833   \n",
       "1  Machine Learning Scientist  260000             USD         260000   \n",
       "2           Big Data Engineer   85000             GBP         109024   \n",
       "3        Product Data Analyst   20000             USD          20000   \n",
       "4   Machine Learning Engineer  150000             USD         150000   \n",
       "\n",
       "  employee_residence  remote_ratio company_location company_size  \n",
       "0                 DE             0               DE            L  \n",
       "1                 JP             0               JP            S  \n",
       "2                 GB            50               GB            M  \n",
       "3                 HN             0               HN            S  \n",
       "4                 US            50               US            L  "
      ]
     },
     "execution_count": 4,
     "metadata": {},
     "output_type": "execute_result"
    }
   ],
   "source": [
    "#Check general head information\n",
    "df.head()"
   ]
  },
  {
   "cell_type": "code",
   "execution_count": 5,
   "id": "bd8fbca8",
   "metadata": {},
   "outputs": [
    {
     "data": {
      "text/html": [
       "<div>\n",
       "<style scoped>\n",
       "    .dataframe tbody tr th:only-of-type {\n",
       "        vertical-align: middle;\n",
       "    }\n",
       "\n",
       "    .dataframe tbody tr th {\n",
       "        vertical-align: top;\n",
       "    }\n",
       "\n",
       "    .dataframe thead th {\n",
       "        text-align: right;\n",
       "    }\n",
       "</style>\n",
       "<table border=\"1\" class=\"dataframe\">\n",
       "  <thead>\n",
       "    <tr style=\"text-align: right;\">\n",
       "      <th></th>\n",
       "      <th>Unnamed: 0</th>\n",
       "      <th>work_year</th>\n",
       "      <th>experience_level</th>\n",
       "      <th>employment_type</th>\n",
       "      <th>job_title</th>\n",
       "      <th>salary</th>\n",
       "      <th>salary_currency</th>\n",
       "      <th>salary_in_usd</th>\n",
       "      <th>employee_residence</th>\n",
       "      <th>remote_ratio</th>\n",
       "      <th>company_location</th>\n",
       "      <th>company_size</th>\n",
       "    </tr>\n",
       "  </thead>\n",
       "  <tbody>\n",
       "    <tr>\n",
       "      <th>492</th>\n",
       "      <td>492</td>\n",
       "      <td>2022</td>\n",
       "      <td>MI</td>\n",
       "      <td>FT</td>\n",
       "      <td>Data Scientist</td>\n",
       "      <td>150000</td>\n",
       "      <td>PLN</td>\n",
       "      <td>35590</td>\n",
       "      <td>PL</td>\n",
       "      <td>100</td>\n",
       "      <td>PL</td>\n",
       "      <td>L</td>\n",
       "    </tr>\n",
       "    <tr>\n",
       "      <th>192</th>\n",
       "      <td>192</td>\n",
       "      <td>2021</td>\n",
       "      <td>MI</td>\n",
       "      <td>FT</td>\n",
       "      <td>Big Data Engineer</td>\n",
       "      <td>18000</td>\n",
       "      <td>USD</td>\n",
       "      <td>18000</td>\n",
       "      <td>MD</td>\n",
       "      <td>0</td>\n",
       "      <td>MD</td>\n",
       "      <td>S</td>\n",
       "    </tr>\n",
       "    <tr>\n",
       "      <th>288</th>\n",
       "      <td>288</td>\n",
       "      <td>2021</td>\n",
       "      <td>MI</td>\n",
       "      <td>FT</td>\n",
       "      <td>Machine Learning Engineer</td>\n",
       "      <td>43200</td>\n",
       "      <td>EUR</td>\n",
       "      <td>51064</td>\n",
       "      <td>IT</td>\n",
       "      <td>50</td>\n",
       "      <td>IT</td>\n",
       "      <td>L</td>\n",
       "    </tr>\n",
       "    <tr>\n",
       "      <th>497</th>\n",
       "      <td>497</td>\n",
       "      <td>2022</td>\n",
       "      <td>SE</td>\n",
       "      <td>FT</td>\n",
       "      <td>Data Scientist</td>\n",
       "      <td>165000</td>\n",
       "      <td>USD</td>\n",
       "      <td>165000</td>\n",
       "      <td>US</td>\n",
       "      <td>100</td>\n",
       "      <td>US</td>\n",
       "      <td>M</td>\n",
       "    </tr>\n",
       "    <tr>\n",
       "      <th>107</th>\n",
       "      <td>107</td>\n",
       "      <td>2021</td>\n",
       "      <td>SE</td>\n",
       "      <td>FT</td>\n",
       "      <td>Data Engineer</td>\n",
       "      <td>115000</td>\n",
       "      <td>USD</td>\n",
       "      <td>115000</td>\n",
       "      <td>US</td>\n",
       "      <td>100</td>\n",
       "      <td>US</td>\n",
       "      <td>S</td>\n",
       "    </tr>\n",
       "    <tr>\n",
       "      <th>439</th>\n",
       "      <td>439</td>\n",
       "      <td>2022</td>\n",
       "      <td>SE</td>\n",
       "      <td>FT</td>\n",
       "      <td>Machine Learning Engineer</td>\n",
       "      <td>164996</td>\n",
       "      <td>USD</td>\n",
       "      <td>164996</td>\n",
       "      <td>US</td>\n",
       "      <td>0</td>\n",
       "      <td>US</td>\n",
       "      <td>M</td>\n",
       "    </tr>\n",
       "  </tbody>\n",
       "</table>\n",
       "</div>"
      ],
      "text/plain": [
       "     Unnamed: 0  work_year experience_level employment_type  \\\n",
       "492         492       2022               MI              FT   \n",
       "192         192       2021               MI              FT   \n",
       "288         288       2021               MI              FT   \n",
       "497         497       2022               SE              FT   \n",
       "107         107       2021               SE              FT   \n",
       "439         439       2022               SE              FT   \n",
       "\n",
       "                     job_title  salary salary_currency  salary_in_usd  \\\n",
       "492             Data Scientist  150000             PLN          35590   \n",
       "192          Big Data Engineer   18000             USD          18000   \n",
       "288  Machine Learning Engineer   43200             EUR          51064   \n",
       "497             Data Scientist  165000             USD         165000   \n",
       "107              Data Engineer  115000             USD         115000   \n",
       "439  Machine Learning Engineer  164996             USD         164996   \n",
       "\n",
       "    employee_residence  remote_ratio company_location company_size  \n",
       "492                 PL           100               PL            L  \n",
       "192                 MD             0               MD            S  \n",
       "288                 IT            50               IT            L  \n",
       "497                 US           100               US            M  \n",
       "107                 US           100               US            S  \n",
       "439                 US             0               US            M  "
      ]
     },
     "execution_count": 5,
     "metadata": {},
     "output_type": "execute_result"
    }
   ],
   "source": [
    "#Visual Assessment\n",
    "df.sample(6)"
   ]
  },
  {
   "cell_type": "code",
   "execution_count": 6,
   "id": "c7884023",
   "metadata": {},
   "outputs": [
    {
     "name": "stdout",
     "output_type": "stream",
     "text": [
      "<class 'pandas.core.frame.DataFrame'>\n",
      "RangeIndex: 607 entries, 0 to 606\n",
      "Data columns (total 12 columns):\n",
      " #   Column              Non-Null Count  Dtype \n",
      "---  ------              --------------  ----- \n",
      " 0   Unnamed: 0          607 non-null    int64 \n",
      " 1   work_year           607 non-null    int64 \n",
      " 2   experience_level    607 non-null    object\n",
      " 3   employment_type     607 non-null    object\n",
      " 4   job_title           607 non-null    object\n",
      " 5   salary              607 non-null    int64 \n",
      " 6   salary_currency     607 non-null    object\n",
      " 7   salary_in_usd       607 non-null    int64 \n",
      " 8   employee_residence  607 non-null    object\n",
      " 9   remote_ratio        607 non-null    int64 \n",
      " 10  company_location    607 non-null    object\n",
      " 11  company_size        607 non-null    object\n",
      "dtypes: int64(5), object(7)\n",
      "memory usage: 57.0+ KB\n"
     ]
    }
   ],
   "source": [
    "df.info()"
   ]
  },
  {
   "cell_type": "code",
   "execution_count": 7,
   "id": "d1266147",
   "metadata": {},
   "outputs": [
    {
     "data": {
      "text/plain": [
       "2022    318\n",
       "2021    217\n",
       "2020     72\n",
       "Name: work_year, dtype: int64"
      ]
     },
     "execution_count": 7,
     "metadata": {},
     "output_type": "execute_result"
    }
   ],
   "source": [
    "#check the unique values in the work_year columns\n",
    "df.work_year.value_counts()"
   ]
  },
  {
   "cell_type": "code",
   "execution_count": 8,
   "id": "97876cd1",
   "metadata": {},
   "outputs": [
    {
     "data": {
      "text/plain": [
       "array(['MI', 'SE', 'EN', 'EX'], dtype=object)"
      ]
     },
     "execution_count": 8,
     "metadata": {},
     "output_type": "execute_result"
    }
   ],
   "source": [
    "#Check unique values of experience_level is as expeected\n",
    "\n",
    "df.experience_level.unique()"
   ]
  },
  {
   "cell_type": "code",
   "execution_count": 9,
   "id": "f7112aec",
   "metadata": {},
   "outputs": [
    {
     "data": {
      "text/plain": [
       "array(['FT', 'CT', 'PT', 'FL'], dtype=object)"
      ]
     },
     "execution_count": 9,
     "metadata": {},
     "output_type": "execute_result"
    }
   ],
   "source": [
    "#Check unique values of employment types\n",
    "df.employment_type.unique()"
   ]
  },
  {
   "cell_type": "code",
   "execution_count": 10,
   "id": "7cc15ef2",
   "metadata": {},
   "outputs": [
    {
     "data": {
      "text/plain": [
       "Data Scientist                              143\n",
       "Data Engineer                               132\n",
       "Data Analyst                                 97\n",
       "Machine Learning Engineer                    41\n",
       "Research Scientist                           16\n",
       "Data Science Manager                         12\n",
       "Data Architect                               11\n",
       "Big Data Engineer                             8\n",
       "Machine Learning Scientist                    8\n",
       "Principal Data Scientist                      7\n",
       "AI Scientist                                  7\n",
       "Data Science Consultant                       7\n",
       "Director of Data Science                      7\n",
       "Data Analytics Manager                        7\n",
       "ML Engineer                                   6\n",
       "Computer Vision Engineer                      6\n",
       "BI Data Analyst                               6\n",
       "Lead Data Engineer                            6\n",
       "Data Engineering Manager                      5\n",
       "Business Data Analyst                         5\n",
       "Head of Data                                  5\n",
       "Applied Data Scientist                        5\n",
       "Applied Machine Learning Scientist            4\n",
       "Head of Data Science                          4\n",
       "Analytics Engineer                            4\n",
       "Data Analytics Engineer                       4\n",
       "Machine Learning Developer                    3\n",
       "Machine Learning Infrastructure Engineer      3\n",
       "Lead Data Scientist                           3\n",
       "Computer Vision Software Engineer             3\n",
       "Lead Data Analyst                             3\n",
       "Data Science Engineer                         3\n",
       "Principal Data Engineer                       3\n",
       "Principal Data Analyst                        2\n",
       "ETL Developer                                 2\n",
       "Product Data Analyst                          2\n",
       "Director of Data Engineering                  2\n",
       "Financial Data Analyst                        2\n",
       "Cloud Data Engineer                           2\n",
       "Lead Machine Learning Engineer                1\n",
       "NLP Engineer                                  1\n",
       "Head of Machine Learning                      1\n",
       "3D Computer Vision Researcher                 1\n",
       "Data Specialist                               1\n",
       "Staff Data Scientist                          1\n",
       "Big Data Architect                            1\n",
       "Finance Data Analyst                          1\n",
       "Marketing Data Analyst                        1\n",
       "Machine Learning Manager                      1\n",
       "Data Analytics Lead                           1\n",
       "Name: job_title, dtype: int64"
      ]
     },
     "execution_count": 10,
     "metadata": {},
     "output_type": "execute_result"
    }
   ],
   "source": [
    "#Chech value counts of different job titles\n",
    "df.job_title.value_counts()"
   ]
  },
  {
   "cell_type": "code",
   "execution_count": 11,
   "id": "d8b1ab12",
   "metadata": {},
   "outputs": [
    {
     "data": {
      "text/plain": [
       "array(['DE', 'JP', 'GB', 'HN', 'US', 'HU', 'NZ', 'FR', 'IN', 'PK', 'PL',\n",
       "       'PT', 'CN', 'GR', 'AE', 'NL', 'MX', 'CA', 'AT', 'NG', 'PH', 'ES',\n",
       "       'DK', 'RU', 'IT', 'HR', 'BG', 'SG', 'BR', 'IQ', 'VN', 'BE', 'UA',\n",
       "       'MT', 'CL', 'RO', 'IR', 'CO', 'MD', 'KE', 'SI', 'HK', 'TR', 'RS',\n",
       "       'PR', 'LU', 'JE', 'CZ', 'AR', 'DZ', 'TN', 'MY', 'EE', 'AU', 'BO',\n",
       "       'IE', 'CH'], dtype=object)"
      ]
     },
     "execution_count": 11,
     "metadata": {},
     "output_type": "execute_result"
    }
   ],
   "source": [
    "df.employee_residence.unique()"
   ]
  },
  {
   "cell_type": "code",
   "execution_count": 12,
   "id": "b29cafc9",
   "metadata": {},
   "outputs": [
    {
     "data": {
      "text/plain": [
       "array(['L', 'S', 'M'], dtype=object)"
      ]
     },
     "execution_count": 12,
     "metadata": {},
     "output_type": "execute_result"
    }
   ],
   "source": [
    "#Check unique values in company size\n",
    "df.company_size.unique()"
   ]
  },
  {
   "cell_type": "markdown",
   "id": "f3af0d40",
   "metadata": {},
   "source": [
    "### Data Assessments\n",
    "\n",
    "- Redundant columns ---> salary, salary_currency, Unnamed column irrelevant, a product of not ignoring the index when it was saved\n",
    "- work year column should be datetime datatype\n",
    "- Infromation shorthand entry in experience level is ambigous\n",
    "- Experience level should be an ordered category type\n",
    "- Columns of employment type contains ambigous values\n",
    "- There are varying form of job description in the job title column of the same job. (#Define function that uses str.contains to replace certain job types.)\n",
    "- Employe Residence and company loaction is ambigous.\n",
    "- Remote Ratio values can be misleading and data type ought to be string or object\n",
    "- Company size is an ordinal datatype and should be ordered from small to medium and to large. (Also needs renaming)"
   ]
  },
  {
   "cell_type": "markdown",
   "id": "13bd6dd3",
   "metadata": {},
   "source": [
    "### Data Cleaning"
   ]
  },
  {
   "cell_type": "code",
   "execution_count": 13,
   "id": "b9d363f5",
   "metadata": {},
   "outputs": [],
   "source": [
    "#make copy of original dataframe\n",
    "df_clean = df.copy()"
   ]
  },
  {
   "cell_type": "code",
   "execution_count": 14,
   "id": "2621912f",
   "metadata": {},
   "outputs": [
    {
     "data": {
      "text/plain": [
       "(607, 12)"
      ]
     },
     "execution_count": 14,
     "metadata": {},
     "output_type": "execute_result"
    }
   ],
   "source": [
    "#Check shape of original df before cleaning\n",
    "df_clean.shape"
   ]
  },
  {
   "cell_type": "markdown",
   "id": "9ddddaef",
   "metadata": {},
   "source": [
    "### At this stage, cleaning proper begins using the define, code and test framework."
   ]
  },
  {
   "cell_type": "markdown",
   "id": "4adeab59",
   "metadata": {},
   "source": [
    "#### Redundant columns ---> salary, salary_currency, Unnamed column irrelevant, a product of not ignoring the index when it was saved\n",
    "\n",
    "> #### Define\n",
    ">- drop redundant columns (unnamed, salary, salary_currency)\n",
    "\n",
    "#### Code"
   ]
  },
  {
   "cell_type": "code",
   "execution_count": 15,
   "id": "87d22597",
   "metadata": {},
   "outputs": [],
   "source": [
    "#Drop redundant columns\n",
    "df_clean.drop(columns = [\"Unnamed: 0\", \"salary\", \"salary_currency\"], inplace = True)"
   ]
  },
  {
   "cell_type": "markdown",
   "id": "3b5c06fd",
   "metadata": {},
   "source": [
    "#### Test"
   ]
  },
  {
   "cell_type": "code",
   "execution_count": 16,
   "id": "2d193e59",
   "metadata": {},
   "outputs": [
    {
     "data": {
      "text/plain": [
       "[False, False, False]"
      ]
     },
     "execution_count": 16,
     "metadata": {},
     "output_type": "execute_result"
    }
   ],
   "source": [
    "cols = [\"Unnamed: 0\", \"salary\", \"salary_currency\"]\n",
    "[col in df_clean.columns for col in cols] #Check if each dropped column is in df_clean"
   ]
  },
  {
   "cell_type": "markdown",
   "id": "68c5008d",
   "metadata": {},
   "source": [
    "#### Work year column should be datetime datatype\n",
    "\n",
    "> #### Define\n",
    "> - Convert work year column to datetime object\n",
    "\n",
    "#### Code"
   ]
  },
  {
   "cell_type": "code",
   "execution_count": 17,
   "id": "0dda0a69",
   "metadata": {},
   "outputs": [],
   "source": [
    "#Use pd datetime to convert to dataetime object\n",
    "\n",
    "df_clean[\"work_year\"] = pd.to_datetime(df.work_year, format = \"%Y\")"
   ]
  },
  {
   "cell_type": "markdown",
   "id": "b5418077",
   "metadata": {},
   "source": [
    "#### Test"
   ]
  },
  {
   "cell_type": "code",
   "execution_count": 18,
   "id": "61fa7eed",
   "metadata": {},
   "outputs": [
    {
     "data": {
      "text/plain": [
       "dtype('<M8[ns]')"
      ]
     },
     "execution_count": 18,
     "metadata": {},
     "output_type": "execute_result"
    }
   ],
   "source": [
    "df_clean.work_year.dtype"
   ]
  },
  {
   "cell_type": "markdown",
   "id": "7ecc7401",
   "metadata": {},
   "source": [
    "#### Infromation shorthand entry in experience level is ambigous and no category ordering\n",
    "\n",
    "> #### Define\n",
    ">- Use the series.map to replace the values\n",
    ">- Use pd.api to convert to category datatype with order\n",
    "\n",
    "#### Code"
   ]
  },
  {
   "cell_type": "code",
   "execution_count": 19,
   "id": "d0935fb9",
   "metadata": {},
   "outputs": [
    {
     "data": {
      "text/plain": [
       "Index(['work_year', 'experience_level', 'employment_type', 'job_title',\n",
       "       'salary_in_usd', 'employee_residence', 'remote_ratio',\n",
       "       'company_location', 'company_size'],\n",
       "      dtype='object')"
      ]
     },
     "execution_count": 19,
     "metadata": {},
     "output_type": "execute_result"
    }
   ],
   "source": [
    "df_clean.columns"
   ]
  },
  {
   "cell_type": "code",
   "execution_count": 20,
   "id": "c6b7a98f",
   "metadata": {},
   "outputs": [
    {
     "data": {
      "text/plain": [
       "{'MI': 'Mid-level',\n",
       " 'SE': 'Senior-level',\n",
       " 'EN': 'Entry-level',\n",
       " 'EX': 'Executive-level'}"
      ]
     },
     "execution_count": 20,
     "metadata": {},
     "output_type": "execute_result"
    }
   ],
   "source": [
    "#Construct dictionary to replace specific values\n",
    "sh_exp = list(df_clean.experience_level.unique())\n",
    "full_exp = [\"Mid-level\", \"Senior-level\", \"Entry-level\", \"Executive-level\"]\n",
    "experience_dict = dict(zip(sh_exp, full_exp))\n",
    "experience_dict"
   ]
  },
  {
   "cell_type": "code",
   "execution_count": 21,
   "id": "74e22d22",
   "metadata": {},
   "outputs": [],
   "source": [
    "#Replace values of experience level\n",
    "df_clean[\"experience_level\"] = df_clean.experience_level.map(experience_dict)"
   ]
  },
  {
   "cell_type": "code",
   "execution_count": 22,
   "id": "63dc698f",
   "metadata": {},
   "outputs": [],
   "source": [
    "#Converting experience level to ordered category type\n",
    "ordered_experience = [\"Entry-level\", \"Mid-level\", \"Senior-level\", \"Executive-level\"]\n",
    "experience_dtype = pd.api.types.CategoricalDtype(categories = ordered_experience, ordered=True)\n",
    "df_clean[\"experience_level\"] = df_clean.experience_level.astype(experience_dtype)"
   ]
  },
  {
   "cell_type": "markdown",
   "id": "6254d731",
   "metadata": {},
   "source": [
    "#### Test"
   ]
  },
  {
   "cell_type": "code",
   "execution_count": 23,
   "id": "a4f68990",
   "metadata": {},
   "outputs": [
    {
     "data": {
      "text/plain": [
       "['Mid-level', 'Senior-level', 'Entry-level', 'Executive-level']\n",
       "Categories (4, object): ['Entry-level' < 'Mid-level' < 'Senior-level' < 'Executive-level']"
      ]
     },
     "execution_count": 23,
     "metadata": {},
     "output_type": "execute_result"
    }
   ],
   "source": [
    "df_clean[\"experience_level\"].unique()"
   ]
  },
  {
   "cell_type": "markdown",
   "id": "5288701a",
   "metadata": {},
   "source": [
    "#### Columns of employment type contains ambigous values\n",
    "\n",
    "> #### Define\n",
    "> - Use pd series.map to replace values\n",
    "\n",
    "#### Code"
   ]
  },
  {
   "cell_type": "code",
   "execution_count": 24,
   "id": "e161bbbc",
   "metadata": {},
   "outputs": [],
   "source": [
    "#Creating dictionary for mapping\n",
    "sh_emp_type = list(df_clean.employment_type.unique())\n",
    "emp_type_full = [\"Full Time\", \"Contract\", \"Part Time\", \"Freelance\"]\n",
    "emp_type_dict = dict(zip(sh_emp_type, emp_type_full))"
   ]
  },
  {
   "cell_type": "code",
   "execution_count": 25,
   "id": "e5ef2260",
   "metadata": {},
   "outputs": [],
   "source": [
    "#Renaming values using the series.map method\n",
    "\n",
    "df_clean[\"employment_type\"] = df_clean.employment_type.map(emp_type_dict)"
   ]
  },
  {
   "cell_type": "markdown",
   "id": "f40a7ca6",
   "metadata": {},
   "source": [
    "#### Test"
   ]
  },
  {
   "cell_type": "code",
   "execution_count": 26,
   "id": "764f21e5",
   "metadata": {
    "scrolled": true
   },
   "outputs": [
    {
     "data": {
      "text/plain": [
       "array(['Full Time', 'Contract', 'Part Time', 'Freelance'], dtype=object)"
      ]
     },
     "execution_count": 26,
     "metadata": {},
     "output_type": "execute_result"
    }
   ],
   "source": [
    "df_clean.employment_type.unique()"
   ]
  },
  {
   "cell_type": "markdown",
   "id": "0fc7395b",
   "metadata": {},
   "source": [
    "#### There are varying form of job description in the job title column of the same job.\n",
    "\n",
    "> #### Define\n",
    ">- Convert job description column to lower case character\n",
    "> - Define function that replaces the chaarcters based on certain conditions\n",
    "\n",
    "#### Code"
   ]
  },
  {
   "cell_type": "code",
   "execution_count": 27,
   "id": "e92d5055",
   "metadata": {},
   "outputs": [],
   "source": [
    "#Convert job_title to lower character\n",
    "\n",
    "df_clean[\"job_title\"] = df_clean.job_title.str.lower()"
   ]
  },
  {
   "cell_type": "code",
   "execution_count": 28,
   "id": "35e66eaf",
   "metadata": {},
   "outputs": [],
   "source": [
    "#Define function for converting strings in job title column\n",
    "def str_replace(row):\n",
    "    \n",
    "    \"\"\"Function replaces the values \n",
    "    with appropriate data science roles. E.g \n",
    "    ML with machine learning\"\"\"\n",
    "    \n",
    "    if \"data sci\" in row:\n",
    "        return \"Data Scientist\"\n",
    "    elif \"data engineer\" in row:\n",
    "        return \"Data Engineer\"\n",
    "    elif \"data analy\" in row:\n",
    "        return \"Data Analyst\"\n",
    "    elif \"machine learning\" in row:\n",
    "        return \"Machine Learning\"\n",
    "    elif row in [\"ml engineer\", \"computer vision engineer\", \n",
    "                 \"computer vision software engineer\", \"nlp engineer\", \n",
    "                 \"3d computer vision researcher\", \"ai scientist\"]:\n",
    "        return \"Machine Learning\"\n",
    "    elif \"data architect\" in row:\n",
    "        return \"Data Architect\"\n",
    "    elif row == \"etl developer\":\n",
    "        return \"Data Engineer\"\n",
    "    elif row in [\"data specialist\", \"head of data\"]:\n",
    "        return \"Data Scientist\"\n",
    "    else:\n",
    "        return row"
   ]
  },
  {
   "cell_type": "code",
   "execution_count": 29,
   "id": "9357326e",
   "metadata": {},
   "outputs": [],
   "source": [
    "#Apply function defined above\n",
    "\n",
    "df_clean[\"job_title\"] = df_clean[\"job_title\"].apply(str_replace)\n",
    "\n",
    "#capitalize each word to have uniformity\n",
    "\n",
    "df[\"job_title\"] = df_clean[\"job_title\"].str.capitalize()"
   ]
  },
  {
   "cell_type": "markdown",
   "id": "55f039fd",
   "metadata": {},
   "source": [
    "#### Test"
   ]
  },
  {
   "cell_type": "code",
   "execution_count": 30,
   "id": "7eef7759",
   "metadata": {},
   "outputs": [
    {
     "data": {
      "text/plain": [
       "Data scientist        198\n",
       "Data engineer         160\n",
       "Data analyst          131\n",
       "Machine learning       86\n",
       "Research scientist     16\n",
       "Data architect         12\n",
       "Analytics engineer      4\n",
       "Name: job_title, dtype: int64"
      ]
     },
     "execution_count": 30,
     "metadata": {},
     "output_type": "execute_result"
    }
   ],
   "source": [
    "df[\"job_title\"].value_counts()"
   ]
  },
  {
   "cell_type": "markdown",
   "id": "19e85fdb",
   "metadata": {},
   "source": [
    "#### Employe Residence and Company loaction is ambigous.\n",
    "\n",
    "> #### Define\n",
    "> - Use pyconutry library to replace short hand names\n",
    "\n",
    "#### Code"
   ]
  },
  {
   "cell_type": "code",
   "execution_count": 31,
   "id": "96a0667f",
   "metadata": {},
   "outputs": [],
   "source": [
    "#Use pycountry to extarct country names\n",
    "df_clean[\"employee_residence\"] = [pycountry.countries.get(alpha_2 = country).name for country in df_clean.employee_residence]\n",
    "df_clean[\"company_location\"] = [pycountry.countries.get(alpha_2 = country).name for country in df_clean.company_location]"
   ]
  },
  {
   "cell_type": "markdown",
   "id": "ad79c138",
   "metadata": {},
   "source": [
    "#### Test"
   ]
  },
  {
   "cell_type": "code",
   "execution_count": 32,
   "id": "7e7f2284",
   "metadata": {},
   "outputs": [
    {
     "data": {
      "text/plain": [
       "array(['Germany', 'Japan', 'United Kingdom', 'Honduras', 'United States',\n",
       "       'Hungary', 'New Zealand', 'France', 'India', 'Pakistan'],\n",
       "      dtype=object)"
      ]
     },
     "execution_count": 32,
     "metadata": {},
     "output_type": "execute_result"
    }
   ],
   "source": [
    "df_clean[\"employee_residence\"].unique()[:10]"
   ]
  },
  {
   "cell_type": "code",
   "execution_count": 33,
   "id": "bf398d99",
   "metadata": {
    "scrolled": true
   },
   "outputs": [
    {
     "data": {
      "text/plain": [
       "array(['Germany', 'Japan', 'United Kingdom', 'Honduras', 'United States',\n",
       "       'Hungary', 'New Zealand', 'France', 'India', 'Pakistan'],\n",
       "      dtype=object)"
      ]
     },
     "execution_count": 33,
     "metadata": {},
     "output_type": "execute_result"
    }
   ],
   "source": [
    "df_clean[\"company_location\"].unique()[:10]"
   ]
  },
  {
   "cell_type": "markdown",
   "id": "6fa7bd9d",
   "metadata": {},
   "source": [
    "#### Remote Ratio values can be misleading and data type ought to be string or object\n",
    "\n",
    "> #### Define\n",
    "> - Convert values to appropriate names\n",
    ">- Ensure the datatype is object\n",
    "\n",
    "#### Code"
   ]
  },
  {
   "cell_type": "code",
   "execution_count": 34,
   "id": "7507cff9",
   "metadata": {},
   "outputs": [],
   "source": [
    "#Create map dictionary for mapping with remote_ratio\n",
    "\n",
    "remote_map = {0: \"<20% Remote\",\n",
    "             50: \"Partial Remote\",\n",
    "             100: \">80% Remote\"}"
   ]
  },
  {
   "cell_type": "code",
   "execution_count": 35,
   "id": "17922b47",
   "metadata": {},
   "outputs": [],
   "source": [
    "#Assign new mapping to the column\n",
    "\n",
    "df_clean[\"remote_ratio\"] = df_clean.remote_ratio.map(remote_map)"
   ]
  },
  {
   "cell_type": "markdown",
   "id": "74b35e27",
   "metadata": {},
   "source": [
    "#### Test"
   ]
  },
  {
   "cell_type": "code",
   "execution_count": 36,
   "id": "91ab5c7b",
   "metadata": {},
   "outputs": [
    {
     "data": {
      "text/plain": [
       "array(['<20% Remote', 'Partial Remote', '>80% Remote'], dtype=object)"
      ]
     },
     "execution_count": 36,
     "metadata": {},
     "output_type": "execute_result"
    }
   ],
   "source": [
    "df_clean.remote_ratio.unique()"
   ]
  },
  {
   "cell_type": "markdown",
   "id": "de3272bd",
   "metadata": {},
   "source": [
    "#### Company size is an ordinal datatype and should be ordered from small to medium and to large. (Also needs renaming)\n",
    "\n",
    "> #### Define\n",
    "> - Rename values and convert data to an ordered category\n",
    "\n",
    "#### Code"
   ]
  },
  {
   "cell_type": "code",
   "execution_count": 37,
   "id": "2738475a",
   "metadata": {},
   "outputs": [],
   "source": [
    "#make map dictionary for renameing\n",
    "\n",
    "size_map = {\"L\": \"Large\",\n",
    "           \"S\": \"Small\",\n",
    "           \"M\": \"Medium\"}\n",
    "\n",
    "#Rename values in the comapny size column\n",
    "df_clean[\"company_size\"] = df_clean.company_size.map(size_map)"
   ]
  },
  {
   "cell_type": "code",
   "execution_count": 38,
   "id": "b9387480",
   "metadata": {},
   "outputs": [],
   "source": [
    "#Create ordered category\n",
    "size_list = [\"Small\", \"Medium\", \"Large\"]\n",
    "size_cat = pd.api.types.CategoricalDtype(categories=size_list, ordered=True)\n",
    "\n",
    "#Change category to ordered category\n",
    "df_clean[\"company_size\"] = df_clean[\"company_size\"].astype(size_cat)"
   ]
  },
  {
   "cell_type": "markdown",
   "id": "bbeb1304",
   "metadata": {},
   "source": [
    "#### Test"
   ]
  },
  {
   "cell_type": "code",
   "execution_count": 39,
   "id": "7e09dd60",
   "metadata": {},
   "outputs": [
    {
     "data": {
      "text/plain": [
       "['Large', 'Small', 'Medium']\n",
       "Categories (3, object): ['Small' < 'Medium' < 'Large']"
      ]
     },
     "execution_count": 39,
     "metadata": {},
     "output_type": "execute_result"
    }
   ],
   "source": [
    "df_clean.company_size.unique()"
   ]
  },
  {
   "cell_type": "markdown",
   "id": "5c401504",
   "metadata": {},
   "source": [
    "## Exploratory Data Analysis\n",
    "\n",
    "> *We will be using the question-vizulaization-observation framework in this section. And the sections will be split into investigating univariate plots, bivariate plots and multivariate plots*"
   ]
  },
  {
   "cell_type": "markdown",
   "id": "a0dc3876",
   "metadata": {},
   "source": [
    "### General data description"
   ]
  },
  {
   "cell_type": "code",
   "execution_count": 40,
   "id": "cfbfaef9",
   "metadata": {},
   "outputs": [
    {
     "name": "stdout",
     "output_type": "stream",
     "text": [
      "<class 'pandas.core.frame.DataFrame'>\n",
      "RangeIndex: 607 entries, 0 to 606\n",
      "Data columns (total 9 columns):\n",
      " #   Column              Non-Null Count  Dtype         \n",
      "---  ------              --------------  -----         \n",
      " 0   work_year           607 non-null    datetime64[ns]\n",
      " 1   experience_level    607 non-null    category      \n",
      " 2   employment_type     607 non-null    object        \n",
      " 3   job_title           607 non-null    object        \n",
      " 4   salary_in_usd       607 non-null    int64         \n",
      " 5   employee_residence  607 non-null    object        \n",
      " 6   remote_ratio        607 non-null    object        \n",
      " 7   company_location    607 non-null    object        \n",
      " 8   company_size        607 non-null    category      \n",
      "dtypes: category(2), datetime64[ns](1), int64(1), object(5)\n",
      "memory usage: 34.8+ KB\n"
     ]
    }
   ],
   "source": [
    "df_clean.info()"
   ]
  },
  {
   "cell_type": "code",
   "execution_count": 41,
   "id": "59682905",
   "metadata": {},
   "outputs": [
    {
     "data": {
      "text/html": [
       "<div>\n",
       "<style scoped>\n",
       "    .dataframe tbody tr th:only-of-type {\n",
       "        vertical-align: middle;\n",
       "    }\n",
       "\n",
       "    .dataframe tbody tr th {\n",
       "        vertical-align: top;\n",
       "    }\n",
       "\n",
       "    .dataframe thead th {\n",
       "        text-align: right;\n",
       "    }\n",
       "</style>\n",
       "<table border=\"1\" class=\"dataframe\">\n",
       "  <thead>\n",
       "    <tr style=\"text-align: right;\">\n",
       "      <th></th>\n",
       "      <th>work_year</th>\n",
       "      <th>experience_level</th>\n",
       "      <th>employment_type</th>\n",
       "      <th>job_title</th>\n",
       "      <th>salary_in_usd</th>\n",
       "      <th>employee_residence</th>\n",
       "      <th>remote_ratio</th>\n",
       "      <th>company_location</th>\n",
       "      <th>company_size</th>\n",
       "    </tr>\n",
       "  </thead>\n",
       "  <tbody>\n",
       "    <tr>\n",
       "      <th>0</th>\n",
       "      <td>2020-01-01</td>\n",
       "      <td>Mid-level</td>\n",
       "      <td>Full Time</td>\n",
       "      <td>Data Scientist</td>\n",
       "      <td>79833</td>\n",
       "      <td>Germany</td>\n",
       "      <td>&lt;20% Remote</td>\n",
       "      <td>Germany</td>\n",
       "      <td>Large</td>\n",
       "    </tr>\n",
       "    <tr>\n",
       "      <th>1</th>\n",
       "      <td>2020-01-01</td>\n",
       "      <td>Senior-level</td>\n",
       "      <td>Full Time</td>\n",
       "      <td>Machine Learning</td>\n",
       "      <td>260000</td>\n",
       "      <td>Japan</td>\n",
       "      <td>&lt;20% Remote</td>\n",
       "      <td>Japan</td>\n",
       "      <td>Small</td>\n",
       "    </tr>\n",
       "    <tr>\n",
       "      <th>2</th>\n",
       "      <td>2020-01-01</td>\n",
       "      <td>Senior-level</td>\n",
       "      <td>Full Time</td>\n",
       "      <td>Data Engineer</td>\n",
       "      <td>109024</td>\n",
       "      <td>United Kingdom</td>\n",
       "      <td>Partial Remote</td>\n",
       "      <td>United Kingdom</td>\n",
       "      <td>Medium</td>\n",
       "    </tr>\n",
       "    <tr>\n",
       "      <th>3</th>\n",
       "      <td>2020-01-01</td>\n",
       "      <td>Mid-level</td>\n",
       "      <td>Full Time</td>\n",
       "      <td>Data Analyst</td>\n",
       "      <td>20000</td>\n",
       "      <td>Honduras</td>\n",
       "      <td>&lt;20% Remote</td>\n",
       "      <td>Honduras</td>\n",
       "      <td>Small</td>\n",
       "    </tr>\n",
       "    <tr>\n",
       "      <th>4</th>\n",
       "      <td>2020-01-01</td>\n",
       "      <td>Senior-level</td>\n",
       "      <td>Full Time</td>\n",
       "      <td>Machine Learning</td>\n",
       "      <td>150000</td>\n",
       "      <td>United States</td>\n",
       "      <td>Partial Remote</td>\n",
       "      <td>United States</td>\n",
       "      <td>Large</td>\n",
       "    </tr>\n",
       "  </tbody>\n",
       "</table>\n",
       "</div>"
      ],
      "text/plain": [
       "   work_year experience_level employment_type         job_title  \\\n",
       "0 2020-01-01        Mid-level       Full Time    Data Scientist   \n",
       "1 2020-01-01     Senior-level       Full Time  Machine Learning   \n",
       "2 2020-01-01     Senior-level       Full Time     Data Engineer   \n",
       "3 2020-01-01        Mid-level       Full Time      Data Analyst   \n",
       "4 2020-01-01     Senior-level       Full Time  Machine Learning   \n",
       "\n",
       "   salary_in_usd employee_residence    remote_ratio company_location  \\\n",
       "0          79833            Germany     <20% Remote          Germany   \n",
       "1         260000              Japan     <20% Remote            Japan   \n",
       "2         109024     United Kingdom  Partial Remote   United Kingdom   \n",
       "3          20000           Honduras     <20% Remote         Honduras   \n",
       "4         150000      United States  Partial Remote    United States   \n",
       "\n",
       "  company_size  \n",
       "0        Large  \n",
       "1        Small  \n",
       "2       Medium  \n",
       "3        Small  \n",
       "4        Large  "
      ]
     },
     "execution_count": 41,
     "metadata": {},
     "output_type": "execute_result"
    }
   ],
   "source": [
    "df_clean.head()"
   ]
  },
  {
   "cell_type": "code",
   "execution_count": 42,
   "id": "1eab4120",
   "metadata": {},
   "outputs": [
    {
     "data": {
      "text/html": [
       "<div>\n",
       "<style scoped>\n",
       "    .dataframe tbody tr th:only-of-type {\n",
       "        vertical-align: middle;\n",
       "    }\n",
       "\n",
       "    .dataframe tbody tr th {\n",
       "        vertical-align: top;\n",
       "    }\n",
       "\n",
       "    .dataframe thead th {\n",
       "        text-align: right;\n",
       "    }\n",
       "</style>\n",
       "<table border=\"1\" class=\"dataframe\">\n",
       "  <thead>\n",
       "    <tr style=\"text-align: right;\">\n",
       "      <th></th>\n",
       "      <th>employment_type</th>\n",
       "      <th>job_title</th>\n",
       "      <th>employee_residence</th>\n",
       "      <th>remote_ratio</th>\n",
       "      <th>company_location</th>\n",
       "    </tr>\n",
       "  </thead>\n",
       "  <tbody>\n",
       "    <tr>\n",
       "      <th>count</th>\n",
       "      <td>607</td>\n",
       "      <td>607</td>\n",
       "      <td>607</td>\n",
       "      <td>607</td>\n",
       "      <td>607</td>\n",
       "    </tr>\n",
       "    <tr>\n",
       "      <th>unique</th>\n",
       "      <td>4</td>\n",
       "      <td>7</td>\n",
       "      <td>57</td>\n",
       "      <td>3</td>\n",
       "      <td>50</td>\n",
       "    </tr>\n",
       "    <tr>\n",
       "      <th>top</th>\n",
       "      <td>Full Time</td>\n",
       "      <td>Data Scientist</td>\n",
       "      <td>United States</td>\n",
       "      <td>&gt;80% Remote</td>\n",
       "      <td>United States</td>\n",
       "    </tr>\n",
       "    <tr>\n",
       "      <th>freq</th>\n",
       "      <td>588</td>\n",
       "      <td>198</td>\n",
       "      <td>332</td>\n",
       "      <td>381</td>\n",
       "      <td>355</td>\n",
       "    </tr>\n",
       "  </tbody>\n",
       "</table>\n",
       "</div>"
      ],
      "text/plain": [
       "       employment_type       job_title employee_residence remote_ratio  \\\n",
       "count              607             607                607          607   \n",
       "unique               4               7                 57            3   \n",
       "top          Full Time  Data Scientist      United States  >80% Remote   \n",
       "freq               588             198                332          381   \n",
       "\n",
       "       company_location  \n",
       "count               607  \n",
       "unique               50  \n",
       "top       United States  \n",
       "freq                355  "
      ]
     },
     "execution_count": 42,
     "metadata": {},
     "output_type": "execute_result"
    }
   ],
   "source": [
    "df_clean.select_dtypes(\"object\").describe()"
   ]
  },
  {
   "cell_type": "code",
   "execution_count": 43,
   "id": "95d016e0",
   "metadata": {},
   "outputs": [
    {
     "data": {
      "text/html": [
       "<div>\n",
       "<style scoped>\n",
       "    .dataframe tbody tr th:only-of-type {\n",
       "        vertical-align: middle;\n",
       "    }\n",
       "\n",
       "    .dataframe tbody tr th {\n",
       "        vertical-align: top;\n",
       "    }\n",
       "\n",
       "    .dataframe thead th {\n",
       "        text-align: right;\n",
       "    }\n",
       "</style>\n",
       "<table border=\"1\" class=\"dataframe\">\n",
       "  <thead>\n",
       "    <tr style=\"text-align: right;\">\n",
       "      <th></th>\n",
       "      <th>salary_in_usd</th>\n",
       "    </tr>\n",
       "  </thead>\n",
       "  <tbody>\n",
       "    <tr>\n",
       "      <th>count</th>\n",
       "      <td>607.000000</td>\n",
       "    </tr>\n",
       "    <tr>\n",
       "      <th>mean</th>\n",
       "      <td>112297.869852</td>\n",
       "    </tr>\n",
       "    <tr>\n",
       "      <th>std</th>\n",
       "      <td>70957.259411</td>\n",
       "    </tr>\n",
       "    <tr>\n",
       "      <th>min</th>\n",
       "      <td>2859.000000</td>\n",
       "    </tr>\n",
       "    <tr>\n",
       "      <th>25%</th>\n",
       "      <td>62726.000000</td>\n",
       "    </tr>\n",
       "    <tr>\n",
       "      <th>50%</th>\n",
       "      <td>101570.000000</td>\n",
       "    </tr>\n",
       "    <tr>\n",
       "      <th>75%</th>\n",
       "      <td>150000.000000</td>\n",
       "    </tr>\n",
       "    <tr>\n",
       "      <th>max</th>\n",
       "      <td>600000.000000</td>\n",
       "    </tr>\n",
       "  </tbody>\n",
       "</table>\n",
       "</div>"
      ],
      "text/plain": [
       "       salary_in_usd\n",
       "count     607.000000\n",
       "mean   112297.869852\n",
       "std     70957.259411\n",
       "min      2859.000000\n",
       "25%     62726.000000\n",
       "50%    101570.000000\n",
       "75%    150000.000000\n",
       "max    600000.000000"
      ]
     },
     "execution_count": 43,
     "metadata": {},
     "output_type": "execute_result"
    }
   ],
   "source": [
    "df_clean.select_dtypes(\"number\").describe()"
   ]
  },
  {
   "cell_type": "code",
   "execution_count": 44,
   "id": "86013c14",
   "metadata": {},
   "outputs": [
    {
     "data": {
      "text/html": [
       "<div>\n",
       "<style scoped>\n",
       "    .dataframe tbody tr th:only-of-type {\n",
       "        vertical-align: middle;\n",
       "    }\n",
       "\n",
       "    .dataframe tbody tr th {\n",
       "        vertical-align: top;\n",
       "    }\n",
       "\n",
       "    .dataframe thead th {\n",
       "        text-align: right;\n",
       "    }\n",
       "</style>\n",
       "<table border=\"1\" class=\"dataframe\">\n",
       "  <thead>\n",
       "    <tr style=\"text-align: right;\">\n",
       "      <th></th>\n",
       "      <th>experience_level</th>\n",
       "      <th>company_size</th>\n",
       "    </tr>\n",
       "  </thead>\n",
       "  <tbody>\n",
       "    <tr>\n",
       "      <th>count</th>\n",
       "      <td>607</td>\n",
       "      <td>607</td>\n",
       "    </tr>\n",
       "    <tr>\n",
       "      <th>unique</th>\n",
       "      <td>4</td>\n",
       "      <td>3</td>\n",
       "    </tr>\n",
       "    <tr>\n",
       "      <th>top</th>\n",
       "      <td>Senior-level</td>\n",
       "      <td>Medium</td>\n",
       "    </tr>\n",
       "    <tr>\n",
       "      <th>freq</th>\n",
       "      <td>280</td>\n",
       "      <td>326</td>\n",
       "    </tr>\n",
       "  </tbody>\n",
       "</table>\n",
       "</div>"
      ],
      "text/plain": [
       "       experience_level company_size\n",
       "count               607          607\n",
       "unique                4            3\n",
       "top        Senior-level       Medium\n",
       "freq                280          326"
      ]
     },
     "execution_count": 44,
     "metadata": {},
     "output_type": "execute_result"
    }
   ],
   "source": [
    "df_clean.select_dtypes(\"category\").describe()"
   ]
  },
  {
   "cell_type": "markdown",
   "id": "1d5427d7",
   "metadata": {},
   "source": [
    "From the above summary statistics, we know the following:\n",
    "- Most of the employment type is Full time\n",
    "- The highest frequency ocunts of job_title is data scientist\n",
    "- The employee residence and company location have United States as their highest frequency count.\n",
    "- The highest frequency count of the experience_level is the senir level\n",
    "- The mean salary for data science job is $112,672"
   ]
  },
  {
   "cell_type": "markdown",
   "id": "586b017e",
   "metadata": {},
   "source": [
    "### Univariate Analysis"
   ]
  },
  {
   "cell_type": "markdown",
   "id": "6b8b39e2",
   "metadata": {},
   "source": [
    "#### What is the distribution of the experience_level?"
   ]
  },
  {
   "cell_type": "code",
   "execution_count": 46,
   "id": "31d97d3c",
   "metadata": {},
   "outputs": [],
   "source": [
    "#Generate base color\n",
    "base_color = sns.color_palette()[0]"
   ]
  },
  {
   "cell_type": "code",
   "execution_count": 47,
   "id": "d90eac33",
   "metadata": {},
   "outputs": [
    {
     "data": {
      "image/png": "[encoded data removed]",
      "text/plain": [
       "<Figure size 432x288 with 1 Axes>"
      ]
     },
     "metadata": {
      "needs_background": "light"
     },
     "output_type": "display_data"
    }
   ],
   "source": [
    "#distribution of experience level\n",
    "\n",
    "sns.countplot(data= df_clean, x = \"experience_level\", color = \"b\");"
   ]
  },
  {
   "cell_type": "code",
   "execution_count": 48,
   "id": "ddc89297",
   "metadata": {},
   "outputs": [
    {
     "data": {
      "image/png": "[encoded data removed]",
      "text/plain": [
       "<Figure size 432x288 with 1 Axes>"
      ]
     },
     "metadata": {
      "needs_background": "light"
     },
     "output_type": "display_data"
    }
   ],
   "source": [
    "#Make plot relative\n",
    "df_clean[\"experience_level\"].value_counts(normalize = True).sort_index().plot(kind = \"bar\", color = \"b\")\n",
    "plt.xlabel(\"Experience Level\")\n",
    "plt.ylabel(\"Ratio\\n (All adds up to 1)\");"
   ]
  },
  {
   "cell_type": "markdown",
   "id": "3308ff04",
   "metadata": {},
   "source": [
    "**Observation:** The data consists mostly of Mid-level roles and Senior-level roles with a little over 10% as entry roles and less than 10% Executive roles."
   ]
  },
  {
   "cell_type": "markdown",
   "id": "75a42882",
   "metadata": {},
   "source": [
    "#### Question: What is the distribution of employment type?"
   ]
  },
  {
   "cell_type": "code",
   "execution_count": 49,
   "id": "b40fe8a6",
   "metadata": {},
   "outputs": [
    {
     "data": {
      "text/plain": [
       "<AxesSubplot:xlabel='employment_type', ylabel='count'>"
      ]
     },
     "execution_count": 49,
     "metadata": {},
     "output_type": "execute_result"
    },
    {
     "data": {
      "image/png": "[encoded data removed]",
      "text/plain": [
       "<Figure size 432x288 with 1 Axes>"
      ]
     },
     "metadata": {
      "needs_background": "light"
     },
     "output_type": "display_data"
    }
   ],
   "source": [
    "sns.countplot(data = df_clean, x = \"employment_type\", color = \"b\")"
   ]
  },
  {
   "cell_type": "markdown",
   "id": "573dd959",
   "metadata": {},
   "source": [
    "**Observation:** Most of the jobs in the dataset are `full time` with very inconsequential amount attributed to other `employment type`"
   ]
  },
  {
   "cell_type": "markdown",
   "id": "e63972fd",
   "metadata": {},
   "source": [
    "#### Question: Distribution of salary?"
   ]
  },
  {
   "cell_type": "code",
   "execution_count": 51,
   "id": "4049d91f",
   "metadata": {},
   "outputs": [
    {
     "data": {
      "text/plain": [
       "count       607.000000\n",
       "mean     112297.869852\n",
       "std       70957.259411\n",
       "min        2859.000000\n",
       "25%       62726.000000\n",
       "50%      101570.000000\n",
       "75%      150000.000000\n",
       "max      600000.000000\n",
       "Name: salary_in_usd, dtype: float64"
      ]
     },
     "execution_count": 51,
     "metadata": {},
     "output_type": "execute_result"
    }
   ],
   "source": [
    "df_clean.salary_in_usd.describe()"
   ]
  },
  {
   "cell_type": "code",
   "execution_count": 64,
   "id": "b59bca54",
   "metadata": {},
   "outputs": [
    {
     "data": {
      "image/png": "[encoded data removed]",
      "text/plain": [
       "<Figure size 432x288 with 1 Axes>"
      ]
     },
     "metadata": {
      "needs_background": "light"
     },
     "output_type": "display_data"
    }
   ],
   "source": [
    "bins = np.arange(0, 600000, 10000)\n",
    "plt.hist(data = df_clean, x = \"salary_in_usd\", bins = bins)\n",
    "plt.xscale(\"log\")\n",
    "ticks = [1000, 10000, 20000, 50000, 100000, 200000, 500000]\n",
    "tick_label = [\"1K\", \"10K\", \"20K\", \"50K\", \"100K\", \"200K\", \"500K\"]\n",
    "plt.xticks(ticks, tick_label)\n",
    "plt.xlim(3000, 600000)\n",
    "plt.grid(axis = \"x\", alpha = 0.6, color = \"grey\")\n",
    "plt.xlabel(\"Salary Earned [USD]\\n (Log Trasnformed)\")\n",
    "plt.ylabel(\"Frequency\")\n",
    "plt.title(\"The distribution of Salary for data science earners\");"
   ]
  },
  {
   "cell_type": "markdown",
   "id": "7651c54a",
   "metadata": {},
   "source": [
    "**Observation:** \n",
    "- The distribution of Data Science Salaries mainly between 50K to above 100K but less than 200K\n",
    "- We also observe a general gradual increase in the different income groups which peaks at area between 50K - 100K and then begin to suffer decline.\n",
    "- There are extreme outliers at above 200K.\n",
    "- This dataset can point to the distribution of work experience that we have in the dataset, an information we would get to know better on a  bivariate plot."
   ]
  },
  {
   "cell_type": "code",
   "execution_count": 65,
   "id": "66a5b61c",
   "metadata": {},
   "outputs": [
    {
     "data": {
      "text/html": [
       "<div>\n",
       "<style scoped>\n",
       "    .dataframe tbody tr th:only-of-type {\n",
       "        vertical-align: middle;\n",
       "    }\n",
       "\n",
       "    .dataframe tbody tr th {\n",
       "        vertical-align: top;\n",
       "    }\n",
       "\n",
       "    .dataframe thead th {\n",
       "        text-align: right;\n",
       "    }\n",
       "</style>\n",
       "<table border=\"1\" class=\"dataframe\">\n",
       "  <thead>\n",
       "    <tr style=\"text-align: right;\">\n",
       "      <th></th>\n",
       "      <th>work_year</th>\n",
       "      <th>experience_level</th>\n",
       "      <th>employment_type</th>\n",
       "      <th>job_title</th>\n",
       "      <th>salary_in_usd</th>\n",
       "      <th>employee_residence</th>\n",
       "      <th>remote_ratio</th>\n",
       "      <th>company_location</th>\n",
       "      <th>company_size</th>\n",
       "    </tr>\n",
       "  </thead>\n",
       "  <tbody>\n",
       "    <tr>\n",
       "      <th>1</th>\n",
       "      <td>2020-01-01</td>\n",
       "      <td>Senior-level</td>\n",
       "      <td>Full Time</td>\n",
       "      <td>Machine Learning</td>\n",
       "      <td>260000</td>\n",
       "      <td>Japan</td>\n",
       "      <td>&lt;20% Remote</td>\n",
       "      <td>Japan</td>\n",
       "      <td>Small</td>\n",
       "    </tr>\n",
       "    <tr>\n",
       "      <th>25</th>\n",
       "      <td>2020-01-01</td>\n",
       "      <td>Executive-level</td>\n",
       "      <td>Full Time</td>\n",
       "      <td>Data Scientist</td>\n",
       "      <td>325000</td>\n",
       "      <td>United States</td>\n",
       "      <td>&gt;80% Remote</td>\n",
       "      <td>United States</td>\n",
       "      <td>Large</td>\n",
       "    </tr>\n",
       "    <tr>\n",
       "      <th>33</th>\n",
       "      <td>2020-01-01</td>\n",
       "      <td>Mid-level</td>\n",
       "      <td>Full Time</td>\n",
       "      <td>research scientist</td>\n",
       "      <td>450000</td>\n",
       "      <td>United States</td>\n",
       "      <td>&lt;20% Remote</td>\n",
       "      <td>United States</td>\n",
       "      <td>Medium</td>\n",
       "    </tr>\n",
       "    <tr>\n",
       "      <th>37</th>\n",
       "      <td>2020-01-01</td>\n",
       "      <td>Entry-level</td>\n",
       "      <td>Full Time</td>\n",
       "      <td>Machine Learning</td>\n",
       "      <td>250000</td>\n",
       "      <td>United States</td>\n",
       "      <td>Partial Remote</td>\n",
       "      <td>United States</td>\n",
       "      <td>Large</td>\n",
       "    </tr>\n",
       "    <tr>\n",
       "      <th>63</th>\n",
       "      <td>2020-01-01</td>\n",
       "      <td>Senior-level</td>\n",
       "      <td>Full Time</td>\n",
       "      <td>Data Scientist</td>\n",
       "      <td>412000</td>\n",
       "      <td>United States</td>\n",
       "      <td>&gt;80% Remote</td>\n",
       "      <td>United States</td>\n",
       "      <td>Large</td>\n",
       "    </tr>\n",
       "    <tr>\n",
       "      <th>74</th>\n",
       "      <td>2021-01-01</td>\n",
       "      <td>Executive-level</td>\n",
       "      <td>Full Time</td>\n",
       "      <td>Data Scientist</td>\n",
       "      <td>235000</td>\n",
       "      <td>United States</td>\n",
       "      <td>&gt;80% Remote</td>\n",
       "      <td>United States</td>\n",
       "      <td>Large</td>\n",
       "    </tr>\n",
       "    <tr>\n",
       "      <th>78</th>\n",
       "      <td>2021-01-01</td>\n",
       "      <td>Mid-level</td>\n",
       "      <td>Contract</td>\n",
       "      <td>Machine Learning</td>\n",
       "      <td>270000</td>\n",
       "      <td>United States</td>\n",
       "      <td>&gt;80% Remote</td>\n",
       "      <td>United States</td>\n",
       "      <td>Large</td>\n",
       "    </tr>\n",
       "    <tr>\n",
       "      <th>93</th>\n",
       "      <td>2021-01-01</td>\n",
       "      <td>Senior-level</td>\n",
       "      <td>Full Time</td>\n",
       "      <td>Data Engineer</td>\n",
       "      <td>276000</td>\n",
       "      <td>United States</td>\n",
       "      <td>&lt;20% Remote</td>\n",
       "      <td>United States</td>\n",
       "      <td>Large</td>\n",
       "    </tr>\n",
       "    <tr>\n",
       "      <th>97</th>\n",
       "      <td>2021-01-01</td>\n",
       "      <td>Mid-level</td>\n",
       "      <td>Full Time</td>\n",
       "      <td>Data Analyst</td>\n",
       "      <td>450000</td>\n",
       "      <td>United States</td>\n",
       "      <td>&gt;80% Remote</td>\n",
       "      <td>United States</td>\n",
       "      <td>Large</td>\n",
       "    </tr>\n",
       "    <tr>\n",
       "      <th>115</th>\n",
       "      <td>2021-01-01</td>\n",
       "      <td>Entry-level</td>\n",
       "      <td>Full Time</td>\n",
       "      <td>Machine Learning</td>\n",
       "      <td>225000</td>\n",
       "      <td>United States</td>\n",
       "      <td>&gt;80% Remote</td>\n",
       "      <td>United States</td>\n",
       "      <td>Large</td>\n",
       "    </tr>\n",
       "    <tr>\n",
       "      <th>138</th>\n",
       "      <td>2021-01-01</td>\n",
       "      <td>Senior-level</td>\n",
       "      <td>Full Time</td>\n",
       "      <td>Data Scientist</td>\n",
       "      <td>220000</td>\n",
       "      <td>United States</td>\n",
       "      <td>&lt;20% Remote</td>\n",
       "      <td>United States</td>\n",
       "      <td>Large</td>\n",
       "    </tr>\n",
       "    <tr>\n",
       "      <th>141</th>\n",
       "      <td>2021-01-01</td>\n",
       "      <td>Senior-level</td>\n",
       "      <td>Full Time</td>\n",
       "      <td>Data Scientist</td>\n",
       "      <td>240000</td>\n",
       "      <td>United States</td>\n",
       "      <td>&lt;20% Remote</td>\n",
       "      <td>United States</td>\n",
       "      <td>Large</td>\n",
       "    </tr>\n",
       "    <tr>\n",
       "      <th>157</th>\n",
       "      <td>2021-01-01</td>\n",
       "      <td>Mid-level</td>\n",
       "      <td>Full Time</td>\n",
       "      <td>Machine Learning</td>\n",
       "      <td>423000</td>\n",
       "      <td>United States</td>\n",
       "      <td>Partial Remote</td>\n",
       "      <td>United States</td>\n",
       "      <td>Large</td>\n",
       "    </tr>\n",
       "    <tr>\n",
       "      <th>160</th>\n",
       "      <td>2021-01-01</td>\n",
       "      <td>Executive-level</td>\n",
       "      <td>Full Time</td>\n",
       "      <td>Data Scientist</td>\n",
       "      <td>230000</td>\n",
       "      <td>Russian Federation</td>\n",
       "      <td>Partial Remote</td>\n",
       "      <td>Russian Federation</td>\n",
       "      <td>Large</td>\n",
       "    </tr>\n",
       "    <tr>\n",
       "      <th>167</th>\n",
       "      <td>2021-01-01</td>\n",
       "      <td>Executive-level</td>\n",
       "      <td>Full Time</td>\n",
       "      <td>Data Scientist</td>\n",
       "      <td>250000</td>\n",
       "      <td>United States</td>\n",
       "      <td>&lt;20% Remote</td>\n",
       "      <td>United States</td>\n",
       "      <td>Large</td>\n",
       "    </tr>\n",
       "    <tr>\n",
       "      <th>173</th>\n",
       "      <td>2021-01-01</td>\n",
       "      <td>Senior-level</td>\n",
       "      <td>Full Time</td>\n",
       "      <td>Data Scientist</td>\n",
       "      <td>235000</td>\n",
       "      <td>United States</td>\n",
       "      <td>&gt;80% Remote</td>\n",
       "      <td>United States</td>\n",
       "      <td>Large</td>\n",
       "    </tr>\n",
       "    <tr>\n",
       "      <th>224</th>\n",
       "      <td>2021-01-01</td>\n",
       "      <td>Senior-level</td>\n",
       "      <td>Full Time</td>\n",
       "      <td>Machine Learning</td>\n",
       "      <td>225000</td>\n",
       "      <td>United States</td>\n",
       "      <td>&gt;80% Remote</td>\n",
       "      <td>Canada</td>\n",
       "      <td>Large</td>\n",
       "    </tr>\n",
       "    <tr>\n",
       "      <th>225</th>\n",
       "      <td>2021-01-01</td>\n",
       "      <td>Executive-level</td>\n",
       "      <td>Contract</td>\n",
       "      <td>Data Scientist</td>\n",
       "      <td>416000</td>\n",
       "      <td>United States</td>\n",
       "      <td>&gt;80% Remote</td>\n",
       "      <td>United States</td>\n",
       "      <td>Small</td>\n",
       "    </tr>\n",
       "    <tr>\n",
       "      <th>231</th>\n",
       "      <td>2021-01-01</td>\n",
       "      <td>Senior-level</td>\n",
       "      <td>Full Time</td>\n",
       "      <td>Machine Learning</td>\n",
       "      <td>256000</td>\n",
       "      <td>United States</td>\n",
       "      <td>&gt;80% Remote</td>\n",
       "      <td>United States</td>\n",
       "      <td>Small</td>\n",
       "    </tr>\n",
       "    <tr>\n",
       "      <th>252</th>\n",
       "      <td>2021-01-01</td>\n",
       "      <td>Executive-level</td>\n",
       "      <td>Full Time</td>\n",
       "      <td>Data Engineer</td>\n",
       "      <td>600000</td>\n",
       "      <td>United States</td>\n",
       "      <td>&gt;80% Remote</td>\n",
       "      <td>United States</td>\n",
       "      <td>Large</td>\n",
       "    </tr>\n",
       "    <tr>\n",
       "      <th>309</th>\n",
       "      <td>2022-01-01</td>\n",
       "      <td>Executive-level</td>\n",
       "      <td>Full Time</td>\n",
       "      <td>Data Engineer</td>\n",
       "      <td>242000</td>\n",
       "      <td>United States</td>\n",
       "      <td>&gt;80% Remote</td>\n",
       "      <td>United States</td>\n",
       "      <td>Medium</td>\n",
       "    </tr>\n",
       "    <tr>\n",
       "      <th>321</th>\n",
       "      <td>2022-01-01</td>\n",
       "      <td>Senior-level</td>\n",
       "      <td>Full Time</td>\n",
       "      <td>Data Engineer</td>\n",
       "      <td>220110</td>\n",
       "      <td>United States</td>\n",
       "      <td>&lt;20% Remote</td>\n",
       "      <td>United States</td>\n",
       "      <td>Medium</td>\n",
       "    </tr>\n",
       "    <tr>\n",
       "      <th>337</th>\n",
       "      <td>2022-01-01</td>\n",
       "      <td>Senior-level</td>\n",
       "      <td>Full Time</td>\n",
       "      <td>Data Engineer</td>\n",
       "      <td>243900</td>\n",
       "      <td>United States</td>\n",
       "      <td>&gt;80% Remote</td>\n",
       "      <td>United States</td>\n",
       "      <td>Medium</td>\n",
       "    </tr>\n",
       "    <tr>\n",
       "      <th>342</th>\n",
       "      <td>2022-01-01</td>\n",
       "      <td>Executive-level</td>\n",
       "      <td>Full Time</td>\n",
       "      <td>Data Scientist</td>\n",
       "      <td>224000</td>\n",
       "      <td>United States</td>\n",
       "      <td>&gt;80% Remote</td>\n",
       "      <td>United States</td>\n",
       "      <td>Medium</td>\n",
       "    </tr>\n",
       "    <tr>\n",
       "      <th>357</th>\n",
       "      <td>2022-01-01</td>\n",
       "      <td>Senior-level</td>\n",
       "      <td>Full Time</td>\n",
       "      <td>Data Scientist</td>\n",
       "      <td>211500</td>\n",
       "      <td>United States</td>\n",
       "      <td>&gt;80% Remote</td>\n",
       "      <td>United States</td>\n",
       "      <td>Medium</td>\n",
       "    </tr>\n",
       "    <tr>\n",
       "      <th>378</th>\n",
       "      <td>2022-01-01</td>\n",
       "      <td>Senior-level</td>\n",
       "      <td>Full Time</td>\n",
       "      <td>Data Architect</td>\n",
       "      <td>208775</td>\n",
       "      <td>United States</td>\n",
       "      <td>&gt;80% Remote</td>\n",
       "      <td>United States</td>\n",
       "      <td>Medium</td>\n",
       "    </tr>\n",
       "    <tr>\n",
       "      <th>398</th>\n",
       "      <td>2022-01-01</td>\n",
       "      <td>Senior-level</td>\n",
       "      <td>Full Time</td>\n",
       "      <td>Data Scientist</td>\n",
       "      <td>215300</td>\n",
       "      <td>United States</td>\n",
       "      <td>&gt;80% Remote</td>\n",
       "      <td>United States</td>\n",
       "      <td>Large</td>\n",
       "    </tr>\n",
       "    <tr>\n",
       "      <th>400</th>\n",
       "      <td>2022-01-01</td>\n",
       "      <td>Senior-level</td>\n",
       "      <td>Full Time</td>\n",
       "      <td>Data Engineer</td>\n",
       "      <td>209100</td>\n",
       "      <td>United States</td>\n",
       "      <td>&gt;80% Remote</td>\n",
       "      <td>United States</td>\n",
       "      <td>Large</td>\n",
       "    </tr>\n",
       "    <tr>\n",
       "      <th>416</th>\n",
       "      <td>2022-01-01</td>\n",
       "      <td>Senior-level</td>\n",
       "      <td>Full Time</td>\n",
       "      <td>Data Scientist</td>\n",
       "      <td>260000</td>\n",
       "      <td>United States</td>\n",
       "      <td>&gt;80% Remote</td>\n",
       "      <td>United States</td>\n",
       "      <td>Medium</td>\n",
       "    </tr>\n",
       "    <tr>\n",
       "      <th>421</th>\n",
       "      <td>2022-01-01</td>\n",
       "      <td>Mid-level</td>\n",
       "      <td>Full Time</td>\n",
       "      <td>Data Scientist</td>\n",
       "      <td>241000</td>\n",
       "      <td>United States</td>\n",
       "      <td>&gt;80% Remote</td>\n",
       "      <td>United States</td>\n",
       "      <td>Medium</td>\n",
       "    </tr>\n",
       "    <tr>\n",
       "      <th>444</th>\n",
       "      <td>2022-01-01</td>\n",
       "      <td>Senior-level</td>\n",
       "      <td>Full Time</td>\n",
       "      <td>Data Scientist</td>\n",
       "      <td>215300</td>\n",
       "      <td>United States</td>\n",
       "      <td>&lt;20% Remote</td>\n",
       "      <td>United States</td>\n",
       "      <td>Large</td>\n",
       "    </tr>\n",
       "    <tr>\n",
       "      <th>446</th>\n",
       "      <td>2022-01-01</td>\n",
       "      <td>Senior-level</td>\n",
       "      <td>Full Time</td>\n",
       "      <td>Data Engineer</td>\n",
       "      <td>209100</td>\n",
       "      <td>United States</td>\n",
       "      <td>&gt;80% Remote</td>\n",
       "      <td>United States</td>\n",
       "      <td>Large</td>\n",
       "    </tr>\n",
       "    <tr>\n",
       "      <th>472</th>\n",
       "      <td>2022-01-01</td>\n",
       "      <td>Senior-level</td>\n",
       "      <td>Full Time</td>\n",
       "      <td>Data Scientist</td>\n",
       "      <td>220000</td>\n",
       "      <td>United States</td>\n",
       "      <td>&gt;80% Remote</td>\n",
       "      <td>United States</td>\n",
       "      <td>Medium</td>\n",
       "    </tr>\n",
       "    <tr>\n",
       "      <th>477</th>\n",
       "      <td>2022-01-01</td>\n",
       "      <td>Senior-level</td>\n",
       "      <td>Full Time</td>\n",
       "      <td>Machine Learning</td>\n",
       "      <td>220000</td>\n",
       "      <td>United States</td>\n",
       "      <td>&gt;80% Remote</td>\n",
       "      <td>United States</td>\n",
       "      <td>Medium</td>\n",
       "    </tr>\n",
       "    <tr>\n",
       "      <th>482</th>\n",
       "      <td>2022-01-01</td>\n",
       "      <td>Executive-level</td>\n",
       "      <td>Full Time</td>\n",
       "      <td>Data Engineer</td>\n",
       "      <td>324000</td>\n",
       "      <td>United States</td>\n",
       "      <td>&gt;80% Remote</td>\n",
       "      <td>United States</td>\n",
       "      <td>Medium</td>\n",
       "    </tr>\n",
       "    <tr>\n",
       "      <th>483</th>\n",
       "      <td>2022-01-01</td>\n",
       "      <td>Executive-level</td>\n",
       "      <td>Full Time</td>\n",
       "      <td>Data Engineer</td>\n",
       "      <td>216000</td>\n",
       "      <td>United States</td>\n",
       "      <td>&gt;80% Remote</td>\n",
       "      <td>United States</td>\n",
       "      <td>Medium</td>\n",
       "    </tr>\n",
       "    <tr>\n",
       "      <th>484</th>\n",
       "      <td>2022-01-01</td>\n",
       "      <td>Senior-level</td>\n",
       "      <td>Full Time</td>\n",
       "      <td>Data Engineer</td>\n",
       "      <td>210000</td>\n",
       "      <td>United States</td>\n",
       "      <td>&gt;80% Remote</td>\n",
       "      <td>United States</td>\n",
       "      <td>Medium</td>\n",
       "    </tr>\n",
       "    <tr>\n",
       "      <th>486</th>\n",
       "      <td>2022-01-01</td>\n",
       "      <td>Senior-level</td>\n",
       "      <td>Full Time</td>\n",
       "      <td>Data Scientist</td>\n",
       "      <td>230000</td>\n",
       "      <td>United States</td>\n",
       "      <td>&gt;80% Remote</td>\n",
       "      <td>United States</td>\n",
       "      <td>Medium</td>\n",
       "    </tr>\n",
       "    <tr>\n",
       "      <th>519</th>\n",
       "      <td>2022-01-01</td>\n",
       "      <td>Senior-level</td>\n",
       "      <td>Full Time</td>\n",
       "      <td>Data Scientist</td>\n",
       "      <td>380000</td>\n",
       "      <td>United States</td>\n",
       "      <td>&gt;80% Remote</td>\n",
       "      <td>United States</td>\n",
       "      <td>Large</td>\n",
       "    </tr>\n",
       "    <tr>\n",
       "      <th>523</th>\n",
       "      <td>2022-01-01</td>\n",
       "      <td>Senior-level</td>\n",
       "      <td>Full Time</td>\n",
       "      <td>Data Analyst</td>\n",
       "      <td>405000</td>\n",
       "      <td>United States</td>\n",
       "      <td>&gt;80% Remote</td>\n",
       "      <td>United States</td>\n",
       "      <td>Large</td>\n",
       "    </tr>\n",
       "    <tr>\n",
       "      <th>532</th>\n",
       "      <td>2022-01-01</td>\n",
       "      <td>Senior-level</td>\n",
       "      <td>Full Time</td>\n",
       "      <td>Machine Learning</td>\n",
       "      <td>214000</td>\n",
       "      <td>United States</td>\n",
       "      <td>&gt;80% Remote</td>\n",
       "      <td>United States</td>\n",
       "      <td>Medium</td>\n",
       "    </tr>\n",
       "    <tr>\n",
       "      <th>534</th>\n",
       "      <td>2022-01-01</td>\n",
       "      <td>Senior-level</td>\n",
       "      <td>Full Time</td>\n",
       "      <td>Data Architect</td>\n",
       "      <td>266400</td>\n",
       "      <td>United States</td>\n",
       "      <td>&gt;80% Remote</td>\n",
       "      <td>United States</td>\n",
       "      <td>Medium</td>\n",
       "    </tr>\n",
       "    <tr>\n",
       "      <th>535</th>\n",
       "      <td>2022-01-01</td>\n",
       "      <td>Senior-level</td>\n",
       "      <td>Full Time</td>\n",
       "      <td>Data Architect</td>\n",
       "      <td>213120</td>\n",
       "      <td>United States</td>\n",
       "      <td>&gt;80% Remote</td>\n",
       "      <td>United States</td>\n",
       "      <td>Medium</td>\n",
       "    </tr>\n",
       "    <tr>\n",
       "      <th>542</th>\n",
       "      <td>2022-01-01</td>\n",
       "      <td>Mid-level</td>\n",
       "      <td>Full Time</td>\n",
       "      <td>Data Engineer</td>\n",
       "      <td>206699</td>\n",
       "      <td>United States</td>\n",
       "      <td>&lt;20% Remote</td>\n",
       "      <td>United States</td>\n",
       "      <td>Medium</td>\n",
       "    </tr>\n",
       "    <tr>\n",
       "      <th>550</th>\n",
       "      <td>2022-01-01</td>\n",
       "      <td>Senior-level</td>\n",
       "      <td>Full Time</td>\n",
       "      <td>Data Scientist</td>\n",
       "      <td>205300</td>\n",
       "      <td>United States</td>\n",
       "      <td>&lt;20% Remote</td>\n",
       "      <td>United States</td>\n",
       "      <td>Large</td>\n",
       "    </tr>\n",
       "    <tr>\n",
       "      <th>554</th>\n",
       "      <td>2022-01-01</td>\n",
       "      <td>Senior-level</td>\n",
       "      <td>Full Time</td>\n",
       "      <td>Data Engineer</td>\n",
       "      <td>200100</td>\n",
       "      <td>United States</td>\n",
       "      <td>&gt;80% Remote</td>\n",
       "      <td>United States</td>\n",
       "      <td>Medium</td>\n",
       "    </tr>\n",
       "    <tr>\n",
       "      <th>558</th>\n",
       "      <td>2022-01-01</td>\n",
       "      <td>Senior-level</td>\n",
       "      <td>Full Time</td>\n",
       "      <td>Data Scientist</td>\n",
       "      <td>205300</td>\n",
       "      <td>United States</td>\n",
       "      <td>&lt;20% Remote</td>\n",
       "      <td>United States</td>\n",
       "      <td>Medium</td>\n",
       "    </tr>\n",
       "    <tr>\n",
       "      <th>560</th>\n",
       "      <td>2022-01-01</td>\n",
       "      <td>Senior-level</td>\n",
       "      <td>Full Time</td>\n",
       "      <td>analytics engineer</td>\n",
       "      <td>205300</td>\n",
       "      <td>United States</td>\n",
       "      <td>&lt;20% Remote</td>\n",
       "      <td>United States</td>\n",
       "      <td>Medium</td>\n",
       "    </tr>\n",
       "    <tr>\n",
       "      <th>570</th>\n",
       "      <td>2022-01-01</td>\n",
       "      <td>Senior-level</td>\n",
       "      <td>Full Time</td>\n",
       "      <td>Data Scientist</td>\n",
       "      <td>210000</td>\n",
       "      <td>United States</td>\n",
       "      <td>&gt;80% Remote</td>\n",
       "      <td>United States</td>\n",
       "      <td>Medium</td>\n",
       "    </tr>\n",
       "    <tr>\n",
       "      <th>574</th>\n",
       "      <td>2022-01-01</td>\n",
       "      <td>Senior-level</td>\n",
       "      <td>Full Time</td>\n",
       "      <td>Data Scientist</td>\n",
       "      <td>210000</td>\n",
       "      <td>United States</td>\n",
       "      <td>&gt;80% Remote</td>\n",
       "      <td>United States</td>\n",
       "      <td>Medium</td>\n",
       "    </tr>\n",
       "    <tr>\n",
       "      <th>576</th>\n",
       "      <td>2022-01-01</td>\n",
       "      <td>Senior-level</td>\n",
       "      <td>Full Time</td>\n",
       "      <td>Data Scientist</td>\n",
       "      <td>210000</td>\n",
       "      <td>United States</td>\n",
       "      <td>&gt;80% Remote</td>\n",
       "      <td>United States</td>\n",
       "      <td>Medium</td>\n",
       "    </tr>\n",
       "    <tr>\n",
       "      <th>582</th>\n",
       "      <td>2022-01-01</td>\n",
       "      <td>Senior-level</td>\n",
       "      <td>Full Time</td>\n",
       "      <td>Data Engineer</td>\n",
       "      <td>220110</td>\n",
       "      <td>United States</td>\n",
       "      <td>&gt;80% Remote</td>\n",
       "      <td>United States</td>\n",
       "      <td>Medium</td>\n",
       "    </tr>\n",
       "    <tr>\n",
       "      <th>592</th>\n",
       "      <td>2022-01-01</td>\n",
       "      <td>Senior-level</td>\n",
       "      <td>Full Time</td>\n",
       "      <td>Data Scientist</td>\n",
       "      <td>230000</td>\n",
       "      <td>United States</td>\n",
       "      <td>&gt;80% Remote</td>\n",
       "      <td>United States</td>\n",
       "      <td>Medium</td>\n",
       "    </tr>\n",
       "    <tr>\n",
       "      <th>596</th>\n",
       "      <td>2022-01-01</td>\n",
       "      <td>Senior-level</td>\n",
       "      <td>Full Time</td>\n",
       "      <td>Data Scientist</td>\n",
       "      <td>210000</td>\n",
       "      <td>United States</td>\n",
       "      <td>&gt;80% Remote</td>\n",
       "      <td>United States</td>\n",
       "      <td>Medium</td>\n",
       "    </tr>\n",
       "  </tbody>\n",
       "</table>\n",
       "</div>"
      ],
      "text/plain": [
       "     work_year experience_level employment_type           job_title  \\\n",
       "1   2020-01-01     Senior-level       Full Time    Machine Learning   \n",
       "25  2020-01-01  Executive-level       Full Time      Data Scientist   \n",
       "33  2020-01-01        Mid-level       Full Time  research scientist   \n",
       "37  2020-01-01      Entry-level       Full Time    Machine Learning   \n",
       "63  2020-01-01     Senior-level       Full Time      Data Scientist   \n",
       "74  2021-01-01  Executive-level       Full Time      Data Scientist   \n",
       "78  2021-01-01        Mid-level        Contract    Machine Learning   \n",
       "93  2021-01-01     Senior-level       Full Time       Data Engineer   \n",
       "97  2021-01-01        Mid-level       Full Time        Data Analyst   \n",
       "115 2021-01-01      Entry-level       Full Time    Machine Learning   \n",
       "138 2021-01-01     Senior-level       Full Time      Data Scientist   \n",
       "141 2021-01-01     Senior-level       Full Time      Data Scientist   \n",
       "157 2021-01-01        Mid-level       Full Time    Machine Learning   \n",
       "160 2021-01-01  Executive-level       Full Time      Data Scientist   \n",
       "167 2021-01-01  Executive-level       Full Time      Data Scientist   \n",
       "173 2021-01-01     Senior-level       Full Time      Data Scientist   \n",
       "224 2021-01-01     Senior-level       Full Time    Machine Learning   \n",
       "225 2021-01-01  Executive-level        Contract      Data Scientist   \n",
       "231 2021-01-01     Senior-level       Full Time    Machine Learning   \n",
       "252 2021-01-01  Executive-level       Full Time       Data Engineer   \n",
       "309 2022-01-01  Executive-level       Full Time       Data Engineer   \n",
       "321 2022-01-01     Senior-level       Full Time       Data Engineer   \n",
       "337 2022-01-01     Senior-level       Full Time       Data Engineer   \n",
       "342 2022-01-01  Executive-level       Full Time      Data Scientist   \n",
       "357 2022-01-01     Senior-level       Full Time      Data Scientist   \n",
       "378 2022-01-01     Senior-level       Full Time      Data Architect   \n",
       "398 2022-01-01     Senior-level       Full Time      Data Scientist   \n",
       "400 2022-01-01     Senior-level       Full Time       Data Engineer   \n",
       "416 2022-01-01     Senior-level       Full Time      Data Scientist   \n",
       "421 2022-01-01        Mid-level       Full Time      Data Scientist   \n",
       "444 2022-01-01     Senior-level       Full Time      Data Scientist   \n",
       "446 2022-01-01     Senior-level       Full Time       Data Engineer   \n",
       "472 2022-01-01     Senior-level       Full Time      Data Scientist   \n",
       "477 2022-01-01     Senior-level       Full Time    Machine Learning   \n",
       "482 2022-01-01  Executive-level       Full Time       Data Engineer   \n",
       "483 2022-01-01  Executive-level       Full Time       Data Engineer   \n",
       "484 2022-01-01     Senior-level       Full Time       Data Engineer   \n",
       "486 2022-01-01     Senior-level       Full Time      Data Scientist   \n",
       "519 2022-01-01     Senior-level       Full Time      Data Scientist   \n",
       "523 2022-01-01     Senior-level       Full Time        Data Analyst   \n",
       "532 2022-01-01     Senior-level       Full Time    Machine Learning   \n",
       "534 2022-01-01     Senior-level       Full Time      Data Architect   \n",
       "535 2022-01-01     Senior-level       Full Time      Data Architect   \n",
       "542 2022-01-01        Mid-level       Full Time       Data Engineer   \n",
       "550 2022-01-01     Senior-level       Full Time      Data Scientist   \n",
       "554 2022-01-01     Senior-level       Full Time       Data Engineer   \n",
       "558 2022-01-01     Senior-level       Full Time      Data Scientist   \n",
       "560 2022-01-01     Senior-level       Full Time  analytics engineer   \n",
       "570 2022-01-01     Senior-level       Full Time      Data Scientist   \n",
       "574 2022-01-01     Senior-level       Full Time      Data Scientist   \n",
       "576 2022-01-01     Senior-level       Full Time      Data Scientist   \n",
       "582 2022-01-01     Senior-level       Full Time       Data Engineer   \n",
       "592 2022-01-01     Senior-level       Full Time      Data Scientist   \n",
       "596 2022-01-01     Senior-level       Full Time      Data Scientist   \n",
       "\n",
       "     salary_in_usd  employee_residence    remote_ratio    company_location  \\\n",
       "1           260000               Japan     <20% Remote               Japan   \n",
       "25          325000       United States     >80% Remote       United States   \n",
       "33          450000       United States     <20% Remote       United States   \n",
       "37          250000       United States  Partial Remote       United States   \n",
       "63          412000       United States     >80% Remote       United States   \n",
       "74          235000       United States     >80% Remote       United States   \n",
       "78          270000       United States     >80% Remote       United States   \n",
       "93          276000       United States     <20% Remote       United States   \n",
       "97          450000       United States     >80% Remote       United States   \n",
       "115         225000       United States     >80% Remote       United States   \n",
       "138         220000       United States     <20% Remote       United States   \n",
       "141         240000       United States     <20% Remote       United States   \n",
       "157         423000       United States  Partial Remote       United States   \n",
       "160         230000  Russian Federation  Partial Remote  Russian Federation   \n",
       "167         250000       United States     <20% Remote       United States   \n",
       "173         235000       United States     >80% Remote       United States   \n",
       "224         225000       United States     >80% Remote              Canada   \n",
       "225         416000       United States     >80% Remote       United States   \n",
       "231         256000       United States     >80% Remote       United States   \n",
       "252         600000       United States     >80% Remote       United States   \n",
       "309         242000       United States     >80% Remote       United States   \n",
       "321         220110       United States     <20% Remote       United States   \n",
       "337         243900       United States     >80% Remote       United States   \n",
       "342         224000       United States     >80% Remote       United States   \n",
       "357         211500       United States     >80% Remote       United States   \n",
       "378         208775       United States     >80% Remote       United States   \n",
       "398         215300       United States     >80% Remote       United States   \n",
       "400         209100       United States     >80% Remote       United States   \n",
       "416         260000       United States     >80% Remote       United States   \n",
       "421         241000       United States     >80% Remote       United States   \n",
       "444         215300       United States     <20% Remote       United States   \n",
       "446         209100       United States     >80% Remote       United States   \n",
       "472         220000       United States     >80% Remote       United States   \n",
       "477         220000       United States     >80% Remote       United States   \n",
       "482         324000       United States     >80% Remote       United States   \n",
       "483         216000       United States     >80% Remote       United States   \n",
       "484         210000       United States     >80% Remote       United States   \n",
       "486         230000       United States     >80% Remote       United States   \n",
       "519         380000       United States     >80% Remote       United States   \n",
       "523         405000       United States     >80% Remote       United States   \n",
       "532         214000       United States     >80% Remote       United States   \n",
       "534         266400       United States     >80% Remote       United States   \n",
       "535         213120       United States     >80% Remote       United States   \n",
       "542         206699       United States     <20% Remote       United States   \n",
       "550         205300       United States     <20% Remote       United States   \n",
       "554         200100       United States     >80% Remote       United States   \n",
       "558         205300       United States     <20% Remote       United States   \n",
       "560         205300       United States     <20% Remote       United States   \n",
       "570         210000       United States     >80% Remote       United States   \n",
       "574         210000       United States     >80% Remote       United States   \n",
       "576         210000       United States     >80% Remote       United States   \n",
       "582         220110       United States     >80% Remote       United States   \n",
       "592         230000       United States     >80% Remote       United States   \n",
       "596         210000       United States     >80% Remote       United States   \n",
       "\n",
       "    company_size  \n",
       "1          Small  \n",
       "25         Large  \n",
       "33        Medium  \n",
       "37         Large  \n",
       "63         Large  \n",
       "74         Large  \n",
       "78         Large  \n",
       "93         Large  \n",
       "97         Large  \n",
       "115        Large  \n",
       "138        Large  \n",
       "141        Large  \n",
       "157        Large  \n",
       "160        Large  \n",
       "167        Large  \n",
       "173        Large  \n",
       "224        Large  \n",
       "225        Small  \n",
       "231        Small  \n",
       "252        Large  \n",
       "309       Medium  \n",
       "321       Medium  \n",
       "337       Medium  \n",
       "342       Medium  \n",
       "357       Medium  \n",
       "378       Medium  \n",
       "398        Large  \n",
       "400        Large  \n",
       "416       Medium  \n",
       "421       Medium  \n",
       "444        Large  \n",
       "446        Large  \n",
       "472       Medium  \n",
       "477       Medium  \n",
       "482       Medium  \n",
       "483       Medium  \n",
       "484       Medium  \n",
       "486       Medium  \n",
       "519        Large  \n",
       "523        Large  \n",
       "532       Medium  \n",
       "534       Medium  \n",
       "535       Medium  \n",
       "542       Medium  \n",
       "550        Large  \n",
       "554       Medium  \n",
       "558       Medium  \n",
       "560       Medium  \n",
       "570       Medium  \n",
       "574       Medium  \n",
       "576       Medium  \n",
       "582       Medium  \n",
       "592       Medium  \n",
       "596       Medium  "
      ]
     },
     "execution_count": 65,
     "metadata": {},
     "output_type": "execute_result"
    }
   ],
   "source": [
    "#Trying to see the outliers of above 200K\n",
    "df_clean[df_clean[\"salary_in_usd\"] > 200000]"
   ]
  },
  {
   "cell_type": "markdown",
   "id": "ca54bd5b",
   "metadata": {},
   "source": [
    "**Observation**\n",
    "- Dominated by the country: United States, most earners above 200K are Senior Level, Executive with few Mid levels and two entry level which both have job title as Machine Learning (Remember, I combined many sub fields, Ml engineer, Ml Scientist, AI scientist, e.t.c.). I do however consider both entry level in this situation as an outrageous outlier and needs to dropped from the dataset to avoid skewness of analysis"
   ]
  },
  {
   "cell_type": "code",
   "execution_count": 76,
   "id": "4ba9aa52",
   "metadata": {},
   "outputs": [],
   "source": [
    "#Create logical mask series for subsetting the data and dropping them\n",
    "mask_entry = df_clean[\"experience_level\"] == \"Entry-level\"\n",
    "mask_200K = df_clean[\"salary_in_usd\"] > 200000\n",
    "\n",
    "df_clean.drop(df_clean[mask_entry & mask_200K].index, inplace = True)"
   ]
  },
  {
   "cell_type": "code",
   "execution_count": 89,
   "id": "e49155a3",
   "metadata": {},
   "outputs": [
    {
     "data": {
      "text/html": [
       "<div>\n",
       "<style scoped>\n",
       "    .dataframe tbody tr th:only-of-type {\n",
       "        vertical-align: middle;\n",
       "    }\n",
       "\n",
       "    .dataframe tbody tr th {\n",
       "        vertical-align: top;\n",
       "    }\n",
       "\n",
       "    .dataframe thead th {\n",
       "        text-align: right;\n",
       "    }\n",
       "</style>\n",
       "<table border=\"1\" class=\"dataframe\">\n",
       "  <thead>\n",
       "    <tr style=\"text-align: right;\">\n",
       "      <th></th>\n",
       "      <th>work_year</th>\n",
       "      <th>experience_level</th>\n",
       "      <th>employment_type</th>\n",
       "      <th>job_title</th>\n",
       "      <th>salary_in_usd</th>\n",
       "      <th>employee_residence</th>\n",
       "      <th>remote_ratio</th>\n",
       "      <th>company_location</th>\n",
       "      <th>company_size</th>\n",
       "    </tr>\n",
       "  </thead>\n",
       "  <tbody>\n",
       "    <tr>\n",
       "      <th>38</th>\n",
       "      <td>2020-01-01</td>\n",
       "      <td>Entry-level</td>\n",
       "      <td>Full Time</td>\n",
       "      <td>Data Analyst</td>\n",
       "      <td>10000</td>\n",
       "      <td>Nigeria</td>\n",
       "      <td>&gt;80% Remote</td>\n",
       "      <td>Nigeria</td>\n",
       "      <td>Small</td>\n",
       "    </tr>\n",
       "    <tr>\n",
       "      <th>116</th>\n",
       "      <td>2021-01-01</td>\n",
       "      <td>Mid-level</td>\n",
       "      <td>Full Time</td>\n",
       "      <td>Data Scientist</td>\n",
       "      <td>50000</td>\n",
       "      <td>Nigeria</td>\n",
       "      <td>&gt;80% Remote</td>\n",
       "      <td>Nigeria</td>\n",
       "      <td>Large</td>\n",
       "    </tr>\n",
       "  </tbody>\n",
       "</table>\n",
       "</div>"
      ],
      "text/plain": [
       "     work_year experience_level employment_type       job_title  \\\n",
       "38  2020-01-01      Entry-level       Full Time    Data Analyst   \n",
       "116 2021-01-01        Mid-level       Full Time  Data Scientist   \n",
       "\n",
       "     salary_in_usd employee_residence remote_ratio company_location  \\\n",
       "38           10000            Nigeria  >80% Remote          Nigeria   \n",
       "116          50000            Nigeria  >80% Remote          Nigeria   \n",
       "\n",
       "    company_size  \n",
       "38         Small  \n",
       "116        Large  "
      ]
     },
     "execution_count": 89,
     "metadata": {},
     "output_type": "execute_result"
    }
   ],
   "source": [
    "#Test -- check index 37 and index 115\n",
    "\n",
    "df_clean.iloc[[37, 115], :]"
   ]
  },
  {
   "cell_type": "markdown",
   "id": "a5e190a9",
   "metadata": {},
   "source": [
    "**How does the adoption of remote work look like in Data Science Roles?**"
   ]
  },
  {
   "cell_type": "code",
   "execution_count": 93,
   "id": "c6948348",
   "metadata": {},
   "outputs": [
    {
     "data": {
      "image/png": "[encoded data removed]",
      "text/plain": [
       "<Figure size 432x288 with 1 Axes>"
      ]
     },
     "metadata": {
      "needs_background": "light"
     },
     "output_type": "display_data"
    }
   ],
   "source": [
    "sns.countplot(data = df_clean, x = \"remote_ratio\", color = \"b\");"
   ]
  },
  {
   "cell_type": "code",
   "execution_count": 95,
   "id": "3259b52a",
   "metadata": {},
   "outputs": [
    {
     "data": {
      "image/png": "[encoded data removed]",
      "text/plain": [
       "<Figure size 432x288 with 1 Axes>"
      ]
     },
     "metadata": {
      "needs_background": "light"
     },
     "output_type": "display_data"
    }
   ],
   "source": [
    "#Make above plot into a relative plot\n",
    "df_clean[\"remote_ratio\"].value_counts(normalize = True).plot(kind = \"bar\", color = \"b\");"
   ]
  },
  {
   "cell_type": "markdown",
   "id": "ed96e531",
   "metadata": {},
   "source": [
    "**Observation**\n",
    "- More than 60% of work presented in the dataset has high remote culture (>80% Remote)"
   ]
  },
  {
   "cell_type": "code",
   "execution_count": 96,
   "id": "5a7effee",
   "metadata": {},
   "outputs": [
    {
     "data": {
      "text/html": [
       "<div>\n",
       "<style scoped>\n",
       "    .dataframe tbody tr th:only-of-type {\n",
       "        vertical-align: middle;\n",
       "    }\n",
       "\n",
       "    .dataframe tbody tr th {\n",
       "        vertical-align: top;\n",
       "    }\n",
       "\n",
       "    .dataframe thead th {\n",
       "        text-align: right;\n",
       "    }\n",
       "</style>\n",
       "<table border=\"1\" class=\"dataframe\">\n",
       "  <thead>\n",
       "    <tr style=\"text-align: right;\">\n",
       "      <th></th>\n",
       "      <th>work_year</th>\n",
       "      <th>experience_level</th>\n",
       "      <th>employment_type</th>\n",
       "      <th>job_title</th>\n",
       "      <th>salary_in_usd</th>\n",
       "      <th>employee_residence</th>\n",
       "      <th>remote_ratio</th>\n",
       "      <th>company_location</th>\n",
       "      <th>company_size</th>\n",
       "    </tr>\n",
       "  </thead>\n",
       "  <tbody>\n",
       "    <tr>\n",
       "      <th>0</th>\n",
       "      <td>2020-01-01</td>\n",
       "      <td>Mid-level</td>\n",
       "      <td>Full Time</td>\n",
       "      <td>Data Scientist</td>\n",
       "      <td>79833</td>\n",
       "      <td>Germany</td>\n",
       "      <td>&lt;20% Remote</td>\n",
       "      <td>Germany</td>\n",
       "      <td>Large</td>\n",
       "    </tr>\n",
       "    <tr>\n",
       "      <th>1</th>\n",
       "      <td>2020-01-01</td>\n",
       "      <td>Senior-level</td>\n",
       "      <td>Full Time</td>\n",
       "      <td>Machine Learning</td>\n",
       "      <td>260000</td>\n",
       "      <td>Japan</td>\n",
       "      <td>&lt;20% Remote</td>\n",
       "      <td>Japan</td>\n",
       "      <td>Small</td>\n",
       "    </tr>\n",
       "    <tr>\n",
       "      <th>2</th>\n",
       "      <td>2020-01-01</td>\n",
       "      <td>Senior-level</td>\n",
       "      <td>Full Time</td>\n",
       "      <td>Data Engineer</td>\n",
       "      <td>109024</td>\n",
       "      <td>United Kingdom</td>\n",
       "      <td>Partial Remote</td>\n",
       "      <td>United Kingdom</td>\n",
       "      <td>Medium</td>\n",
       "    </tr>\n",
       "    <tr>\n",
       "      <th>3</th>\n",
       "      <td>2020-01-01</td>\n",
       "      <td>Mid-level</td>\n",
       "      <td>Full Time</td>\n",
       "      <td>Data Analyst</td>\n",
       "      <td>20000</td>\n",
       "      <td>Honduras</td>\n",
       "      <td>&lt;20% Remote</td>\n",
       "      <td>Honduras</td>\n",
       "      <td>Small</td>\n",
       "    </tr>\n",
       "    <tr>\n",
       "      <th>4</th>\n",
       "      <td>2020-01-01</td>\n",
       "      <td>Senior-level</td>\n",
       "      <td>Full Time</td>\n",
       "      <td>Machine Learning</td>\n",
       "      <td>150000</td>\n",
       "      <td>United States</td>\n",
       "      <td>Partial Remote</td>\n",
       "      <td>United States</td>\n",
       "      <td>Large</td>\n",
       "    </tr>\n",
       "  </tbody>\n",
       "</table>\n",
       "</div>"
      ],
      "text/plain": [
       "   work_year experience_level employment_type         job_title  \\\n",
       "0 2020-01-01        Mid-level       Full Time    Data Scientist   \n",
       "1 2020-01-01     Senior-level       Full Time  Machine Learning   \n",
       "2 2020-01-01     Senior-level       Full Time     Data Engineer   \n",
       "3 2020-01-01        Mid-level       Full Time      Data Analyst   \n",
       "4 2020-01-01     Senior-level       Full Time  Machine Learning   \n",
       "\n",
       "   salary_in_usd employee_residence    remote_ratio company_location  \\\n",
       "0          79833            Germany     <20% Remote          Germany   \n",
       "1         260000              Japan     <20% Remote            Japan   \n",
       "2         109024     United Kingdom  Partial Remote   United Kingdom   \n",
       "3          20000           Honduras     <20% Remote         Honduras   \n",
       "4         150000      United States  Partial Remote    United States   \n",
       "\n",
       "  company_size  \n",
       "0        Large  \n",
       "1        Small  \n",
       "2       Medium  \n",
       "3        Small  \n",
       "4        Large  "
      ]
     },
     "execution_count": 96,
     "metadata": {},
     "output_type": "execute_result"
    }
   ],
   "source": [
    "df_clean.head()"
   ]
  },
  {
   "cell_type": "markdown",
   "id": "55f4715d",
   "metadata": {},
   "source": [
    "#### What is the company size distribution?"
   ]
  },
  {
   "cell_type": "code",
   "execution_count": 104,
   "id": "32473007",
   "metadata": {},
   "outputs": [
    {
     "data": {
      "image/png": "[encoded data removed]",
      "text/plain": [
       "<Figure size 432x288 with 1 Axes>"
      ]
     },
     "metadata": {
      "needs_background": "light"
     },
     "output_type": "display_data"
    }
   ],
   "source": [
    "sns.countplot(data = df_clean, x = \"company_size\", color = \"b\")\n",
    "plt.grid(axis = \"y\", color = \"grey\", alpha = 0.3);"
   ]
  },
  {
   "cell_type": "markdown",
   "id": "b910fdb3",
   "metadata": {},
   "source": [
    "**Obseravtion**\n",
    "- Medium companies have the highest bar."
   ]
  },
  {
   "cell_type": "markdown",
   "id": "d37a5acf",
   "metadata": {},
   "source": [
    "#### What is the distribution of the job_title?"
   ]
  },
  {
   "cell_type": "code",
   "execution_count": 108,
   "id": "0dedcdec",
   "metadata": {},
   "outputs": [
    {
     "data": {
      "image/png": "[encoded data removed]",
      "text/plain": [
       "<Figure size 432x288 with 1 Axes>"
      ]
     },
     "metadata": {
      "needs_background": "light"
     },
     "output_type": "display_data"
    }
   ],
   "source": [
    "df_clean[\"job_title\"].value_counts().plot(kind = \"bar\", color = \"b\")\n",
    "plt.grid(axis = \"y\", color = \"grey\", alpha = 0.3)\n",
    "plt.xticks(rotation = 15);"
   ]
  },
  {
   "cell_type": "markdown",
   "id": "6049cc25",
   "metadata": {},
   "source": [
    "**Observation**\n",
    "- The role of a data scientist takes the lead followed by the role of a data engineer, then the role of a data analyst, followed by machine learning and the rest..."
   ]
  },
  {
   "cell_type": "code",
   "execution_count": null,
   "id": "abeedf4c",
   "metadata": {},
   "outputs": [],
   "source": []
  },
  {
   "cell_type": "code",
   "execution_count": null,
   "id": "c2d4fecd",
   "metadata": {},
   "outputs": [],
   "source": []
  },
  {
   "cell_type": "code",
   "execution_count": null,
   "id": "d990e8a0",
   "metadata": {},
   "outputs": [],
   "source": []
  },
  {
   "cell_type": "code",
   "execution_count": null,
   "id": "79c94ef0",
   "metadata": {},
   "outputs": [],
   "source": []
  },
  {
   "cell_type": "markdown",
   "id": "ec66e80f",
   "metadata": {},
   "source": [
    "## Conclusion\n"
   ]
  },
  {
   "cell_type": "markdown",
   "id": "c869b13f",
   "metadata": {},
   "source": [
    "## Limitations\n",
    "\n",
    "- The year is very limited and does not contain before 2020, for proper comparison between pre-covid and post-covid times."
   ]
  }
 ],
 "metadata": {
  "kernelspec": {
   "display_name": "Python 3",
   "language": "python",
   "name": "python3"
  },
  "language_info": {
   "codemirror_mode": {
    "name": "ipython",
    "version": 3
   },
   "file_extension": ".py",
   "mimetype": "text/x-python",
   "name": "python",
   "nbconvert_exporter": "python",
   "pygments_lexer": "ipython3",
   "version": "3.8.5"
  }
 },
 "nbformat": 4,
 "nbformat_minor": 5
}
