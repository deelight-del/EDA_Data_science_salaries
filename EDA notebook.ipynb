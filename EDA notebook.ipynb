{
 "cells": [
  {
   "cell_type": "markdown",
   "id": "4d6e54a3",
   "metadata": {},
   "source": [
    "# AKINGBENI - Wrangling and EDA of data science salaries."
   ]
  },
  {
   "cell_type": "code",
   "execution_count": 152,
   "id": "19534342",
   "metadata": {},
   "outputs": [],
   "source": [
    "#Import libraries\n",
    "\n",
    "#data wrangling libraries\n",
    "import pandas as pd\n",
    "import numpy as np\n",
    "\n",
    "#visualization libraries\n",
    "import matplotlib.pyplot as plt\n",
    "import seaborn as sns\n",
    "\n",
    "#import misc libraries\n",
    "import warnings\n",
    "\n",
    "#Import pycountry for converting countries name\n",
    "import pycountry"
   ]
  },
  {
   "cell_type": "code",
   "execution_count": 3,
   "id": "05088b23",
   "metadata": {},
   "outputs": [
    {
     "data": {
      "text/html": [
       "<div>\n",
       "<style scoped>\n",
       "    .dataframe tbody tr th:only-of-type {\n",
       "        vertical-align: middle;\n",
       "    }\n",
       "\n",
       "    .dataframe tbody tr th {\n",
       "        vertical-align: top;\n",
       "    }\n",
       "\n",
       "    .dataframe thead th {\n",
       "        text-align: right;\n",
       "    }\n",
       "</style>\n",
       "<table border=\"1\" class=\"dataframe\">\n",
       "  <thead>\n",
       "    <tr style=\"text-align: right;\">\n",
       "      <th></th>\n",
       "      <th>Unnamed: 0</th>\n",
       "      <th>work_year</th>\n",
       "      <th>experience_level</th>\n",
       "      <th>employment_type</th>\n",
       "      <th>job_title</th>\n",
       "      <th>salary</th>\n",
       "      <th>salary_currency</th>\n",
       "      <th>salary_in_usd</th>\n",
       "      <th>employee_residence</th>\n",
       "      <th>remote_ratio</th>\n",
       "      <th>company_location</th>\n",
       "      <th>company_size</th>\n",
       "    </tr>\n",
       "  </thead>\n",
       "  <tbody>\n",
       "    <tr>\n",
       "      <th>0</th>\n",
       "      <td>0</td>\n",
       "      <td>2020</td>\n",
       "      <td>MI</td>\n",
       "      <td>FT</td>\n",
       "      <td>Data Scientist</td>\n",
       "      <td>70000</td>\n",
       "      <td>EUR</td>\n",
       "      <td>79833</td>\n",
       "      <td>DE</td>\n",
       "      <td>0</td>\n",
       "      <td>DE</td>\n",
       "      <td>L</td>\n",
       "    </tr>\n",
       "    <tr>\n",
       "      <th>1</th>\n",
       "      <td>1</td>\n",
       "      <td>2020</td>\n",
       "      <td>SE</td>\n",
       "      <td>FT</td>\n",
       "      <td>Machine Learning Scientist</td>\n",
       "      <td>260000</td>\n",
       "      <td>USD</td>\n",
       "      <td>260000</td>\n",
       "      <td>JP</td>\n",
       "      <td>0</td>\n",
       "      <td>JP</td>\n",
       "      <td>S</td>\n",
       "    </tr>\n",
       "    <tr>\n",
       "      <th>2</th>\n",
       "      <td>2</td>\n",
       "      <td>2020</td>\n",
       "      <td>SE</td>\n",
       "      <td>FT</td>\n",
       "      <td>Big Data Engineer</td>\n",
       "      <td>85000</td>\n",
       "      <td>GBP</td>\n",
       "      <td>109024</td>\n",
       "      <td>GB</td>\n",
       "      <td>50</td>\n",
       "      <td>GB</td>\n",
       "      <td>M</td>\n",
       "    </tr>\n",
       "    <tr>\n",
       "      <th>3</th>\n",
       "      <td>3</td>\n",
       "      <td>2020</td>\n",
       "      <td>MI</td>\n",
       "      <td>FT</td>\n",
       "      <td>Product Data Analyst</td>\n",
       "      <td>20000</td>\n",
       "      <td>USD</td>\n",
       "      <td>20000</td>\n",
       "      <td>HN</td>\n",
       "      <td>0</td>\n",
       "      <td>HN</td>\n",
       "      <td>S</td>\n",
       "    </tr>\n",
       "    <tr>\n",
       "      <th>4</th>\n",
       "      <td>4</td>\n",
       "      <td>2020</td>\n",
       "      <td>SE</td>\n",
       "      <td>FT</td>\n",
       "      <td>Machine Learning Engineer</td>\n",
       "      <td>150000</td>\n",
       "      <td>USD</td>\n",
       "      <td>150000</td>\n",
       "      <td>US</td>\n",
       "      <td>50</td>\n",
       "      <td>US</td>\n",
       "      <td>L</td>\n",
       "    </tr>\n",
       "  </tbody>\n",
       "</table>\n",
       "</div>"
      ],
      "text/plain": [
       "   Unnamed: 0  work_year experience_level employment_type  \\\n",
       "0           0       2020               MI              FT   \n",
       "1           1       2020               SE              FT   \n",
       "2           2       2020               SE              FT   \n",
       "3           3       2020               MI              FT   \n",
       "4           4       2020               SE              FT   \n",
       "\n",
       "                    job_title  salary salary_currency  salary_in_usd  \\\n",
       "0              Data Scientist   70000             EUR          79833   \n",
       "1  Machine Learning Scientist  260000             USD         260000   \n",
       "2           Big Data Engineer   85000             GBP         109024   \n",
       "3        Product Data Analyst   20000             USD          20000   \n",
       "4   Machine Learning Engineer  150000             USD         150000   \n",
       "\n",
       "  employee_residence  remote_ratio company_location company_size  \n",
       "0                 DE             0               DE            L  \n",
       "1                 JP             0               JP            S  \n",
       "2                 GB            50               GB            M  \n",
       "3                 HN             0               HN            S  \n",
       "4                 US            50               US            L  "
      ]
     },
     "execution_count": 3,
     "metadata": {},
     "output_type": "execute_result"
    }
   ],
   "source": [
    "#Read in the dataset\n",
    "filepath = \"./data/ds_salaries (1).csv\"\n",
    "df = pd.read_csv(filepath)\n",
    "df.head()"
   ]
  },
  {
   "cell_type": "markdown",
   "id": "ff6a4208",
   "metadata": {},
   "source": [
    "## Information and introduction about dataset\n",
    "\n",
    "> Data science was described in 2012 as the sexiest job of the century by [Havard Business Review](https://hbr.org/2012/10/data-scientist-the-sexiest-job-of-the-21st-century). At the heart of data science is traditional statistics, computer science and computational power, and business domains. The blend of these three fields in different proportions and perspectives has given rise to varying form of data scientists.\n",
    "\n",
    "> Some, I am among some, argue that roles like data engineers do fit into the term data scientists, perhaps a full stack data scientists. Popular roles that are common under data science are Data Analytics, Data Scientits, Machine Learning Scientists/Researcher, Machine Learning Engineer and more specific roles like data vizualization experts.\n",
    "\n",
    "> However, while passion is a great deal in whatever one does. Subjects like salaries and opportunities should not be overlooked when in search of a career path. I personally struggled with these. I still have my reservations, but I will be focusing my story on the data in front of us.\n",
    "\n",
    "\n",
    "### Introduction about dataset\n",
    "> The dataset contains salary information of over 600 people of different job levels and seniority levels. It contains years between 2020 - 2022 to capture post covid data science information and salaries.\n",
    "\n",
    "**Features**\n",
    ">- work_year: The year the salary was paid.\n",
    ">- experience_level: The experience level in the job during the year with the following possible values: `EN ---> Entry-level / Junior`, `MI ---> Mid-level / Intermediate`, `SE ---> Senior-level / Expert`, `EX ---> Executive-level / Director`\n",
    ">- employment_type: The type of employement for the role: `PT ---> Part-time`, `FT ---> Full-time`, `CT ---> Contract`, `FL ---> Freelance`\n",
    ">- job_title: The role worked in during the year.\n",
    ">- salary: The total gross salary amount paid.\n",
    ">- salary_currency: The currency of the salary paid as an ISO 4217 currency code.\n",
    ">- salaryinusd: The salary in USD (FX rate divided by avg. USD rate for the respective year via [Fx](fxdata.foorilla.com).\n",
    ">- employee_residence: Employee's primary country of residence in during the work year as an ISO 3166 country code.\n",
    ">- remote_ratio: The overall amount of work done remotely, possible values are as follows: 0 = No remote work (less than 20%), 50 = Partially remote, 100 = Fully remote (more than 80%)\n",
    ">- company_location: The country of the employer's main office or contracting branch as an ISO 3166 country code.\n",
    ">- company_size: The average number of people that worked for the company during the year: `S ---> less than 50 employees(small)`, `M ---> 50 to 250 employees (medium)`, `L ---> more than 250 employees (large)`\n",
    "\n",
    "[Direct info about dataset on kaggle](https://www.kaggle.com/datasets/ruchi798/data-science-job-salaries)\n",
    "\n",
    "### Personal Motivation aboout the project\n",
    "- I decided to jump on the project first out of curiousity, second to practise and third to learn to use some new libraries like word cloud..."
   ]
  },
  {
   "cell_type": "markdown",
   "id": "20e6280c",
   "metadata": {},
   "source": [
    "## Data Wrangling"
   ]
  },
  {
   "cell_type": "code",
   "execution_count": 5,
   "id": "57de4f95",
   "metadata": {},
   "outputs": [
    {
     "data": {
      "text/html": [
       "<div>\n",
       "<style scoped>\n",
       "    .dataframe tbody tr th:only-of-type {\n",
       "        vertical-align: middle;\n",
       "    }\n",
       "\n",
       "    .dataframe tbody tr th {\n",
       "        vertical-align: top;\n",
       "    }\n",
       "\n",
       "    .dataframe thead th {\n",
       "        text-align: right;\n",
       "    }\n",
       "</style>\n",
       "<table border=\"1\" class=\"dataframe\">\n",
       "  <thead>\n",
       "    <tr style=\"text-align: right;\">\n",
       "      <th></th>\n",
       "      <th>Unnamed: 0</th>\n",
       "      <th>work_year</th>\n",
       "      <th>experience_level</th>\n",
       "      <th>employment_type</th>\n",
       "      <th>job_title</th>\n",
       "      <th>salary</th>\n",
       "      <th>salary_currency</th>\n",
       "      <th>salary_in_usd</th>\n",
       "      <th>employee_residence</th>\n",
       "      <th>remote_ratio</th>\n",
       "      <th>company_location</th>\n",
       "      <th>company_size</th>\n",
       "    </tr>\n",
       "  </thead>\n",
       "  <tbody>\n",
       "    <tr>\n",
       "      <th>0</th>\n",
       "      <td>0</td>\n",
       "      <td>2020</td>\n",
       "      <td>MI</td>\n",
       "      <td>FT</td>\n",
       "      <td>Data Scientist</td>\n",
       "      <td>70000</td>\n",
       "      <td>EUR</td>\n",
       "      <td>79833</td>\n",
       "      <td>DE</td>\n",
       "      <td>0</td>\n",
       "      <td>DE</td>\n",
       "      <td>L</td>\n",
       "    </tr>\n",
       "    <tr>\n",
       "      <th>1</th>\n",
       "      <td>1</td>\n",
       "      <td>2020</td>\n",
       "      <td>SE</td>\n",
       "      <td>FT</td>\n",
       "      <td>Machine Learning Scientist</td>\n",
       "      <td>260000</td>\n",
       "      <td>USD</td>\n",
       "      <td>260000</td>\n",
       "      <td>JP</td>\n",
       "      <td>0</td>\n",
       "      <td>JP</td>\n",
       "      <td>S</td>\n",
       "    </tr>\n",
       "    <tr>\n",
       "      <th>2</th>\n",
       "      <td>2</td>\n",
       "      <td>2020</td>\n",
       "      <td>SE</td>\n",
       "      <td>FT</td>\n",
       "      <td>Big Data Engineer</td>\n",
       "      <td>85000</td>\n",
       "      <td>GBP</td>\n",
       "      <td>109024</td>\n",
       "      <td>GB</td>\n",
       "      <td>50</td>\n",
       "      <td>GB</td>\n",
       "      <td>M</td>\n",
       "    </tr>\n",
       "    <tr>\n",
       "      <th>3</th>\n",
       "      <td>3</td>\n",
       "      <td>2020</td>\n",
       "      <td>MI</td>\n",
       "      <td>FT</td>\n",
       "      <td>Product Data Analyst</td>\n",
       "      <td>20000</td>\n",
       "      <td>USD</td>\n",
       "      <td>20000</td>\n",
       "      <td>HN</td>\n",
       "      <td>0</td>\n",
       "      <td>HN</td>\n",
       "      <td>S</td>\n",
       "    </tr>\n",
       "    <tr>\n",
       "      <th>4</th>\n",
       "      <td>4</td>\n",
       "      <td>2020</td>\n",
       "      <td>SE</td>\n",
       "      <td>FT</td>\n",
       "      <td>Machine Learning Engineer</td>\n",
       "      <td>150000</td>\n",
       "      <td>USD</td>\n",
       "      <td>150000</td>\n",
       "      <td>US</td>\n",
       "      <td>50</td>\n",
       "      <td>US</td>\n",
       "      <td>L</td>\n",
       "    </tr>\n",
       "  </tbody>\n",
       "</table>\n",
       "</div>"
      ],
      "text/plain": [
       "   Unnamed: 0  work_year experience_level employment_type  \\\n",
       "0           0       2020               MI              FT   \n",
       "1           1       2020               SE              FT   \n",
       "2           2       2020               SE              FT   \n",
       "3           3       2020               MI              FT   \n",
       "4           4       2020               SE              FT   \n",
       "\n",
       "                    job_title  salary salary_currency  salary_in_usd  \\\n",
       "0              Data Scientist   70000             EUR          79833   \n",
       "1  Machine Learning Scientist  260000             USD         260000   \n",
       "2           Big Data Engineer   85000             GBP         109024   \n",
       "3        Product Data Analyst   20000             USD          20000   \n",
       "4   Machine Learning Engineer  150000             USD         150000   \n",
       "\n",
       "  employee_residence  remote_ratio company_location company_size  \n",
       "0                 DE             0               DE            L  \n",
       "1                 JP             0               JP            S  \n",
       "2                 GB            50               GB            M  \n",
       "3                 HN             0               HN            S  \n",
       "4                 US            50               US            L  "
      ]
     },
     "execution_count": 5,
     "metadata": {},
     "output_type": "execute_result"
    }
   ],
   "source": [
    "#Check general head information\n",
    "df.head()"
   ]
  },
  {
   "cell_type": "code",
   "execution_count": 17,
   "id": "aec253cd",
   "metadata": {},
   "outputs": [
    {
     "data": {
      "text/html": [
       "<div>\n",
       "<style scoped>\n",
       "    .dataframe tbody tr th:only-of-type {\n",
       "        vertical-align: middle;\n",
       "    }\n",
       "\n",
       "    .dataframe tbody tr th {\n",
       "        vertical-align: top;\n",
       "    }\n",
       "\n",
       "    .dataframe thead th {\n",
       "        text-align: right;\n",
       "    }\n",
       "</style>\n",
       "<table border=\"1\" class=\"dataframe\">\n",
       "  <thead>\n",
       "    <tr style=\"text-align: right;\">\n",
       "      <th></th>\n",
       "      <th>Unnamed: 0</th>\n",
       "      <th>work_year</th>\n",
       "      <th>experience_level</th>\n",
       "      <th>employment_type</th>\n",
       "      <th>job_title</th>\n",
       "      <th>salary</th>\n",
       "      <th>salary_currency</th>\n",
       "      <th>salary_in_usd</th>\n",
       "      <th>employee_residence</th>\n",
       "      <th>remote_ratio</th>\n",
       "      <th>company_location</th>\n",
       "      <th>company_size</th>\n",
       "    </tr>\n",
       "  </thead>\n",
       "  <tbody>\n",
       "    <tr>\n",
       "      <th>39</th>\n",
       "      <td>39</td>\n",
       "      <td>2020</td>\n",
       "      <td>EN</td>\n",
       "      <td>FT</td>\n",
       "      <td>Machine Learning Engineer</td>\n",
       "      <td>138000</td>\n",
       "      <td>USD</td>\n",
       "      <td>138000</td>\n",
       "      <td>US</td>\n",
       "      <td>100</td>\n",
       "      <td>US</td>\n",
       "      <td>S</td>\n",
       "    </tr>\n",
       "    <tr>\n",
       "      <th>23</th>\n",
       "      <td>23</td>\n",
       "      <td>2020</td>\n",
       "      <td>MI</td>\n",
       "      <td>FT</td>\n",
       "      <td>BI Data Analyst</td>\n",
       "      <td>98000</td>\n",
       "      <td>USD</td>\n",
       "      <td>98000</td>\n",
       "      <td>US</td>\n",
       "      <td>0</td>\n",
       "      <td>US</td>\n",
       "      <td>M</td>\n",
       "    </tr>\n",
       "    <tr>\n",
       "      <th>582</th>\n",
       "      <td>582</td>\n",
       "      <td>2022</td>\n",
       "      <td>SE</td>\n",
       "      <td>FT</td>\n",
       "      <td>Data Engineer</td>\n",
       "      <td>220110</td>\n",
       "      <td>USD</td>\n",
       "      <td>220110</td>\n",
       "      <td>US</td>\n",
       "      <td>100</td>\n",
       "      <td>US</td>\n",
       "      <td>M</td>\n",
       "    </tr>\n",
       "    <tr>\n",
       "      <th>92</th>\n",
       "      <td>92</td>\n",
       "      <td>2021</td>\n",
       "      <td>MI</td>\n",
       "      <td>FT</td>\n",
       "      <td>Lead Data Analyst</td>\n",
       "      <td>1450000</td>\n",
       "      <td>INR</td>\n",
       "      <td>19609</td>\n",
       "      <td>IN</td>\n",
       "      <td>100</td>\n",
       "      <td>IN</td>\n",
       "      <td>L</td>\n",
       "    </tr>\n",
       "    <tr>\n",
       "      <th>84</th>\n",
       "      <td>84</td>\n",
       "      <td>2021</td>\n",
       "      <td>EX</td>\n",
       "      <td>FT</td>\n",
       "      <td>Director of Data Science</td>\n",
       "      <td>130000</td>\n",
       "      <td>EUR</td>\n",
       "      <td>153667</td>\n",
       "      <td>IT</td>\n",
       "      <td>100</td>\n",
       "      <td>PL</td>\n",
       "      <td>L</td>\n",
       "    </tr>\n",
       "    <tr>\n",
       "      <th>135</th>\n",
       "      <td>135</td>\n",
       "      <td>2021</td>\n",
       "      <td>MI</td>\n",
       "      <td>FT</td>\n",
       "      <td>Data Analyst</td>\n",
       "      <td>90000</td>\n",
       "      <td>USD</td>\n",
       "      <td>90000</td>\n",
       "      <td>US</td>\n",
       "      <td>100</td>\n",
       "      <td>US</td>\n",
       "      <td>M</td>\n",
       "    </tr>\n",
       "  </tbody>\n",
       "</table>\n",
       "</div>"
      ],
      "text/plain": [
       "     Unnamed: 0  work_year experience_level employment_type  \\\n",
       "39           39       2020               EN              FT   \n",
       "23           23       2020               MI              FT   \n",
       "582         582       2022               SE              FT   \n",
       "92           92       2021               MI              FT   \n",
       "84           84       2021               EX              FT   \n",
       "135         135       2021               MI              FT   \n",
       "\n",
       "                     job_title   salary salary_currency  salary_in_usd  \\\n",
       "39   Machine Learning Engineer   138000             USD         138000   \n",
       "23             BI Data Analyst    98000             USD          98000   \n",
       "582              Data Engineer   220110             USD         220110   \n",
       "92           Lead Data Analyst  1450000             INR          19609   \n",
       "84    Director of Data Science   130000             EUR         153667   \n",
       "135               Data Analyst    90000             USD          90000   \n",
       "\n",
       "    employee_residence  remote_ratio company_location company_size  \n",
       "39                  US           100               US            S  \n",
       "23                  US             0               US            M  \n",
       "582                 US           100               US            M  \n",
       "92                  IN           100               IN            L  \n",
       "84                  IT           100               PL            L  \n",
       "135                 US           100               US            M  "
      ]
     },
     "execution_count": 17,
     "metadata": {},
     "output_type": "execute_result"
    }
   ],
   "source": [
    "#Visual Assessment\n",
    "df.sample(6)"
   ]
  },
  {
   "cell_type": "code",
   "execution_count": 6,
   "id": "51133fc5",
   "metadata": {},
   "outputs": [
    {
     "name": "stdout",
     "output_type": "stream",
     "text": [
      "<class 'pandas.core.frame.DataFrame'>\n",
      "RangeIndex: 607 entries, 0 to 606\n",
      "Data columns (total 12 columns):\n",
      " #   Column              Non-Null Count  Dtype \n",
      "---  ------              --------------  ----- \n",
      " 0   Unnamed: 0          607 non-null    int64 \n",
      " 1   work_year           607 non-null    int64 \n",
      " 2   experience_level    607 non-null    object\n",
      " 3   employment_type     607 non-null    object\n",
      " 4   job_title           607 non-null    object\n",
      " 5   salary              607 non-null    int64 \n",
      " 6   salary_currency     607 non-null    object\n",
      " 7   salary_in_usd       607 non-null    int64 \n",
      " 8   employee_residence  607 non-null    object\n",
      " 9   remote_ratio        607 non-null    int64 \n",
      " 10  company_location    607 non-null    object\n",
      " 11  company_size        607 non-null    object\n",
      "dtypes: int64(5), object(7)\n",
      "memory usage: 57.0+ KB\n"
     ]
    }
   ],
   "source": [
    "df.info()"
   ]
  },
  {
   "cell_type": "code",
   "execution_count": 8,
   "id": "dcee446f",
   "metadata": {},
   "outputs": [
    {
     "data": {
      "text/plain": [
       "2022    318\n",
       "2021    217\n",
       "2020     72\n",
       "Name: work_year, dtype: int64"
      ]
     },
     "execution_count": 8,
     "metadata": {},
     "output_type": "execute_result"
    }
   ],
   "source": [
    "#check the unique values in the work_year columns\n",
    "df.work_year.value_counts()"
   ]
  },
  {
   "cell_type": "code",
   "execution_count": 9,
   "id": "879c0c56",
   "metadata": {},
   "outputs": [
    {
     "data": {
      "text/plain": [
       "array(['MI', 'SE', 'EN', 'EX'], dtype=object)"
      ]
     },
     "execution_count": 9,
     "metadata": {},
     "output_type": "execute_result"
    }
   ],
   "source": [
    "#Check unique values of experience_level is as expeected\n",
    "\n",
    "df.experience_level.unique()"
   ]
  },
  {
   "cell_type": "code",
   "execution_count": 11,
   "id": "1ae72f98",
   "metadata": {},
   "outputs": [
    {
     "data": {
      "text/plain": [
       "array(['FT', 'CT', 'PT', 'FL'], dtype=object)"
      ]
     },
     "execution_count": 11,
     "metadata": {},
     "output_type": "execute_result"
    }
   ],
   "source": [
    "#Check unique values of employment types\n",
    "df.employment_type.unique()"
   ]
  },
  {
   "cell_type": "code",
   "execution_count": 18,
   "id": "a2cb758c",
   "metadata": {},
   "outputs": [
    {
     "data": {
      "text/plain": [
       "Data Scientist                              143\n",
       "Data Engineer                               132\n",
       "Data Analyst                                 97\n",
       "Machine Learning Engineer                    41\n",
       "Research Scientist                           16\n",
       "Data Science Manager                         12\n",
       "Data Architect                               11\n",
       "Big Data Engineer                             8\n",
       "Machine Learning Scientist                    8\n",
       "Principal Data Scientist                      7\n",
       "AI Scientist                                  7\n",
       "Data Science Consultant                       7\n",
       "Director of Data Science                      7\n",
       "Data Analytics Manager                        7\n",
       "ML Engineer                                   6\n",
       "Computer Vision Engineer                      6\n",
       "BI Data Analyst                               6\n",
       "Lead Data Engineer                            6\n",
       "Data Engineering Manager                      5\n",
       "Business Data Analyst                         5\n",
       "Head of Data                                  5\n",
       "Applied Data Scientist                        5\n",
       "Applied Machine Learning Scientist            4\n",
       "Head of Data Science                          4\n",
       "Analytics Engineer                            4\n",
       "Data Analytics Engineer                       4\n",
       "Machine Learning Developer                    3\n",
       "Machine Learning Infrastructure Engineer      3\n",
       "Lead Data Scientist                           3\n",
       "Computer Vision Software Engineer             3\n",
       "Lead Data Analyst                             3\n",
       "Data Science Engineer                         3\n",
       "Principal Data Engineer                       3\n",
       "Principal Data Analyst                        2\n",
       "ETL Developer                                 2\n",
       "Product Data Analyst                          2\n",
       "Director of Data Engineering                  2\n",
       "Financial Data Analyst                        2\n",
       "Cloud Data Engineer                           2\n",
       "Lead Machine Learning Engineer                1\n",
       "NLP Engineer                                  1\n",
       "Head of Machine Learning                      1\n",
       "3D Computer Vision Researcher                 1\n",
       "Data Specialist                               1\n",
       "Staff Data Scientist                          1\n",
       "Big Data Architect                            1\n",
       "Finance Data Analyst                          1\n",
       "Marketing Data Analyst                        1\n",
       "Machine Learning Manager                      1\n",
       "Data Analytics Lead                           1\n",
       "Name: job_title, dtype: int64"
      ]
     },
     "execution_count": 18,
     "metadata": {},
     "output_type": "execute_result"
    }
   ],
   "source": [
    "#Chech value counts of different job titles\n",
    "df.job_title.value_counts()"
   ]
  },
  {
   "cell_type": "code",
   "execution_count": 20,
   "id": "5901a5d9",
   "metadata": {},
   "outputs": [
    {
     "data": {
      "text/plain": [
       "array(['DE', 'JP', 'GB', 'HN', 'US', 'HU', 'NZ', 'FR', 'IN', 'PK', 'PL',\n",
       "       'PT', 'CN', 'GR', 'AE', 'NL', 'MX', 'CA', 'AT', 'NG', 'PH', 'ES',\n",
       "       'DK', 'RU', 'IT', 'HR', 'BG', 'SG', 'BR', 'IQ', 'VN', 'BE', 'UA',\n",
       "       'MT', 'CL', 'RO', 'IR', 'CO', 'MD', 'KE', 'SI', 'HK', 'TR', 'RS',\n",
       "       'PR', 'LU', 'JE', 'CZ', 'AR', 'DZ', 'TN', 'MY', 'EE', 'AU', 'BO',\n",
       "       'IE', 'CH'], dtype=object)"
      ]
     },
     "execution_count": 20,
     "metadata": {},
     "output_type": "execute_result"
    }
   ],
   "source": [
    "df.employee_residence.unique()"
   ]
  },
  {
   "cell_type": "code",
   "execution_count": 21,
   "id": "365a8d67",
   "metadata": {},
   "outputs": [
    {
     "data": {
      "text/plain": [
       "array(['L', 'S', 'M'], dtype=object)"
      ]
     },
     "execution_count": 21,
     "metadata": {},
     "output_type": "execute_result"
    }
   ],
   "source": [
    "#Check unique values in company size\n",
    "df.company_size.unique()"
   ]
  },
  {
   "cell_type": "markdown",
   "id": "51acbd41",
   "metadata": {},
   "source": [
    "### Data Assessments\n",
    "\n",
    "- Redundant columns ---> salary, salary_currency, Unnamed column irrelevant, a product of not ignoring the index when it was saved\n",
    "- work year column should be datetime datatype\n",
    "- Infromation shorthand entry in experience level is ambigous\n",
    "- Experience level should be an ordered category type\n",
    "- Columns of employment type contains ambigous values\n",
    "- There are varying form of job description in the job title column of the same job. (#Define function that uses str.contains to replace certain job types.)\n",
    "- Employe Residence and company loaction is ambigous.\n",
    "- Remote Ratio values can be misleading and data type ought to be string or object\n",
    "- Company size is an ordinal datatype and should be ordered from small to medium and to large. (Also needs renaming)"
   ]
  },
  {
   "cell_type": "markdown",
   "id": "1e6e9d40",
   "metadata": {},
   "source": [
    "### Data Cleaning"
   ]
  },
  {
   "cell_type": "code",
   "execution_count": 22,
   "id": "821e2476",
   "metadata": {},
   "outputs": [],
   "source": [
    "#make copy of original dataframe\n",
    "df_clean = df.copy()"
   ]
  },
  {
   "cell_type": "code",
   "execution_count": 27,
   "id": "d10bd023",
   "metadata": {},
   "outputs": [
    {
     "data": {
      "text/plain": [
       "(607, 12)"
      ]
     },
     "execution_count": 27,
     "metadata": {},
     "output_type": "execute_result"
    }
   ],
   "source": [
    "#Check shape of original df before cleaning\n",
    "df_clean.shape"
   ]
  },
  {
   "cell_type": "markdown",
   "id": "977bff84",
   "metadata": {},
   "source": [
    "### At this stage, cleaning proper begins using the define, code and test framework."
   ]
  },
  {
   "cell_type": "markdown",
   "id": "26ab400d",
   "metadata": {},
   "source": [
    "#### Redundant columns ---> salary, salary_currency, Unnamed column irrelevant, a product of not ignoring the index when it was saved\n",
    "\n",
    "> #### Define\n",
    ">- drop redundant columns (unnamed, salary, salary_currency)\n",
    "\n",
    "#### Code"
   ]
  },
  {
   "cell_type": "code",
   "execution_count": 28,
   "id": "749c0cf3",
   "metadata": {},
   "outputs": [],
   "source": [
    "#Drop redundant columns\n",
    "df_clean.drop(columns = [\"Unnamed: 0\", \"salary\", \"salary_currency\"], inplace = True)"
   ]
  },
  {
   "cell_type": "markdown",
   "id": "2b49ae57",
   "metadata": {},
   "source": [
    "#### Test"
   ]
  },
  {
   "cell_type": "code",
   "execution_count": 34,
   "id": "fc4b9478",
   "metadata": {},
   "outputs": [
    {
     "data": {
      "text/plain": [
       "[False, False, False]"
      ]
     },
     "execution_count": 34,
     "metadata": {},
     "output_type": "execute_result"
    }
   ],
   "source": [
    "cols = [\"Unnamed: 0\", \"salary\", \"salary_currency\"]\n",
    "[col in df_clean.columns for col in cols] #Check if each dropped column is in df_clean"
   ]
  },
  {
   "cell_type": "markdown",
   "id": "2230fd1c",
   "metadata": {},
   "source": [
    "#### Work year column should be datetime datatype\n",
    "\n",
    "> #### Define\n",
    "> - Convert work year column to datetime object\n",
    "\n",
    "#### Code"
   ]
  },
  {
   "cell_type": "code",
   "execution_count": 50,
   "id": "d0ab894d",
   "metadata": {},
   "outputs": [],
   "source": [
    "#Use pd datetime to convert to dataetime object\n",
    "\n",
    "df_clean[\"work_year\"] = pd.to_datetime(df.work_year, format = \"%Y\")"
   ]
  },
  {
   "cell_type": "markdown",
   "id": "29ee3fd8",
   "metadata": {},
   "source": [
    "#### Test"
   ]
  },
  {
   "cell_type": "code",
   "execution_count": 52,
   "id": "57e06310",
   "metadata": {},
   "outputs": [
    {
     "data": {
      "text/plain": [
       "dtype('<M8[ns]')"
      ]
     },
     "execution_count": 52,
     "metadata": {},
     "output_type": "execute_result"
    }
   ],
   "source": [
    "df_clean.work_year.dtype"
   ]
  },
  {
   "cell_type": "markdown",
   "id": "16d58ab4",
   "metadata": {},
   "source": [
    "#### Infromation shorthand entry in experience level is ambigous and no category ordering\n",
    "\n",
    "> #### Define\n",
    ">- Use the series.map to replace the values\n",
    ">- Use pd.api to convert to category datatype with order\n",
    "\n",
    "#### Code"
   ]
  },
  {
   "cell_type": "code",
   "execution_count": 24,
   "id": "0aa29a8e",
   "metadata": {},
   "outputs": [
    {
     "data": {
      "text/plain": [
       "Index(['Unnamed: 0', 'work_year', 'experience_level', 'employment_type',\n",
       "       'job_title', 'salary', 'salary_currency', 'salary_in_usd',\n",
       "       'employee_residence', 'remote_ratio', 'company_location',\n",
       "       'company_size'],\n",
       "      dtype='object')"
      ]
     },
     "execution_count": 24,
     "metadata": {},
     "output_type": "execute_result"
    }
   ],
   "source": [
    "df_clean.columns"
   ]
  },
  {
   "cell_type": "code",
   "execution_count": 71,
   "id": "c7362956",
   "metadata": {},
   "outputs": [
    {
     "data": {
      "text/plain": [
       "{'MI': 'Mid-level',\n",
       " 'SE': 'Senior-level',\n",
       " 'EN': 'Entry-level',\n",
       " 'EX': 'Executive-level'}"
      ]
     },
     "execution_count": 71,
     "metadata": {},
     "output_type": "execute_result"
    }
   ],
   "source": [
    "#Construct dictionary to replace specific values\n",
    "sh_exp = list(df_clean.experience_level.unique())\n",
    "full_exp = [\"Mid-level\", \"Senior-level\", \"Entry-level\", \"Executive-level\"]\n",
    "experience_dict = dict(zip(sh_exp, full_exp))\n",
    "experience_dict"
   ]
  },
  {
   "cell_type": "code",
   "execution_count": 72,
   "id": "0c910442",
   "metadata": {},
   "outputs": [],
   "source": [
    "#Replace values of experience level\n",
    "df_clean[\"experience_level\"] = df_clean.experience_level.map(experience_dict)"
   ]
  },
  {
   "cell_type": "code",
   "execution_count": 73,
   "id": "547071ab",
   "metadata": {},
   "outputs": [],
   "source": [
    "#Converting experience level to ordered category type\n",
    "ordered_experience = [\"Entry-level\", \"Mid-level\", \"Senior-level\", \"Executive-level\"]\n",
    "experience_dtype = pd.api.types.CategoricalDtype(categories = ordered_experience, ordered=True)\n",
    "df_clean[\"experience_level\"] = df_clean.experience_level.astype(experience_dtype)"
   ]
  },
  {
   "cell_type": "markdown",
   "id": "d5dbcb65",
   "metadata": {},
   "source": [
    "#### Test"
   ]
  },
  {
   "cell_type": "code",
   "execution_count": 74,
   "id": "04fd8d12",
   "metadata": {},
   "outputs": [
    {
     "data": {
      "text/plain": [
       "['Mid-level', 'Senior-level', 'Entry-level', 'Executive-level']\n",
       "Categories (4, object): ['Entry-level' < 'Mid-level' < 'Senior-level' < 'Executive-level']"
      ]
     },
     "execution_count": 74,
     "metadata": {},
     "output_type": "execute_result"
    }
   ],
   "source": [
    "df_clean[\"experience_level\"].unique()"
   ]
  },
  {
   "cell_type": "markdown",
   "id": "ace7ebed",
   "metadata": {},
   "source": [
    "#### Columns of employment type contains ambigous values\n",
    "\n",
    "> #### Define\n",
    "> - Use pd series.map to replace values\n",
    "\n",
    "#### Code"
   ]
  },
  {
   "cell_type": "code",
   "execution_count": 69,
   "id": "9e494d5c",
   "metadata": {},
   "outputs": [],
   "source": [
    "#Creating dictionary for mapping\n",
    "sh_emp_type = list(df_clean.employment_type.unique())\n",
    "emp_type_full = [\"Full Time\", \"Contract\", \"Part Time\", \"Freelance\"]\n",
    "emp_type_dict = dict(zip(sh_emp_type, emp_type_full))"
   ]
  },
  {
   "cell_type": "code",
   "execution_count": 75,
   "id": "46e38c3f",
   "metadata": {},
   "outputs": [],
   "source": [
    "#Renaming values using the series.map method\n",
    "\n",
    "df_clean[\"employment_type\"] = df_clean.employment_type.map(emp_type_dict)"
   ]
  },
  {
   "cell_type": "markdown",
   "id": "e6695956",
   "metadata": {},
   "source": [
    "#### Test"
   ]
  },
  {
   "cell_type": "code",
   "execution_count": 76,
   "id": "198cb3e1",
   "metadata": {
    "scrolled": true
   },
   "outputs": [
    {
     "data": {
      "text/plain": [
       "array(['Full Time', 'Contract', 'Part Time', 'Freelance'], dtype=object)"
      ]
     },
     "execution_count": 76,
     "metadata": {},
     "output_type": "execute_result"
    }
   ],
   "source": [
    "df_clean.employment_type.unique()"
   ]
  },
  {
   "cell_type": "markdown",
   "id": "44cf7621",
   "metadata": {},
   "source": [
    "#### There are varying form of job description in the job title column of the same job.\n",
    "\n",
    "> #### Define\n",
    ">- Convert job description column to lower case character\n",
    "> - Define function that replaces the chaarcters based on certain conditions\n",
    "\n",
    "#### Code"
   ]
  },
  {
   "cell_type": "code",
   "execution_count": 93,
   "id": "a6f62646",
   "metadata": {},
   "outputs": [],
   "source": [
    "#Convert job_title to lower character\n",
    "\n",
    "df_clean[\"job_title\"] = df_clean.job_title.str.lower()"
   ]
  },
  {
   "cell_type": "code",
   "execution_count": 144,
   "id": "de5ca461",
   "metadata": {},
   "outputs": [],
   "source": [
    "#Define function for converting strings in job title column\n",
    "def str_replace(row):\n",
    "    \n",
    "    \"\"\"Function replaces the values \n",
    "    with appropriate data science roles. E.g \n",
    "    ML with machine learning\"\"\"\n",
    "    \n",
    "    if \"data sci\" in row:\n",
    "        return \"Data Scientist\"\n",
    "    elif \"data engineer\" in row:\n",
    "        return \"Data Engineer\"\n",
    "    elif \"data analy\" in row:\n",
    "        return \"Data Analyst\"\n",
    "    elif \"machine learning\" in row:\n",
    "        return \"Machine Learning\"\n",
    "    elif row in [\"ml engineer\", \"computer vision engineer\", \n",
    "                 \"computer vision software engineer\", \"nlp engineer\", \n",
    "                 \"3d computer vision researcher\", \"ai scientist\"]:\n",
    "        return \"Machine Learning\"\n",
    "    elif \"data architect\" in row:\n",
    "        return \"Data Architect\"\n",
    "    elif row == \"etl developer\":\n",
    "        return \"Data Engineer\"\n",
    "    elif row in [\"data specialist\", \"head of data\"]:\n",
    "        return \"Data Scientist\"\n",
    "    else:\n",
    "        return row"
   ]
  },
  {
   "cell_type": "code",
   "execution_count": 146,
   "id": "526642d1",
   "metadata": {},
   "outputs": [],
   "source": [
    "#Apply function defined above\n",
    "\n",
    "df_clean[\"job_title\"] = df_clean[\"job_title\"].apply(str_replace)\n",
    "\n",
    "#capitalize each word to have uniformity\n",
    "\n",
    "df[\"job_title\"] = df_clean[\"job_title\"].str.capitalize()"
   ]
  },
  {
   "cell_type": "markdown",
   "id": "2a9ca470",
   "metadata": {},
   "source": [
    "#### Test"
   ]
  },
  {
   "cell_type": "code",
   "execution_count": 147,
   "id": "5d78b063",
   "metadata": {},
   "outputs": [
    {
     "data": {
      "text/plain": [
       "Data scientist        198\n",
       "Data engineer         160\n",
       "Data analyst          131\n",
       "Machine learning       86\n",
       "Research scientist     16\n",
       "Data architect         12\n",
       "Analytics engineer      4\n",
       "Name: job_title, dtype: int64"
      ]
     },
     "execution_count": 147,
     "metadata": {},
     "output_type": "execute_result"
    }
   ],
   "source": [
    "df[\"job_title\"].value_counts()"
   ]
  },
  {
   "cell_type": "markdown",
   "id": "8a8dd785",
   "metadata": {},
   "source": [
    "#### Employe Residence and Company loaction is ambigous.\n",
    "\n",
    "> #### Define\n",
    "> - Use pyconutry library to replace short hand names\n",
    "\n",
    "#### Code"
   ]
  },
  {
   "cell_type": "code",
   "execution_count": 168,
   "id": "2a5e21cf",
   "metadata": {},
   "outputs": [],
   "source": [
    "#Use pycountry to extarct country names\n",
    "df_clean[\"employee_residence\"] = [pycountry.countries.get(alpha_2 = country).name for country in df_clean.employee_residence]\n",
    "df_clean[\"company_location\"] = [pycountry.countries.get(alpha_2 = country).name for country in df_clean.company_location]"
   ]
  },
  {
   "cell_type": "markdown",
   "id": "e0e165d8",
   "metadata": {},
   "source": [
    "#### Test"
   ]
  },
  {
   "cell_type": "code",
   "execution_count": 169,
   "id": "1a8cb522",
   "metadata": {},
   "outputs": [
    {
     "data": {
      "text/plain": [
       "array(['Germany', 'Japan', 'United Kingdom', 'Honduras', 'United States',\n",
       "       'Hungary', 'New Zealand', 'France', 'India', 'Pakistan'],\n",
       "      dtype=object)"
      ]
     },
     "execution_count": 169,
     "metadata": {},
     "output_type": "execute_result"
    }
   ],
   "source": [
    "df_clean[\"employee_residence\"].unique()[:10]"
   ]
  },
  {
   "cell_type": "code",
   "execution_count": 170,
   "id": "00d4b965",
   "metadata": {
    "scrolled": true
   },
   "outputs": [
    {
     "data": {
      "text/plain": [
       "array(['Germany', 'Japan', 'United Kingdom', 'Honduras', 'United States',\n",
       "       'Hungary', 'New Zealand', 'France', 'India', 'Pakistan'],\n",
       "      dtype=object)"
      ]
     },
     "execution_count": 170,
     "metadata": {},
     "output_type": "execute_result"
    }
   ],
   "source": [
    "df_clean[\"company_location\"].unique()[:10]"
   ]
  },
  {
   "cell_type": "markdown",
   "id": "aefe6461",
   "metadata": {},
   "source": [
    "#### Remote Ratio values can be misleading and data type ought to be string or object\n",
    "\n",
    "> #### Define\n",
    "> - Convert values to appropriate names\n",
    ">- Ensure the datatype is object\n",
    "\n",
    "#### Code"
   ]
  },
  {
   "cell_type": "code",
   "execution_count": 172,
   "id": "1e257be8",
   "metadata": {},
   "outputs": [],
   "source": [
    "#Create map dictionary for mapping with remote_ratio\n",
    "\n",
    "remote_map = {0: \"<20% Remote\",\n",
    "             50: \"Partial Remote\",\n",
    "             100: \">80% Remote\"}"
   ]
  },
  {
   "cell_type": "code",
   "execution_count": 174,
   "id": "be23d9ca",
   "metadata": {},
   "outputs": [],
   "source": [
    "#Assign new mapping to the column\n",
    "\n",
    "df_clean[\"remote_ratio\"] = df_clean.remote_ratio.map(remote_map)"
   ]
  },
  {
   "cell_type": "markdown",
   "id": "a12ec33b",
   "metadata": {},
   "source": [
    "#### Test"
   ]
  },
  {
   "cell_type": "code",
   "execution_count": 175,
   "id": "2b8189ae",
   "metadata": {},
   "outputs": [
    {
     "data": {
      "text/plain": [
       "array(['<20% Remote', 'Partial Remote', '>80% Remote'], dtype=object)"
      ]
     },
     "execution_count": 175,
     "metadata": {},
     "output_type": "execute_result"
    }
   ],
   "source": [
    "df_clean.remote_ratio.unique()"
   ]
  },
  {
   "cell_type": "markdown",
   "id": "19806420",
   "metadata": {},
   "source": [
    "#### Company size is an ordinal datatype and should be ordered from small to medium and to large. (Also needs renaming)\n",
    "\n",
    "> #### Define\n",
    "> - Rename values and convert data to an ordered category\n",
    "\n",
    "#### Code"
   ]
  },
  {
   "cell_type": "code",
   "execution_count": 178,
   "id": "a37d5be8",
   "metadata": {},
   "outputs": [],
   "source": [
    "#make map dictionary for renameing\n",
    "\n",
    "size_map = {\"L\": \"Large\",\n",
    "           \"S\": \"Small\",\n",
    "           \"M\": \"Medium\"}\n",
    "\n",
    "#Rename values in the comapny size column\n",
    "df_clean[\"company_size\"] = df_clean.company_size.map(size_map)"
   ]
  },
  {
   "cell_type": "code",
   "execution_count": 181,
   "id": "127b22ae",
   "metadata": {},
   "outputs": [],
   "source": [
    "#Create ordered category\n",
    "size_list = [\"Small\", \"Medium\", \"Large\"]\n",
    "size_cat = pd.api.types.CategoricalDtype(categories=size_list, ordered=True)\n",
    "\n",
    "#Change category to ordered category\n",
    "df_clean[\"company_size\"] = df_clean[\"company_size\"].astype(size_cat)"
   ]
  },
  {
   "cell_type": "markdown",
   "id": "cd8292d0",
   "metadata": {},
   "source": [
    "#### Test"
   ]
  },
  {
   "cell_type": "code",
   "execution_count": 182,
   "id": "275b7e7e",
   "metadata": {},
   "outputs": [
    {
     "data": {
      "text/plain": [
       "['Large', 'Small', 'Medium']\n",
       "Categories (3, object): ['Small' < 'Medium' < 'Large']"
      ]
     },
     "execution_count": 182,
     "metadata": {},
     "output_type": "execute_result"
    }
   ],
   "source": [
    "df_clean.company_size.unique()"
   ]
  },
  {
   "cell_type": "markdown",
   "id": "be74c589",
   "metadata": {},
   "source": [
    "## Exploratory Data Analysis\n",
    "\n",
    "> *We will be using the question-vizulaization-observation framework in this section. And the sections will be split into investigating univariate plots, bivariate plots and multivariate plots*"
   ]
  },
  {
   "cell_type": "markdown",
   "id": "869b072b",
   "metadata": {},
   "source": [
    "### General data description"
   ]
  },
  {
   "cell_type": "code",
   "execution_count": 183,
   "id": "770c87f8",
   "metadata": {},
   "outputs": [
    {
     "name": "stdout",
     "output_type": "stream",
     "text": [
      "<class 'pandas.core.frame.DataFrame'>\n",
      "RangeIndex: 607 entries, 0 to 606\n",
      "Data columns (total 9 columns):\n",
      " #   Column              Non-Null Count  Dtype         \n",
      "---  ------              --------------  -----         \n",
      " 0   work_year           607 non-null    datetime64[ns]\n",
      " 1   experience_level    607 non-null    category      \n",
      " 2   employment_type     607 non-null    object        \n",
      " 3   job_title           607 non-null    object        \n",
      " 4   salary_in_usd       607 non-null    int64         \n",
      " 5   employee_residence  607 non-null    object        \n",
      " 6   remote_ratio        607 non-null    object        \n",
      " 7   company_location    607 non-null    object        \n",
      " 8   company_size        607 non-null    category      \n",
      "dtypes: category(2), datetime64[ns](1), int64(1), object(5)\n",
      "memory usage: 34.8+ KB\n"
     ]
    }
   ],
   "source": [
    "df_clean.info()"
   ]
  },
  {
   "cell_type": "code",
   "execution_count": 184,
   "id": "f6d06a5f",
   "metadata": {},
   "outputs": [
    {
     "data": {
      "text/html": [
       "<div>\n",
       "<style scoped>\n",
       "    .dataframe tbody tr th:only-of-type {\n",
       "        vertical-align: middle;\n",
       "    }\n",
       "\n",
       "    .dataframe tbody tr th {\n",
       "        vertical-align: top;\n",
       "    }\n",
       "\n",
       "    .dataframe thead th {\n",
       "        text-align: right;\n",
       "    }\n",
       "</style>\n",
       "<table border=\"1\" class=\"dataframe\">\n",
       "  <thead>\n",
       "    <tr style=\"text-align: right;\">\n",
       "      <th></th>\n",
       "      <th>work_year</th>\n",
       "      <th>experience_level</th>\n",
       "      <th>employment_type</th>\n",
       "      <th>job_title</th>\n",
       "      <th>salary_in_usd</th>\n",
       "      <th>employee_residence</th>\n",
       "      <th>remote_ratio</th>\n",
       "      <th>company_location</th>\n",
       "      <th>company_size</th>\n",
       "    </tr>\n",
       "  </thead>\n",
       "  <tbody>\n",
       "    <tr>\n",
       "      <th>0</th>\n",
       "      <td>2020-01-01</td>\n",
       "      <td>Mid-level</td>\n",
       "      <td>Full Time</td>\n",
       "      <td>Data Scientist</td>\n",
       "      <td>79833</td>\n",
       "      <td>Germany</td>\n",
       "      <td>&lt;20% Remote</td>\n",
       "      <td>Germany</td>\n",
       "      <td>Large</td>\n",
       "    </tr>\n",
       "    <tr>\n",
       "      <th>1</th>\n",
       "      <td>2020-01-01</td>\n",
       "      <td>Senior-level</td>\n",
       "      <td>Full Time</td>\n",
       "      <td>Machine Learning</td>\n",
       "      <td>260000</td>\n",
       "      <td>Japan</td>\n",
       "      <td>&lt;20% Remote</td>\n",
       "      <td>Japan</td>\n",
       "      <td>Small</td>\n",
       "    </tr>\n",
       "    <tr>\n",
       "      <th>2</th>\n",
       "      <td>2020-01-01</td>\n",
       "      <td>Senior-level</td>\n",
       "      <td>Full Time</td>\n",
       "      <td>Data Engineer</td>\n",
       "      <td>109024</td>\n",
       "      <td>United Kingdom</td>\n",
       "      <td>Partial Remote</td>\n",
       "      <td>United Kingdom</td>\n",
       "      <td>Medium</td>\n",
       "    </tr>\n",
       "    <tr>\n",
       "      <th>3</th>\n",
       "      <td>2020-01-01</td>\n",
       "      <td>Mid-level</td>\n",
       "      <td>Full Time</td>\n",
       "      <td>Data Analyst</td>\n",
       "      <td>20000</td>\n",
       "      <td>Honduras</td>\n",
       "      <td>&lt;20% Remote</td>\n",
       "      <td>Honduras</td>\n",
       "      <td>Small</td>\n",
       "    </tr>\n",
       "    <tr>\n",
       "      <th>4</th>\n",
       "      <td>2020-01-01</td>\n",
       "      <td>Senior-level</td>\n",
       "      <td>Full Time</td>\n",
       "      <td>Machine Learning</td>\n",
       "      <td>150000</td>\n",
       "      <td>United States</td>\n",
       "      <td>Partial Remote</td>\n",
       "      <td>United States</td>\n",
       "      <td>Large</td>\n",
       "    </tr>\n",
       "  </tbody>\n",
       "</table>\n",
       "</div>"
      ],
      "text/plain": [
       "   work_year experience_level employment_type         job_title  \\\n",
       "0 2020-01-01        Mid-level       Full Time    Data Scientist   \n",
       "1 2020-01-01     Senior-level       Full Time  Machine Learning   \n",
       "2 2020-01-01     Senior-level       Full Time     Data Engineer   \n",
       "3 2020-01-01        Mid-level       Full Time      Data Analyst   \n",
       "4 2020-01-01     Senior-level       Full Time  Machine Learning   \n",
       "\n",
       "   salary_in_usd employee_residence    remote_ratio company_location  \\\n",
       "0          79833            Germany     <20% Remote          Germany   \n",
       "1         260000              Japan     <20% Remote            Japan   \n",
       "2         109024     United Kingdom  Partial Remote   United Kingdom   \n",
       "3          20000           Honduras     <20% Remote         Honduras   \n",
       "4         150000      United States  Partial Remote    United States   \n",
       "\n",
       "  company_size  \n",
       "0        Large  \n",
       "1        Small  \n",
       "2       Medium  \n",
       "3        Small  \n",
       "4        Large  "
      ]
     },
     "execution_count": 184,
     "metadata": {},
     "output_type": "execute_result"
    }
   ],
   "source": [
    "df_clean.head()"
   ]
  },
  {
   "cell_type": "code",
   "execution_count": 186,
   "id": "7442b76e",
   "metadata": {},
   "outputs": [
    {
     "data": {
      "text/html": [
       "<div>\n",
       "<style scoped>\n",
       "    .dataframe tbody tr th:only-of-type {\n",
       "        vertical-align: middle;\n",
       "    }\n",
       "\n",
       "    .dataframe tbody tr th {\n",
       "        vertical-align: top;\n",
       "    }\n",
       "\n",
       "    .dataframe thead th {\n",
       "        text-align: right;\n",
       "    }\n",
       "</style>\n",
       "<table border=\"1\" class=\"dataframe\">\n",
       "  <thead>\n",
       "    <tr style=\"text-align: right;\">\n",
       "      <th></th>\n",
       "      <th>employment_type</th>\n",
       "      <th>job_title</th>\n",
       "      <th>employee_residence</th>\n",
       "      <th>remote_ratio</th>\n",
       "      <th>company_location</th>\n",
       "    </tr>\n",
       "  </thead>\n",
       "  <tbody>\n",
       "    <tr>\n",
       "      <th>count</th>\n",
       "      <td>607</td>\n",
       "      <td>607</td>\n",
       "      <td>607</td>\n",
       "      <td>607</td>\n",
       "      <td>607</td>\n",
       "    </tr>\n",
       "    <tr>\n",
       "      <th>unique</th>\n",
       "      <td>4</td>\n",
       "      <td>7</td>\n",
       "      <td>57</td>\n",
       "      <td>3</td>\n",
       "      <td>50</td>\n",
       "    </tr>\n",
       "    <tr>\n",
       "      <th>top</th>\n",
       "      <td>Full Time</td>\n",
       "      <td>Data Scientist</td>\n",
       "      <td>United States</td>\n",
       "      <td>&gt;80% Remote</td>\n",
       "      <td>United States</td>\n",
       "    </tr>\n",
       "    <tr>\n",
       "      <th>freq</th>\n",
       "      <td>588</td>\n",
       "      <td>198</td>\n",
       "      <td>332</td>\n",
       "      <td>381</td>\n",
       "      <td>355</td>\n",
       "    </tr>\n",
       "  </tbody>\n",
       "</table>\n",
       "</div>"
      ],
      "text/plain": [
       "       employment_type       job_title employee_residence remote_ratio  \\\n",
       "count              607             607                607          607   \n",
       "unique               4               7                 57            3   \n",
       "top          Full Time  Data Scientist      United States  >80% Remote   \n",
       "freq               588             198                332          381   \n",
       "\n",
       "       company_location  \n",
       "count               607  \n",
       "unique               50  \n",
       "top       United States  \n",
       "freq                355  "
      ]
     },
     "execution_count": 186,
     "metadata": {},
     "output_type": "execute_result"
    }
   ],
   "source": [
    "df_clean.select_dtypes(\"object\").describe()"
   ]
  },
  {
   "cell_type": "code",
   "execution_count": 187,
   "id": "c4175428",
   "metadata": {},
   "outputs": [
    {
     "data": {
      "text/html": [
       "<div>\n",
       "<style scoped>\n",
       "    .dataframe tbody tr th:only-of-type {\n",
       "        vertical-align: middle;\n",
       "    }\n",
       "\n",
       "    .dataframe tbody tr th {\n",
       "        vertical-align: top;\n",
       "    }\n",
       "\n",
       "    .dataframe thead th {\n",
       "        text-align: right;\n",
       "    }\n",
       "</style>\n",
       "<table border=\"1\" class=\"dataframe\">\n",
       "  <thead>\n",
       "    <tr style=\"text-align: right;\">\n",
       "      <th></th>\n",
       "      <th>salary_in_usd</th>\n",
       "    </tr>\n",
       "  </thead>\n",
       "  <tbody>\n",
       "    <tr>\n",
       "      <th>count</th>\n",
       "      <td>607.000000</td>\n",
       "    </tr>\n",
       "    <tr>\n",
       "      <th>mean</th>\n",
       "      <td>112297.869852</td>\n",
       "    </tr>\n",
       "    <tr>\n",
       "      <th>std</th>\n",
       "      <td>70957.259411</td>\n",
       "    </tr>\n",
       "    <tr>\n",
       "      <th>min</th>\n",
       "      <td>2859.000000</td>\n",
       "    </tr>\n",
       "    <tr>\n",
       "      <th>25%</th>\n",
       "      <td>62726.000000</td>\n",
       "    </tr>\n",
       "    <tr>\n",
       "      <th>50%</th>\n",
       "      <td>101570.000000</td>\n",
       "    </tr>\n",
       "    <tr>\n",
       "      <th>75%</th>\n",
       "      <td>150000.000000</td>\n",
       "    </tr>\n",
       "    <tr>\n",
       "      <th>max</th>\n",
       "      <td>600000.000000</td>\n",
       "    </tr>\n",
       "  </tbody>\n",
       "</table>\n",
       "</div>"
      ],
      "text/plain": [
       "       salary_in_usd\n",
       "count     607.000000\n",
       "mean   112297.869852\n",
       "std     70957.259411\n",
       "min      2859.000000\n",
       "25%     62726.000000\n",
       "50%    101570.000000\n",
       "75%    150000.000000\n",
       "max    600000.000000"
      ]
     },
     "execution_count": 187,
     "metadata": {},
     "output_type": "execute_result"
    }
   ],
   "source": [
    "df_clean.select_dtypes(\"number\").describe()"
   ]
  },
  {
   "cell_type": "markdown",
   "id": "f965230f",
   "metadata": {},
   "source": [
    "### Univariate Analysis"
   ]
  },
  {
   "cell_type": "code",
   "execution_count": null,
   "id": "29e716a9",
   "metadata": {},
   "outputs": [],
   "source": []
  },
  {
   "cell_type": "code",
   "execution_count": null,
   "id": "17266d5c",
   "metadata": {},
   "outputs": [],
   "source": []
  },
  {
   "cell_type": "code",
   "execution_count": null,
   "id": "c7248a26",
   "metadata": {},
   "outputs": [],
   "source": []
  },
  {
   "cell_type": "code",
   "execution_count": null,
   "id": "6dd8e4e2",
   "metadata": {},
   "outputs": [],
   "source": []
  },
  {
   "cell_type": "code",
   "execution_count": null,
   "id": "44c9d4af",
   "metadata": {},
   "outputs": [],
   "source": []
  },
  {
   "cell_type": "code",
   "execution_count": null,
   "id": "4d3d995c",
   "metadata": {},
   "outputs": [],
   "source": []
  },
  {
   "cell_type": "code",
   "execution_count": null,
   "id": "32c497b7",
   "metadata": {},
   "outputs": [],
   "source": []
  },
  {
   "cell_type": "code",
   "execution_count": null,
   "id": "9fd8196d",
   "metadata": {},
   "outputs": [],
   "source": []
  },
  {
   "cell_type": "code",
   "execution_count": null,
   "id": "97a9fda9",
   "metadata": {},
   "outputs": [],
   "source": []
  },
  {
   "cell_type": "code",
   "execution_count": null,
   "id": "9a56dd8e",
   "metadata": {},
   "outputs": [],
   "source": []
  },
  {
   "cell_type": "code",
   "execution_count": null,
   "id": "98dd8404",
   "metadata": {},
   "outputs": [],
   "source": []
  },
  {
   "cell_type": "code",
   "execution_count": null,
   "id": "fca28aec",
   "metadata": {},
   "outputs": [],
   "source": []
  },
  {
   "cell_type": "code",
   "execution_count": null,
   "id": "6581cc81",
   "metadata": {},
   "outputs": [],
   "source": []
  },
  {
   "cell_type": "code",
   "execution_count": null,
   "id": "f9a53575",
   "metadata": {},
   "outputs": [],
   "source": []
  },
  {
   "cell_type": "code",
   "execution_count": null,
   "id": "78f9ed4a",
   "metadata": {},
   "outputs": [],
   "source": []
  },
  {
   "cell_type": "code",
   "execution_count": null,
   "id": "b7e78bcc",
   "metadata": {},
   "outputs": [],
   "source": []
  },
  {
   "cell_type": "code",
   "execution_count": null,
   "id": "de9c2e1c",
   "metadata": {},
   "outputs": [],
   "source": []
  },
  {
   "cell_type": "code",
   "execution_count": null,
   "id": "19389c36",
   "metadata": {},
   "outputs": [],
   "source": []
  },
  {
   "cell_type": "code",
   "execution_count": null,
   "id": "9a57e3e4",
   "metadata": {},
   "outputs": [],
   "source": []
  },
  {
   "cell_type": "code",
   "execution_count": null,
   "id": "641fc872",
   "metadata": {},
   "outputs": [],
   "source": []
  },
  {
   "cell_type": "code",
   "execution_count": null,
   "id": "710f0c95",
   "metadata": {},
   "outputs": [],
   "source": []
  },
  {
   "cell_type": "code",
   "execution_count": null,
   "id": "bc53d5f9",
   "metadata": {},
   "outputs": [],
   "source": []
  },
  {
   "cell_type": "code",
   "execution_count": null,
   "id": "fe72eff7",
   "metadata": {},
   "outputs": [],
   "source": []
  },
  {
   "cell_type": "code",
   "execution_count": null,
   "id": "fb0fe8ad",
   "metadata": {},
   "outputs": [],
   "source": []
  },
  {
   "cell_type": "code",
   "execution_count": null,
   "id": "9aee2c1f",
   "metadata": {},
   "outputs": [],
   "source": []
  },
  {
   "cell_type": "code",
   "execution_count": null,
   "id": "17e7e807",
   "metadata": {},
   "outputs": [],
   "source": []
  },
  {
   "cell_type": "markdown",
   "id": "889a8192",
   "metadata": {},
   "source": [
    "## Conclusion\n"
   ]
  },
  {
   "cell_type": "markdown",
   "id": "e1ae2602",
   "metadata": {},
   "source": [
    "## Limitations\n",
    "\n",
    "- The year is very limited and does not contain before 2020, for proper comparison between pre-covid and post-covid times."
   ]
  }
 ],
 "metadata": {
  "kernelspec": {
   "display_name": "Python 3",
   "language": "python",
   "name": "python3"
  },
  "language_info": {
   "codemirror_mode": {
    "name": "ipython",
    "version": 3
   },
   "file_extension": ".py",
   "mimetype": "text/x-python",
   "name": "python",
   "nbconvert_exporter": "python",
   "pygments_lexer": "ipython3",
   "version": "3.8.5"
  }
 },
 "nbformat": 4,
 "nbformat_minor": 5
}
